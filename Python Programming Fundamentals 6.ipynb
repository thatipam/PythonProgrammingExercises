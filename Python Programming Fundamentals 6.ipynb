{
 "cells": [
  {
   "cell_type": "markdown",
   "metadata": {},
   "source": [
    "# <center> Session 7 and 8: Python Programming Fundamentals 6 </center>\n",
    "###  <center> Author, Mentor, Trainer:  Sudhindra Goutam Vedanthi </center>\n",
    "###  <center> C3 Mentroring </center>\n",
    "#### <center> This assignment is developed as part of \"Python Programming for Data science and Engineering\" Course</center>\n",
    "**<center> Class Notebook for 04/06/2021 and 04/13/2021 <center>**"
   ]
  },
  {
   "cell_type": "markdown",
   "metadata": {},
   "source": [
    "#### Agenda: \n",
    "\n",
    "* Review of Comprehensions, Iterators and Generators\n",
    "* Review of Dictionary data type `dict()`, * Tuple data type `tuple()`, * Set data type `set()`\n",
    "* User defined functions\n",
    "* Visualize the Execution with Environment Diagram\n",
    "* Files - read, write, append"
   ]
  },
  {
   "cell_type": "markdown",
   "metadata": {},
   "source": [
    "##### Review ofComprehensions and Iterators\n"
   ]
  },
  {
   "cell_type": "code",
   "execution_count": 79,
   "metadata": {},
   "outputs": [
    {
     "data": {
      "text/plain": [
       "[115, 112, 97, 97, 109]"
      ]
     },
     "execution_count": 79,
     "metadata": {},
     "output_type": "execute_result"
    }
   ],
   "source": [
    "[ord(x) for x in 'spaam']"
   ]
  },
  {
   "cell_type": "code",
   "execution_count": 81,
   "metadata": {},
   "outputs": [
    {
     "data": {
      "text/plain": [
       "[0, 1, 2, 3, 4]"
      ]
     },
     "execution_count": 81,
     "metadata": {},
     "output_type": "execute_result"
    }
   ],
   "source": [
    "L = [i for i in range(5)]\n",
    "L"
   ]
  },
  {
   "cell_type": "code",
   "execution_count": 84,
   "metadata": {},
   "outputs": [
    {
     "data": {
      "text/plain": [
       "['one', 'two', 'six']"
      ]
     },
     "execution_count": 84,
     "metadata": {},
     "output_type": "execute_result"
    }
   ],
   "source": [
    "string = 'Hello'\n",
    "L = [1,14,5,9,12]\n",
    "M = ['one', 'two', 'three', 'four', 'five', 'six']\n",
    "\n",
    "#[0 for i in range(10)]             ##  [0,0,0,0,0,0,0,0,0,0]\n",
    "[i**2 for i in range(1,8)]         ##  [1,4,9,16,25,36,49]\n",
    "[i*10 for i in L]                  ##  [10,140,50,90,120]\n",
    "[c*2 for c in string]              ##  ['HH','ee','ll','ll','oo']\n",
    "[m[0] for m in M]                  ##  ['o','t','t','f','f','s']\n",
    "[i for i in L if i<10]             ##  [1,5,9]\n",
    "newList3 = [c[0] for c in M if len(c)==3]     ##  ['o','t','s']\n",
    "newList3"
   ]
  },
  {
   "cell_type": "code",
   "execution_count": 86,
   "metadata": {},
   "outputs": [
    {
     "data": {
      "text/plain": [
       "['one', 'two', 'six']"
      ]
     },
     "execution_count": 86,
     "metadata": {},
     "output_type": "execute_result"
    }
   ],
   "source": [
    "L1 = []\n",
    "for m in M:\n",
    "    if len(m)==3:\n",
    "        L1.append(m)\n",
    "L1"
   ]
  },
  {
   "cell_type": "code",
   "execution_count": 88,
   "metadata": {},
   "outputs": [
    {
     "data": {
      "text/plain": [
       "[[0, 0], [0, 1], [1, 0], [1, 1]]"
      ]
     },
     "execution_count": 88,
     "metadata": {},
     "output_type": "execute_result"
    }
   ],
   "source": [
    "L2 = [[i,j] for i in range(2) for j in range(2)]\n",
    "L2"
   ]
  },
  {
   "cell_type": "code",
   "execution_count": 91,
   "metadata": {},
   "outputs": [],
   "source": [
    "L3 = []\n",
    "for i in range(2):\n",
    "    for j in range(2):\n",
    "        L3.append([i,j])"
   ]
  },
  {
   "cell_type": "code",
   "execution_count": 98,
   "metadata": {},
   "outputs": [
    {
     "name": "stdout",
     "output_type": "stream",
     "text": [
      "[[1, 0], [2, 0], [2, 1], [3, 0], [3, 1], [3, 2]]\n"
     ]
    },
    {
     "data": {
      "text/plain": [
       "([[1, 0], [2, 0], [2, 1], [3, 0], [3, 1], [3, 2]], None)"
      ]
     },
     "execution_count": 98,
     "metadata": {},
     "output_type": "execute_result"
    }
   ],
   "source": [
    "L4 = [[i,j] for i in range(4) for j in range(i)]\n",
    "L4, print(L4)"
   ]
  },
  {
   "cell_type": "code",
   "execution_count": 18,
   "metadata": {},
   "outputs": [],
   "source": [
    "## Iterators\n",
    "G = iter(ord(x) for x in \"SpaAam\")"
   ]
  },
  {
   "cell_type": "code",
   "execution_count": 24,
   "metadata": {},
   "outputs": [
    {
     "data": {
      "text/plain": [
       "109"
      ]
     },
     "execution_count": 24,
     "metadata": {},
     "output_type": "execute_result"
    }
   ],
   "source": [
    "next(G)"
   ]
  },
  {
   "cell_type": "markdown",
   "metadata": {},
   "source": [
    "#### Generators\n",
    "\n",
    "The example calculates values that can be divided by 3 without a remainder.\n",
    "```python\n",
    "n = (e for e in range(50000000) if not e % 3)\n",
    "next(n)\n",
    "```\n",
    "A generator expression is created with round brackets. Creating a list comprehension in this case would be very inefficient because the example would occupy a lot of memory unnecessarily. Instead of this, we create a generator expression, which generates values lazily on demand."
   ]
  },
  {
   "cell_type": "code",
   "execution_count": null,
   "metadata": {},
   "outputs": [],
   "source": []
  },
  {
   "cell_type": "code",
   "execution_count": null,
   "metadata": {},
   "outputs": [],
   "source": []
  },
  {
   "cell_type": "code",
   "execution_count": null,
   "metadata": {},
   "outputs": [],
   "source": []
  },
  {
   "cell_type": "code",
   "execution_count": null,
   "metadata": {},
   "outputs": [],
   "source": [
    "{'x':42, 'y':3.14, 'z':7} # Dictionary with three items, str keys\n",
    "{1:2, 3:4} # Dictionary with two items, int keys\n",
    "{1:'za', 'br':23} # Dictionary with mixed key types\n",
    "{} # Empty dictionary"
   ]
  },
  {
   "cell_type": "markdown",
   "metadata": {},
   "source": [
    "You can also call the built-in type dict to create a dictionary in a way that, while\n",
    "usually less concise, can sometimes be more readable. For example, the dictionaries\n",
    "in the preceding snippet can equivalently be written as:\n",
    "```python\n",
    "dict(x=42, y=3.14, z=7)       # Dictionary with three items, str keys\n",
    "dict([(1, 2), (3, 4)])        # Dictionary with two items, int keys\n",
    "dict([(1,'za'), ('br',23)])   # Dictionary with mixed key types\n",
    "dict()                        # Empty dictionary\n",
    "```\n",
    "**Using `fromkeys()` function**\n",
    "```python\n",
    "dict.fromkeys('hello', 2) # same as {'h':2, 'e':2, 'l':2, 'o':2}\n",
    "dict.fromkeys([1, 2, 3]) # same as {1:None, 2:None, 3:None}\n",
    "```"
   ]
  },
  {
   "cell_type": "code",
   "execution_count": 26,
   "metadata": {},
   "outputs": [],
   "source": [
    "# simple dictionary\n",
    "d = {'A':100}"
   ]
  },
  {
   "cell_type": "code",
   "execution_count": 101,
   "metadata": {},
   "outputs": [
    {
     "ename": "KeyError",
     "evalue": "'A'",
     "output_type": "error",
     "traceback": [
      "\u001b[1;31m---------------------------------------------------------------------------\u001b[0m",
      "\u001b[1;31mKeyError\u001b[0m                                  Traceback (most recent call last)",
      "\u001b[1;32m<ipython-input-101-2588adca1152>\u001b[0m in \u001b[0;36m<module>\u001b[1;34m\u001b[0m\n\u001b[1;32m----> 1\u001b[1;33m \u001b[0md\u001b[0m\u001b[1;33m[\u001b[0m\u001b[1;34m'A'\u001b[0m\u001b[1;33m]\u001b[0m\u001b[1;33m\u001b[0m\u001b[1;33m\u001b[0m\u001b[0m\n\u001b[0m\u001b[0;32m      2\u001b[0m \u001b[0md\u001b[0m\u001b[1;33m[\u001b[0m\u001b[1;36m0\u001b[0m\u001b[1;33m]\u001b[0m\u001b[1;33m\u001b[0m\u001b[1;33m\u001b[0m\u001b[0m\n",
      "\u001b[1;31mKeyError\u001b[0m: 'A'"
     ]
    }
   ],
   "source": [
    "d['A']"
   ]
  },
  {
   "cell_type": "code",
   "execution_count": 28,
   "metadata": {},
   "outputs": [],
   "source": [
    "Employee = {'name': 'Goutam', 'age': 22, 'adult': True, 'job':\"Principal Data Engineer\"}"
   ]
  },
  {
   "cell_type": "code",
   "execution_count": 29,
   "metadata": {},
   "outputs": [
    {
     "data": {
      "text/plain": [
       "'Principal Data Engineer'"
      ]
     },
     "execution_count": 29,
     "metadata": {},
     "output_type": "execute_result"
    }
   ],
   "source": [
    "Employee['job']"
   ]
  },
  {
   "cell_type": "code",
   "execution_count": 30,
   "metadata": {},
   "outputs": [],
   "source": [
    "d1 = {'A':100, 'B':200}"
   ]
  },
  {
   "cell_type": "code",
   "execution_count": 31,
   "metadata": {},
   "outputs": [
    {
     "data": {
      "text/plain": [
       "{'A': 400, 'B': 200}"
      ]
     },
     "execution_count": 31,
     "metadata": {},
     "output_type": "execute_result"
    }
   ],
   "source": [
    "d1['A'] = 400\n",
    "d1"
   ]
  },
  {
   "cell_type": "code",
   "execution_count": 35,
   "metadata": {},
   "outputs": [
    {
     "data": {
      "text/plain": [
       "{'A': 400, 'B': 200, 'C': 600, 'X': 100}"
      ]
     },
     "execution_count": 35,
     "metadata": {},
     "output_type": "execute_result"
    }
   ],
   "source": [
    "d1['C'] = 600\n",
    "d1['X'] = 100\n",
    "d1"
   ]
  },
  {
   "cell_type": "code",
   "execution_count": 36,
   "metadata": {},
   "outputs": [
    {
     "data": {
      "text/plain": [
       "{'A': 400, 'B': 200, 'C': 600}"
      ]
     },
     "execution_count": 36,
     "metadata": {},
     "output_type": "execute_result"
    }
   ],
   "source": [
    "del d1['X']\n",
    "d1"
   ]
  },
  {
   "cell_type": "code",
   "execution_count": 102,
   "metadata": {},
   "outputs": [
    {
     "name": "stdout",
     "output_type": "stream",
     "text": [
      "Enter a word: cat\n",
      "The definition is: cat says meow\n"
     ]
    }
   ],
   "source": [
    "d = {'dog' : 'has a tail and goes woof!',\n",
    "     'cat' : 'says meow',\n",
    "     'mouse' : 'chased by cats'}\n",
    "word = input('Enter a word: ')\n",
    "print('The definition is:', word, d[word])"
   ]
  },
  {
   "cell_type": "code",
   "execution_count": null,
   "metadata": {},
   "outputs": [],
   "source": [
    "# Example 4 A dictionary provides a nice way to represent a deck of cards:\n",
    "deck = [{'value':i, 'suit':c}\n",
    "        for c in ['spades', 'clubs', 'hearts', 'diamonds']\n",
    "        for i in range(2,15)]\n",
    "\n",
    "# The deck is actually a list of 52 dictionaries. \n",
    "# The shuffle method can be used to shuffle the deck:\n",
    "\n",
    "shuffle(deck)\n",
    "\n",
    "# The first card in the deck is deck[0]. \n",
    "# To get the value and the suit of the card, we would use the following:\n",
    "\n",
    "deck[0]['value']\n",
    "deck[0]['suit']"
   ]
  },
  {
   "cell_type": "code",
   "execution_count": 41,
   "metadata": {},
   "outputs": [
    {
     "data": {
      "text/plain": [
       "{'A': 400, 'B': 200, 'C': 600}"
      ]
     },
     "execution_count": 41,
     "metadata": {},
     "output_type": "execute_result"
    }
   ],
   "source": [
    "# copying a dictionary\n",
    "\n",
    "d2 = d1.copy()\n",
    "d2"
   ]
  },
  {
   "cell_type": "code",
   "execution_count": 106,
   "metadata": {},
   "outputs": [
    {
     "name": "stdout",
     "output_type": "stream",
     "text": [
      "Enter a letter: A\n",
      "The value is 900\n"
     ]
    },
    {
     "data": {
      "text/plain": [
       "{'A': 900, 'B': 200, 'C': 600, 'X': 100}"
      ]
     },
     "execution_count": 106,
     "metadata": {},
     "output_type": "execute_result"
    }
   ],
   "source": [
    "## \"in\" operator\n",
    "\n",
    "d3 = {'A': 400, 'B': 200, 'C': 600, 'X': 100, 'A': 900}\n",
    "letter = input('Enter a letter: ')\n",
    "if letter in d3:\n",
    "    print('The value is', d3[letter])\n",
    "else:\n",
    "    print('Not in dictionary')\n",
    "\n",
    "d3"
   ]
  },
  {
   "cell_type": "code",
   "execution_count": 43,
   "metadata": {},
   "outputs": [
    {
     "name": "stdout",
     "output_type": "stream",
     "text": [
      "dog => has a tail and goes woof!\n",
      "cat => says meow\n",
      "mouse => chased by cats\n"
     ]
    }
   ],
   "source": [
    "for key in d:\n",
    "    print(key, \"=>\", d[key])"
   ]
  },
  {
   "cell_type": "code",
   "execution_count": 44,
   "metadata": {},
   "outputs": [],
   "source": [
    "D = dict([('name', \"Vishnu\"),('age', 19)])"
   ]
  },
  {
   "cell_type": "code",
   "execution_count": 45,
   "metadata": {},
   "outputs": [
    {
     "data": {
      "text/plain": [
       "{'name': 'Vishnu', 'age': 19}"
      ]
     },
     "execution_count": 45,
     "metadata": {},
     "output_type": "execute_result"
    }
   ],
   "source": [
    "D"
   ]
  },
  {
   "cell_type": "code",
   "execution_count": 46,
   "metadata": {},
   "outputs": [],
   "source": [
    "D2 = dict(name = 'Sumedh', age = 20)"
   ]
  },
  {
   "cell_type": "code",
   "execution_count": 47,
   "metadata": {},
   "outputs": [
    {
     "data": {
      "text/plain": [
       "{'name': 'Sumedh', 'age': 20}"
      ]
     },
     "execution_count": 47,
     "metadata": {},
     "output_type": "execute_result"
    }
   ],
   "source": [
    "D2"
   ]
  },
  {
   "cell_type": "code",
   "execution_count": 48,
   "metadata": {},
   "outputs": [],
   "source": [
    "agrD = [D, D2]"
   ]
  },
  {
   "cell_type": "code",
   "execution_count": 49,
   "metadata": {},
   "outputs": [
    {
     "data": {
      "text/plain": [
       "[{'name': 'Vishnu', 'age': 19}, {'name': 'Sumedh', 'age': 20}]"
      ]
     },
     "execution_count": 49,
     "metadata": {},
     "output_type": "execute_result"
    }
   ],
   "source": [
    "agrD"
   ]
  },
  {
   "cell_type": "code",
   "execution_count": 50,
   "metadata": {},
   "outputs": [
    {
     "data": {
      "text/plain": [
       "['name', 'age']"
      ]
     },
     "execution_count": 50,
     "metadata": {},
     "output_type": "execute_result"
    }
   ],
   "source": [
    "list(D.keys())"
   ]
  },
  {
   "cell_type": "code",
   "execution_count": 51,
   "metadata": {},
   "outputs": [
    {
     "data": {
      "text/plain": [
       "['Vishnu', 19]"
      ]
     },
     "execution_count": 51,
     "metadata": {},
     "output_type": "execute_result"
    }
   ],
   "source": [
    "list(D.values())"
   ]
  },
  {
   "cell_type": "code",
   "execution_count": 52,
   "metadata": {},
   "outputs": [
    {
     "data": {
      "text/plain": [
       "[('name', 'Vishnu'), ('age', 19)]"
      ]
     },
     "execution_count": 52,
     "metadata": {},
     "output_type": "execute_result"
    }
   ],
   "source": [
    "list(D.items())"
   ]
  },
  {
   "cell_type": "code",
   "execution_count": null,
   "metadata": {},
   "outputs": [],
   "source": []
  },
  {
   "cell_type": "code",
   "execution_count": null,
   "metadata": {},
   "outputs": [],
   "source": []
  },
  {
   "cell_type": "code",
   "execution_count": null,
   "metadata": {},
   "outputs": [],
   "source": []
  },
  {
   "cell_type": "code",
   "execution_count": null,
   "metadata": {},
   "outputs": [],
   "source": []
  },
  {
   "cell_type": "code",
   "execution_count": null,
   "metadata": {},
   "outputs": [],
   "source": []
  },
  {
   "attachments": {
    "image.png": {
     "image/png": "[encoded data removed]"
    }
   },
   "cell_type": "markdown",
   "metadata": {},
   "source": [
    "![image.png](attachment:image.png)"
   ]
  },
  {
   "cell_type": "code",
   "execution_count": 33,
   "metadata": {},
   "outputs": [
    {
     "name": "stdout",
     "output_type": "stream",
     "text": [
      "Enter name: Ram\n",
      "Enter age: 20\n",
      "Enter name: Shyam\n",
      "Enter age: 19\n",
      "Enter name: Krish\n",
      "Enter age: 18\n",
      "Enter name: Bheem\n",
      "Enter age: 20\n",
      "Enter name: Arjun\n",
      "Enter age: 18\n",
      "[{'name': 'Ram', 'age': 20}, {'name': 'Shyam', 'age': 19}, {'name': 'Krish', 'age': 18}, {'name': 'Bheem', 'age': 20}, {'name': 'Arjun', 'age': 18}]\n"
     ]
    }
   ],
   "source": [
    "ListOfPersons = []\n",
    "#person_dict = {}\n",
    "\n",
    "for i in range(5):\n",
    "    name = input(\"Enter name: \")\n",
    "    age  = int(input(\"Enter age: \"))\n",
    "    #person_dict['name'] = name\n",
    "    #person_dict['age'] = age\n",
    "    ListOfPersons.append({'name': name, 'age':age})\n",
    "\n",
    "print(ListOfPersons)"
   ]
  },
  {
   "cell_type": "code",
   "execution_count": null,
   "metadata": {},
   "outputs": [],
   "source": [
    "import pickle\n"
   ]
  },
  {
   "cell_type": "code",
   "execution_count": 119,
   "metadata": {},
   "outputs": [
    {
     "name": "stdout",
     "output_type": "stream",
     "text": [
      "({'make': 'Ford', 'model': 'Mustang', 'year': 1964}, {'make': 'Tesla', 'model': 'C', 'year': 2010})\n"
     ]
    },
    {
     "ename": "TypeError",
     "evalue": "unsupported operand type(s) for +: 'dict' and 'dict'",
     "output_type": "error",
     "traceback": [
      "\u001b[1;31m---------------------------------------------------------------------------\u001b[0m",
      "\u001b[1;31mTypeError\u001b[0m                                 Traceback (most recent call last)",
      "\u001b[1;32m<ipython-input-119-b3cf1b3615df>\u001b[0m in \u001b[0;36m<module>\u001b[1;34m\u001b[0m\n\u001b[0;32m     14\u001b[0m \u001b[0mprint\u001b[0m\u001b[1;33m(\u001b[0m\u001b[0mmyCars\u001b[0m\u001b[1;33m)\u001b[0m\u001b[1;33m\u001b[0m\u001b[1;33m\u001b[0m\u001b[0m\n\u001b[0;32m     15\u001b[0m \u001b[1;33m\u001b[0m\u001b[0m\n\u001b[1;32m---> 16\u001b[1;33m \u001b[0mthisCar1\u001b[0m \u001b[1;33m+\u001b[0m \u001b[0mthisCar2\u001b[0m\u001b[1;33m\u001b[0m\u001b[1;33m\u001b[0m\u001b[0m\n\u001b[0m",
      "\u001b[1;31mTypeError\u001b[0m: unsupported operand type(s) for +: 'dict' and 'dict'"
     ]
    }
   ],
   "source": [
    "thisCar1 = {\n",
    "  \"make\": \"Ford\",\n",
    "  \"model\": \"Mustang\",\n",
    "  \"year\": 1964\n",
    "}\n",
    "\n",
    "thisCar2 = {\n",
    "  \"make\": \"Tesla\",\n",
    "  \"model\": \"C\",\n",
    "  \"year\": 2010\n",
    "}\n",
    "\n",
    "myCars = (thisCar1, thisCar2)\n",
    "print(myCars)\n",
    "\n",
    "thisCar1 + thisCar2"
   ]
  },
  {
   "cell_type": "code",
   "execution_count": 111,
   "metadata": {},
   "outputs": [
    {
     "name": "stdout",
     "output_type": "stream",
     "text": [
      "The original list : [[3, 7, 6], [1, 3, 5], [9, 3, 2]]\n",
      "The Summation of each index list is : [13, 13, 13]\n"
     ]
    }
   ],
   "source": [
    "# Python3 code to demonstrate\n",
    "# Summation of each column in Matrix\n",
    "# using sum() + list comprehension + zip()\n",
    "  \n",
    "# initializing list\n",
    "test_list = [[3, 7, 6], \n",
    "             [1, 3, 5], \n",
    "             [9, 3, 2]]\n",
    "  \n",
    "# printing original list\n",
    "print(\"The original list : \" + str(test_list))\n",
    "  \n",
    "# using sum() + list comprehension + zip()\n",
    "# Summation of each column in Matrix\n",
    "res = [sum(idx) for idx in zip(*test_list)]\n",
    "  \n",
    "# print result\n",
    "print(\"The Summation of each index list is : \" + str(res))"
   ]
  },
  {
   "cell_type": "code",
   "execution_count": 141,
   "metadata": {},
   "outputs": [
    {
     "name": "stdout",
     "output_type": "stream",
     "text": [
      "[3, 7, 6] [1, 3, 5] [9, 3, 2]\n",
      "[3, 7, 6] [1, 3, 5] [9, 3, 2]\n",
      "[3, 7, 6] [[1, 3, 5], [9, 3, 2]]\n",
      "[[3, 7, 6], [1, 3, 5]] [9, 3, 2]\n"
     ]
    }
   ],
   "source": [
    "print(*test_list)\n",
    "l1, l2, l3 = test_list\n",
    "print(l1, l2, l3)\n",
    "l4, *l5 = test_list\n",
    "*l6, l7 = test_list\n",
    "print(l4, l5)\n",
    "print(l6, l7)\n",
    "\n",
    "\n",
    "for i in range(3):\n",
    "    for l in test_lest:\n",
    "        "
   ]
  },
  {
   "cell_type": "code",
   "execution_count": 126,
   "metadata": {},
   "outputs": [
    {
     "name": "stdout",
     "output_type": "stream",
     "text": [
      "6\n"
     ]
    }
   ],
   "source": [
    "def my_sum(a, b, c):\n",
    "    print(a + b + c)\n",
    "\n",
    "my_list = [1, 2, 3]\n",
    "my_sum(*my_list)"
   ]
  },
  {
   "cell_type": "code",
   "execution_count": null,
   "metadata": {},
   "outputs": [],
   "source": []
  },
  {
   "cell_type": "code",
   "execution_count": 132,
   "metadata": {},
   "outputs": [
    {
     "name": "stdout",
     "output_type": "stream",
     "text": [
      "(3, 1, 9)\n",
      "(7, 3, 3)\n",
      "(6, 5, 2)\n"
     ]
    }
   ],
   "source": [
    "for idx in zip(*test_list):\n",
    "    print(idx)"
   ]
  },
  {
   "cell_type": "code",
   "execution_count": 135,
   "metadata": {},
   "outputs": [
    {
     "name": "stdout",
     "output_type": "stream",
     "text": [
      "<zip object at 0x000002E93D4207C0>\n"
     ]
    }
   ],
   "source": [
    "list2 = zip(*test_list)\n",
    "print(list2)"
   ]
  },
  {
   "cell_type": "code",
   "execution_count": null,
   "metadata": {},
   "outputs": [],
   "source": [
    "print(*test_list)\n",
    "l1, l2, l3 = test_list\n",
    "l4, *l5 = test_list\n",
    "*l6, l7 = test_list"
   ]
  },
  {
   "cell_type": "code",
   "execution_count": 142,
   "metadata": {},
   "outputs": [
    {
     "name": "stdout",
     "output_type": "stream",
     "text": [
      "[13, 13, 13]\n"
     ]
    }
   ],
   "source": [
    "res = []\n",
    "for i in range(3):\n",
    "    sum = 0\n",
    "    for l in test_list:\n",
    "        sum = sum + l[i]\n",
    "    res.append(sum)\n",
    "print(res)\n",
    "        \n",
    "        "
   ]
  },
  {
   "cell_type": "code",
   "execution_count": null,
   "metadata": {},
   "outputs": [],
   "source": []
  },
  {
   "attachments": {
    "image-2.png": {
     "image/png": "[encoded data removed]"
    },
    "image.png": {
     "image/png": "[encoded data removed]"
    }
   },
   "cell_type": "markdown",
   "metadata": {},
   "source": [
    "### Tuple data type\n",
    "\n",
    "##### Tuple\n",
    "\n",
    "![image.png](attachment:image.png)\n",
    "![image-2.png](attachment:image-2.png)"
   ]
  },
  {
   "cell_type": "code",
   "execution_count": null,
   "metadata": {},
   "outputs": [],
   "source": []
  },
  {
   "cell_type": "code",
   "execution_count": 53,
   "metadata": {},
   "outputs": [
    {
     "data": {
      "text/plain": [
       "(1, 2, 3, 4)"
      ]
     },
     "execution_count": 53,
     "metadata": {},
     "output_type": "execute_result"
    }
   ],
   "source": [
    "t = (1, 2, 3, 4)\n",
    "t"
   ]
  },
  {
   "cell_type": "code",
   "execution_count": 54,
   "metadata": {},
   "outputs": [
    {
     "name": "stdout",
     "output_type": "stream",
     "text": [
      "1 2 3 4\n"
     ]
    }
   ],
   "source": [
    "s, y, x, z = t\n",
    "print(s, y, x, z)"
   ]
  },
  {
   "cell_type": "code",
   "execution_count": 107,
   "metadata": {},
   "outputs": [
    {
     "data": {
      "text/plain": [
       "(1, 2, 3, 4)"
      ]
     },
     "execution_count": 107,
     "metadata": {},
     "output_type": "execute_result"
    }
   ],
   "source": [
    "(1, 2) + (3, 4)       # Concatenation"
   ]
  },
  {
   "cell_type": "code",
   "execution_count": null,
   "metadata": {},
   "outputs": [],
   "source": [
    "(1, 2) * 4            # Repetition"
   ]
  },
  {
   "cell_type": "code",
   "execution_count": null,
   "metadata": {},
   "outputs": [],
   "source": [
    "T = (1, 2, 3, 4)      # Indexing, slicing\n",
    "T[0], T[1:3]"
   ]
  },
  {
   "cell_type": "code",
   "execution_count": 55,
   "metadata": {},
   "outputs": [],
   "source": [
    "myList1 = [x**2 for x in range(1, 51) if x%2 == 0]"
   ]
  },
  {
   "cell_type": "code",
   "execution_count": 56,
   "metadata": {
    "collapsed": true
   },
   "outputs": [
    {
     "data": {
      "text/plain": [
       "[4,\n",
       " 16,\n",
       " 36,\n",
       " 64,\n",
       " 100,\n",
       " 144,\n",
       " 196,\n",
       " 256,\n",
       " 324,\n",
       " 400,\n",
       " 484,\n",
       " 576,\n",
       " 676,\n",
       " 784,\n",
       " 900,\n",
       " 1024,\n",
       " 1156,\n",
       " 1296,\n",
       " 1444,\n",
       " 1600,\n",
       " 1764,\n",
       " 1936,\n",
       " 2116,\n",
       " 2304,\n",
       " 2500]"
      ]
     },
     "execution_count": 56,
     "metadata": {},
     "output_type": "execute_result"
    }
   ],
   "source": [
    "myList1"
   ]
  },
  {
   "cell_type": "code",
   "execution_count": 58,
   "metadata": {},
   "outputs": [
    {
     "name": "stdout",
     "output_type": "stream",
     "text": [
      "(4, 16, 36, 64, 100, 144, 196, 256, 324, 400, 484, 576, 676, 784, 900, 1024, 1156, 1296, 1444, 1600, 1764, 1936, 2116, 2304, 2500)\n"
     ]
    }
   ],
   "source": [
    "myTuple1 = tuple(myList1)\n",
    "print(myTuple1)"
   ]
  },
  {
   "cell_type": "code",
   "execution_count": 60,
   "metadata": {},
   "outputs": [
    {
     "name": "stdout",
     "output_type": "stream",
     "text": [
      "[4, 16, 36, 64, 100, 144, 196, 256, 324, 400, 484, 576, 676, 784, 900, 1024, 1156, 1296, 1444, 1600, 1764, 1936, 2116, 2304, 2500, 31]\n"
     ]
    }
   ],
   "source": [
    "myList1.append(31)\n",
    "print(myList1)"
   ]
  },
  {
   "cell_type": "code",
   "execution_count": 61,
   "metadata": {},
   "outputs": [
    {
     "name": "stdout",
     "output_type": "stream",
     "text": [
      "[1, 16, 36, 64, 100, 144, 196, 256, 324, 400, 484, 576, 676, 784, 900, 1024, 1156, 1296, 1444, 1600, 1764, 1936, 2116, 2304, 2500, 31]\n"
     ]
    }
   ],
   "source": [
    "myList1[0] = 1\n",
    "print(myList1)"
   ]
  },
  {
   "cell_type": "code",
   "execution_count": 108,
   "metadata": {},
   "outputs": [
    {
     "data": {
      "text/plain": [
       "4"
      ]
     },
     "execution_count": 108,
     "metadata": {},
     "output_type": "execute_result"
    }
   ],
   "source": [
    "myTuple1[0]"
   ]
  },
  {
   "cell_type": "code",
   "execution_count": 110,
   "metadata": {},
   "outputs": [
    {
     "ename": "TypeError",
     "evalue": "'tuple' object does not support item assignment",
     "output_type": "error",
     "traceback": [
      "\u001b[1;31m---------------------------------------------------------------------------\u001b[0m",
      "\u001b[1;31mTypeError\u001b[0m                                 Traceback (most recent call last)",
      "\u001b[1;32m<ipython-input-110-d4f519cab5f3>\u001b[0m in \u001b[0;36m<module>\u001b[1;34m\u001b[0m\n\u001b[1;32m----> 1\u001b[1;33m \u001b[0mmyTuple1\u001b[0m\u001b[1;33m[\u001b[0m\u001b[1;36m0\u001b[0m\u001b[1;33m]\u001b[0m \u001b[1;33m=\u001b[0m \u001b[1;36m20\u001b[0m\u001b[1;33m\u001b[0m\u001b[1;33m\u001b[0m\u001b[0m\n\u001b[0m",
      "\u001b[1;31mTypeError\u001b[0m: 'tuple' object does not support item assignment"
     ]
    }
   ],
   "source": [
    "myTuple1[0] = 20"
   ]
  },
  {
   "cell_type": "code",
   "execution_count": null,
   "metadata": {},
   "outputs": [],
   "source": []
  },
  {
   "cell_type": "code",
   "execution_count": 66,
   "metadata": {},
   "outputs": [],
   "source": [
    "x = (40)"
   ]
  },
  {
   "cell_type": "code",
   "execution_count": 67,
   "metadata": {},
   "outputs": [
    {
     "data": {
      "text/plain": [
       "40"
      ]
     },
     "execution_count": 67,
     "metadata": {},
     "output_type": "execute_result"
    }
   ],
   "source": [
    "x"
   ]
  },
  {
   "cell_type": "code",
   "execution_count": 68,
   "metadata": {},
   "outputs": [],
   "source": [
    "y = (40,)"
   ]
  },
  {
   "cell_type": "code",
   "execution_count": 69,
   "metadata": {},
   "outputs": [
    {
     "data": {
      "text/plain": [
       "(40,)"
      ]
     },
     "execution_count": 69,
     "metadata": {},
     "output_type": "execute_result"
    }
   ],
   "source": [
    "y"
   ]
  },
  {
   "cell_type": "code",
   "execution_count": null,
   "metadata": {},
   "outputs": [],
   "source": []
  },
  {
   "cell_type": "code",
   "execution_count": null,
   "metadata": {},
   "outputs": [],
   "source": [
    "T1 = ('d', 'a', 'c', 'b')"
   ]
  },
  {
   "cell_type": "code",
   "execution_count": null,
   "metadata": {},
   "outputs": [],
   "source": [
    "tuple(list(T1).sort())"
   ]
  },
  {
   "cell_type": "code",
   "execution_count": null,
   "metadata": {},
   "outputs": [],
   "source": [
    "T2 = tuple(\"supercalifragilisticexpialidocious\")"
   ]
  },
  {
   "cell_type": "code",
   "execution_count": null,
   "metadata": {},
   "outputs": [],
   "source": [
    "T = (1, 2, 3, 4, 5)\n",
    "L = [x + 20 for x in T]"
   ]
  },
  {
   "cell_type": "code",
   "execution_count": null,
   "metadata": {},
   "outputs": [],
   "source": [
    "T = (1, 2, 3, 2, 4, 2) # Tuple methods in 2.6, 3.0, and later\n",
    "T.index(2) # Offset of first appearance of 2\n",
    "\n",
    "T.index(2, 2) # Offset of appearance after offset 2\n",
    "\n",
    "T.count(2) # How many 2s are there?"
   ]
  },
  {
   "cell_type": "code",
   "execution_count": null,
   "metadata": {},
   "outputs": [],
   "source": [
    "T = (1, [2, 3], 4)\n",
    "T[1] = 'spam'            # This fails: can't change tuple itself\n",
    "\n",
    "T[1][0] = 'spam'          # This works: can change mutables inside\n"
   ]
  },
  {
   "cell_type": "code",
   "execution_count": null,
   "metadata": {},
   "outputs": [],
   "source": []
  },
  {
   "cell_type": "code",
   "execution_count": null,
   "metadata": {},
   "outputs": [],
   "source": []
  },
  {
   "cell_type": "code",
   "execution_count": null,
   "metadata": {},
   "outputs": [],
   "source": []
  },
  {
   "cell_type": "markdown",
   "metadata": {},
   "source": [
    "### Set data type\n",
    "\n",
    "##### set"
   ]
  },
  {
   "cell_type": "code",
   "execution_count": 70,
   "metadata": {},
   "outputs": [],
   "source": [
    "X = set('spam') # Make a set out of a sequence in 2.X and 3.X\n",
    "Y = {'h', 'a', 'm'} # Make a set with set literals in 3.X and 2.7\n",
    "#X, Y # A tuple of two sets without parentheses\n",
    "\n",
    "#X & Y # Intersection\n",
    "\n",
    "#X | Y # Union\n",
    "\n",
    "#X - Y # Difference\n",
    "\n",
    "#X > Y # Superset\n",
    "\n",
    "#{n ** 2 for n in [1, 2, 3, 4]} # Set comprehensions in 3.X and 2.7\n"
   ]
  },
  {
   "cell_type": "code",
   "execution_count": null,
   "metadata": {},
   "outputs": [],
   "source": []
  },
  {
   "cell_type": "code",
   "execution_count": null,
   "metadata": {},
   "outputs": [],
   "source": []
  },
  {
   "cell_type": "code",
   "execution_count": null,
   "metadata": {},
   "outputs": [],
   "source": []
  },
  {
   "cell_type": "code",
   "execution_count": null,
   "metadata": {},
   "outputs": [],
   "source": []
  },
  {
   "cell_type": "code",
   "execution_count": null,
   "metadata": {},
   "outputs": [],
   "source": []
  },
  {
   "cell_type": "code",
   "execution_count": null,
   "metadata": {},
   "outputs": [],
   "source": []
  },
  {
   "cell_type": "code",
   "execution_count": 71,
   "metadata": {},
   "outputs": [],
   "source": [
    "P = set(\"spams\")"
   ]
  },
  {
   "cell_type": "code",
   "execution_count": null,
   "metadata": {},
   "outputs": [],
   "source": [
    "list(set([1, 2, 1, 3, 1])) # Filtering out duplicates (possibly reordered)"
   ]
  },
  {
   "cell_type": "code",
   "execution_count": null,
   "metadata": {},
   "outputs": [],
   "source": [
    "set('spam') - set('ham') # Finding differences in collections"
   ]
  },
  {
   "cell_type": "code",
   "execution_count": null,
   "metadata": {},
   "outputs": [],
   "source": [
    "set('spam') == set('asmp') # Order-neutral equality tests (== is False)"
   ]
  },
  {
   "cell_type": "code",
   "execution_count": 111,
   "metadata": {},
   "outputs": [
    {
     "data": {
      "text/plain": [
       "({'a', 'm', 'p', 's'}, {'a', 'm', 'p', 's'})"
      ]
     },
     "execution_count": 111,
     "metadata": {},
     "output_type": "execute_result"
    }
   ],
   "source": [
    "S1 = set('spam')\n",
    "S2 = set('spaaaaaam')\n",
    "S1, S2"
   ]
  },
  {
   "cell_type": "code",
   "execution_count": 113,
   "metadata": {},
   "outputs": [
    {
     "data": {
      "text/plain": [
       "{3, 'A'}"
      ]
     },
     "execution_count": 113,
     "metadata": {},
     "output_type": "execute_result"
    }
   ],
   "source": [
    "S3 = {'A', 3}\n",
    "S3"
   ]
  },
  {
   "cell_type": "code",
   "execution_count": 116,
   "metadata": {},
   "outputs": [
    {
     "data": {
      "text/plain": [
       "[1, 3, 4, 5, 7, 9]"
      ]
     },
     "execution_count": 116,
     "metadata": {},
     "output_type": "execute_result"
    }
   ],
   "source": [
    "L1 = [1, 3, 4, 5, 5, 7, 7, 7, 9]\n",
    "L2 = list(set(L1))\n",
    "L2"
   ]
  },
  {
   "cell_type": "code",
   "execution_count": null,
   "metadata": {},
   "outputs": [],
   "source": []
  },
  {
   "cell_type": "code",
   "execution_count": null,
   "metadata": {},
   "outputs": [],
   "source": []
  },
  {
   "cell_type": "markdown",
   "metadata": {},
   "source": [
    "### User defined functions\n",
    "\n",
    "Hereis a brief introduction to the main concepts behind Python functions, all of which we\n",
    "will study in this part of the book:  \n",
    "\n",
    "* **`def` is executable code.** Python functions are written with a new statement, the `def`. Unlike functions in compiled languages such as C, def is an executable statement— your function does not exist until Python reaches and runs the `def`. In fact, it’s legal (and even occasionally useful) to nest `def` statements inside if statements, while loops, and even other `defs`. In typical operation, def statements are coded in module files and are naturally run to generate functions when the module file they reside in is first imported.  \n",
    "\n",
    "* **`def` creates an object and assigns it to a name.** When Python reaches and runs a def statement, it generates a new function object and assigns it to the function’s name. As with all assignments, the function name becomes a reference to the function object. There’s nothing magic about the name of a function—as you’ll see, the function object can be assigned to other names, stored in a list, and so on. Function objects may also have arbitrary user-defined attributes attached to them to record data.\n",
    "\n",
    "* **`lambda` creates an object but returns it as a result.** Functions may also be created with the lambda expression, a feature that allows us to in-line function definitions in places where a def statement won’t work syntactically. This is a more advanced concept that we’ll defer until Chapter 19.\n",
    "\n",
    "* **`return` sends a result object back to the caller.** When a function is called, the caller stops until the function finishes its work and returns control to the caller. Functions that compute a value send it back to the caller with a return statement; the returned value becomes the result of the function call. A return without a value simply returns to the caller (and sends back None, the default result). \n",
    "\n",
    "* **`yield` sends a result object back to the caller,** but remembers where it left off. Functions known as generators may also use the yield statement to send back a value and suspend their state such that they may be resumed later, to produce a series of results over time.\n",
    "\n",
    "* **`global` declares module-level variables that are to be assigned.** By default, all names assigned in a function are local to that function and exist only while the function runs. To assign a name in the enclosing module, functions need to list it in a global statement. More generally, names are always looked up in scopes— places where variables are stored—and assignments bind names to scopes.\n",
    "\n",
    "* **`nonlocal` declares enclosing function variables that are to be assigned.** Similarly, the nonlocal statement added in Python 3.X allows a function to assign a name that exists in the scope of a syntactically enclosing def statement. This allows enclosing functions to serve as a place to retain state—information remembered between function calls—without using shared global names.\n",
    "\n",
    "* **Arguments are passed by assignment (object reference).** In Python, arguments are passed to functions by assignment (which, as we’ve learned, means by object reference). As you’ll see, in Python’s model the caller and function share objects by references, but there is no name aliasing. Changing an argument name within a function does not also change the corresponding name in the caller, but changing passed-in mutable objects in place can change objects shared by the caller, and serve as a function result.\n",
    "\n",
    "* **Arguments are passed by position, unless you say otherwise.** Values you pass in a function call match argument names in a function’s definition from left to right by default. For flexibility, function calls can also pass arguments by name with name=value keyword syntax, and unpack arbitrarily many arguments to send with *pargs and \\** kargs starred-argument notation. Function definitions use the same two forms to specify argument defaults, and collect arbitrarily many arguments received.\n",
    "\n",
    "* **Arguments, return values, and variables are not declared.** As with everything in Python, there are no type constraints on functions. In fact, nothing about a function needs to be declared ahead of time: you can pass in arguments of any type, return any kind of object, and so on. As one consequence, a single function can often be applied to a variety of object types—any objects that sport a compatible interface (methods and expressions) will do, regardless of their specific types.\n"
   ]
  },
  {
   "cell_type": "code",
   "execution_count": 2,
   "metadata": {},
   "outputs": [
    {
     "name": "stdout",
     "output_type": "stream",
     "text": [
      "<function sample_function_which_does_nothing at 0x000002560F304820>\n"
     ]
    }
   ],
   "source": [
    "def sample_function_which_does_nothing():\n",
    "    pass\n",
    "\n",
    "sample_function_which_does_nothing()\n",
    "print(sample_function_which_does_nothing)"
   ]
  },
  {
   "cell_type": "code",
   "execution_count": 57,
   "metadata": {},
   "outputs": [
    {
     "name": "stdout",
     "output_type": "stream",
     "text": [
      "Hello!\n",
      "1234567\n",
      "Hello!\n",
      "None\n"
     ]
    }
   ],
   "source": [
    "def print_hello():\n",
    "    print('Hello!')\n",
    "\n",
    "print_hello()\n",
    "print('1234567')\n",
    "s = print_hello()\n",
    "print(s)"
   ]
  },
  {
   "cell_type": "code",
   "execution_count": 58,
   "metadata": {},
   "outputs": [
    {
     "name": "stdout",
     "output_type": "stream",
     "text": [
      "Hello Hello Hello \n",
      "\n",
      "Hello Hello Hello Hello Hello \n",
      "\n",
      "Hello Hello \n",
      "\n"
     ]
    }
   ],
   "source": [
    "def print_hello(n):\n",
    "    print('Hello ' * n)\n",
    "    print()\n",
    "    \n",
    "print_hello(3)\n",
    "print_hello(5)\n",
    "times = 2\n",
    "print_hello(times)"
   ]
  },
  {
   "cell_type": "code",
   "execution_count": 60,
   "metadata": {},
   "outputs": [
    {
     "name": "stdout",
     "output_type": "stream",
     "text": [
      "***************\n",
      "*             *\n",
      "*             *\n",
      "***************\n"
     ]
    }
   ],
   "source": [
    "def draw_square():\n",
    "    print('*' * 15)\n",
    "    print('*', ' '*11, '*')\n",
    "    print('*', ' '*11, '*')\n",
    "    print('*' * 15)\n",
    "    \n",
    "draw_square()"
   ]
  },
  {
   "cell_type": "code",
   "execution_count": 61,
   "metadata": {},
   "outputs": [
    {
     "name": "stdout",
     "output_type": "stream",
     "text": [
      "HelloHelloHelloHelloHello\n",
      "\n",
      "AAAAAAAAAA\n",
      "\n"
     ]
    }
   ],
   "source": [
    "def multiple_print(string, n):\n",
    "    print(string * n)\n",
    "    print()\n",
    "\n",
    "multiple_print('Hello', 5)\n",
    "multiple_print('A', 10)"
   ]
  },
  {
   "cell_type": "markdown",
   "metadata": {},
   "source": [
    "#### Functions\n",
    "\n",
    "**Function Definition**  \n",
    "**Function Call**   \n",
    "**Polymorphism**   \n"
   ]
  },
  {
   "cell_type": "code",
   "execution_count": 65,
   "metadata": {},
   "outputs": [
    {
     "name": "stdout",
     "output_type": "stream",
     "text": [
      "625\n",
      "50.0\n"
     ]
    },
    {
     "ename": "TypeError",
     "evalue": "can't multiply sequence by non-int of type 'float'",
     "output_type": "error",
     "traceback": [
      "\u001b[1;31m---------------------------------------------------------------------------\u001b[0m",
      "\u001b[1;31mTypeError\u001b[0m                                 Traceback (most recent call last)",
      "\u001b[1;32m<ipython-input-65-96d51570d44b>\u001b[0m in \u001b[0;36m<module>\u001b[1;34m\u001b[0m\n\u001b[0;32m      9\u001b[0m \u001b[1;33m\u001b[0m\u001b[0m\n\u001b[0;32m     10\u001b[0m \u001b[0mprint\u001b[0m\u001b[1;33m(\u001b[0m\u001b[0mtimes\u001b[0m\u001b[1;33m(\u001b[0m\u001b[1;36m12.5\u001b[0m\u001b[1;33m,\u001b[0m \u001b[1;36m4\u001b[0m\u001b[1;33m)\u001b[0m\u001b[1;33m)\u001b[0m\u001b[1;33m\u001b[0m\u001b[1;33m\u001b[0m\u001b[0m\n\u001b[1;32m---> 11\u001b[1;33m \u001b[0mprint\u001b[0m\u001b[1;33m(\u001b[0m\u001b[0mtimes\u001b[0m\u001b[1;33m(\u001b[0m\u001b[1;34m\"Hello \"\u001b[0m\u001b[1;33m,\u001b[0m \u001b[1;36m10.5\u001b[0m\u001b[1;33m)\u001b[0m\u001b[1;33m)\u001b[0m\u001b[1;33m\u001b[0m\u001b[1;33m\u001b[0m\u001b[0m\n\u001b[0m",
      "\u001b[1;32m<ipython-input-65-96d51570d44b>\u001b[0m in \u001b[0;36mtimes\u001b[1;34m(x, y)\u001b[0m\n\u001b[0;32m      1\u001b[0m \u001b[1;31m# Function Definition\u001b[0m\u001b[1;33m\u001b[0m\u001b[1;33m\u001b[0m\u001b[1;33m\u001b[0m\u001b[0m\n\u001b[0;32m      2\u001b[0m \u001b[1;32mdef\u001b[0m \u001b[0mtimes\u001b[0m\u001b[1;33m(\u001b[0m\u001b[0mx\u001b[0m\u001b[1;33m,\u001b[0m \u001b[0my\u001b[0m\u001b[1;33m)\u001b[0m\u001b[1;33m:\u001b[0m\u001b[1;33m\u001b[0m\u001b[1;33m\u001b[0m\u001b[0m\n\u001b[1;32m----> 3\u001b[1;33m     \u001b[1;32mreturn\u001b[0m \u001b[0mx\u001b[0m\u001b[1;33m*\u001b[0m\u001b[0my\u001b[0m\u001b[1;33m\u001b[0m\u001b[1;33m\u001b[0m\u001b[0m\n\u001b[0m\u001b[0;32m      4\u001b[0m \u001b[1;33m\u001b[0m\u001b[0m\n\u001b[0;32m      5\u001b[0m \u001b[1;31m# Function Call\u001b[0m\u001b[1;33m\u001b[0m\u001b[1;33m\u001b[0m\u001b[1;33m\u001b[0m\u001b[0m\n",
      "\u001b[1;31mTypeError\u001b[0m: can't multiply sequence by non-int of type 'float'"
     ]
    }
   ],
   "source": [
    "# Function Definition\n",
    "def times(x, y):\n",
    "    return x*y\n",
    "\n",
    "# Function Call\n",
    "print(times(25, 25))\n",
    "\n",
    "# Function polymorphism using different types of inputs\n",
    "\n",
    "print(times(12.5, 4))\n",
    "print(times(\"Hello \", 10.5))"
   ]
  },
  {
   "cell_type": "code",
   "execution_count": 3,
   "metadata": {},
   "outputs": [
    {
     "ename": "TypeError",
     "evalue": "can't multiply sequence by non-int of type 'str'",
     "output_type": "error",
     "traceback": [
      "\u001b[1;31m---------------------------------------------------------------------------\u001b[0m",
      "\u001b[1;31mTypeError\u001b[0m                                 Traceback (most recent call last)",
      "\u001b[1;32m<ipython-input-3-0113026dddbc>\u001b[0m in \u001b[0;36m<module>\u001b[1;34m\u001b[0m\n\u001b[0;32m      1\u001b[0m \u001b[1;31m# \"Hello\"*\"Ram\" Vs \"Hello \"*5\u001b[0m\u001b[1;33m\u001b[0m\u001b[1;33m\u001b[0m\u001b[1;33m\u001b[0m\u001b[0m\n\u001b[1;32m----> 2\u001b[1;33m \u001b[1;34m\"Hello\"\u001b[0m\u001b[1;33m*\u001b[0m\u001b[1;34m\"Ram\"\u001b[0m\u001b[1;33m\u001b[0m\u001b[1;33m\u001b[0m\u001b[0m\n\u001b[0m",
      "\u001b[1;31mTypeError\u001b[0m: can't multiply sequence by non-int of type 'str'"
     ]
    }
   ],
   "source": [
    "# \"Hello\"*\"Ram\" Vs \"Hello \"*5\n",
    "\"Hello\"*\"Ram\""
   ]
  },
  {
   "cell_type": "code",
   "execution_count": 66,
   "metadata": {},
   "outputs": [
    {
     "name": "stdout",
     "output_type": "stream",
     "text": [
      "['S', 'A', 'M']\n"
     ]
    },
    {
     "data": {
      "text/plain": [
       "[1]"
      ]
     },
     "execution_count": 66,
     "metadata": {},
     "output_type": "execute_result"
    }
   ],
   "source": [
    "def intersect(seq1, seq2):\n",
    "    res = []                # Start empty\n",
    "    for x in seq1:          # Scan seq1\n",
    "        if x in seq2:       # Common item?\n",
    "            res.append(x)   # Add to end\n",
    "    return res\n",
    "\n",
    "s1 = \"SPAM\"\n",
    "s2 = \"SCAM\"\n",
    "print(intersect(s1, s2))\n",
    "\n",
    "x = intersect([1, 2, 3], (1, 4)) # just need iterable objects \n",
    "x"
   ]
  },
  {
   "attachments": {
    "image-2.png": {
     "image/png": "[encoded data removed]"
    },
    "image.png": {
     "image/png": "[encoded data removed]"
    }
   },
   "cell_type": "markdown",
   "metadata": {},
   "source": [
    "#### Pure functions\n",
    "Functions have some input (their arguments) and return some output (the result of applying them). The built-in function\n",
    "```python\n",
    ">>> abs(-2)\n",
    "2\n",
    "```\n",
    "can be depicted as a small machine that takes input and produces output.\n",
    "\n",
    "![image.png](attachment:image.png)\n",
    "\n",
    "The function abs is pure. Pure functions have the property that applying them has no effects beyond returning a value. Moreover, a pure function must always return the same value when called twice with the same arguments.\n",
    "\n",
    "#### Non-pure functions\n",
    "\n",
    "In addition to returning a value, applying a non-pure function can generate side effects, which make some change to the state of the interpreter or computer. A common side effect is to generate additional output beyond the return value, using the print function.\n",
    "```python\n",
    ">>> print(1, 2, 3)\n",
    "1 2 \n",
    "\n",
    ">>> print(print(1), print(2))\n",
    "1\n",
    "2\n",
    "None None\n",
    "\n",
    ">>> two = print(2)\n",
    "2\n",
    ">>> print(two)\n",
    "None\n",
    "```\n",
    "![image-2.png](attachment:image-2.png)\n",
    "\n",
    "\n",
    "\n",
    "While print and abs may appear to be similar in these examples, they work in fundamentally different ways. The value that print returns is always None, a special Python value that represents nothing. The interactive Python interpreter does not automatically print the value None. In the case of print, the function itself is printing output as a side effect of being called."
   ]
  },
  {
   "cell_type": "code",
   "execution_count": 5,
   "metadata": {},
   "outputs": [
    {
     "data": {
      "text/plain": [
       "2"
      ]
     },
     "execution_count": 5,
     "metadata": {},
     "output_type": "execute_result"
    }
   ],
   "source": [
    "abs(-2)"
   ]
  },
  {
   "cell_type": "code",
   "execution_count": 7,
   "metadata": {},
   "outputs": [
    {
     "name": "stdout",
     "output_type": "stream",
     "text": [
      "1 2 3\n",
      "2\n",
      "None\n",
      "1\n",
      "2\n",
      "None None\n"
     ]
    }
   ],
   "source": [
    "print(1, 2, 3)\n",
    "two = print(2)\n",
    "print(two)\n",
    "print(print(1), print(2))"
   ]
  },
  {
   "cell_type": "code",
   "execution_count": 7,
   "metadata": {},
   "outputs": [],
   "source": [
    "def nothing_doing():\n",
    "    pass\n",
    "    \n",
    "nothing_doing()"
   ]
  },
  {
   "cell_type": "code",
   "execution_count": null,
   "metadata": {},
   "outputs": [],
   "source": [
    "# accept base pay, and bonus percentage\n",
    "# create a function which calculates and retunds total pay\n",
    "# Display the base pay and total pay\n"
   ]
  },
  {
   "cell_type": "code",
   "execution_count": 15,
   "metadata": {},
   "outputs": [
    {
     "name": "stdout",
     "output_type": "stream",
     "text": [
      "53.8 46.142857142857146\n"
     ]
    }
   ],
   "source": [
    " # one mid term, multiple homeworks, one final exam score\n",
    " # avg of homeworks\n",
    " # total avg\n",
    " # return both of these\n",
    "\n",
    "def avg_scores(midterm, *homeworks, final = 4 ):\n",
    "    sum = 0\n",
    "    for i in range(len(homeworks)):\n",
    "        sum = sum + homeworks[i]\n",
    "        \n",
    "    avg = sum/len(homeworks)\n",
    "    totalavg = (midterm + sum + final)/(len(homeworks)+2)\n",
    "    return avg, totalavg\n",
    "\n",
    "midterm = 50\n",
    "homeworks = [34, 56, 67, 45]\n",
    "final = 67\n",
    "\n",
    "homeworkavg, Totalavg = avg_scores(midterm, *homeworks, final)\n",
    "\n",
    "print(homeworkavg, Totalavg)\n",
    "    "
   ]
  },
  {
   "cell_type": "code",
   "execution_count": 21,
   "metadata": {},
   "outputs": [
    {
     "name": "stdout",
     "output_type": "stream",
     "text": [
      "1 2 3\n",
      "3 6 5\n",
      "15 5 5\n"
     ]
    }
   ],
   "source": [
    "def f(a, b, c = 5):\n",
    "    print(a, b, c)\n",
    "\n",
    "f(1, 2, 3)\n",
    "f(3, c = 5, b = 6)\n",
    "f(15, 5)"
   ]
  },
  {
   "cell_type": "code",
   "execution_count": 22,
   "metadata": {},
   "outputs": [
    {
     "name": "stdout",
     "output_type": "stream",
     "text": [
      "(1,)\n",
      "(3, 4, 5, 6, 7, 7)\n"
     ]
    }
   ],
   "source": [
    "def f2(*args):\n",
    "    print(args)\n",
    "    \n",
    "f2(1)\n",
    "f2(3, 4, 5, 6, 7, 7)"
   ]
  },
  {
   "cell_type": "code",
   "execution_count": 25,
   "metadata": {},
   "outputs": [
    {
     "name": "stdout",
     "output_type": "stream",
     "text": [
      "dict_keys(['a', 'b'])\n",
      "{'a': 1, 'b': 2}\n"
     ]
    }
   ],
   "source": [
    "def f3(**kwargs):\n",
    "    print(kwargs.keys())\n",
    "    print(kwargs)\n",
    "    \n",
    "f3(a = 1, b = 2)"
   ]
  },
  {
   "cell_type": "code",
   "execution_count": 34,
   "metadata": {},
   "outputs": [
    {
     "name": "stdout",
     "output_type": "stream",
     "text": [
      "3 7 [5, 6, 7, 8] {'x': 1, 'y': 2, 'name': 'goutam'}\n"
     ]
    }
   ],
   "source": [
    "def f4(a, b = 4,  *args, **kwargs):\n",
    "    print(a,b,  list(args), kwargs)\n",
    "    \n",
    "f4(3, 7, 5, 6, 7, 8, x = 1, y = 2, name = 'goutam')"
   ]
  },
  {
   "cell_type": "code",
   "execution_count": 41,
   "metadata": {},
   "outputs": [
    {
     "name": "stdout",
     "output_type": "stream",
     "text": [
      "<function maker.<locals>.action at 0x000001CF445B4280>\n"
     ]
    },
    {
     "data": {
      "text/plain": [
       "(32, 81)"
      ]
     },
     "execution_count": 41,
     "metadata": {},
     "output_type": "execute_result"
    }
   ],
   "source": [
    "def maker(n):\n",
    "    def action(x):\n",
    "        return n**x\n",
    "    return action\n",
    "\n",
    "f_twopowers = maker(2)  # returning action function with the value x**2\n",
    "f_threepowers = maker(3)\n",
    "print(f)\n",
    "f_twopowers(5), f_threepowers(4)"
   ]
  },
  {
   "cell_type": "code",
   "execution_count": null,
   "metadata": {},
   "outputs": [],
   "source": []
  },
  {
   "cell_type": "code",
   "execution_count": null,
   "metadata": {},
   "outputs": [],
   "source": []
  },
  {
   "cell_type": "code",
   "execution_count": null,
   "metadata": {},
   "outputs": [],
   "source": []
  },
  {
   "cell_type": "code",
   "execution_count": 43,
   "metadata": {},
   "outputs": [
    {
     "name": "stdout",
     "output_type": "stream",
     "text": [
      "68.0\n"
     ]
    },
    {
     "data": {
      "text/plain": [
       "<function __main__.convert(t)>"
      ]
     },
     "execution_count": 43,
     "metadata": {},
     "output_type": "execute_result"
    }
   ],
   "source": [
    "def convert(t):\n",
    "    return t*9/5+32\n",
    "\n",
    "print(convert(20))\n",
    "\n",
    "c = convert;\n",
    "c(6)\n",
    "c"
   ]
  },
  {
   "cell_type": "code",
   "execution_count": 70,
   "metadata": {},
   "outputs": [],
   "source": [
    "def square(x):\n",
    "    mul(x, x)"
   ]
  },
  {
   "cell_type": "code",
   "execution_count": 71,
   "metadata": {},
   "outputs": [
    {
     "data": {
      "text/plain": [
       "<function __main__.square(x)>"
      ]
     },
     "execution_count": 71,
     "metadata": {},
     "output_type": "execute_result"
    }
   ],
   "source": [
    "square"
   ]
  },
  {
   "cell_type": "code",
   "execution_count": 73,
   "metadata": {},
   "outputs": [],
   "source": [
    "from operator import mul\n",
    "square(5)"
   ]
  },
  {
   "cell_type": "code",
   "execution_count": 76,
   "metadata": {},
   "outputs": [],
   "source": [
    "def square(x):\n",
    "    return mul(x, x)"
   ]
  },
  {
   "cell_type": "code",
   "execution_count": 77,
   "metadata": {},
   "outputs": [
    {
     "name": "stdout",
     "output_type": "stream",
     "text": [
      "25\n"
     ]
    }
   ],
   "source": [
    "from operator import mul\n",
    "square(5)\n",
    "print(square(5))"
   ]
  },
  {
   "cell_type": "code",
   "execution_count": 78,
   "metadata": {},
   "outputs": [
    {
     "name": "stdout",
     "output_type": "stream",
     "text": [
      "25\n",
      "25\n",
      "None\n"
     ]
    }
   ],
   "source": [
    "print(square(5))\n",
    "print(print(square(5)))"
   ]
  },
  {
   "cell_type": "code",
   "execution_count": 79,
   "metadata": {},
   "outputs": [],
   "source": [
    "def print_square(x):\n",
    "    print(square(x))"
   ]
  },
  {
   "cell_type": "code",
   "execution_count": 80,
   "metadata": {},
   "outputs": [
    {
     "name": "stdout",
     "output_type": "stream",
     "text": [
      "100\n"
     ]
    }
   ],
   "source": [
    "print_square(10)"
   ]
  },
  {
   "cell_type": "code",
   "execution_count": null,
   "metadata": {},
   "outputs": [],
   "source": [
    "def percent_difference(x, y):\n",
    "    difference = abs(x-y)\n",
    "    return 100 * difference / x\n",
    "\n",
    "result = percent_difference(40, 50)\n",
    "\n",
    "print(result)"
   ]
  },
  {
   "cell_type": "code",
   "execution_count": null,
   "metadata": {},
   "outputs": [],
   "source": [
    "# Fibonacci Sequence\n",
    "\n",
    "def fib(n):\n",
    "    \"\"\"Compute the nth Fibonacci number, for n >= 2.\"\"\"\n",
    "    pred, curr = 0, 1   # Fibonacci numbers 1 and 2\n",
    "    k = 2               # Which Fib number is curr?\n",
    "    while k < n:\n",
    "        pred, curr = curr, pred + curr\n",
    "        k = k + 1\n",
    "    return curr\n",
    "\n",
    "result = fib(8)\n",
    "print(result)"
   ]
  },
  {
   "cell_type": "code",
   "execution_count": null,
   "metadata": {},
   "outputs": [],
   "source": [
    "from math import pi, sin\n",
    "\n",
    "def deg_sin(x):\n",
    "    return sin(pi*x/180)"
   ]
  },
  {
   "cell_type": "code",
   "execution_count": 83,
   "metadata": {},
   "outputs": [],
   "source": [
    "def multiple_print(string, n, bad_words):\n",
    "    if string in bad_words:\n",
    "        return\n",
    "    print(string * n)\n",
    "    print()\n",
    "    \n",
    "bad_words = ['bad', 'ugly']\n",
    "string = \"bad\"\n",
    "multiple_print(string, 2, bad_words)\n"
   ]
  },
  {
   "cell_type": "code",
   "execution_count": 85,
   "metadata": {},
   "outputs": [
    {
     "name": "stdout",
     "output_type": "stream",
     "text": [
      "HelloHelloHelloHelloHello\n",
      "\n",
      "Hello\n",
      "\n"
     ]
    }
   ],
   "source": [
    "def multiple_print(string, n=1):\n",
    "    print(string * n)\n",
    "    print()\n",
    "\n",
    "multiple_print('Hello', 5)\n",
    "multiple_print('Hello')"
   ]
  },
  {
   "cell_type": "code",
   "execution_count": null,
   "metadata": {},
   "outputs": [],
   "source": [
    "def fancy_print(text, color, background, style, justify):\n",
    "    \n",
    "    # not defined completely\n",
    "    \n",
    "    \n",
    "    \n",
    "fancy_print(text='Hi', color='yellow', background='black', \n",
    "            style='bold', justify='left')\n",
    "\n",
    "fancy_print(text='Hi', style='bold', justify='left', \n",
    "            background='black', color='yellow')"
   ]
  },
  {
   "cell_type": "code",
   "execution_count": 86,
   "metadata": {},
   "outputs": [
    {
     "name": "stdout",
     "output_type": "stream",
     "text": [
      "0\n",
      "1\n",
      "2\n",
      "3\n",
      "4\n",
      "5\n",
      "6\n",
      "7\n",
      "8\n",
      "9\n",
      "100\n"
     ]
    }
   ],
   "source": [
    "## Local Variables\n",
    "\n",
    "def func1():\n",
    "    for i in range(10):\n",
    "        print(i)\n",
    "        \n",
    "def func2():\n",
    "    i=100\n",
    "    func1()\n",
    "    print(i)\n",
    "\n",
    "func2()    "
   ]
  },
  {
   "cell_type": "code",
   "execution_count": 107,
   "metadata": {},
   "outputs": [
    {
     "name": "stdout",
     "output_type": "stream",
     "text": [
      "1\n"
     ]
    }
   ],
   "source": [
    "# Global Variables\n",
    "time_left = 9\n",
    "\n",
    "def reset():\n",
    "    global time_left\n",
    "    time_left = 0\n",
    "\n",
    "def print_time():\n",
    "    reset()\n",
    "    global time_left\n",
    "    time_left= time_left+1\n",
    "    print(time_left)\n",
    "    \n",
    "print_time()"
   ]
  },
  {
   "cell_type": "code",
   "execution_count": null,
   "metadata": {},
   "outputs": [],
   "source": [
    "def func1(x):\n",
    "    x = x + 1\n",
    "    \n",
    "def func2(L):\n",
    "    L = L + [1]\n",
    "a=3\n",
    "M=[1,2,3]\n",
    "func1(a)\n",
    "func2(M)"
   ]
  },
  {
   "cell_type": "code",
   "execution_count": 6,
   "metadata": {
    "collapsed": true
   },
   "outputs": [
    {
     "ename": "NameError",
     "evalue": "name 'func1' is not defined",
     "output_type": "error",
     "traceback": [
      "\u001b[1;31m---------------------------------------------------------------------------\u001b[0m",
      "\u001b[1;31mNameError\u001b[0m                                 Traceback (most recent call last)",
      "\u001b[1;32m<ipython-input-6-d93f31755380>\u001b[0m in \u001b[0;36m<module>\u001b[1;34m\u001b[0m\n\u001b[0;32m      5\u001b[0m \u001b[0ma\u001b[0m\u001b[1;33m=\u001b[0m\u001b[1;36m3\u001b[0m\u001b[1;33m\u001b[0m\u001b[1;33m\u001b[0m\u001b[0m\n\u001b[0;32m      6\u001b[0m \u001b[0mM\u001b[0m\u001b[1;33m=\u001b[0m\u001b[1;33m[\u001b[0m\u001b[1;36m1\u001b[0m\u001b[1;33m,\u001b[0m\u001b[1;36m2\u001b[0m\u001b[1;33m,\u001b[0m\u001b[1;36m3\u001b[0m\u001b[1;33m]\u001b[0m\u001b[1;33m\u001b[0m\u001b[1;33m\u001b[0m\u001b[0m\n\u001b[1;32m----> 7\u001b[1;33m \u001b[0ma\u001b[0m\u001b[1;33m=\u001b[0m\u001b[0mfunc1\u001b[0m\u001b[1;33m(\u001b[0m\u001b[0ma\u001b[0m\u001b[1;33m)\u001b[0m         \u001b[1;31m# note change on this line\u001b[0m\u001b[1;33m\u001b[0m\u001b[1;33m\u001b[0m\u001b[0m\n\u001b[0m\u001b[0;32m      8\u001b[0m \u001b[0mfunc2\u001b[0m\u001b[1;33m(\u001b[0m\u001b[0mM\u001b[0m\u001b[1;33m)\u001b[0m\u001b[1;33m\u001b[0m\u001b[1;33m\u001b[0m\u001b[0m\n",
      "\u001b[1;31mNameError\u001b[0m: name 'func1' is not defined"
     ]
    }
   ],
   "source": [
    "def func2(L):\n",
    "    copy = L[:]\n",
    "    copy = copy + [1]\n",
    "    \n",
    "a=3\n",
    "M=[1,2,3]\n",
    "a=func1(a)         # note change on this line\n",
    "func2(M)"
   ]
  },
  {
   "attachments": {
    "image.png": {
     "image/png": "[encoded data removed]"
    }
   },
   "cell_type": "markdown",
   "metadata": {},
   "source": [
    "![image.png](attachment:image.png)"
   ]
  },
  {
   "cell_type": "code",
   "execution_count": null,
   "metadata": {},
   "outputs": [],
   "source": [
    "m = 4\n",
    "\n",
    "def change_value():\n",
    "    #print(m)\n",
    "    # global m\n",
    "    def print(m):\n",
    "       print(\"The value of m is \" + str(m))\n",
    "    print(m)\n",
    "    #m = 5\n",
    "    print(m)\n",
    "    \n",
    "    \n",
    "print(m)\n",
    "change_value()\n",
    "print(m)"
   ]
  },
  {
   "cell_type": "code",
   "execution_count": 1,
   "metadata": {},
   "outputs": [],
   "source": [
    "print(\"Hello\")"
   ]
  },
  {
   "cell_type": "code",
   "execution_count": 2,
   "metadata": {},
   "outputs": [
    {
     "data": {
      "text/plain": [
       "[1, 2]"
      ]
     },
     "execution_count": 2,
     "metadata": {},
     "output_type": "execute_result"
    }
   ],
   "source": [
    "list = [1, 2]\n",
    "list"
   ]
  },
  {
   "cell_type": "code",
   "execution_count": 8,
   "metadata": {},
   "outputs": [
    {
     "data": {
      "text/plain": [
       "[1, 2, 3]"
      ]
     },
     "execution_count": 8,
     "metadata": {},
     "output_type": "execute_result"
    }
   ],
   "source": [
    "t = (1,2, 3)\n",
    "l = list(t)\n",
    "l"
   ]
  },
  {
   "cell_type": "code",
   "execution_count": 5,
   "metadata": {},
   "outputs": [
    {
     "data": {
      "text/plain": [
       "[1, 2]"
      ]
     },
     "execution_count": 5,
     "metadata": {},
     "output_type": "execute_result"
    }
   ],
   "source": [
    "list"
   ]
  },
  {
   "cell_type": "code",
   "execution_count": 6,
   "metadata": {},
   "outputs": [],
   "source": [
    "del list"
   ]
  },
  {
   "cell_type": "code",
   "execution_count": null,
   "metadata": {},
   "outputs": [],
   "source": []
  },
  {
   "cell_type": "code",
   "execution_count": 18,
   "metadata": {
    "collapsed": true
   },
   "outputs": [
    {
     "data": {
      "text/plain": [
       "['ArithmeticError',\n",
       " 'AssertionError',\n",
       " 'AttributeError',\n",
       " 'BaseException',\n",
       " 'BlockingIOError',\n",
       " 'BrokenPipeError',\n",
       " 'BufferError',\n",
       " 'BytesWarning',\n",
       " 'ChildProcessError',\n",
       " 'ConnectionAbortedError',\n",
       " 'ConnectionError',\n",
       " 'ConnectionRefusedError',\n",
       " 'ConnectionResetError',\n",
       " 'DeprecationWarning',\n",
       " 'EOFError',\n",
       " 'Ellipsis',\n",
       " 'EnvironmentError',\n",
       " 'Exception',\n",
       " 'False',\n",
       " 'FileExistsError',\n",
       " 'FileNotFoundError',\n",
       " 'FloatingPointError',\n",
       " 'FutureWarning',\n",
       " 'GeneratorExit',\n",
       " 'IOError',\n",
       " 'ImportError',\n",
       " 'ImportWarning',\n",
       " 'IndentationError',\n",
       " 'IndexError',\n",
       " 'InterruptedError',\n",
       " 'IsADirectoryError',\n",
       " 'KeyError',\n",
       " 'KeyboardInterrupt',\n",
       " 'LookupError',\n",
       " 'MemoryError',\n",
       " 'ModuleNotFoundError',\n",
       " 'NameError',\n",
       " 'None',\n",
       " 'NotADirectoryError',\n",
       " 'NotImplemented',\n",
       " 'NotImplementedError',\n",
       " 'OSError',\n",
       " 'OverflowError',\n",
       " 'PendingDeprecationWarning',\n",
       " 'PermissionError',\n",
       " 'ProcessLookupError',\n",
       " 'RecursionError',\n",
       " 'ReferenceError',\n",
       " 'ResourceWarning',\n",
       " 'RuntimeError',\n",
       " 'RuntimeWarning',\n",
       " 'StopAsyncIteration',\n",
       " 'StopIteration',\n",
       " 'SyntaxError',\n",
       " 'SyntaxWarning',\n",
       " 'SystemError',\n",
       " 'SystemExit',\n",
       " 'TabError',\n",
       " 'TimeoutError',\n",
       " 'True',\n",
       " 'TypeError',\n",
       " 'UnboundLocalError',\n",
       " 'UnicodeDecodeError',\n",
       " 'UnicodeEncodeError',\n",
       " 'UnicodeError',\n",
       " 'UnicodeTranslateError',\n",
       " 'UnicodeWarning',\n",
       " 'UserWarning',\n",
       " 'ValueError',\n",
       " 'Warning',\n",
       " 'WindowsError',\n",
       " 'ZeroDivisionError',\n",
       " '__IPYTHON__',\n",
       " '__build_class__',\n",
       " '__debug__',\n",
       " '__doc__',\n",
       " '__import__',\n",
       " '__loader__',\n",
       " '__name__',\n",
       " '__package__',\n",
       " '__spec__',\n",
       " 'abs',\n",
       " 'all',\n",
       " 'any',\n",
       " 'ascii',\n",
       " 'bin',\n",
       " 'bool',\n",
       " 'breakpoint',\n",
       " 'bytearray',\n",
       " 'bytes',\n",
       " 'callable',\n",
       " 'chr',\n",
       " 'classmethod',\n",
       " 'compile',\n",
       " 'complex',\n",
       " 'copyright',\n",
       " 'credits',\n",
       " 'delattr',\n",
       " 'dict',\n",
       " 'dir',\n",
       " 'display',\n",
       " 'divmod',\n",
       " 'enumerate',\n",
       " 'eval',\n",
       " 'exec',\n",
       " 'filter',\n",
       " 'float',\n",
       " 'format',\n",
       " 'frozenset',\n",
       " 'get_ipython',\n",
       " 'getattr',\n",
       " 'globals',\n",
       " 'hasattr',\n",
       " 'hash',\n",
       " 'help',\n",
       " 'hex',\n",
       " 'id',\n",
       " 'input',\n",
       " 'int',\n",
       " 'isinstance',\n",
       " 'issubclass',\n",
       " 'iter',\n",
       " 'len',\n",
       " 'license',\n",
       " 'list',\n",
       " 'locals',\n",
       " 'map',\n",
       " 'max',\n",
       " 'memoryview',\n",
       " 'min',\n",
       " 'next',\n",
       " 'object',\n",
       " 'oct',\n",
       " 'open',\n",
       " 'ord',\n",
       " 'pow',\n",
       " 'print',\n",
       " 'property',\n",
       " 'range',\n",
       " 'repr',\n",
       " 'reversed',\n",
       " 'round',\n",
       " 'set',\n",
       " 'setattr',\n",
       " 'slice',\n",
       " 'sorted',\n",
       " 'staticmethod',\n",
       " 'str',\n",
       " 'sum',\n",
       " 'super',\n",
       " 'tuple',\n",
       " 'type',\n",
       " 'vars',\n",
       " 'zip']"
      ]
     },
     "execution_count": 18,
     "metadata": {},
     "output_type": "execute_result"
    }
   ],
   "source": [
    "import builtins\n",
    "dir(builtins)"
   ]
  },
  {
   "cell_type": "code",
   "execution_count": 16,
   "metadata": {},
   "outputs": [
    {
     "ename": "NameError",
     "evalue": "name 'X2' is not defined",
     "output_type": "error",
     "traceback": [
      "\u001b[1;31m---------------------------------------------------------------------------\u001b[0m",
      "\u001b[1;31mNameError\u001b[0m                                 Traceback (most recent call last)",
      "\u001b[1;32m<ipython-input-16-af3a2c8c953f>\u001b[0m in \u001b[0;36m<module>\u001b[1;34m\u001b[0m\n\u001b[0;32m      6\u001b[0m     \u001b[1;31m#X[0] = \"P\"               # Global X: outside def\u001b[0m\u001b[1;33m\u001b[0m\u001b[1;33m\u001b[0m\u001b[1;33m\u001b[0m\u001b[0m\n\u001b[0;32m      7\u001b[0m \u001b[1;33m\u001b[0m\u001b[0m\n\u001b[1;32m----> 8\u001b[1;33m \u001b[0mfunc\u001b[0m\u001b[1;33m(\u001b[0m\u001b[1;33m)\u001b[0m\u001b[1;33m\u001b[0m\u001b[1;33m\u001b[0m\u001b[0m\n\u001b[0m\u001b[0;32m      9\u001b[0m \u001b[0mprint\u001b[0m\u001b[1;33m(\u001b[0m\u001b[0mXX\u001b[0m\u001b[1;33m)\u001b[0m                  \u001b[1;31m# Prints 99\u001b[0m\u001b[1;33m\u001b[0m\u001b[1;33m\u001b[0m\u001b[0m\n",
      "\u001b[1;32m<ipython-input-16-af3a2c8c953f>\u001b[0m in \u001b[0;36mfunc\u001b[1;34m()\u001b[0m\n\u001b[0;32m      2\u001b[0m \u001b[1;32mdef\u001b[0m \u001b[0mfunc\u001b[0m\u001b[1;33m(\u001b[0m\u001b[1;33m)\u001b[0m\u001b[1;33m:\u001b[0m\u001b[1;33m\u001b[0m\u001b[1;33m\u001b[0m\u001b[0m\n\u001b[0;32m      3\u001b[0m     \u001b[1;31m# global X\u001b[0m\u001b[1;33m\u001b[0m\u001b[1;33m\u001b[0m\u001b[1;33m\u001b[0m\u001b[0m\n\u001b[1;32m----> 4\u001b[1;33m     \u001b[0mprint\u001b[0m\u001b[1;33m(\u001b[0m\u001b[0mX2\u001b[0m\u001b[1;33m)\u001b[0m\u001b[1;33m\u001b[0m\u001b[1;33m\u001b[0m\u001b[0m\n\u001b[0m\u001b[0;32m      5\u001b[0m     \u001b[1;31m#X = \"Hi\"\u001b[0m\u001b[1;33m\u001b[0m\u001b[1;33m\u001b[0m\u001b[1;33m\u001b[0m\u001b[0m\n\u001b[0;32m      6\u001b[0m     \u001b[1;31m#X[0] = \"P\"               # Global X: outside def\u001b[0m\u001b[1;33m\u001b[0m\u001b[1;33m\u001b[0m\u001b[1;33m\u001b[0m\u001b[0m\n",
      "\u001b[1;31mNameError\u001b[0m: name 'X2' is not defined"
     ]
    }
   ],
   "source": [
    "XX = \"Goutam\" # Global X\n",
    "def func():\n",
    "    # global X\n",
    "    print(X2)\n",
    "    #X = \"Hi\"\n",
    "    #X[0] = \"P\"               # Global X: outside def\n",
    "\n",
    "func()\n",
    "print(XX)                  # Prints 99"
   ]
  },
  {
   "cell_type": "code",
   "execution_count": null,
   "metadata": {},
   "outputs": [],
   "source": [
    "y, z = 1, 2                     # Global variables in module\n",
    "def all_global():\n",
    "    global x                    # Declare globals assigned\n",
    "    x = y + z                   # No need to declare y, z: LEGB rule"
   ]
  },
  {
   "cell_type": "code",
   "execution_count": 19,
   "metadata": {},
   "outputs": [
    {
     "data": {
      "text/plain": [
       "77"
      ]
     },
     "execution_count": 19,
     "metadata": {},
     "output_type": "execute_result"
    }
   ],
   "source": [
    "X = 99\n",
    "def func1():\n",
    "    global X\n",
    "    X = 88\n",
    "def func2():\n",
    "    global X\n",
    "    X = 77\n",
    "    \n",
    "func1()\n",
    "func2()\n",
    "X"
   ]
  },
  {
   "cell_type": "code",
   "execution_count": null,
   "metadata": {},
   "outputs": [],
   "source": []
  },
  {
   "cell_type": "code",
   "execution_count": 53,
   "metadata": {},
   "outputs": [],
   "source": [
    "import testfunc"
   ]
  },
  {
   "cell_type": "code",
   "execution_count": 54,
   "metadata": {},
   "outputs": [
    {
     "data": {
      "text/plain": [
       "24"
      ]
     },
     "execution_count": 54,
     "metadata": {},
     "output_type": "execute_result"
    }
   ],
   "source": [
    "x"
   ]
  },
  {
   "cell_type": "code",
   "execution_count": 146,
   "metadata": {},
   "outputs": [
    {
     "name": "stdout",
     "output_type": "stream",
     "text": [
      "['David Beazley', 'Brian Jones', 'Raymond Hettinger', 'Ned Batchelder']\n"
     ]
    }
   ],
   "source": [
    "names = ['David Beazley', 'Brian Jones', \n",
    "         'Raymond Hettinger', 'Ned Batchelder']\n",
    "\n",
    "sorted(names, key=lambda name: name.split()[-1].lower())\n",
    "sorted(names, key=lambda name: name.split()[-1].lower(), reverse = True)\n",
    "print(names)\n",
    "##['Ned Batchelder', 'David Beazley', 'Raymond Hettinger', 'Brian Jones']"
   ]
  },
  {
   "cell_type": "code",
   "execution_count": 143,
   "metadata": {},
   "outputs": [
    {
     "name": "stdout",
     "output_type": "stream",
     "text": [
      "Help on built-in function sorted in module builtins:\n",
      "\n",
      "sorted(iterable, /, *, key=None, reverse=False)\n",
      "    Return a new list containing all items from the iterable in ascending order.\n",
      "    \n",
      "    A custom key function can be supplied to customize the sort order, and the\n",
      "    reverse flag can be set to request the result in descending order.\n",
      "\n"
     ]
    }
   ],
   "source": [
    "help(sorted)"
   ]
  },
  {
   "cell_type": "code",
   "execution_count": null,
   "metadata": {},
   "outputs": [],
   "source": []
  },
  {
   "cell_type": "code",
   "execution_count": null,
   "metadata": {},
   "outputs": [],
   "source": []
  },
  {
   "cell_type": "code",
   "execution_count": null,
   "metadata": {},
   "outputs": [],
   "source": []
  },
  {
   "cell_type": "code",
   "execution_count": null,
   "metadata": {},
   "outputs": [],
   "source": []
  },
  {
   "cell_type": "code",
   "execution_count": null,
   "metadata": {},
   "outputs": [],
   "source": []
  },
  {
   "cell_type": "markdown",
   "metadata": {},
   "source": [
    "**Example 3 A function can return multiple values as a list.**   \n",
    "\n",
    "Say we want to write a function that solves the system of equations  \n",
    "ax + b y = e and    \n",
    "c x + d y = f     \n",
    "\n",
    "It turns out that if there is a unique solution, then it is given by     \n",
    "\n",
    "x = (de - bf)/(ad - bc)     \n",
    "y = (af  ce)/(ad - bc)     \n",
    "\n",
    "We need our function to return both the x and y solutions."
   ]
  },
  {
   "cell_type": "code",
   "execution_count": 1,
   "metadata": {},
   "outputs": [
    {
     "name": "stdout",
     "output_type": "stream",
     "text": [
      "The solution is x =  1.3 and y =  -0.2\n"
     ]
    }
   ],
   "source": [
    "def solve(a,b,c,d,e,f):\n",
    "    x = (d*e-b*f)/(a*d-b*c)\n",
    "    y = (a*f-c*e)/(a*d-b*c)\n",
    "    return [x,y]\n",
    "xsol, ysol = solve(2,3,4,1,2,5)\n",
    "print('The solution is x = ', xsol, 'and y = ', ysol)"
   ]
  },
  {
   "cell_type": "markdown",
   "metadata": {},
   "source": [
    "```\n",
    "Function-related statements and expressions\n",
    "Statement or expression                         Examples   \n",
    "Call expressions                     myfunc('spam', 'eggs', meat=ham, *rest)   \n",
    "def                                  def printer(messge):   \n",
    "                                         print('Hello ' + message)   \n",
    "return                               def adder(a, b=1, *c):   \n",
    "                                          return a + b + c[0]   \n",
    "\n",
    "global                               x = 'old'   \n",
    "                                     def changer():   \n",
    "                                           global x; x = 'new'   \n",
    "nonlocal (3.X)                       def outer():  \n",
    "                                           x = 'old'   \n",
    "                                           def changer():  \n",
    "                                                nonlocal x; x = 'new'   \n",
    "yield                                def squares(x):   \n",
    "                                           for i in range(x): yield i ** 2   \n",
    "lambda                               funcs = [lambda x: x**2, lambda x: x**3]   \n",
    "\n",
    "```"
   ]
  },
  {
   "attachments": {
    "image.png": {
     "image/png": "[encoded data removed]"
    }
   },
   "cell_type": "markdown",
   "metadata": {},
   "source": [
    "![image.png](attachment:image.png)\n",
    "\n"
   ]
  },
  {
   "cell_type": "code",
   "execution_count": 8,
   "metadata": {},
   "outputs": [
    {
     "ename": "SyntaxError",
     "evalue": "no binding for nonlocal 'n' found (<ipython-input-8-c9f882ffcee3>, line 4)",
     "output_type": "error",
     "traceback": [
      "\u001b[1;36m  File \u001b[1;32m\"<ipython-input-8-c9f882ffcee3>\"\u001b[1;36m, line \u001b[1;32m4\u001b[0m\n\u001b[1;33m    nonlocal n\u001b[0m\n\u001b[1;37m    ^\u001b[0m\n\u001b[1;31mSyntaxError\u001b[0m\u001b[1;31m:\u001b[0m no binding for nonlocal 'n' found\n"
     ]
    }
   ],
   "source": [
    "n  = 20\n",
    "def outer():\n",
    "    m = 4\n",
    "    #nonlocal n\n",
    "    print(m, n)\n",
    "    \n",
    "    def inner():\n",
    "        nonlocal m\n",
    "        global n\n",
    "        m = 5\n",
    "        n = 6\n",
    "        print(m, n)\n",
    "    inner()    \n",
    "    print(m, n)\n",
    "\n",
    "def outer2():\n",
    "    m = 99\n",
    "    \n",
    "outer()"
   ]
  },
  {
   "cell_type": "code",
   "execution_count": null,
   "metadata": {},
   "outputs": [],
   "source": [
    "# LEGB"
   ]
  },
  {
   "cell_type": "code",
   "execution_count": 2,
   "metadata": {},
   "outputs": [
    {
     "ename": "ImportError",
     "evalue": "cannot import name 'testingfunc' from 'testing' (C:\\Users\\srika\\Desktop\\Python Training\\MyNewFolder\\testing.py)",
     "output_type": "error",
     "traceback": [
      "\u001b[1;31m---------------------------------------------------------------------------\u001b[0m",
      "\u001b[1;31mImportError\u001b[0m                               Traceback (most recent call last)",
      "\u001b[1;32m<ipython-input-2-1e7a04492456>\u001b[0m in \u001b[0;36m<module>\u001b[1;34m\u001b[0m\n\u001b[1;32m----> 1\u001b[1;33m \u001b[1;32mfrom\u001b[0m \u001b[0mtesting\u001b[0m \u001b[1;32mimport\u001b[0m \u001b[0mtestingfunc\u001b[0m\u001b[1;33m,\u001b[0m \u001b[0mtestvar\u001b[0m\u001b[1;33m\u001b[0m\u001b[1;33m\u001b[0m\u001b[0m\n\u001b[0m\u001b[0;32m      2\u001b[0m \u001b[1;33m\u001b[0m\u001b[0m\n\u001b[0;32m      3\u001b[0m \u001b[0mprint\u001b[0m \u001b[1;33m(\u001b[0m\u001b[0mtestvar\u001b[0m\u001b[1;33m)\u001b[0m\u001b[1;33m\u001b[0m\u001b[1;33m\u001b[0m\u001b[0m\n",
      "\u001b[1;31mImportError\u001b[0m: cannot import name 'testingfunc' from 'testing' (C:\\Users\\srika\\Desktop\\Python Training\\MyNewFolder\\testing.py)"
     ]
    }
   ],
   "source": [
    "from testing import testingfunc, testvar\n",
    "\n",
    "print (testvar)"
   ]
  },
  {
   "cell_type": "code",
   "execution_count": 12,
   "metadata": {},
   "outputs": [
    {
     "name": "stdout",
     "output_type": "stream",
     "text": [
      "HI\n",
      "Hello20\n"
     ]
    }
   ],
   "source": [
    "def say():\n",
    "    greeting = \"Hello\"\n",
    "    \n",
    "    def shout(X):\n",
    "        print(greeting + str(X))\n",
    "    \n",
    "    return shout\n",
    "\n",
    "\n",
    "tell = say()\n",
    "print(\"HI\")\n",
    "tell(20)\n"
   ]
  },
  {
   "cell_type": "code",
   "execution_count": 19,
   "metadata": {},
   "outputs": [
    {
     "data": {
      "text/plain": [
       "27"
      ]
     },
     "execution_count": 19,
     "metadata": {},
     "output_type": "execute_result"
    }
   ],
   "source": [
    "def maker(n):\n",
    "    def action(m):\n",
    "        return m**n\n",
    "    return action\n",
    "\n",
    "f = maker(4)\n",
    "g = maker(3)\n",
    "\n",
    "f(2)\n",
    "f(4)\n",
    "g(3)"
   ]
  },
  {
   "cell_type": "code",
   "execution_count": null,
   "metadata": {},
   "outputs": [],
   "source": []
  },
  {
   "cell_type": "code",
   "execution_count": null,
   "metadata": {},
   "outputs": [],
   "source": []
  },
  {
   "cell_type": "markdown",
   "metadata": {},
   "source": [
    "#### Higher Order Functions\n",
    "\n",
    "A function is called Higher Order Function if it contains other functions as a parameter or returns a function as an output.\n",
    "\n",
    "##### Properties of higher-order functions:\n",
    "\n",
    "* A function is an instance of the Object type.\n",
    "* You can store the function in a variable.\n",
    "* You can pass the function as a parameter to another function.\n",
    "* You can return the function from a function.\n",
    "* You can store them in data structures such as hash tables, lists, …\n",
    "\n",
    "\n",
    "\n",
    "```python\n",
    "def curried_pow(x):\n",
    "    def h(y):\n",
    "        return pow(x, y)\n",
    "    return h\n",
    "```"
   ]
  },
  {
   "cell_type": "code",
   "execution_count": 22,
   "metadata": {},
   "outputs": [
    {
     "data": {
      "text/plain": [
       "729"
      ]
     },
     "execution_count": 22,
     "metadata": {},
     "output_type": "execute_result"
    }
   ],
   "source": [
    "def curried_pow(x):\n",
    "    def h(y):\n",
    "        return pow(x, y)\n",
    "    return h\n",
    "\n",
    "fn = curried_pow(5)\n",
    "gn = curried_pow(9)\n",
    "print(fn(2))\n",
    "print(gn(3))"
   ]
  },
  {
   "cell_type": "code",
   "execution_count": null,
   "metadata": {},
   "outputs": [],
   "source": []
  },
  {
   "cell_type": "markdown",
   "metadata": {},
   "source": [
    "##### Functions as objects  \n",
    "* In Python, a function can be assigned to a variable. This assignment does not call the function, instead a reference to that function is created. Consider the below example, for better understanding."
   ]
  },
  {
   "cell_type": "code",
   "execution_count": 1,
   "metadata": {},
   "outputs": [
    {
     "name": "stdout",
     "output_type": "stream",
     "text": [
      "HELLO\n",
      "HELLO\n"
     ]
    }
   ],
   "source": [
    "# Python program to illustrate functions \n",
    "# can be treated as objects \n",
    "def shout(text): \n",
    "    return text.upper() \n",
    "    \n",
    "print(shout('Hello')) \n",
    "    \n",
    "# Assigning function to a variable\n",
    "yell = shout \n",
    "    \n",
    "print(yell('Hello'))"
   ]
  },
  {
   "cell_type": "markdown",
   "metadata": {},
   "source": [
    "##### Passing Function as an argument to other function\n",
    "* Functions are like objects in Python, therefore, they can be passed as argument to other functions. Consider the below example, where we have created a function greet which takes a function as an argument."
   ]
  },
  {
   "cell_type": "code",
   "execution_count": 2,
   "metadata": {},
   "outputs": [
    {
     "name": "stdout",
     "output_type": "stream",
     "text": [
      "HI, I AM CREATED BY A FUNCTION     PASSED AS AN ARGUMENT.\n",
      "hi, i am created by a function     passed as an argument.\n"
     ]
    }
   ],
   "source": [
    "# Python program to illustrate functions \n",
    "# can be passed as arguments to other functions \n",
    "def shout(text): \n",
    "    return text.upper() \n",
    "    \n",
    "def whisper(text): \n",
    "    return text.lower() \n",
    "    \n",
    "def greet(func): \n",
    "    # storing the function in a variable \n",
    "    greeting = func(\"Hi, I am created by a function \\\n",
    "    passed as an argument.\") \n",
    "    print(greeting)  \n",
    "    \n",
    "greet(shout) \n",
    "greet(whisper)"
   ]
  },
  {
   "cell_type": "markdown",
   "metadata": {},
   "source": [
    "##### Returning function\n",
    "* As functions are objects, we can also return a function from another function. In the below example, the create_adder function returns adder function."
   ]
  },
  {
   "cell_type": "code",
   "execution_count": 44,
   "metadata": {},
   "outputs": [
    {
     "name": "stdout",
     "output_type": "stream",
     "text": [
      "25 3471\n"
     ]
    }
   ],
   "source": [
    "# Python program to illustrate functions \n",
    "# Functions can return another function \n",
    "    \n",
    "def create_adder(x): \n",
    "    def adder(y): \n",
    "        return x + y \n",
    "    \n",
    "    return adder \n",
    "    \n",
    "add_15 = create_adder(15) \n",
    "    \n",
    "print(add_15(10), add_15(3456))"
   ]
  },
  {
   "cell_type": "markdown",
   "metadata": {},
   "source": [
    "##### Decorators\n",
    "* Decorators are the most common use of higher-order functions in Python. It allows programmers to modify the behavior of function or class. Decorators allow us to wrap another function in order to extend the behavior of wrapped function, without permanently modifying it. In Decorators, functions are taken as the argument into another function and then called inside the wrapper function.  \n",
    "\n",
    "Syntax:\n",
    "```\n",
    "@sgv_decorator\n",
    "def hello_decorator(): \n",
    "    .\n",
    "    .\n",
    "    .\n",
    "    \n",
    "```\n",
    "\n",
    "The above code is equivalent to –\n",
    "\n",
    "```\n",
    "def hello_decorator(): \n",
    "    .\n",
    "    .\n",
    "    .\n",
    "      \n",
    "hello_decorator = sgv_decorator(hello_decorator)\n",
    "```\n",
    "In the above code, sgv_decorator is a callable function, will add some code on the top of some another callable function, hello_decorator function and return the wrapper function."
   ]
  },
  {
   "cell_type": "code",
   "execution_count": 6,
   "metadata": {},
   "outputs": [
    {
     "name": "stdout",
     "output_type": "stream",
     "text": [
      "This is inside the function !!\n",
      "Hello, this is before function execution\n",
      "This is inside the function !!\n",
      "This is after function execution\n"
     ]
    }
   ],
   "source": [
    "# defining a decorator \n",
    "def hello_decorator(func): \n",
    "    \n",
    "    # inner1 is a Wrapper function in  \n",
    "    # which the argument is called \n",
    "        \n",
    "    # inner function can access the outer local \n",
    "    # functions like in this case \"func\" \n",
    "    def inner1(): \n",
    "        print(\"Hello, this is before function execution\") \n",
    "    \n",
    "        # calling the actual function now \n",
    "        # inside the wrapper function. \n",
    "        func() \n",
    "    \n",
    "        print(\"This is after function execution\") \n",
    "            \n",
    "    return inner1 \n",
    "    \n",
    "    \n",
    "# defining a function, to be called inside wrapper \n",
    "\n",
    "def function_to_be_used(): \n",
    "    print(\"This is inside the function !!\") \n",
    "    \n",
    "    \n",
    "# passing 'function_to_be_used' inside the \n",
    "# decorator to control its behavior\n",
    "function_to_be_used()\n",
    "\n",
    "new_handler = hello_decorator(function_to_be_used)\n",
    "new_handler()\n",
    "\n",
    "# function_to_be_used = hello_decorator(function_to_be_used) \n",
    "# new_handler = hello_decorator(function_to_be_used)\n",
    "    \n",
    "    \n",
    "# calling the function \n",
    "# function_to_be_used() \n"
   ]
  },
  {
   "cell_type": "code",
   "execution_count": null,
   "metadata": {},
   "outputs": [],
   "source": []
  },
  {
   "cell_type": "code",
   "execution_count": null,
   "metadata": {},
   "outputs": [],
   "source": []
  },
  {
   "cell_type": "code",
   "execution_count": null,
   "metadata": {},
   "outputs": [],
   "source": []
  },
  {
   "cell_type": "code",
   "execution_count": null,
   "metadata": {},
   "outputs": [],
   "source": []
  },
  {
   "cell_type": "code",
   "execution_count": null,
   "metadata": {},
   "outputs": [],
   "source": [
    "def curried_pow(x):\n",
    "    def h(y):\n",
    "        return pow(x, y)\n",
    "    return h"
   ]
  },
  {
   "cell_type": "code",
   "execution_count": null,
   "metadata": {},
   "outputs": [],
   "source": [
    "result = curried_pow(2)\n",
    "result"
   ]
  },
  {
   "cell_type": "code",
   "execution_count": null,
   "metadata": {},
   "outputs": [],
   "source": [
    "result(3)"
   ]
  },
  {
   "cell_type": "code",
   "execution_count": null,
   "metadata": {},
   "outputs": [],
   "source": [
    "result = curried_pow(3)(3)\n",
    "result"
   ]
  },
  {
   "cell_type": "code",
   "execution_count": null,
   "metadata": {},
   "outputs": [],
   "source": []
  },
  {
   "cell_type": "code",
   "execution_count": null,
   "metadata": {},
   "outputs": [],
   "source": []
  },
  {
   "cell_type": "code",
   "execution_count": null,
   "metadata": {},
   "outputs": [],
   "source": []
  },
  {
   "cell_type": "code",
   "execution_count": null,
   "metadata": {},
   "outputs": [],
   "source": []
  },
  {
   "cell_type": "markdown",
   "metadata": {},
   "source": [
    "## `lambda` functions\n",
    "\n",
    "**Lambda Calculus**\n",
    "Lambda expressions in Python and other programming languages have their roots in lambda calculus, a model of computation invented by Alonzo Church. You’ll uncover when lambda calculus was introduced and why it’s a fundamental concept that ended up in the Python ecosystem.\n",
    "\n",
    "**History**\n",
    "Alonzo Church formalized lambda calculus, a language based on pure abstraction, in the 1930s. Lambda functions are also referred to as lambda abstractions, a direct reference to the abstraction model of Alonzo Church’s original creation.\n",
    "\n",
    "Lambda calculus can encode any computation. It is Turing complete, but contrary to the concept of a Turing machine, it is pure and does not keep any state.\n",
    "\n",
    "Functional languages get their origin in mathematical logic and lambda calculus, while imperative programming languages embrace the state-based model of computation invented by Alan Turing. The two models of computation, lambda calculus and Turing machines, can be translated into each another. This equivalence is known as the Church-Turing hypothesis.\n",
    "\n",
    "Functional languages directly inherit the lambda calculus philosophy, adopting a declarative approach of programming that emphasizes abstraction, data transformation, composition, and purity (no state and no side effects). Examples of functional languages include Haskell, Lisp, or Erlang.\n",
    "\n",
    "By contrast, the Turing Machine led to imperative programming found in languages like Fortran, C, or Python.\n",
    "\n",
    "The imperative style consists of programming with statements, driving the flow of the program step by step with detailed instructions. This approach promotes mutation and requires managing state.\n",
    "\n",
    "The separation in both families presents some nuances, as some functional languages incorporate imperative features, like OCaml, while functional features have been permeating the imperative family of languages in particular with the introduction of lambda functions in Java, or Python.\n",
    "\n",
    "Python is not inherently a functional language, but it adopted some functional concepts early on. In January 1994, map(), filter(), reduce(), and the lambda operator were added to the language.\n"
   ]
  },
  {
   "cell_type": "code",
   "execution_count": 23,
   "metadata": {},
   "outputs": [
    {
     "data": {
      "text/plain": [
       "<function __main__.<lambda>(x)>"
      ]
     },
     "execution_count": 23,
     "metadata": {},
     "output_type": "execute_result"
    }
   ],
   "source": [
    "lambda x: x + 2"
   ]
  },
  {
   "cell_type": "code",
   "execution_count": 24,
   "metadata": {},
   "outputs": [
    {
     "data": {
      "text/plain": [
       "<function __main__.<lambda>(x)>"
      ]
     },
     "execution_count": 24,
     "metadata": {},
     "output_type": "execute_result"
    }
   ],
   "source": [
    "_"
   ]
  },
  {
   "cell_type": "code",
   "execution_count": 25,
   "metadata": {},
   "outputs": [
    {
     "data": {
      "text/plain": [
       "7"
      ]
     },
     "execution_count": 25,
     "metadata": {},
     "output_type": "execute_result"
    }
   ],
   "source": [
    "_(5)"
   ]
  },
  {
   "cell_type": "code",
   "execution_count": 26,
   "metadata": {},
   "outputs": [],
   "source": [
    "incr_by_two = lambda x: x+2"
   ]
  },
  {
   "cell_type": "code",
   "execution_count": 27,
   "metadata": {},
   "outputs": [
    {
     "data": {
      "text/plain": [
       "<function __main__.<lambda>(x)>"
      ]
     },
     "execution_count": 27,
     "metadata": {},
     "output_type": "execute_result"
    }
   ],
   "source": [
    "incr_by_two"
   ]
  },
  {
   "cell_type": "code",
   "execution_count": 28,
   "metadata": {},
   "outputs": [
    {
     "data": {
      "text/plain": [
       "458"
      ]
     },
     "execution_count": 28,
     "metadata": {},
     "output_type": "execute_result"
    }
   ],
   "source": [
    "incr_by_two(456)"
   ]
  },
  {
   "cell_type": "code",
   "execution_count": 29,
   "metadata": {},
   "outputs": [
    {
     "name": "stdout",
     "output_type": "stream",
     "text": [
      "169\n"
     ]
    }
   ],
   "source": [
    "def square(x):\n",
    "    return x * x\n",
    "\n",
    "def successor(x):\n",
    "    return x + 1\n",
    "\n",
    "def composite(f, g):\n",
    "    def h(x):\n",
    "        return f(g(x))\n",
    "    return h\n",
    "\n",
    "def compose1(f, g):\n",
    "    return lambda x: f(g(x))\n",
    "\n",
    "square_successor = composite(square, successor)\n",
    "result = square_successor(12)\n",
    "print(result)"
   ]
  },
  {
   "cell_type": "code",
   "execution_count": null,
   "metadata": {},
   "outputs": [],
   "source": [
    "def compose1(f, g):\n",
    "    return lambda x: f(g(x))\n",
    "\n",
    "f = compose1(lambda x: x * x,\n",
    "             lambda y: y + 1)\n",
    "result = f(12)\n",
    "print(result)"
   ]
  },
  {
   "cell_type": "code",
   "execution_count": 45,
   "metadata": {},
   "outputs": [
    {
     "name": "stdout",
     "output_type": "stream",
     "text": [
      "The initial list is: \n",
      "[1, 2, 3, 4, 5, 6, 7, 8]\n",
      "Enter the value of n: 5\n",
      "[5, 6, 7, 8, 9, 10, 11, 12]\n",
      "The changed list is: \n",
      "[10, 11, 12, 13, 14, 15, 16, 17]\n"
     ]
    }
   ],
   "source": [
    "#initial list\n",
    "l = [1,2,3,4,5,6,7,8]\n",
    " \n",
    "#print the initial list\n",
    "print(\"The initial list is: \")\n",
    "print(l)\n",
    " \n",
    "#choose n\n",
    "n = int(input('Enter the value of n: '))\n",
    " \n",
    "#increment all the values of the list by using map with help of lambda\n",
    "l = [i+n for i in range(len(l))]\n",
    "\n",
    "print(l)\n",
    "l = list(map(lambda x: x+n, l))\n",
    " \n",
    "#print the changed list\n",
    "print(\"The changed list is: \")\n",
    "print(l)"
   ]
  },
  {
   "cell_type": "code",
   "execution_count": 5,
   "metadata": {},
   "outputs": [
    {
     "ename": "SyntaxError",
     "evalue": "'yield' outside function (<ipython-input-5-91b5cdf60dca>, line 8)",
     "output_type": "error",
     "traceback": [
      "\u001b[1;36m  File \u001b[1;32m\"<ipython-input-5-91b5cdf60dca>\"\u001b[1;36m, line \u001b[1;32m8\u001b[0m\n\u001b[1;33m    yield(T3)\u001b[0m\n\u001b[1;37m    ^\u001b[0m\n\u001b[1;31mSyntaxError\u001b[0m\u001b[1;31m:\u001b[0m 'yield' outside function\n"
     ]
    }
   ],
   "source": [
    "T = (1, 2, 3, 4)\n",
    "T2 = ((y, y+10) for y in T)\n",
    "T3 = (y+20 for y in T)\n",
    "T2\n",
    "next(T2)\n",
    "T3\n",
    "next(T3)"
   ]
  },
  {
   "cell_type": "code",
   "execution_count": null,
   "metadata": {},
   "outputs": [],
   "source": []
  },
  {
   "cell_type": "code",
   "execution_count": null,
   "metadata": {},
   "outputs": [],
   "source": []
  },
  {
   "cell_type": "code",
   "execution_count": null,
   "metadata": {},
   "outputs": [],
   "source": []
  },
  {
   "cell_type": "code",
   "execution_count": null,
   "metadata": {},
   "outputs": [],
   "source": []
  },
  {
   "cell_type": "markdown",
   "metadata": {},
   "source": [
    "### `exec()` function\n",
    "\n",
    "```python\n",
    "somecode = 'print(\"Hello World!\")'\n",
    "exec(somecode)\n",
    "```\n"
   ]
  },
  {
   "cell_type": "code",
   "execution_count": 47,
   "metadata": {},
   "outputs": [
    {
     "name": "stdout",
     "output_type": "stream",
     "text": [
      "Hello World!\n",
      "Anotherline\n"
     ]
    }
   ],
   "source": [
    "somecode = 'print(\"Hello World!\");print(\"Anotherline\")'\n",
    "exec(somecode)"
   ]
  },
  {
   "cell_type": "code",
   "execution_count": 48,
   "metadata": {},
   "outputs": [
    {
     "name": "stdout",
     "output_type": "stream",
     "text": [
      "Python is fun\n",
      "Python is fun\n"
     ]
    }
   ],
   "source": [
    "# multiline code\n",
    "code_to_execute = '''\n",
    "for i in range(2):\n",
    "    print('Python is fun')\n",
    "                '''\n",
    "exec(code_to_execute)"
   ]
  },
  {
   "cell_type": "code",
   "execution_count": 50,
   "metadata": {},
   "outputs": [
    {
     "name": "stdout",
     "output_type": "stream",
     "text": [
      "[1, 5, 7, 8, 2]\n",
      "How is this possible?\n",
      "Master! What can I do for you?print(abs(-2))\n",
      "2\n"
     ]
    }
   ],
   "source": [
    "exec(\"list_str = [1,5,7,8,2]\")\n",
    "print(list_str)\n",
    "\n",
    "# example 2: defined a function inside the exec() function\n",
    "exec(\"def test(): print('How is this possible?')\")\n",
    "test()\n",
    "\n",
    "# example 3: ask user for some code to execute\n",
    "code = input('Master! What can I do for you?')\n",
    "# Enter the following code when prompter: [print(x**3) for x in range(6)]\n",
    "exec(code)"
   ]
  },
  {
   "cell_type": "code",
   "execution_count": null,
   "metadata": {},
   "outputs": [],
   "source": []
  },
  {
   "cell_type": "code",
   "execution_count": null,
   "metadata": {},
   "outputs": [],
   "source": []
  },
  {
   "cell_type": "code",
   "execution_count": null,
   "metadata": {},
   "outputs": [],
   "source": []
  },
  {
   "cell_type": "markdown",
   "metadata": {},
   "source": [
    "### Visualize the Execution with [Environment Diagram](http://pythontutor.com/visualize.html#code=from%20operator%20import%20add,%20mul%0Adef%20square%28x%29%3A%0A%20%20%20%20return%20mul%28x,%20x%29%0A%20%20%0Adef%20sum_squares%28x,%20y%29%3A%0A%20%20%20%20return%20add%28square%28x%29,%20square%28y%29%29%0A%20%0Aresult%20%3D%20sum_squares%285,%2012%29&cumulative=true&curInstr=5&heapPrimitives=nevernest&mode=display&origin=opt-frontend.js&py=3&rawInputLstJSON=%5B%5D&textReferences=false)\n",
    "\n",
    "```python\n",
    "1\tfrom operator import add, mul\n",
    "2\tdef square(x):\n",
    "3\t    return mul(x, x)\n",
    "4\t\n",
    "5\tdef sum_squares(x, y):\n",
    "6\t    return add(square(x), square(y))\n",
    "7\t\n",
    "8\tresult = sum_squares(5, 12)\n",
    "```"
   ]
  },
  {
   "cell_type": "code",
   "execution_count": 54,
   "metadata": {},
   "outputs": [
    {
     "name": "stdout",
     "output_type": "stream",
     "text": [
      "C:\\Users\\srika\\Desktop\\Python Training\\MyNewFolder\n",
      "C:\\Users\\srika\\Desktop\\Python Training\\MyNewFolder\\Test4\n"
     ]
    }
   ],
   "source": [
    "import os\n",
    "cwd = os.getcwd()\n",
    "print(cwd)\n",
    "\n",
    "# chdir ( )\n",
    "# mkdir()\n",
    "os.mkdir(\"Test4\")\n",
    "os.chdir(\"Test4\")\n",
    "print(os.getcwd())"
   ]
  },
  {
   "cell_type": "code",
   "execution_count": null,
   "metadata": {},
   "outputs": [],
   "source": []
  },
  {
   "cell_type": "code",
   "execution_count": null,
   "metadata": {},
   "outputs": [],
   "source": []
  },
  {
   "cell_type": "code",
   "execution_count": null,
   "metadata": {},
   "outputs": [],
   "source": []
  },
  {
   "cell_type": "code",
   "execution_count": null,
   "metadata": {},
   "outputs": [],
   "source": []
  },
  {
   "cell_type": "markdown",
   "metadata": {},
   "source": [
    "### Reading and Writing to text files in Python\n",
    "\n",
    "Python provides inbuilt functions for creating, writing and reading files. There are two types of files that can be handled in python, normal text files and binary files (written in binary language,0s and 1s).\n",
    "\n",
    "* **Text files:** In this type of file, Each line of text is terminated with a special character called EOL (End of Line), which is the new line character (‘\\n’) in python by default.\n",
    "\n",
    "* **Binary files:** In this type of file, there is no terminator for a line and the data is stored after converting it into machine understandable binary language.\n",
    "\n",
    "Let us focus on opening, closing, reading and writing data in a text file.\n",
    "\n",
    "##### File Access Modes\n",
    "\n",
    "   Access modes govern the type of operations possible in the opened file. It refers to how the file will be used once its opened. These modes also define the location of the File Handle in the file. File handle is like a cursor, which defines from where the data has to be read or written in the file. There are 6 access modes in python.\n",
    "\n",
    "* **Read Only (‘r’) :** Open text file for reading. The handle is positioned at the beginning of the file. If the file does not exists, raises I/O error. This is also the default mode in which file is opened.\n",
    "\n",
    "* **Read and Write (‘r+’) :** Open the file for reading and writing. The handle is positioned at the beginning of the file. Raises I/O error if the file does not exists.\n",
    "\n",
    "* **Write Only (‘w’) :** Open the file for writing. For existing file, the data is truncated and over-written. The handle is positioned at the beginning of the file. Creates the file if the file does not exists.\n",
    "* **Write and Read (‘w+’) :** Open the file for reading and writing. For existing file, data is truncated and over-written. The handle is positioned at the beginning of the file.\n",
    "\n",
    "* **Append Only (‘a’) :** Open the file for writing. The file is created if it does not exist. The handle is positioned at the end of the file. The data being written will be inserted at the end, after the existing data.\n",
    "\n",
    "* **Append and Read (‘a+’) :** Open the file for reading and writing. The file is created if it does not exist. The handle is positioned at the end of the file. The data being written will be inserted at the end, after the existing data.\n",
    "\n",
    "###### Opening a File\n",
    "\n",
    "It is done using the `open()` function. No module is required to be imported for this function.  \n",
    "\n",
    "`File_object = open(r\"File_Name\",\"Access_Mode\")`  \n",
    "\n",
    "The file should exist in the same directory as the python program file else, full address of the file should be written on place of filename.  \n",
    "\n",
    "**Note:** The r is placed before filename to prevent the characters in filename string to be treated as special character. For example, if there is \\temp in the file address, then \\t is treated as the tab character and error is raised of invalid address. The r makes the string raw, that is, it tells that the string is without any special characters. The r can be ignored if the file is in same directory and address is not being placed.  \n",
    "\n",
    "Here, file1 is created as object for MyFile1 and file2 as object for MyFile2  \n",
    "\n",
    "###### Closing a file\n",
    "\n",
    "`close()` function closes the file and frees the memory space acquired by that file. It is used at the time when the file is no longer needed or if it is to be opened in a different file mode.  \n",
    "\n",
    "`File_object.close()`\n",
    "\n",
    "###### Writing to a file\n",
    "\n",
    "There are two ways to write in a file.  \n",
    "\n",
    "`write()` : Inserts the string str1 in a single line in the text file.\n",
    "```File_object.write(str1)```\n",
    "\n",
    "`writelines() :` For a list of string elements, each string is inserted in the text file.Used to insert multiple strings at a single time.\n",
    "```File_object.writelines(L)```    for ```L = [str1, str2, str3]``` \n",
    "\n",
    "**Reading from a file**\n",
    "\n",
    "There are three ways to read data from a text file.\n",
    "\n",
    "`read()` : Returns the read bytes in form of a string. Reads n bytes, if no n specified, reads the entire file.\n",
    "\n",
    "`File_object.read([n])`\n",
    "\n",
    "`readline()` : Reads a line of the file and returns in form of a string.For specified n, reads at most n bytes. However, does not reads more than one line, even if n exceeds the length of the line.\n",
    "```File_object.readline([n])```   \n",
    "\n",
    "`readlines()` : Reads all the lines and return them as each line a string element in a list.\n",
    "  ```File_object.readlines()```\n",
    "Note: ‘\\n’ is treated as a special character of two bytes"
   ]
  },
  {
   "cell_type": "markdown",
   "metadata": {},
   "source": [
    "### Intro to Files\n",
    "**Read and Write actions on files**\n"
   ]
  },
  {
   "attachments": {
    "image.png": {
     "image/png": "[encoded data removed]"
    }
   },
   "cell_type": "markdown",
   "metadata": {},
   "source": [
    "![image.png](attachment:image.png)"
   ]
  },
  {
   "cell_type": "code",
   "execution_count": 55,
   "metadata": {},
   "outputs": [],
   "source": [
    "f = open('data8.txt', 'w') # Make a new file in output mode ('w' is write)\n",
    "f.write('Hello World\\n') # Write strings of characters to it\n",
    "f.write('Welcome Aboard\\n') # Return number of items written in Python 3.X\n",
    "f.close() # Close to flush output buffers to disk"
   ]
  },
  {
   "cell_type": "code",
   "execution_count": 56,
   "metadata": {},
   "outputs": [
    {
     "name": "stdout",
     "output_type": "stream",
     "text": [
      "Hello World\n",
      "Welcome Aboard\n",
      "\n",
      "['Hello', 'World', 'Welcome', 'Aboard']\n"
     ]
    }
   ],
   "source": [
    "f = open('data8.txt', 'r') # 'r' (read) is the default processing mode\n",
    "text = f.read() # Read entire file into a string\n",
    "print(text) # print interprets control characters\n",
    "textL= text.split() # File content is always a string\n",
    "print(textL)\n",
    "f.close()"
   ]
  },
  {
   "cell_type": "code",
   "execution_count": 59,
   "metadata": {},
   "outputs": [
    {
     "name": "stdout",
     "output_type": "stream",
     "text": [
      "Hello World\n",
      "\n",
      "Welcome Aboard\n",
      "\n",
      "<_io.TextIOWrapper name='data8.txt' mode='r' encoding='cp1252'>\n",
      "Hello World\n",
      "\n",
      "Welcome Aboard\n",
      "\n"
     ]
    }
   ],
   "source": [
    "for line in open('data8.txt', 'r'): \n",
    "    print(line)\n",
    "    \n",
    "print(open('data8.txt', 'r'))\n",
    "\n",
    "with open('data8.txt', 'r') as f:\n",
    "    for line in f:\n",
    "        print(line)\n"
   ]
  },
  {
   "cell_type": "code",
   "execution_count": null,
   "metadata": {},
   "outputs": [],
   "source": [
    "## Add the following lines into a file called example2.txt\n",
    "\"\"\"\n",
    "Hello.\n",
    "This is a text file.\n",
    "Bye!\n",
    "\"\"\""
   ]
  },
  {
   "cell_type": "code",
   "execution_count": 62,
   "metadata": {},
   "outputs": [
    {
     "data": {
      "text/plain": [
       "['Hello World', 'Welcome Aboard']"
      ]
     },
     "execution_count": 62,
     "metadata": {},
     "output_type": "execute_result"
    }
   ],
   "source": [
    "lines = [line.strip() for line in open('data8.txt')]\n",
    "lines"
   ]
  },
  {
   "cell_type": "code",
   "execution_count": null,
   "metadata": {},
   "outputs": [],
   "source": [
    "s = open('example2.txt').read()"
   ]
  },
  {
   "cell_type": "code",
   "execution_count": 10,
   "metadata": {},
   "outputs": [
    {
     "ename": "FileNotFoundError",
     "evalue": "[Errno 2] No such file or directory: 'c:/users/heinold/desktop/file.txt'",
     "output_type": "error",
     "traceback": [
      "\u001b[1;31m---------------------------------------------------------------------------\u001b[0m",
      "\u001b[1;31mFileNotFoundError\u001b[0m                         Traceback (most recent call last)",
      "\u001b[1;32m<ipython-input-10-ca19dfcdacf1>\u001b[0m in \u001b[0;36m<module>\u001b[1;34m\u001b[0m\n\u001b[1;32m----> 1\u001b[1;33m \u001b[0ms\u001b[0m \u001b[1;33m=\u001b[0m \u001b[0mopen\u001b[0m\u001b[1;33m(\u001b[0m\u001b[1;34m'c:/users/heinold/desktop/file.txt'\u001b[0m\u001b[1;33m)\u001b[0m\u001b[1;33m.\u001b[0m\u001b[0mread\u001b[0m\u001b[1;33m(\u001b[0m\u001b[1;33m)\u001b[0m\u001b[1;33m\u001b[0m\u001b[1;33m\u001b[0m\u001b[0m\n\u001b[0m",
      "\u001b[1;31mFileNotFoundError\u001b[0m: [Errno 2] No such file or directory: 'c:/users/heinold/desktop/file.txt'"
     ]
    }
   ],
   "source": [
    "s = open('c:/users/heinold/desktop/file.txt').read()"
   ]
  },
  {
   "cell_type": "code",
   "execution_count": null,
   "metadata": {},
   "outputs": [],
   "source": [
    "f = open('writefile.txt', 'w')\n",
    "print('This is line 1.', file=f)\n",
    "print('This is line 2.', file=f)\n",
    "f.close()"
   ]
  },
  {
   "cell_type": "code",
   "execution_count": null,
   "metadata": {},
   "outputs": [],
   "source": [
    "file1 = open('ftemps.txt', 'w')\n",
    "temperatures = [line.strip() for line in open('temps.txt')]\n",
    "for t in temperatures:\n",
    "    print(t*9/5+32, file=file1)\n",
    "file1.close()"
   ]
  },
  {
   "cell_type": "code",
   "execution_count": 65,
   "metadata": {},
   "outputs": [
    {
     "data": {
      "text/plain": [
       "'C:\\\\Users\\\\srika\\\\Desktop\\\\Python Training\\\\MyNewFolder'"
      ]
     },
     "execution_count": 65,
     "metadata": {},
     "output_type": "execute_result"
    }
   ],
   "source": [
    "os.chdir(r\"C:\\Users\\srika\\Desktop\\Python Training\\MyNewFolder\")\n",
    "os.getcwd()"
   ]
  },
  {
   "cell_type": "code",
   "execution_count": 66,
   "metadata": {},
   "outputs": [],
   "source": [
    "X, Y, Z = 43, 44, 45 # Native Python objects\n",
    "S = 'Spam' # Must be strings to store in file\n",
    "D = {'a': 1, 'b': 2}\n",
    "L = [1, 2, 3]\n",
    "F = open('datafile.txt', 'w') # Create output text file\n",
    "F.write(S + '\\n') # Terminate lines with \\n\n",
    "F.write('%s,%s,%s\\n' % (X, Y, Z)) # Convert numbers to strings\n",
    "F.write(str(L) + '$' + str(D) + '\\n') # Convert and separate with $\n",
    "F.close()"
   ]
  },
  {
   "cell_type": "code",
   "execution_count": 68,
   "metadata": {},
   "outputs": [
    {
     "name": "stdout",
     "output_type": "stream",
     "text": [
      "Spam\n",
      "43,44,45\n",
      "[1, 2, 3]${'a': 1, 'b': 2}\n",
      "\n"
     ]
    }
   ],
   "source": [
    "chars = open('datafile.txt').read() # Raw string display\n",
    "chars\n",
    "##\"Spam\\n43,44,45\\n[1, 2, 3]${'a': 1, 'b': 2}\\n\"\n",
    "print(chars) # User-friendly display"
   ]
  },
  {
   "cell_type": "code",
   "execution_count": null,
   "metadata": {},
   "outputs": [],
   "source": [
    ">>> F = open('datafile.txt') # Open again\n",
    ">>> line = F.readline() # Read one line\n",
    ">>> line\n",
    "'Spam\\n'\n",
    ">>> line.rstrip() # Remove end-of-line"
   ]
  },
  {
   "cell_type": "code",
   "execution_count": null,
   "metadata": {},
   "outputs": [],
   "source": [
    ">>> line = F.readline() # Next line from file\n",
    ">>> line # It's a string here\n",
    "'43,44,45\\n'\n",
    ">>> parts = line.split(',') # Split (parse) on commas\n",
    ">>> parts"
   ]
  },
  {
   "cell_type": "code",
   "execution_count": null,
   "metadata": {},
   "outputs": [],
   "source": [
    ">>> line = F.readline()\n",
    ">>> line\n",
    "\"[1, 2, 3]${'a': 1, 'b': 2}\\n\"\n",
    ">>> parts = line.split('$') # Split (parse) on $\n",
    ">>> parts\n",
    "['[1, 2, 3]', \"{'a': 1, 'b': 2}\\n\"]\n",
    ">>> eval(parts[0]) # Convert to any object type\n",
    "[1, 2, 3]\n",
    ">>> objects = [eval(P) for P in parts] # Do same for all in list"
   ]
  },
  {
   "cell_type": "code",
   "execution_count": null,
   "metadata": {},
   "outputs": [],
   "source": []
  },
  {
   "cell_type": "code",
   "execution_count": null,
   "metadata": {},
   "outputs": [],
   "source": []
  },
  {
   "cell_type": "code",
   "execution_count": null,
   "metadata": {},
   "outputs": [],
   "source": [
    ">>> D = {'a': 1, 'b': 2}\n",
    ">>> F = open('datafile.pkl', 'wb')\n",
    ">>> import pickle\n",
    ">>> pickle.dump(D, F) # Pickle any object to file\n",
    ">>> F.close()"
   ]
  },
  {
   "cell_type": "code",
   "execution_count": null,
   "metadata": {},
   "outputs": [],
   "source": [
    ">>> F = open('datafile.pkl', 'rb')\n",
    ">>> E = pickle.load(F) # Load any object from file\n",
    ">>> E\n",
    "{'a': 1, 'b': 2}"
   ]
  },
  {
   "cell_type": "code",
   "execution_count": null,
   "metadata": {},
   "outputs": [],
   "source": [
    "D = {'a': 1, 'b': 2}\n",
    "F = open('datafile.pkl', 'wb')\n",
    "import pickle\n",
    "pickle.dump(D, F) # Pickle any object to file\n",
    "F.close()"
   ]
  },
  {
   "cell_type": "code",
   "execution_count": null,
   "metadata": {},
   "outputs": [],
   "source": [
    "F = open('datafile.pkl', 'rb')\n",
    "E = pickle.load(F) # Load any object from file\n",
    "print(E)"
   ]
  }
 ],
 "metadata": {
  "kernelspec": {
   "display_name": "Python 3",
   "language": "python",
   "name": "python3"
  },
  "language_info": {
   "codemirror_mode": {
    "name": "ipython",
    "version": 3
   },
   "file_extension": ".py",
   "mimetype": "text/x-python",
   "name": "python",
   "nbconvert_exporter": "python",
   "pygments_lexer": "ipython3",
   "version": "3.8.5"
  }
 },
 "nbformat": 4,
 "nbformat_minor": 4
}
