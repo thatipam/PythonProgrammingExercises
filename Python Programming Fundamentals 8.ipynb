{
 "cells": [
  {
   "cell_type": "markdown",
   "metadata": {},
   "source": [
    "# <center> Session 10 Python Programming Fundamentals 8 </center>\n",
    "###  <center> Author, Mentor, Trainer:  Sudhindra Goutam Vedanthi </center>\n",
    "###  <center> C3 Mentroring </center>\n",
    "#### <center> This assignment is developed as part of \"Python Programming for Data science and Engineering\" Course</center>\n",
    "**<center> Class Notebook for 04/27/2021 <center>**"
   ]
  },
  {
   "cell_type": "markdown",
   "metadata": {},
   "source": [
    "#### Agenda: \n",
    "\n",
    "* Review of Functions, Higher Order Functions and Lambda Functions\n",
    "* Review of Files, `pickle` module\n",
    "* Object Oriented Programming with Python - Classes, and Objects\n",
    "* GUI Programming Basics\n",
    "* Turtle Graphics"
   ]
  },
  {
   "cell_type": "code",
   "execution_count": null,
   "metadata": {},
   "outputs": [],
   "source": []
  },
  {
   "cell_type": "code",
   "execution_count": null,
   "metadata": {},
   "outputs": [],
   "source": []
  },
  {
   "cell_type": "code",
   "execution_count": null,
   "metadata": {},
   "outputs": [],
   "source": []
  },
  {
   "cell_type": "code",
   "execution_count": null,
   "metadata": {},
   "outputs": [],
   "source": []
  },
  {
   "cell_type": "code",
   "execution_count": null,
   "metadata": {},
   "outputs": [],
   "source": []
  },
  {
   "cell_type": "code",
   "execution_count": null,
   "metadata": {},
   "outputs": [],
   "source": []
  },
  {
   "cell_type": "code",
   "execution_count": null,
   "metadata": {},
   "outputs": [],
   "source": [
    "import pickle\n"
   ]
  },
  {
   "cell_type": "code",
   "execution_count": 1,
   "metadata": {},
   "outputs": [
    {
     "name": "stdout",
     "output_type": "stream",
     "text": [
      "The original list : [[3, 7, 6], [1, 3, 5], [9, 3, 2]]\n",
      "The Summation of each index list is : [13, 13, 13]\n"
     ]
    }
   ],
   "source": [
    "# Python3 code to demonstrate\n",
    "# Summation of each column in Matrix\n",
    "# using sum() + list comprehension + zip()\n",
    "  \n",
    "# initializing list\n",
    "test_list = [[3, 7, 6], \n",
    "             [1, 3, 5], \n",
    "             [9, 3, 2]]\n",
    "  \n",
    "# printing original list\n",
    "print(\"The original list : \" + str(test_list))\n",
    "  \n",
    "# using sum() + list comprehension + zip()\n",
    "# Summation of each column in Matrix\n",
    "res = [sum(idx) for idx in zip(*test_list)]\n",
    "  \n",
    "# print result\n",
    "print(\"The Summation of each index list is : \" + str(res))"
   ]
  },
  {
   "cell_type": "code",
   "execution_count": 4,
   "metadata": {},
   "outputs": [
    {
     "name": "stdout",
     "output_type": "stream",
     "text": [
      "[3, 7, 6] [1, 3, 5] [9, 3, 2]\n",
      "[3, 7, 6] [1, 3, 5] [9, 3, 2]\n",
      "[3, 7, 6] [[1, 3, 5], [9, 3, 2]]\n",
      "[[3, 7, 6], [1, 3, 5]] [9, 3, 2]\n"
     ]
    }
   ],
   "source": [
    "print(*test_list)\n",
    "l1, l2, l3 = test_list\n",
    "print(l1, l2, l3)\n",
    "l4, *l5 = test_list\n",
    "*l6, l7 = test_list\n",
    "print(l4, l5)\n",
    "print(l6, l7)\n"
   ]
  },
  {
   "cell_type": "code",
   "execution_count": 5,
   "metadata": {},
   "outputs": [
    {
     "name": "stdout",
     "output_type": "stream",
     "text": [
      "6\n"
     ]
    }
   ],
   "source": [
    "def my_sum(a, b, c):\n",
    "    print(a + b + c)\n",
    "\n",
    "my_list = [1, 2, 3]\n",
    "my_sum(*my_list)"
   ]
  },
  {
   "cell_type": "code",
   "execution_count": null,
   "metadata": {},
   "outputs": [],
   "source": []
  },
  {
   "cell_type": "code",
   "execution_count": 6,
   "metadata": {},
   "outputs": [
    {
     "name": "stdout",
     "output_type": "stream",
     "text": [
      "(3, 1, 9)\n",
      "(7, 3, 3)\n",
      "(6, 5, 2)\n"
     ]
    }
   ],
   "source": [
    "for idx in zip(*test_list):\n",
    "    print(idx)"
   ]
  },
  {
   "cell_type": "code",
   "execution_count": 135,
   "metadata": {},
   "outputs": [
    {
     "name": "stdout",
     "output_type": "stream",
     "text": [
      "<zip object at 0x000002E93D4207C0>\n"
     ]
    }
   ],
   "source": [
    "list2 = zip(*test_list)\n",
    "print(list2)"
   ]
  },
  {
   "cell_type": "code",
   "execution_count": null,
   "metadata": {},
   "outputs": [],
   "source": [
    "print(*test_list)\n",
    "l1, l2, l3 = test_list\n",
    "l4, *l5 = test_list\n",
    "*l6, l7 = test_list"
   ]
  },
  {
   "cell_type": "code",
   "execution_count": 142,
   "metadata": {},
   "outputs": [
    {
     "name": "stdout",
     "output_type": "stream",
     "text": [
      "[13, 13, 13]\n"
     ]
    }
   ],
   "source": [
    "res = []\n",
    "for i in range(3):\n",
    "    sum = 0\n",
    "    for l in test_list:\n",
    "        sum = sum + l[i]\n",
    "    res.append(sum)\n",
    "print(res)\n",
    "        \n",
    "        "
   ]
  },
  {
   "cell_type": "code",
   "execution_count": null,
   "metadata": {},
   "outputs": [],
   "source": []
  },
  {
   "cell_type": "code",
   "execution_count": null,
   "metadata": {},
   "outputs": [],
   "source": []
  },
  {
   "cell_type": "code",
   "execution_count": 7,
   "metadata": {},
   "outputs": [],
   "source": [
    "T1 = ('d', 'a', 'c', 'b')"
   ]
  },
  {
   "cell_type": "code",
   "execution_count": 8,
   "metadata": {
    "collapsed": true
   },
   "outputs": [
    {
     "ename": "TypeError",
     "evalue": "'NoneType' object is not iterable",
     "output_type": "error",
     "traceback": [
      "\u001b[1;31m---------------------------------------------------------------------------\u001b[0m",
      "\u001b[1;31mTypeError\u001b[0m                                 Traceback (most recent call last)",
      "\u001b[1;32m<ipython-input-8-1d363231802f>\u001b[0m in \u001b[0;36m<module>\u001b[1;34m\u001b[0m\n\u001b[1;32m----> 1\u001b[1;33m \u001b[0mtuple\u001b[0m\u001b[1;33m(\u001b[0m\u001b[0mlist\u001b[0m\u001b[1;33m(\u001b[0m\u001b[0mT1\u001b[0m\u001b[1;33m)\u001b[0m\u001b[1;33m.\u001b[0m\u001b[0msort\u001b[0m\u001b[1;33m(\u001b[0m\u001b[1;33m)\u001b[0m\u001b[1;33m)\u001b[0m\u001b[1;33m\u001b[0m\u001b[1;33m\u001b[0m\u001b[0m\n\u001b[0m",
      "\u001b[1;31mTypeError\u001b[0m: 'NoneType' object is not iterable"
     ]
    }
   ],
   "source": [
    "tuple(list(T1).sort())"
   ]
  },
  {
   "cell_type": "code",
   "execution_count": 10,
   "metadata": {},
   "outputs": [
    {
     "name": "stdout",
     "output_type": "stream",
     "text": [
      "('s', 'u', 'p', 'e', 'r', 'c', 'a', 'l', 'i', 'f', 'r', 'a', 'g', 'i', 'l', 'i', 's', 't', 'i', 'c', 'e', 'x', 'p', 'i', 'a', 'l', 'i', 'd', 'o', 'c', 'i', 'o', 'u', 's')\n"
     ]
    }
   ],
   "source": [
    "T2 = tuple(\"supercalifragilisticexpialidocious\")\n",
    "print(T2)"
   ]
  },
  {
   "cell_type": "code",
   "execution_count": null,
   "metadata": {},
   "outputs": [],
   "source": [
    "T = (1, 2, 3, 4, 5)\n",
    "L = [x + 20 for x in T]"
   ]
  },
  {
   "cell_type": "code",
   "execution_count": null,
   "metadata": {},
   "outputs": [],
   "source": [
    "T = (1, 2, 3, 2, 4, 2) # Tuple methods in 2.6, 3.0, and later\n",
    "T.index(2) # Offset of first appearance of 2\n",
    "\n",
    "T.index(2, 2) # Offset of appearance after offset 2\n",
    "\n",
    "T.count(2) # How many 2s are there?"
   ]
  },
  {
   "cell_type": "code",
   "execution_count": null,
   "metadata": {},
   "outputs": [],
   "source": [
    "T = (1, [2, 3], 4)\n",
    "T[1] = 'spam'            # This fails: can't change tuple itself\n",
    "\n",
    "T[1][0] = 'spam'          # This works: can change mutables inside\n"
   ]
  },
  {
   "cell_type": "code",
   "execution_count": 83,
   "metadata": {},
   "outputs": [],
   "source": [
    "def multiple_print(string, n, bad_words):\n",
    "    if string in bad_words:\n",
    "        return\n",
    "    print(string * n)\n",
    "    print()\n",
    "    \n",
    "bad_words = ['bad', 'ugly']\n",
    "string = \"bad\"\n",
    "multiple_print(string, 2, bad_words)\n"
   ]
  },
  {
   "cell_type": "code",
   "execution_count": 2,
   "metadata": {},
   "outputs": [
    {
     "data": {
      "text/plain": [
       "[1, 2]"
      ]
     },
     "execution_count": 2,
     "metadata": {},
     "output_type": "execute_result"
    }
   ],
   "source": [
    "list = [1, 2]\n",
    "list"
   ]
  },
  {
   "cell_type": "code",
   "execution_count": 8,
   "metadata": {},
   "outputs": [
    {
     "data": {
      "text/plain": [
       "[1, 2, 3]"
      ]
     },
     "execution_count": 8,
     "metadata": {},
     "output_type": "execute_result"
    }
   ],
   "source": [
    "t = (1,2, 3)\n",
    "l = list(t)\n",
    "l"
   ]
  },
  {
   "cell_type": "code",
   "execution_count": 5,
   "metadata": {},
   "outputs": [
    {
     "data": {
      "text/plain": [
       "[1, 2]"
      ]
     },
     "execution_count": 5,
     "metadata": {},
     "output_type": "execute_result"
    }
   ],
   "source": [
    "list"
   ]
  },
  {
   "cell_type": "code",
   "execution_count": 6,
   "metadata": {},
   "outputs": [],
   "source": [
    "del list"
   ]
  },
  {
   "cell_type": "code",
   "execution_count": null,
   "metadata": {},
   "outputs": [],
   "source": []
  },
  {
   "cell_type": "code",
   "execution_count": 146,
   "metadata": {},
   "outputs": [
    {
     "name": "stdout",
     "output_type": "stream",
     "text": [
      "['David Beazley', 'Brian Jones', 'Raymond Hettinger', 'Ned Batchelder']\n"
     ]
    }
   ],
   "source": [
    "names = ['David Beazley', 'Brian Jones', \n",
    "         'Raymond Hettinger', 'Ned Batchelder']\n",
    "\n",
    "sorted(names, key=lambda name: name.split()[-1].lower())\n",
    "sorted(names, key=lambda name: name.split()[-1].lower(), reverse = True)\n",
    "print(names)\n",
    "##['Ned Batchelder', 'David Beazley', 'Raymond Hettinger', 'Brian Jones']"
   ]
  },
  {
   "cell_type": "code",
   "execution_count": 143,
   "metadata": {},
   "outputs": [
    {
     "name": "stdout",
     "output_type": "stream",
     "text": [
      "Help on built-in function sorted in module builtins:\n",
      "\n",
      "sorted(iterable, /, *, key=None, reverse=False)\n",
      "    Return a new list containing all items from the iterable in ascending order.\n",
      "    \n",
      "    A custom key function can be supplied to customize the sort order, and the\n",
      "    reverse flag can be set to request the result in descending order.\n",
      "\n"
     ]
    }
   ],
   "source": [
    "help(sorted)"
   ]
  },
  {
   "cell_type": "markdown",
   "metadata": {},
   "source": [
    "```\n",
    "Function-related statements and expressions\n",
    "Statement or expression                         Examples   \n",
    "Call expressions                     myfunc('spam', 'eggs', meat=ham, *rest)   \n",
    "def                                  def printer(messge):   \n",
    "                                         print('Hello ' + message)   \n",
    "return                               def adder(a, b=1, *c):   \n",
    "                                          return a + b + c[0]   \n",
    "\n",
    "global                               x = 'old'   \n",
    "                                     def changer():   \n",
    "                                           global x; x = 'new'   \n",
    "nonlocal (3.X)                       def outer():  \n",
    "                                           x = 'old'   \n",
    "                                           def changer():  \n",
    "                                                nonlocal x; x = 'new'   \n",
    "yield                                def squares(x):   \n",
    "                                           for i in range(x): yield i ** 2   \n",
    "lambda                               funcs = [lambda x: x**2, lambda x: x**3]   \n",
    "\n",
    "```"
   ]
  },
  {
   "cell_type": "code",
   "execution_count": 21,
   "metadata": {},
   "outputs": [
    {
     "data": {
      "text/plain": [
       "0"
      ]
     },
     "execution_count": 21,
     "metadata": {},
     "output_type": "execute_result"
    }
   ],
   "source": [
    "def squares(x):   \n",
    "    for i in range(x): \n",
    "        yield i ** 2\n",
    "\n",
    "    \n",
    "s = squares(10)\n",
    "#a = s(10)\n",
    "next(s)"
   ]
  },
  {
   "cell_type": "code",
   "execution_count": 27,
   "metadata": {},
   "outputs": [
    {
     "data": {
      "text/plain": [
       "36"
      ]
     },
     "execution_count": 27,
     "metadata": {},
     "output_type": "execute_result"
    }
   ],
   "source": [
    "next(s)"
   ]
  },
  {
   "cell_type": "code",
   "execution_count": 28,
   "metadata": {},
   "outputs": [],
   "source": [
    "funcs = [lambda x: x**2, lambda x: x**3]"
   ]
  },
  {
   "cell_type": "code",
   "execution_count": 29,
   "metadata": {},
   "outputs": [
    {
     "ename": "TypeError",
     "evalue": "'list' object is not callable",
     "output_type": "error",
     "traceback": [
      "\u001b[1;31m---------------------------------------------------------------------------\u001b[0m",
      "\u001b[1;31mTypeError\u001b[0m                                 Traceback (most recent call last)",
      "\u001b[1;32m<ipython-input-29-12fd3e040b5b>\u001b[0m in \u001b[0;36m<module>\u001b[1;34m\u001b[0m\n\u001b[1;32m----> 1\u001b[1;33m \u001b[0mfuncs\u001b[0m\u001b[1;33m(\u001b[0m\u001b[1;36m3\u001b[0m\u001b[1;33m)\u001b[0m\u001b[1;33m\u001b[0m\u001b[1;33m\u001b[0m\u001b[0m\n\u001b[0m",
      "\u001b[1;31mTypeError\u001b[0m: 'list' object is not callable"
     ]
    }
   ],
   "source": [
    "funcs(3)"
   ]
  },
  {
   "cell_type": "code",
   "execution_count": 30,
   "metadata": {},
   "outputs": [
    {
     "data": {
      "text/plain": [
       "16"
      ]
     },
     "execution_count": 30,
     "metadata": {},
     "output_type": "execute_result"
    }
   ],
   "source": [
    "funcs[0](4)"
   ]
  },
  {
   "cell_type": "code",
   "execution_count": null,
   "metadata": {},
   "outputs": [],
   "source": []
  },
  {
   "attachments": {
    "image.png": {
     "image/png": "[encoded data removed]"
    }
   },
   "cell_type": "markdown",
   "metadata": {},
   "source": [
    "![image.png](attachment:image.png)\n",
    "\n"
   ]
  },
  {
   "cell_type": "markdown",
   "metadata": {},
   "source": [
    "#### Higher Order Functions\n",
    "\n",
    "A function is called Higher Order Function if it contains other functions as a parameter or returns a function as an output.\n",
    "\n",
    "##### Properties of higher-order functions:\n",
    "\n",
    "* A function is an instance of the Object type.\n",
    "* You can store the function in a variable.\n",
    "* You can pass the function as a parameter to another function.\n",
    "* You can return the function from a function.\n",
    "* You can store them in data structures such as hash tables, lists, …\n",
    "\n",
    "\n",
    "\n",
    "```python\n",
    "def curried_pow(x):\n",
    "    def h(y):\n",
    "        return pow(x, y)\n",
    "    return h\n",
    "```"
   ]
  },
  {
   "cell_type": "code",
   "execution_count": null,
   "metadata": {},
   "outputs": [],
   "source": [
    "def maker(n):\n",
    "    def action(m):\n",
    "        return m**n\n",
    "    return action\n",
    "\n",
    "f = maker(4)\n",
    "g = maker(3)\n",
    "\n",
    "f(2)\n",
    "f(4)\n",
    "g(3)"
   ]
  },
  {
   "cell_type": "code",
   "execution_count": 22,
   "metadata": {},
   "outputs": [
    {
     "data": {
      "text/plain": [
       "729"
      ]
     },
     "execution_count": 22,
     "metadata": {},
     "output_type": "execute_result"
    }
   ],
   "source": [
    "def curried_pow(x):\n",
    "    def h(y):\n",
    "        return pow(x, y)\n",
    "    return h\n",
    "\n",
    "fn = curried_pow(5)\n",
    "gn = curried_pow(9)\n",
    "print(fn(2))\n",
    "print(gn(3))"
   ]
  },
  {
   "cell_type": "code",
   "execution_count": null,
   "metadata": {},
   "outputs": [],
   "source": []
  },
  {
   "cell_type": "markdown",
   "metadata": {},
   "source": [
    "##### Functions as objects  \n",
    "* In Python, a function can be assigned to a variable. This assignment does not call the function, instead a reference to that function is created. Consider the below example, for better understanding."
   ]
  },
  {
   "cell_type": "code",
   "execution_count": 1,
   "metadata": {},
   "outputs": [
    {
     "name": "stdout",
     "output_type": "stream",
     "text": [
      "HELLO\n",
      "HELLO\n"
     ]
    }
   ],
   "source": [
    "# Python program to illustrate functions \n",
    "# can be treated as objects \n",
    "def shout(text): \n",
    "    return text.upper() \n",
    "    \n",
    "print(shout('Hello')) \n",
    "    \n",
    "# Assigning function to a variable\n",
    "yell = shout \n",
    "    \n",
    "print(yell('Hello'))"
   ]
  },
  {
   "cell_type": "markdown",
   "metadata": {},
   "source": [
    "##### Passing Function as an argument to other function\n",
    "* Functions are like objects in Python, therefore, they can be passed as argument to other functions. Consider the below example, where we have created a function greet which takes a function as an argument."
   ]
  },
  {
   "cell_type": "code",
   "execution_count": 2,
   "metadata": {},
   "outputs": [
    {
     "name": "stdout",
     "output_type": "stream",
     "text": [
      "HI, I AM CREATED BY A FUNCTION     PASSED AS AN ARGUMENT.\n",
      "hi, i am created by a function     passed as an argument.\n"
     ]
    }
   ],
   "source": [
    "# Python program to illustrate functions \n",
    "# can be passed as arguments to other functions \n",
    "def shout(text): \n",
    "    return text.upper() \n",
    "    \n",
    "def whisper(text): \n",
    "    return text.lower() \n",
    "    \n",
    "def greet(func): \n",
    "    # storing the function in a variable \n",
    "    greeting = func(\"Hi, I am created by a function \\\n",
    "    passed as an argument.\") \n",
    "    print(greeting)  \n",
    "    \n",
    "greet(shout) \n",
    "greet(whisper)"
   ]
  },
  {
   "cell_type": "markdown",
   "metadata": {},
   "source": [
    "##### Returning function\n",
    "* As functions are objects, we can also return a function from another function. In the below example, the create_adder function returns adder function."
   ]
  },
  {
   "cell_type": "code",
   "execution_count": 3,
   "metadata": {},
   "outputs": [
    {
     "name": "stdout",
     "output_type": "stream",
     "text": [
      "25\n"
     ]
    }
   ],
   "source": [
    "# Python program to illustrate functions \n",
    "# Functions can return another function \n",
    "    \n",
    "def create_adder(x): \n",
    "    def adder(y): \n",
    "        return x + y \n",
    "    \n",
    "    return adder \n",
    "    \n",
    "add_15 = create_adder(15) \n",
    "    \n",
    "print(add_15(10))"
   ]
  },
  {
   "cell_type": "markdown",
   "metadata": {},
   "source": [
    "##### Decorators\n",
    "* Decorators are the most common use of higher-order functions in Python. It allows programmers to modify the behavior of function or class. Decorators allow us to wrap another function in order to extend the behavior of wrapped function, without permanently modifying it. In Decorators, functions are taken as the argument into another function and then called inside the wrapper function.  \n",
    "\n",
    "Syntax:\n",
    "```\n",
    "@sgv_decorator\n",
    "def hello_decorator(): \n",
    "    .\n",
    "    .\n",
    "    .\n",
    "    \n",
    "```\n",
    "\n",
    "The above code is equivalent to –\n",
    "\n",
    "```\n",
    "def hello_decorator(): \n",
    "    .\n",
    "    .\n",
    "    .\n",
    "      \n",
    "hello_decorator = sgv_decorator(hello_decorator)\n",
    "```\n",
    "In the above code, sgv_decorator is a callable function, will add some code on the top of some another callable function, hello_decorator function and return the wrapper function."
   ]
  },
  {
   "cell_type": "code",
   "execution_count": 6,
   "metadata": {},
   "outputs": [
    {
     "name": "stdout",
     "output_type": "stream",
     "text": [
      "This is inside the function !!\n",
      "Hello, this is before function execution\n",
      "This is inside the function !!\n",
      "This is after function execution\n"
     ]
    }
   ],
   "source": [
    "# defining a decorator \n",
    "def hello_decorator(func): \n",
    "    \n",
    "    # inner1 is a Wrapper function in  \n",
    "    # which the argument is called \n",
    "        \n",
    "    # inner function can access the outer local \n",
    "    # functions like in this case \"func\" \n",
    "    def inner1(): \n",
    "        print(\"Hello, this is before function execution\") \n",
    "    \n",
    "        # calling the actual function now \n",
    "        # inside the wrapper function. \n",
    "        func() \n",
    "    \n",
    "        print(\"This is after function execution\") \n",
    "            \n",
    "    return inner1 \n",
    "    \n",
    "    \n",
    "# defining a function, to be called inside wrapper \n",
    "\n",
    "def function_to_be_used(): \n",
    "    print(\"This is inside the function !!\") \n",
    "    \n",
    "    \n",
    "# passing 'function_to_be_used' inside the \n",
    "# decorator to control its behavior\n",
    "function_to_be_used()\n",
    "\n",
    "new_handler = hello_decorator(function_to_be_used)\n",
    "new_handler()\n",
    "\n",
    "# function_to_be_used = hello_decorator(function_to_be_used) \n",
    "# new_handler = hello_decorator(function_to_be_used)\n",
    "    \n",
    "    \n",
    "# calling the function \n",
    "# function_to_be_used() \n"
   ]
  },
  {
   "cell_type": "code",
   "execution_count": null,
   "metadata": {},
   "outputs": [],
   "source": []
  },
  {
   "cell_type": "markdown",
   "metadata": {},
   "source": [
    "## `lambda` functions\n",
    "\n",
    "**Lambda Calculus**\n",
    "Lambda expressions in Python and other programming languages have their roots in lambda calculus, a model of computation invented by Alonzo Church. You’ll uncover when lambda calculus was introduced and why it’s a fundamental concept that ended up in the Python ecosystem.\n",
    "\n",
    "**History**\n",
    "Alonzo Church formalized lambda calculus, a language based on pure abstraction, in the 1930s. Lambda functions are also referred to as lambda abstractions, a direct reference to the abstraction model of Alonzo Church’s original creation.\n",
    "\n",
    "Lambda calculus can encode any computation. It is Turing complete, but contrary to the concept of a Turing machine, it is pure and does not keep any state.\n",
    "\n",
    "Functional languages get their origin in mathematical logic and lambda calculus, while imperative programming languages embrace the state-based model of computation invented by Alan Turing. The two models of computation, lambda calculus and Turing machines, can be translated into each another. This equivalence is known as the Church-Turing hypothesis.\n",
    "\n",
    "Functional languages directly inherit the lambda calculus philosophy, adopting a declarative approach of programming that emphasizes abstraction, data transformation, composition, and purity (no state and no side effects). Examples of functional languages include Haskell, Lisp, or Erlang.\n",
    "\n",
    "By contrast, the Turing Machine led to imperative programming found in languages like Fortran, C, or Python.\n",
    "\n",
    "The imperative style consists of programming with statements, driving the flow of the program step by step with detailed instructions. This approach promotes mutation and requires managing state.\n",
    "\n",
    "The separation in both families presents some nuances, as some functional languages incorporate imperative features, like OCaml, while functional features have been permeating the imperative family of languages in particular with the introduction of lambda functions in Java, or Python.\n",
    "\n",
    "Python is not inherently a functional language, but it adopted some functional concepts early on. In January 1994, map(), filter(), reduce(), and the lambda operator were added to the language.\n"
   ]
  },
  {
   "cell_type": "code",
   "execution_count": 23,
   "metadata": {},
   "outputs": [
    {
     "data": {
      "text/plain": [
       "<function __main__.<lambda>(x)>"
      ]
     },
     "execution_count": 23,
     "metadata": {},
     "output_type": "execute_result"
    }
   ],
   "source": [
    "lambda x: x + 2"
   ]
  },
  {
   "cell_type": "code",
   "execution_count": 24,
   "metadata": {},
   "outputs": [
    {
     "data": {
      "text/plain": [
       "<function __main__.<lambda>(x)>"
      ]
     },
     "execution_count": 24,
     "metadata": {},
     "output_type": "execute_result"
    }
   ],
   "source": [
    "_"
   ]
  },
  {
   "cell_type": "code",
   "execution_count": 25,
   "metadata": {},
   "outputs": [
    {
     "data": {
      "text/plain": [
       "7"
      ]
     },
     "execution_count": 25,
     "metadata": {},
     "output_type": "execute_result"
    }
   ],
   "source": [
    "_(5)"
   ]
  },
  {
   "cell_type": "code",
   "execution_count": 26,
   "metadata": {},
   "outputs": [],
   "source": [
    "incr_by_two = lambda x: x+2"
   ]
  },
  {
   "cell_type": "code",
   "execution_count": 27,
   "metadata": {},
   "outputs": [
    {
     "data": {
      "text/plain": [
       "<function __main__.<lambda>(x)>"
      ]
     },
     "execution_count": 27,
     "metadata": {},
     "output_type": "execute_result"
    }
   ],
   "source": [
    "incr_by_two"
   ]
  },
  {
   "cell_type": "code",
   "execution_count": 28,
   "metadata": {},
   "outputs": [
    {
     "data": {
      "text/plain": [
       "458"
      ]
     },
     "execution_count": 28,
     "metadata": {},
     "output_type": "execute_result"
    }
   ],
   "source": [
    "incr_by_two(456)"
   ]
  },
  {
   "cell_type": "code",
   "execution_count": 29,
   "metadata": {},
   "outputs": [
    {
     "name": "stdout",
     "output_type": "stream",
     "text": [
      "169\n"
     ]
    }
   ],
   "source": [
    "def square(x):\n",
    "    return x * x\n",
    "\n",
    "def successor(x):\n",
    "    return x + 1\n",
    "\n",
    "def composite(f, g):\n",
    "    def h(x):\n",
    "        return f(g(x))\n",
    "    return h\n",
    "\n",
    "def compose1(f, g):\n",
    "    return lambda x: f(g(x))\n",
    "\n",
    "square_successor = composite(square, successor)\n",
    "result = square_successor(12)\n",
    "print(result)"
   ]
  },
  {
   "cell_type": "code",
   "execution_count": null,
   "metadata": {},
   "outputs": [],
   "source": [
    "def compose1(f, g):\n",
    "    return lambda x: f(g(x))\n",
    "\n",
    "f = compose1(lambda x: x * x,\n",
    "             lambda y: y + 1)\n",
    "result = f(12)\n",
    "print(result)"
   ]
  },
  {
   "cell_type": "code",
   "execution_count": null,
   "metadata": {},
   "outputs": [],
   "source": [
    "#initial list\n",
    "l = [1,2,3,4,5,6,7,8]\n",
    " \n",
    "#print the initial list\n",
    "print(\"The initial list is: \")\n",
    "print(l)\n",
    " \n",
    "#choose n\n",
    "n = int(input('Enter the value of n: '))\n",
    " \n",
    "#increment all the values of the list by using map with help of lambda\n",
    "l = [i+n for i in range(7)]\n",
    "\n",
    "print(l)\n",
    "l = list(map(lambda x: x+n, l))\n",
    " \n",
    "#print the changed list\n",
    "print(\"The changed list is: \")\n",
    "print(l)"
   ]
  },
  {
   "cell_type": "code",
   "execution_count": 31,
   "metadata": {},
   "outputs": [
    {
     "ename": "SyntaxError",
     "evalue": "invalid syntax (<ipython-input-31-2c84155a04e6>, line 2)",
     "output_type": "error",
     "traceback": [
      "\u001b[1;36m  File \u001b[1;32m\"<ipython-input-31-2c84155a04e6>\"\u001b[1;36m, line \u001b[1;32m2\u001b[0m\n\u001b[1;33m    T2 = (y, y+10 for y in T)\u001b[0m\n\u001b[1;37m                  ^\u001b[0m\n\u001b[1;31mSyntaxError\u001b[0m\u001b[1;31m:\u001b[0m invalid syntax\n"
     ]
    }
   ],
   "source": [
    "T = (1, 2, 3, 4)\n",
    "T2 = (y, y+10 for y in T)\n",
    "T2"
   ]
  },
  {
   "cell_type": "code",
   "execution_count": 35,
   "metadata": {},
   "outputs": [
    {
     "data": {
      "text/plain": [
       "[(1, 11), (2, 12), (3, 13), (4, 14)]"
      ]
     },
     "execution_count": 35,
     "metadata": {},
     "output_type": "execute_result"
    }
   ],
   "source": [
    "T = (1, 2, 3, 4)\n",
    "T2 = ((y, y+10) for y in T)\n",
    "T2\n",
    "T3 = (next(T2))\n",
    "T3\n",
    "T4 = [T2]\n",
    "T4\n",
    "T5 = [(y, y+10) for y in T]\n",
    "T5"
   ]
  },
  {
   "cell_type": "code",
   "execution_count": null,
   "metadata": {},
   "outputs": [],
   "source": []
  },
  {
   "cell_type": "markdown",
   "metadata": {},
   "source": [
    "### `exec()` function\n",
    "\n",
    "```python\n",
    "somecode = 'print(\"Hello World!\")'\n",
    "exec(somecode)\n",
    "```\n"
   ]
  },
  {
   "cell_type": "code",
   "execution_count": 72,
   "metadata": {},
   "outputs": [
    {
     "name": "stdout",
     "output_type": "stream",
     "text": [
      "Hello World!\n"
     ]
    }
   ],
   "source": [
    "somecode = 'print(\"Hello World!\")'\n",
    "exec(somecode)"
   ]
  },
  {
   "cell_type": "code",
   "execution_count": null,
   "metadata": {},
   "outputs": [],
   "source": [
    "# multiline code\n",
    "code_to_execute = '''\n",
    "for i in range(2):\n",
    "    print('Python is fun')\n",
    "                '''\n",
    "exec(code_to_execute)"
   ]
  },
  {
   "cell_type": "code",
   "execution_count": null,
   "metadata": {},
   "outputs": [],
   "source": [
    "exec(\"list_str = [1,5,7,8,2]\")\n",
    "print(list_str)\n",
    "\n",
    "# example 2: defined a function inside the exec() function\n",
    "exec(\"def test(): print('How is this possible?')\")\n",
    "test()\n",
    "\n",
    "# example 3: ask user for some code to execute\n",
    "code = input('Master! What can I do for you?')\n",
    "# Enter the following code when prompter: [print(x**3) for x in range(6)]\n",
    "exec(code)"
   ]
  },
  {
   "cell_type": "code",
   "execution_count": null,
   "metadata": {},
   "outputs": [],
   "source": []
  },
  {
   "cell_type": "code",
   "execution_count": null,
   "metadata": {},
   "outputs": [],
   "source": []
  },
  {
   "cell_type": "code",
   "execution_count": null,
   "metadata": {},
   "outputs": [],
   "source": []
  },
  {
   "cell_type": "markdown",
   "metadata": {},
   "source": [
    "### Visualize the Execution with [Environment Diagram](http://pythontutor.com/visualize.html#code=from%20operator%20import%20add,%20mul%0Adef%20square%28x%29%3A%0A%20%20%20%20return%20mul%28x,%20x%29%0A%20%20%0Adef%20sum_squares%28x,%20y%29%3A%0A%20%20%20%20return%20add%28square%28x%29,%20square%28y%29%29%0A%20%0Aresult%20%3D%20sum_squares%285,%2012%29&cumulative=true&curInstr=5&heapPrimitives=nevernest&mode=display&origin=opt-frontend.js&py=3&rawInputLstJSON=%5B%5D&textReferences=false)\n",
    "\n",
    "```python\n",
    "1\tfrom operator import add, mul\n",
    "2\tdef square(x):\n",
    "3\t    return mul(x, x)\n",
    "4\t\n",
    "5\tdef sum_squares(x, y):\n",
    "6\t    return add(square(x), square(y))\n",
    "7\t\n",
    "8\tresult = sum_squares(5, 12)\n",
    "```"
   ]
  },
  {
   "cell_type": "code",
   "execution_count": null,
   "metadata": {},
   "outputs": [],
   "source": []
  },
  {
   "cell_type": "code",
   "execution_count": null,
   "metadata": {},
   "outputs": [],
   "source": []
  },
  {
   "cell_type": "markdown",
   "metadata": {},
   "source": [
    "### Intro to Files\n",
    "**Read and Write actions on files**\n"
   ]
  },
  {
   "attachments": {
    "image.png": {
     "image/png": "[encoded data removed]"
    }
   },
   "cell_type": "markdown",
   "metadata": {},
   "source": [
    "![image.png](attachment:image.png)"
   ]
  },
  {
   "cell_type": "code",
   "execution_count": 7,
   "metadata": {},
   "outputs": [],
   "source": [
    "f = open('data1.txt', 'w') # Make a new file in output mode ('w' is write)\n",
    "f.write('Hello\\n') # Write strings of characters to it\n",
    "f.write('world\\n') # Return number of items written in Python 3.X\n",
    "f.close() # Close to flush output buffers to disk"
   ]
  },
  {
   "cell_type": "code",
   "execution_count": 8,
   "metadata": {},
   "outputs": [
    {
     "name": "stdout",
     "output_type": "stream",
     "text": [
      "Hello\n",
      "world\n",
      "\n",
      "['Hello', 'world']\n"
     ]
    }
   ],
   "source": [
    "f = open('data1.txt') # 'r' (read) is the default processing mode\n",
    "text = f.read() # Read entire file into a string\n",
    "print(text) # print interprets control characters\n",
    "textL= text.split() # File content is always a string\n",
    "print(textL)"
   ]
  },
  {
   "cell_type": "code",
   "execution_count": 9,
   "metadata": {},
   "outputs": [
    {
     "name": "stdout",
     "output_type": "stream",
     "text": [
      "Hello\n",
      "\n",
      "world\n",
      "\n"
     ]
    }
   ],
   "source": [
    "for line in open('data1.txt'): \n",
    "    print(line)"
   ]
  },
  {
   "cell_type": "code",
   "execution_count": null,
   "metadata": {},
   "outputs": [],
   "source": [
    "## Add the following lines into a file called example2.txt\n",
    "\"\"\"\n",
    "Hello.\n",
    "This is a text file.\n",
    "Bye!\n",
    "\"\"\""
   ]
  },
  {
   "cell_type": "code",
   "execution_count": null,
   "metadata": {},
   "outputs": [],
   "source": [
    "lines = [line.strip() for line in open('example2.txt')]"
   ]
  },
  {
   "cell_type": "code",
   "execution_count": null,
   "metadata": {},
   "outputs": [],
   "source": [
    "s = open('example2.txt').read()"
   ]
  },
  {
   "cell_type": "code",
   "execution_count": 10,
   "metadata": {},
   "outputs": [
    {
     "ename": "FileNotFoundError",
     "evalue": "[Errno 2] No such file or directory: 'c:/users/heinold/desktop/file.txt'",
     "output_type": "error",
     "traceback": [
      "\u001b[1;31m---------------------------------------------------------------------------\u001b[0m",
      "\u001b[1;31mFileNotFoundError\u001b[0m                         Traceback (most recent call last)",
      "\u001b[1;32m<ipython-input-10-ca19dfcdacf1>\u001b[0m in \u001b[0;36m<module>\u001b[1;34m\u001b[0m\n\u001b[1;32m----> 1\u001b[1;33m \u001b[0ms\u001b[0m \u001b[1;33m=\u001b[0m \u001b[0mopen\u001b[0m\u001b[1;33m(\u001b[0m\u001b[1;34m'c:/users/heinold/desktop/file.txt'\u001b[0m\u001b[1;33m)\u001b[0m\u001b[1;33m.\u001b[0m\u001b[0mread\u001b[0m\u001b[1;33m(\u001b[0m\u001b[1;33m)\u001b[0m\u001b[1;33m\u001b[0m\u001b[1;33m\u001b[0m\u001b[0m\n\u001b[0m",
      "\u001b[1;31mFileNotFoundError\u001b[0m: [Errno 2] No such file or directory: 'c:/users/heinold/desktop/file.txt'"
     ]
    }
   ],
   "source": [
    "s = open('c:/users/heinold/desktop/file.txt').read()"
   ]
  },
  {
   "cell_type": "code",
   "execution_count": null,
   "metadata": {},
   "outputs": [],
   "source": [
    "f = open('writefile.txt', 'w')\n",
    "print('This is line 1.', file=f)\n",
    "print('This is line 2.', file=f)\n",
    "f.close()"
   ]
  },
  {
   "cell_type": "code",
   "execution_count": null,
   "metadata": {},
   "outputs": [],
   "source": [
    "file1 = open('ftemps.txt', 'w')\n",
    "temperatures = [line.strip() for line in open('temps.txt')]\n",
    "for t in temperatures:\n",
    "    print(t*9/5+32, file=file1)\n",
    "file1.close()"
   ]
  },
  {
   "cell_type": "code",
   "execution_count": null,
   "metadata": {},
   "outputs": [],
   "source": []
  },
  {
   "cell_type": "code",
   "execution_count": 37,
   "metadata": {},
   "outputs": [],
   "source": [
    "X, Y, Z = 43, 44, 45 # Native Python objects\n",
    "S = 'Spam' # Must be strings to store in file\n",
    "D = {'a': 1, 'b': 2}\n",
    "L = [1, 2, 3]\n",
    "F = open('datafile3.txt', 'w') # Create output text file\n",
    "F.write(S + '\\n') # Terminate lines with \\n\n",
    "F.write('%s,%s,%s\\n' % (X, Y, Z)) # Convert numbers to strings\n",
    "F.write(str(L) + '$' + str(D) + '\\n') # Convert and separate with $\n",
    "F.close()"
   ]
  },
  {
   "cell_type": "code",
   "execution_count": 45,
   "metadata": {},
   "outputs": [
    {
     "name": "stdout",
     "output_type": "stream",
     "text": [
      "Spam\n",
      "43,44,45\n",
      "[1, 2, 3]${'a': 1, 'b': 2}\n",
      "\n"
     ]
    }
   ],
   "source": [
    "chars = open('datafile3.txt').read() # Raw string display\n",
    "chars\n",
    "#\"Spam\\n43,44,45\\n[1, 2, 3]${'a': 1, 'b': 2}\\n\"\n",
    "print(chars) # User-friendly display"
   ]
  },
  {
   "cell_type": "code",
   "execution_count": 46,
   "metadata": {},
   "outputs": [
    {
     "name": "stdout",
     "output_type": "stream",
     "text": [
      "Spam\n",
      "\n"
     ]
    }
   ],
   "source": [
    "F = open('datafile3.txt') # Open again\n",
    "line = F.readline() # Read one line\n",
    "line\n",
    "#'Spam\\n'\n",
    "#line.rstrip() # Remove end-of-line\n",
    "print(line)"
   ]
  },
  {
   "cell_type": "code",
   "execution_count": 47,
   "metadata": {},
   "outputs": [
    {
     "data": {
      "text/plain": [
       "'43,44,45\\n'"
      ]
     },
     "execution_count": 47,
     "metadata": {},
     "output_type": "execute_result"
    }
   ],
   "source": [
    "line = F.readline() # Next line from file\n",
    "line # It's a string here\n",
    "#'43,44,45\\n'\n",
    "#parts = line.split(',') # Split (parse) on commas\n",
    "#parts"
   ]
  },
  {
   "cell_type": "code",
   "execution_count": 48,
   "metadata": {},
   "outputs": [
    {
     "data": {
      "text/plain": [
       "['43', '44', '45\\n']"
      ]
     },
     "execution_count": 48,
     "metadata": {},
     "output_type": "execute_result"
    }
   ],
   "source": [
    "parts = line.split(',') # Split (parse) on commas\n",
    "parts"
   ]
  },
  {
   "cell_type": "code",
   "execution_count": 49,
   "metadata": {},
   "outputs": [],
   "source": [
    "line = F.readline()\n",
    "line\n",
    "#\"[1, 2, 3]${'a': 1, 'b': 2}\\n\"\n",
    "parts = line.split('$') # Split (parse) on $\n",
    "parts\n",
    "#['[1, 2, 3]', \"{'a': 1, 'b': 2}\\n\"]\n",
    "eval(parts[0]) # Convert to any object type\n",
    "#[1, 2, 3]\n",
    "objects = [eval(P) for P in parts] # Do same for all in list\n"
   ]
  },
  {
   "cell_type": "code",
   "execution_count": 50,
   "metadata": {},
   "outputs": [
    {
     "data": {
      "text/plain": [
       "[[1, 2, 3], {'a': 1, 'b': 2}]"
      ]
     },
     "execution_count": 50,
     "metadata": {},
     "output_type": "execute_result"
    }
   ],
   "source": [
    "objects"
   ]
  },
  {
   "cell_type": "markdown",
   "metadata": {},
   "source": [
    "accept values from user and store in a file with comma delimited\n",
    "Read the file and display each line from the file as a list\n",
    "\n",
    "2, 3, 4, 5, 6\n",
    "\"a\", 4, \"c\"\n",
    "\n",
    "`[2, 3, 4, 5, 6]`\n",
    "`[\"a\", 4, \"c\"]`\n"
   ]
  },
  {
   "cell_type": "code",
   "execution_count": null,
   "metadata": {},
   "outputs": [],
   "source": [
    ">>> D = {'a': 1, 'b': 2}\n",
    ">>> F = open('datafile.pkl', 'wb')\n",
    ">>> import pickle\n",
    ">>> pickle.dump(D, F) # Pickle any object to file\n",
    ">>> F.close()"
   ]
  },
  {
   "cell_type": "code",
   "execution_count": null,
   "metadata": {},
   "outputs": [],
   "source": [
    ">>> F = open('datafile.pkl', 'rb')\n",
    ">>> E = pickle.load(F) # Load any object from file\n",
    ">>> E\n",
    "{'a': 1, 'b': 2}"
   ]
  },
  {
   "cell_type": "code",
   "execution_count": null,
   "metadata": {},
   "outputs": [],
   "source": [
    "D = {'a': 1, 'b': 2}\n",
    "F = open('datafile.pkl', 'wb')\n",
    "import pickle\n",
    "pickle.dump(D, F) # Pickle any object to file\n",
    "F.close()"
   ]
  },
  {
   "cell_type": "code",
   "execution_count": 36,
   "metadata": {},
   "outputs": [
    {
     "ename": "NameError",
     "evalue": "name 'pickle' is not defined",
     "output_type": "error",
     "traceback": [
      "\u001b[1;31m---------------------------------------------------------------------------\u001b[0m",
      "\u001b[1;31mNameError\u001b[0m                                 Traceback (most recent call last)",
      "\u001b[1;32m<ipython-input-36-6b941e19a72c>\u001b[0m in \u001b[0;36m<module>\u001b[1;34m\u001b[0m\n\u001b[0;32m      1\u001b[0m \u001b[0mF\u001b[0m \u001b[1;33m=\u001b[0m \u001b[0mopen\u001b[0m\u001b[1;33m(\u001b[0m\u001b[1;34m'datafile.pkl'\u001b[0m\u001b[1;33m,\u001b[0m \u001b[1;34m'rb'\u001b[0m\u001b[1;33m)\u001b[0m\u001b[1;33m\u001b[0m\u001b[1;33m\u001b[0m\u001b[0m\n\u001b[1;32m----> 2\u001b[1;33m \u001b[0mE\u001b[0m \u001b[1;33m=\u001b[0m \u001b[0mpickle\u001b[0m\u001b[1;33m.\u001b[0m\u001b[0mload\u001b[0m\u001b[1;33m(\u001b[0m\u001b[0mF\u001b[0m\u001b[1;33m)\u001b[0m \u001b[1;31m# Load any object from file\u001b[0m\u001b[1;33m\u001b[0m\u001b[1;33m\u001b[0m\u001b[0m\n\u001b[0m\u001b[0;32m      3\u001b[0m \u001b[0mprint\u001b[0m\u001b[1;33m(\u001b[0m\u001b[0mE\u001b[0m\u001b[1;33m)\u001b[0m\u001b[1;33m\u001b[0m\u001b[1;33m\u001b[0m\u001b[0m\n",
      "\u001b[1;31mNameError\u001b[0m: name 'pickle' is not defined"
     ]
    }
   ],
   "source": [
    "F = open('datafile.pkl', 'rb')\n",
    "E = pickle.load(F) # Load any object from file\n",
    "print(E)"
   ]
  },
  {
   "cell_type": "markdown",
   "metadata": {},
   "source": [
    "### Reading and Writing to text files in Python\n",
    "\n",
    "Python provides inbuilt functions for creating, writing and reading files. There are two types of files that can be handled in python, normal text files and binary files (written in binary language,0s and 1s).\n",
    "\n",
    "* **Text files:** In this type of file, Each line of text is terminated with a special character called EOL (End of Line), which is the new line character (‘\\n’) in python by default.\n",
    "\n",
    "* **Binary files:** In this type of file, there is no terminator for a line and the data is stored after converting it into machine understandable binary language.\n",
    "\n",
    "Let us focus on opening, closing, reading and writing data in a text file.\n",
    "\n",
    "##### File Access Modes\n",
    "\n",
    "   Access modes govern the type of operations possible in the opened file. It refers to how the file will be used once its opened. These modes also define the location of the File Handle in the file. File handle is like a cursor, which defines from where the data has to be read or written in the file. There are 6 access modes in python.\n",
    "\n",
    "* **Read Only (‘r’) :** Open text file for reading. The handle is positioned at the beginning of the file. If the file does not exists, raises I/O error. This is also the default mode in which file is opened.\n",
    "\n",
    "* **Read and Write (‘r+’) :** Open the file for reading and writing. The handle is positioned at the beginning of the file. Raises I/O error if the file does not exists.\n",
    "\n",
    "* **Write Only (‘w’) :** Open the file for writing. For existing file, the data is truncated and over-written. The handle is positioned at the beginning of the file. Creates the file if the file does not exists.\n",
    "* **Write and Read (‘w+’) :** Open the file for reading and writing. For existing file, data is truncated and over-written. The handle is positioned at the beginning of the file.\n",
    "\n",
    "* **Append Only (‘a’) :** Open the file for writing. The file is created if it does not exist. The handle is positioned at the end of the file. The data being written will be inserted at the end, after the existing data.\n",
    "\n",
    "* **Append and Read (‘a+’) :** Open the file for reading and writing. The file is created if it does not exist. The handle is positioned at the end of the file. The data being written will be inserted at the end, after the existing data.\n",
    "\n",
    "###### Opening a File\n",
    "\n",
    "It is done using the `open()` function. No module is required to be imported for this function.  \n",
    "\n",
    "`File_object = open(r\"File_Name\",\"Access_Mode\")`  \n",
    "\n",
    "The file should exist in the same directory as the python program file else, full address of the file should be written on place of filename.  \n",
    "\n",
    "**Note:** The r is placed before filename to prevent the characters in filename string to be treated as special character. For example, if there is \\temp in the file address, then \\t is treated as the tab character and error is raised of invalid address. The r makes the string raw, that is, it tells that the string is without any special characters. The r can be ignored if the file is in same directory and address is not being placed.  \n",
    "\n",
    "Here, file1 is created as object for MyFile1 and file2 as object for MyFile2  \n",
    "\n",
    "###### Closing a file\n",
    "\n",
    "`close()` function closes the file and frees the memory space acquired by that file. It is used at the time when the file is no longer needed or if it is to be opened in a different file mode.  \n",
    "\n",
    "`File_object.close()`\n",
    "\n",
    "###### Writing to a file\n",
    "\n",
    "There are two ways to write in a file.  \n",
    "\n",
    "`write()` : Inserts the string str1 in a single line in the text file.\n",
    "```File_object.write(str1)```\n",
    "\n",
    "`writelines() :` For a list of string elements, each string is inserted in the text file.Used to insert multiple strings at a single time.\n",
    "```File_object.writelines(L)```    for ```L = [str1, str2, str3]``` \n",
    "\n",
    "**Reading from a file**\n",
    "\n",
    "There are three ways to read data from a text file.\n",
    "\n",
    "`read()` : Returns the read bytes in form of a string. Reads n bytes, if no n specified, reads the entire file.\n",
    "\n",
    "`File_object.read([n])`\n",
    "\n",
    "`readline()` : Reads a line of the file and returns in form of a string.For specified n, reads at most n bytes. However, does not reads more than one line, even if n exceeds the length of the line.\n",
    "```File_object.readline([n])```   \n",
    "\n",
    "`readlines()` : Reads all the lines and return them as each line a string element in a list.\n",
    "  ```File_object.readlines()```\n",
    "Note: ‘\\n’ is treated as a special character of two bytes"
   ]
  },
  {
   "cell_type": "code",
   "execution_count": null,
   "metadata": {},
   "outputs": [],
   "source": [
    "# Program to show various ways to read and\n",
    "# write data in a file.\n",
    "file1 = open(\"myfile.txt\",\"w\")\n",
    "L = [\"This is Delhi \\n\",\"This is Paris \\n\",\"This is London \\n\"] \n",
    "  \n",
    "# \\n is placed to indicate EOL (End of Line)\n",
    "file1.write(\"Hello \\n\")\n",
    "file1.writelines(L)\n",
    "file1.close() #to change file access modes\n",
    "  \n",
    "file1 = open(\"myfile.txt\",\"r+\") \n",
    "  \n",
    "print \"Output of Read function is \"\n",
    "print file1.read()\n",
    "print\n",
    "  \n",
    "# seek(n) takes the file handle to the nth\n",
    "# bite from the beginning.\n",
    "file1.seek(0) \n",
    "  \n",
    "print \"Output of Readline function is \"\n",
    "print file1.readline()\n",
    "print\n",
    "  \n",
    "file1.seek(0)\n",
    "  \n",
    "# To show difference between read and readline\n",
    "print \"Output of Read(9) function is \"\n",
    "print file1.read(9)\n",
    "print\n",
    "  \n",
    "file1.seek(0)\n",
    "  \n",
    "print \"Output of Readline(9) function is \"\n",
    "print file1.readline(9)\n",
    "  \n",
    "file1.seek(0)\n",
    "# readlines function\n",
    "print \"Output of Readlines function is \"\n",
    "print file1.readlines()\n",
    "print\n",
    "file1.close()"
   ]
  },
  {
   "cell_type": "code",
   "execution_count": null,
   "metadata": {},
   "outputs": [],
   "source": [
    "# Python program to illustrate\n",
    "# Append vs write mode\n",
    "file1 = open(\"myfile.txt\",\"w\")\n",
    "L = [\"This is Delhi \\n\",\"This is Paris \\n\",\"This is London \\n\"] \n",
    "file1.close()\n",
    "  \n",
    "# Append-adds at last\n",
    "file1 = open(\"myfile.txt\",\"a\")#append mode\n",
    "file1.write(\"Today \\n\")\n",
    "file1.close()\n",
    "  \n",
    "file1 = open(\"myfile.txt\",\"r\")\n",
    "print \"Output of Readlines after appending\"\n",
    "print file1.readlines()\n",
    "print\n",
    "file1.close()\n",
    "  \n",
    "# Write-Overwrites\n",
    "file1 = open(\"myfile.txt\",\"w\")#write mode\n",
    "file1.write(\"Tomorrow \\n\")\n",
    "file1.close()\n",
    "  \n",
    "file1 = open(\"myfile.txt\",\"r\")\n",
    "print \"Output of Readlines after writing\"\n",
    "print file1.readlines()\n",
    "print\n",
    "file1.close()"
   ]
  },
  {
   "cell_type": "code",
   "execution_count": null,
   "metadata": {},
   "outputs": [],
   "source": [
    "import json\n",
    "\n",
    "# define list with values\n",
    "basicList = [1, \"Cape Town\", 4.6]\n",
    "\n",
    "# open output file for writing\n",
    "with open('listfile.txt', 'w') as filehandle:\n",
    "    json.dump(basicList, filehandle)"
   ]
  },
  {
   "cell_type": "code",
   "execution_count": null,
   "metadata": {},
   "outputs": [],
   "source": []
  },
  {
   "cell_type": "code",
   "execution_count": 52,
   "metadata": {},
   "outputs": [
    {
     "name": "stdout",
     "output_type": "stream",
     "text": [
      "<__main__.Honda object at 0x000002609679D4F0> <__main__.Honda object at 0x000002609679D130>\n"
     ]
    }
   ],
   "source": [
    "class Honda:\n",
    "    pass\n",
    "\n",
    "h1 = Honda()\n",
    "h2 = Honda()\n",
    "\n",
    "print(h1, h2)"
   ]
  },
  {
   "cell_type": "code",
   "execution_count": 56,
   "metadata": {},
   "outputs": [
    {
     "name": "stdout",
     "output_type": "stream",
     "text": [
      "<__main__.Honda object at 0x0000026096866AF0> <__main__.Honda object at 0x0000026096866850>\n",
      "accord 2021 12345\n",
      "accord 2021 23457\n"
     ]
    }
   ],
   "source": [
    "class Honda:\n",
    "    pass\n",
    "\n",
    "h1 = Honda()\n",
    "h1.model = \"accord\"\n",
    "h1.make = \"2021\"\n",
    "h1.vin = 12345\n",
    "h2 = Honda()\n",
    "h2.model = \"accord\"\n",
    "h2.make = \"2021\"\n",
    "h2.vin = 23457\n",
    "print(h1, h2)\n",
    "print(h1.model, h1.make, h1.vin)\n",
    "print(h2.model, h2.make, h2.vin)"
   ]
  },
  {
   "cell_type": "code",
   "execution_count": 106,
   "metadata": {},
   "outputs": [
    {
     "name": "stdout",
     "output_type": "stream",
     "text": [
      "Car Name: 'Accord', Make: '2021' Car Name: 'CRV', Make: '2020'\n",
      "Car Name: 'Accord', Make: '2021'\n",
      "Accord 2021 12345\n",
      "CRV 2020 56784\n",
      "Odyssey\n",
      "0\n",
      "Car Name: 'Accord', Make: '2021'\n",
      "The name of the car is: 'CRV'\n",
      "Car Name: 'Odyssey', Make: '2021'\n",
      "0\n",
      "3\n",
      "2030\n",
      "2020\n",
      "False\n",
      "False\n",
      "False\n",
      "False\n",
      "Total number of Honda cars created: 3\n"
     ]
    }
   ],
   "source": [
    "class Honda:\n",
    "    _gps = True\n",
    "    number_of_hondas = 0\n",
    "    def __init__(self, apb, make, vin, gears, tank_size = 0):\n",
    "        self.model = apb\n",
    "        self.make = make\n",
    "        self.vin = vin\n",
    "        self.gears = gears\n",
    "        self.tank_size = tank_size\n",
    "        self.currentgear = 0\n",
    "        self._gps = False\n",
    "        Honda.number_of_hondas += 1\n",
    "    \n",
    "    def display(self):\n",
    "        return \"Car Name: '{}', Make: '{}'\".format(self.model, self.make)\n",
    "    \n",
    "    def __str__(self):\n",
    "        return \"Car Name: '{}', Make: '{}'\".format(self.model, self.make)\n",
    "    \n",
    "    def __repr__(self):\n",
    "        return \"The name of the car is: '{}'\".format(self.model)\n",
    "    \n",
    "    def change_gears(self, gear):\n",
    "        self.currentgear= gear\n",
    "        \n",
    "    \n",
    "    \n",
    "h1 = Honda(\"Accord\", 2021, 12345, 4)\n",
    "#   h1.model = \"accord\"\n",
    "#   h1.make = \"2021\"\n",
    "#   h1.vin = 12345\n",
    "h2 = Honda(\"CRV\", 2020, 56784, 6)\n",
    "h3 = Honda(\"Odyssey\", 2021, 23234, 6)\n",
    "#h2.model = \"accord\"\n",
    "#h2.make = \"2021\"\n",
    "#h2.vin = 23457\n",
    "print(h1, h2)\n",
    "\n",
    "print(h1.display())\n",
    "#print(h2.display())\n",
    "\n",
    "print(h1.model, h1.make, h1.vin)\n",
    "print(h2.model, h2.make, h2.vin)\n",
    "print(h3.model)\n",
    "print(h3.tank_size)\n",
    "print(h1.__str__())\n",
    "print(h2.__repr__())\n",
    "print(h3)\n",
    "\n",
    "print(h1.currentgear)\n",
    "h1.change_gears(3)\n",
    "print(h1.currentgear)\n",
    "\n",
    "h1.make = 2030\n",
    "print(h1.make)\n",
    "print(h2.make)\n",
    "print(h1._gps)\n",
    "print(h2._gps)\n",
    "Honda._gps = False\n",
    "print(h1._gps)\n",
    "print(h2._gps)\n",
    "h1.cushion = True\n",
    "\n",
    "print(\"Total number of Honda cars created: \" + str(Honda.number_of_hondas))"
   ]
  },
  {
   "cell_type": "code",
   "execution_count": 100,
   "metadata": {},
   "outputs": [
    {
     "ename": "NameError",
     "evalue": "name 'self' is not defined",
     "output_type": "error",
     "traceback": [
      "\u001b[1;31m---------------------------------------------------------------------------\u001b[0m",
      "\u001b[1;31mNameError\u001b[0m                                 Traceback (most recent call last)",
      "\u001b[1;32m<ipython-input-100-2312c1158edb>\u001b[0m in \u001b[0;36m<module>\u001b[1;34m\u001b[0m\n\u001b[1;32m----> 1\u001b[1;33m \u001b[0mhelp\u001b[0m\u001b[1;33m(\u001b[0m\u001b[0mtype\u001b[0m\u001b[1;33m(\u001b[0m\u001b[0mself\u001b[0m\u001b[1;33m)\u001b[0m\u001b[1;33m)\u001b[0m\u001b[1;33m\u001b[0m\u001b[1;33m\u001b[0m\u001b[0m\n\u001b[0m",
      "\u001b[1;31mNameError\u001b[0m: name 'self' is not defined"
     ]
    }
   ],
   "source": [
    "help()"
   ]
  },
  {
   "cell_type": "code",
   "execution_count": null,
   "metadata": {},
   "outputs": [],
   "source": [
    "mypy"
   ]
  },
  {
   "cell_type": "code",
   "execution_count": 91,
   "metadata": {},
   "outputs": [
    {
     "name": "stdout",
     "output_type": "stream",
     "text": [
      "['__class__', '__delattr__', '__dict__', '__dir__', '__doc__', '__eq__', '__format__', '__ge__', '__getattribute__', '__gt__', '__hash__', '__init__', '__init_subclass__', '__le__', '__lt__', '__module__', '__ne__', '__new__', '__reduce__', '__reduce_ex__', '__repr__', '__setattr__', '__sizeof__', '__str__', '__subclasshook__', '__weakref__', 'change_gears', 'display', 'gps']\n"
     ]
    }
   ],
   "source": [
    "print(dir(Honda))"
   ]
  },
  {
   "cell_type": "code",
   "execution_count": 88,
   "metadata": {},
   "outputs": [
    {
     "name": "stdout",
     "output_type": "stream",
     "text": [
      "['__class__', '__delattr__', '__dict__', '__dir__', '__doc__', '__eq__', '__format__', '__ge__', '__getattribute__', '__gt__', '__hash__', '__init__', '__init_subclass__', '__le__', '__lt__', '__module__', '__ne__', '__new__', '__reduce__', '__reduce_ex__', '__repr__', '__setattr__', '__sizeof__', '__str__', '__subclasshook__', '__weakref__', 'change_gears', 'currentgear', 'cushion', 'display', 'gears', 'gps', 'make', 'model', 'tank_size', 'vin']\n"
     ]
    }
   ],
   "source": [
    "print(dir(h1))"
   ]
  },
  {
   "cell_type": "code",
   "execution_count": 89,
   "metadata": {},
   "outputs": [
    {
     "name": "stdout",
     "output_type": "stream",
     "text": [
      "['__class__', '__delattr__', '__dict__', '__dir__', '__doc__', '__eq__', '__format__', '__ge__', '__getattribute__', '__gt__', '__hash__', '__init__', '__init_subclass__', '__le__', '__lt__', '__module__', '__ne__', '__new__', '__reduce__', '__reduce_ex__', '__repr__', '__setattr__', '__sizeof__', '__str__', '__subclasshook__', '__weakref__', 'change_gears', 'currentgear', 'display', 'gears', 'gps', 'make', 'model', 'tank_size', 'vin']\n"
     ]
    }
   ],
   "source": [
    "print(dir(h2))"
   ]
  },
  {
   "cell_type": "code",
   "execution_count": null,
   "metadata": {},
   "outputs": [],
   "source": []
  },
  {
   "cell_type": "code",
   "execution_count": null,
   "metadata": {},
   "outputs": [],
   "source": []
  },
  {
   "cell_type": "code",
   "execution_count": 85,
   "metadata": {},
   "outputs": [
    {
     "data": {
      "text/plain": [
       "mappingproxy({'__module__': '__main__',\n",
       "              'gps': False,\n",
       "              '__init__': <function __main__.Honda.__init__(self, apb, make, vin, gears, tank_size=0)>,\n",
       "              'display': <function __main__.Honda.display(self)>,\n",
       "              '__str__': <function __main__.Honda.__str__(self)>,\n",
       "              '__repr__': <function __main__.Honda.__repr__(self)>,\n",
       "              'change_gears': <function __main__.Honda.change_gears(self, gear)>,\n",
       "              '__dict__': <attribute '__dict__' of 'Honda' objects>,\n",
       "              '__weakref__': <attribute '__weakref__' of 'Honda' objects>,\n",
       "              '__doc__': None})"
      ]
     },
     "execution_count": 85,
     "metadata": {},
     "output_type": "execute_result"
    }
   ],
   "source": [
    "Honda.__dict__"
   ]
  },
  {
   "cell_type": "code",
   "execution_count": null,
   "metadata": {},
   "outputs": [],
   "source": []
  }
 ],
 "metadata": {
  "kernelspec": {
   "display_name": "Python 3",
   "language": "python",
   "name": "python3"
  },
  "language_info": {
   "codemirror_mode": {
    "name": "ipython",
    "version": 3
   },
   "file_extension": ".py",
   "mimetype": "text/x-python",
   "name": "python",
   "nbconvert_exporter": "python",
   "pygments_lexer": "ipython3",
   "version": "3.8.5"
  }
 },
 "nbformat": 4,
 "nbformat_minor": 4
}
