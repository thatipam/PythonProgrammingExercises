{
  "nbformat": 4,
  "nbformat_minor": 0,
  "metadata": {
    "colab": {
      "name": "FDS_W10.ipynb",
      "provenance": [],
      "collapsed_sections": []
    },
    "kernelspec": {
      "name": "python3",
      "display_name": "Python 3"
    }
  },
  "cells": [
    {
      "cell_type": "code",
      "metadata": {
        "id": "OO0S0-mcjVMT",
        "colab_type": "code",
        "colab": {}
      },
      "source": [
        "import numpy as np\n",
        "import pandas as pd"
      ],
      "execution_count": 1,
      "outputs": []
    },
    {
      "cell_type": "markdown",
      "metadata": {
        "id": "sPIpHAm7jteP",
        "colab_type": "text"
      },
      "source": [
        "# Creating dataframe objects"
      ]
    },
    {
      "cell_type": "code",
      "metadata": {
        "id": "etNLTIZhjk46",
        "colab_type": "code",
        "colab": {}
      },
      "source": [
        "arr = np.random.randint(0, 10, (5, 3))"
      ],
      "execution_count": 2,
      "outputs": []
    },
    {
      "cell_type": "code",
      "metadata": {
        "id": "g7ZYqgw9jyvZ",
        "colab_type": "code",
        "colab": {
          "base_uri": "https://localhost:8080/",
          "height": 114
        },
        "outputId": "2f60a472-e506-4d72-e89d-feae97fa25cb"
      },
      "source": [
        "arr"
      ],
      "execution_count": 3,
      "outputs": [
        {
          "output_type": "execute_result",
          "data": {
            "text/plain": [
              "array([[2, 9, 7],\n",
              "       [5, 4, 5],\n",
              "       [8, 6, 4],\n",
              "       [4, 3, 2],\n",
              "       [6, 3, 3]])"
            ]
          },
          "metadata": {
            "tags": []
          },
          "execution_count": 3
        }
      ]
    },
    {
      "cell_type": "code",
      "metadata": {
        "id": "R4-3XrX1jzZl",
        "colab_type": "code",
        "colab": {}
      },
      "source": [
        "df = pd.DataFrame(arr)"
      ],
      "execution_count": 4,
      "outputs": []
    },
    {
      "cell_type": "code",
      "metadata": {
        "id": "euPcsv_Gj-q3",
        "colab_type": "code",
        "colab": {
          "base_uri": "https://localhost:8080/",
          "height": 206
        },
        "outputId": "f44e4242-ed40-4fb3-cf83-1d82b9a8772f"
      },
      "source": [
        "df"
      ],
      "execution_count": 5,
      "outputs": [
        {
          "output_type": "execute_result",
          "data": {
            "text/html": [
              "<div>\n",
              "<style scoped>\n",
              "    .dataframe tbody tr th:only-of-type {\n",
              "        vertical-align: middle;\n",
              "    }\n",
              "\n",
              "    .dataframe tbody tr th {\n",
              "        vertical-align: top;\n",
              "    }\n",
              "\n",
              "    .dataframe thead th {\n",
              "        text-align: right;\n",
              "    }\n",
              "</style>\n",
              "<table border=\"1\" class=\"dataframe\">\n",
              "  <thead>\n",
              "    <tr style=\"text-align: right;\">\n",
              "      <th></th>\n",
              "      <th>0</th>\n",
              "      <th>1</th>\n",
              "      <th>2</th>\n",
              "    </tr>\n",
              "  </thead>\n",
              "  <tbody>\n",
              "    <tr>\n",
              "      <th>0</th>\n",
              "      <td>2</td>\n",
              "      <td>9</td>\n",
              "      <td>7</td>\n",
              "    </tr>\n",
              "    <tr>\n",
              "      <th>1</th>\n",
              "      <td>5</td>\n",
              "      <td>4</td>\n",
              "      <td>5</td>\n",
              "    </tr>\n",
              "    <tr>\n",
              "      <th>2</th>\n",
              "      <td>8</td>\n",
              "      <td>6</td>\n",
              "      <td>4</td>\n",
              "    </tr>\n",
              "    <tr>\n",
              "      <th>3</th>\n",
              "      <td>4</td>\n",
              "      <td>3</td>\n",
              "      <td>2</td>\n",
              "    </tr>\n",
              "    <tr>\n",
              "      <th>4</th>\n",
              "      <td>6</td>\n",
              "      <td>3</td>\n",
              "      <td>3</td>\n",
              "    </tr>\n",
              "  </tbody>\n",
              "</table>\n",
              "</div>"
            ],
            "text/plain": [
              "   0  1  2\n",
              "0  2  9  7\n",
              "1  5  4  5\n",
              "2  8  6  4\n",
              "3  4  3  2\n",
              "4  6  3  3"
            ]
          },
          "metadata": {
            "tags": []
          },
          "execution_count": 5
        }
      ]
    },
    {
      "cell_type": "code",
      "metadata": {
        "id": "A99smfMdj_uW",
        "colab_type": "code",
        "colab": {
          "base_uri": "https://localhost:8080/",
          "height": 114
        },
        "outputId": "8869a8d5-fbf5-47be-bd9a-b8682014ea46"
      },
      "source": [
        "df.values"
      ],
      "execution_count": 6,
      "outputs": [
        {
          "output_type": "execute_result",
          "data": {
            "text/plain": [
              "array([[2, 9, 7],\n",
              "       [5, 4, 5],\n",
              "       [8, 6, 4],\n",
              "       [4, 3, 2],\n",
              "       [6, 3, 3]])"
            ]
          },
          "metadata": {
            "tags": []
          },
          "execution_count": 6
        }
      ]
    },
    {
      "cell_type": "code",
      "metadata": {
        "id": "fV8xWyIhkMQy",
        "colab_type": "code",
        "colab": {
          "base_uri": "https://localhost:8080/",
          "height": 36
        },
        "outputId": "dcfc9695-75c8-40e1-b592-89ba6f249990"
      },
      "source": [
        "df.index"
      ],
      "execution_count": 7,
      "outputs": [
        {
          "output_type": "execute_result",
          "data": {
            "text/plain": [
              "RangeIndex(start=0, stop=5, step=1)"
            ]
          },
          "metadata": {
            "tags": []
          },
          "execution_count": 7
        }
      ]
    },
    {
      "cell_type": "code",
      "metadata": {
        "id": "laagEOnHkN6y",
        "colab_type": "code",
        "colab": {
          "base_uri": "https://localhost:8080/",
          "height": 36
        },
        "outputId": "b2affe5d-e9be-4879-aa57-db21a0c75f6f"
      },
      "source": [
        "df.columns"
      ],
      "execution_count": 8,
      "outputs": [
        {
          "output_type": "execute_result",
          "data": {
            "text/plain": [
              "RangeIndex(start=0, stop=3, step=1)"
            ]
          },
          "metadata": {
            "tags": []
          },
          "execution_count": 8
        }
      ]
    },
    {
      "cell_type": "code",
      "metadata": {
        "id": "fR1b36wdkQWM",
        "colab_type": "code",
        "colab": {
          "base_uri": "https://localhost:8080/",
          "height": 75
        },
        "outputId": "32ab9a7e-761d-4bfa-9af9-14fc1b677dfe"
      },
      "source": [
        "for c in df.columns:\n",
        "    print(c)"
      ],
      "execution_count": 9,
      "outputs": [
        {
          "output_type": "stream",
          "text": [
            "0\n",
            "1\n",
            "2\n"
          ],
          "name": "stdout"
        }
      ]
    },
    {
      "cell_type": "code",
      "metadata": {
        "id": "pqPxsORJkSnD",
        "colab_type": "code",
        "colab": {
          "base_uri": "https://localhost:8080/",
          "height": 36
        },
        "outputId": "c2d6c3e9-8446-415b-f7cf-99924f315277"
      },
      "source": [
        "df.values[0]"
      ],
      "execution_count": 10,
      "outputs": [
        {
          "output_type": "execute_result",
          "data": {
            "text/plain": [
              "array([2, 9, 7])"
            ]
          },
          "metadata": {
            "tags": []
          },
          "execution_count": 10
        }
      ]
    },
    {
      "cell_type": "code",
      "metadata": {
        "id": "ZbHU5_z6kU4l",
        "colab_type": "code",
        "colab": {}
      },
      "source": [
        "df.index = ['R1', 'R2', 'R3', 'R4', 'R5']\n",
        "df.columns = ['C1', 'C2', 'C3']"
      ],
      "execution_count": 11,
      "outputs": []
    },
    {
      "cell_type": "code",
      "metadata": {
        "id": "vfriU1Rzkdkx",
        "colab_type": "code",
        "colab": {
          "base_uri": "https://localhost:8080/",
          "height": 206
        },
        "outputId": "89970133-d2f2-4dce-c899-a4c6972ecf66"
      },
      "source": [
        "df"
      ],
      "execution_count": 12,
      "outputs": [
        {
          "output_type": "execute_result",
          "data": {
            "text/html": [
              "<div>\n",
              "<style scoped>\n",
              "    .dataframe tbody tr th:only-of-type {\n",
              "        vertical-align: middle;\n",
              "    }\n",
              "\n",
              "    .dataframe tbody tr th {\n",
              "        vertical-align: top;\n",
              "    }\n",
              "\n",
              "    .dataframe thead th {\n",
              "        text-align: right;\n",
              "    }\n",
              "</style>\n",
              "<table border=\"1\" class=\"dataframe\">\n",
              "  <thead>\n",
              "    <tr style=\"text-align: right;\">\n",
              "      <th></th>\n",
              "      <th>C1</th>\n",
              "      <th>C2</th>\n",
              "      <th>C3</th>\n",
              "    </tr>\n",
              "  </thead>\n",
              "  <tbody>\n",
              "    <tr>\n",
              "      <th>R1</th>\n",
              "      <td>2</td>\n",
              "      <td>9</td>\n",
              "      <td>7</td>\n",
              "    </tr>\n",
              "    <tr>\n",
              "      <th>R2</th>\n",
              "      <td>5</td>\n",
              "      <td>4</td>\n",
              "      <td>5</td>\n",
              "    </tr>\n",
              "    <tr>\n",
              "      <th>R3</th>\n",
              "      <td>8</td>\n",
              "      <td>6</td>\n",
              "      <td>4</td>\n",
              "    </tr>\n",
              "    <tr>\n",
              "      <th>R4</th>\n",
              "      <td>4</td>\n",
              "      <td>3</td>\n",
              "      <td>2</td>\n",
              "    </tr>\n",
              "    <tr>\n",
              "      <th>R5</th>\n",
              "      <td>6</td>\n",
              "      <td>3</td>\n",
              "      <td>3</td>\n",
              "    </tr>\n",
              "  </tbody>\n",
              "</table>\n",
              "</div>"
            ],
            "text/plain": [
              "    C1  C2  C3\n",
              "R1   2   9   7\n",
              "R2   5   4   5\n",
              "R3   8   6   4\n",
              "R4   4   3   2\n",
              "R5   6   3   3"
            ]
          },
          "metadata": {
            "tags": []
          },
          "execution_count": 12
        }
      ]
    },
    {
      "cell_type": "code",
      "metadata": {
        "id": "V3CFXTA4kecI",
        "colab_type": "code",
        "colab": {
          "base_uri": "https://localhost:8080/",
          "height": 36
        },
        "outputId": "24bfd307-de83-470c-c88f-971cf9ea7c7d"
      },
      "source": [
        "df.loc['R3', 'C2']"
      ],
      "execution_count": 13,
      "outputs": [
        {
          "output_type": "execute_result",
          "data": {
            "text/plain": [
              "6"
            ]
          },
          "metadata": {
            "tags": []
          },
          "execution_count": 13
        }
      ]
    },
    {
      "cell_type": "code",
      "metadata": {
        "id": "TY1QeFLSkpEP",
        "colab_type": "code",
        "colab": {
          "base_uri": "https://localhost:8080/",
          "height": 36
        },
        "outputId": "dcc85f6b-c54f-4c41-f048-0f4ddb2e62d0"
      },
      "source": [
        "df.iloc[2, 1]"
      ],
      "execution_count": 14,
      "outputs": [
        {
          "output_type": "execute_result",
          "data": {
            "text/plain": [
              "6"
            ]
          },
          "metadata": {
            "tags": []
          },
          "execution_count": 14
        }
      ]
    },
    {
      "cell_type": "code",
      "metadata": {
        "id": "av3iZv-Nkt2p",
        "colab_type": "code",
        "colab": {
          "base_uri": "https://localhost:8080/",
          "height": 36
        },
        "outputId": "0be684ad-5cca-47b8-c8e9-8b09e1d96fda"
      },
      "source": [
        "type(df.iloc[2:4, 1:3])"
      ],
      "execution_count": 15,
      "outputs": [
        {
          "output_type": "execute_result",
          "data": {
            "text/plain": [
              "pandas.core.frame.DataFrame"
            ]
          },
          "metadata": {
            "tags": []
          },
          "execution_count": 15
        }
      ]
    },
    {
      "cell_type": "code",
      "metadata": {
        "id": "qHAT9ShxkwX1",
        "colab_type": "code",
        "colab": {
          "base_uri": "https://localhost:8080/",
          "height": 143
        },
        "outputId": "4a09d348-84be-4fb8-8c3d-25c22d0de56a"
      },
      "source": [
        "df.loc['R3':'R5', 'C2':'C3']"
      ],
      "execution_count": 16,
      "outputs": [
        {
          "output_type": "execute_result",
          "data": {
            "text/html": [
              "<div>\n",
              "<style scoped>\n",
              "    .dataframe tbody tr th:only-of-type {\n",
              "        vertical-align: middle;\n",
              "    }\n",
              "\n",
              "    .dataframe tbody tr th {\n",
              "        vertical-align: top;\n",
              "    }\n",
              "\n",
              "    .dataframe thead th {\n",
              "        text-align: right;\n",
              "    }\n",
              "</style>\n",
              "<table border=\"1\" class=\"dataframe\">\n",
              "  <thead>\n",
              "    <tr style=\"text-align: right;\">\n",
              "      <th></th>\n",
              "      <th>C2</th>\n",
              "      <th>C3</th>\n",
              "    </tr>\n",
              "  </thead>\n",
              "  <tbody>\n",
              "    <tr>\n",
              "      <th>R3</th>\n",
              "      <td>6</td>\n",
              "      <td>4</td>\n",
              "    </tr>\n",
              "    <tr>\n",
              "      <th>R4</th>\n",
              "      <td>3</td>\n",
              "      <td>2</td>\n",
              "    </tr>\n",
              "    <tr>\n",
              "      <th>R5</th>\n",
              "      <td>3</td>\n",
              "      <td>3</td>\n",
              "    </tr>\n",
              "  </tbody>\n",
              "</table>\n",
              "</div>"
            ],
            "text/plain": [
              "    C2  C3\n",
              "R3   6   4\n",
              "R4   3   2\n",
              "R5   3   3"
            ]
          },
          "metadata": {
            "tags": []
          },
          "execution_count": 16
        }
      ]
    },
    {
      "cell_type": "code",
      "metadata": {
        "id": "Jn9bIi0Sk3Bl",
        "colab_type": "code",
        "colab": {
          "base_uri": "https://localhost:8080/",
          "height": 94
        },
        "outputId": "246008b1-0fe9-440e-b7fc-c25f3ca02f70"
      },
      "source": [
        "df.iloc[0]"
      ],
      "execution_count": 17,
      "outputs": [
        {
          "output_type": "execute_result",
          "data": {
            "text/plain": [
              "C1    2\n",
              "C2    9\n",
              "C3    7\n",
              "Name: R1, dtype: int64"
            ]
          },
          "metadata": {
            "tags": []
          },
          "execution_count": 17
        }
      ]
    },
    {
      "cell_type": "code",
      "metadata": {
        "id": "OHBKdaeVlCk8",
        "colab_type": "code",
        "colab": {
          "base_uri": "https://localhost:8080/",
          "height": 133
        },
        "outputId": "a41fb52d-4be8-45b5-80ec-7e27fc228793"
      },
      "source": [
        "df.iloc[:, 0]"
      ],
      "execution_count": 18,
      "outputs": [
        {
          "output_type": "execute_result",
          "data": {
            "text/plain": [
              "R1    2\n",
              "R2    5\n",
              "R3    8\n",
              "R4    4\n",
              "R5    6\n",
              "Name: C1, dtype: int64"
            ]
          },
          "metadata": {
            "tags": []
          },
          "execution_count": 18
        }
      ]
    },
    {
      "cell_type": "code",
      "metadata": {
        "id": "BVQES5uBlTFD",
        "colab_type": "code",
        "colab": {
          "base_uri": "https://localhost:8080/",
          "height": 36
        },
        "outputId": "5e9b8f25-f55c-410e-aeb5-a3ceb89c74b1"
      },
      "source": [
        "df.shape"
      ],
      "execution_count": 25,
      "outputs": [
        {
          "output_type": "execute_result",
          "data": {
            "text/plain": [
              "(5, 3)"
            ]
          },
          "metadata": {
            "tags": []
          },
          "execution_count": 25
        }
      ]
    },
    {
      "cell_type": "code",
      "metadata": {
        "id": "etHi6BQKlYMt",
        "colab_type": "code",
        "colab": {
          "base_uri": "https://localhost:8080/",
          "height": 143
        },
        "outputId": "9d09deb6-52c0-4f40-a5d3-1f39cd59d637"
      },
      "source": [
        "df.T"
      ],
      "execution_count": 26,
      "outputs": [
        {
          "output_type": "execute_result",
          "data": {
            "text/html": [
              "<div>\n",
              "<style scoped>\n",
              "    .dataframe tbody tr th:only-of-type {\n",
              "        vertical-align: middle;\n",
              "    }\n",
              "\n",
              "    .dataframe tbody tr th {\n",
              "        vertical-align: top;\n",
              "    }\n",
              "\n",
              "    .dataframe thead th {\n",
              "        text-align: right;\n",
              "    }\n",
              "</style>\n",
              "<table border=\"1\" class=\"dataframe\">\n",
              "  <thead>\n",
              "    <tr style=\"text-align: right;\">\n",
              "      <th></th>\n",
              "      <th>R1</th>\n",
              "      <th>R2</th>\n",
              "      <th>R3</th>\n",
              "      <th>R4</th>\n",
              "      <th>R5</th>\n",
              "    </tr>\n",
              "  </thead>\n",
              "  <tbody>\n",
              "    <tr>\n",
              "      <th>C1</th>\n",
              "      <td>2</td>\n",
              "      <td>5</td>\n",
              "      <td>8</td>\n",
              "      <td>4</td>\n",
              "      <td>6</td>\n",
              "    </tr>\n",
              "    <tr>\n",
              "      <th>C2</th>\n",
              "      <td>9</td>\n",
              "      <td>4</td>\n",
              "      <td>6</td>\n",
              "      <td>3</td>\n",
              "      <td>3</td>\n",
              "    </tr>\n",
              "    <tr>\n",
              "      <th>C3</th>\n",
              "      <td>7</td>\n",
              "      <td>5</td>\n",
              "      <td>4</td>\n",
              "      <td>2</td>\n",
              "      <td>3</td>\n",
              "    </tr>\n",
              "  </tbody>\n",
              "</table>\n",
              "</div>"
            ],
            "text/plain": [
              "    R1  R2  R3  R4  R5\n",
              "C1   2   5   8   4   6\n",
              "C2   9   4   6   3   3\n",
              "C3   7   5   4   2   3"
            ]
          },
          "metadata": {
            "tags": []
          },
          "execution_count": 26
        }
      ]
    },
    {
      "cell_type": "markdown",
      "metadata": {
        "id": "CpCDKIoflf90",
        "colab_type": "text"
      },
      "source": [
        "Task on creating dataframes"
      ]
    },
    {
      "cell_type": "code",
      "metadata": {
        "id": "UZmcVNn-p_Yr",
        "colab_type": "code",
        "colab": {}
      },
      "source": [
        "def create_df(nRows, nCols, maxRand=10):\n",
        "    arr = np.random.randint(0, maxRand, (nRows, nCols))\n",
        "    df = pd.DataFrame(arr)\n",
        "    df.index = ['R' + str(x) for x in np.arange(1, nRows+1)]\n",
        "    df.columns = ['C' + str(x) for x in np.arange(1, nCols+1)]\n",
        "    return df"
      ],
      "execution_count": 27,
      "outputs": []
    },
    {
      "cell_type": "code",
      "metadata": {
        "id": "CVJY7kMgqy41",
        "colab_type": "code",
        "colab": {
          "base_uri": "https://localhost:8080/",
          "height": 206
        },
        "outputId": "2f33553f-432d-44f6-c21d-db689787267d"
      },
      "source": [
        "create_df(5, 3)"
      ],
      "execution_count": 28,
      "outputs": [
        {
          "output_type": "execute_result",
          "data": {
            "text/html": [
              "<div>\n",
              "<style scoped>\n",
              "    .dataframe tbody tr th:only-of-type {\n",
              "        vertical-align: middle;\n",
              "    }\n",
              "\n",
              "    .dataframe tbody tr th {\n",
              "        vertical-align: top;\n",
              "    }\n",
              "\n",
              "    .dataframe thead th {\n",
              "        text-align: right;\n",
              "    }\n",
              "</style>\n",
              "<table border=\"1\" class=\"dataframe\">\n",
              "  <thead>\n",
              "    <tr style=\"text-align: right;\">\n",
              "      <th></th>\n",
              "      <th>C1</th>\n",
              "      <th>C2</th>\n",
              "      <th>C3</th>\n",
              "    </tr>\n",
              "  </thead>\n",
              "  <tbody>\n",
              "    <tr>\n",
              "      <th>R1</th>\n",
              "      <td>4</td>\n",
              "      <td>0</td>\n",
              "      <td>9</td>\n",
              "    </tr>\n",
              "    <tr>\n",
              "      <th>R2</th>\n",
              "      <td>3</td>\n",
              "      <td>8</td>\n",
              "      <td>3</td>\n",
              "    </tr>\n",
              "    <tr>\n",
              "      <th>R3</th>\n",
              "      <td>2</td>\n",
              "      <td>4</td>\n",
              "      <td>9</td>\n",
              "    </tr>\n",
              "    <tr>\n",
              "      <th>R4</th>\n",
              "      <td>9</td>\n",
              "      <td>3</td>\n",
              "      <td>0</td>\n",
              "    </tr>\n",
              "    <tr>\n",
              "      <th>R5</th>\n",
              "      <td>9</td>\n",
              "      <td>9</td>\n",
              "      <td>7</td>\n",
              "    </tr>\n",
              "  </tbody>\n",
              "</table>\n",
              "</div>"
            ],
            "text/plain": [
              "    C1  C2  C3\n",
              "R1   4   0   9\n",
              "R2   3   8   3\n",
              "R3   2   4   9\n",
              "R4   9   3   0\n",
              "R5   9   9   7"
            ]
          },
          "metadata": {
            "tags": []
          },
          "execution_count": 28
        }
      ]
    },
    {
      "cell_type": "code",
      "metadata": {
        "id": "73_VZAguq0kw",
        "colab_type": "code",
        "colab": {
          "base_uri": "https://localhost:8080/",
          "height": 112
        },
        "outputId": "8ef038c6-d953-49fe-d7a2-fda35fb04a91"
      },
      "source": [
        "create_df(2, 5)"
      ],
      "execution_count": 29,
      "outputs": [
        {
          "output_type": "execute_result",
          "data": {
            "text/html": [
              "<div>\n",
              "<style scoped>\n",
              "    .dataframe tbody tr th:only-of-type {\n",
              "        vertical-align: middle;\n",
              "    }\n",
              "\n",
              "    .dataframe tbody tr th {\n",
              "        vertical-align: top;\n",
              "    }\n",
              "\n",
              "    .dataframe thead th {\n",
              "        text-align: right;\n",
              "    }\n",
              "</style>\n",
              "<table border=\"1\" class=\"dataframe\">\n",
              "  <thead>\n",
              "    <tr style=\"text-align: right;\">\n",
              "      <th></th>\n",
              "      <th>C1</th>\n",
              "      <th>C2</th>\n",
              "      <th>C3</th>\n",
              "      <th>C4</th>\n",
              "      <th>C5</th>\n",
              "    </tr>\n",
              "  </thead>\n",
              "  <tbody>\n",
              "    <tr>\n",
              "      <th>R1</th>\n",
              "      <td>3</td>\n",
              "      <td>6</td>\n",
              "      <td>8</td>\n",
              "      <td>5</td>\n",
              "      <td>2</td>\n",
              "    </tr>\n",
              "    <tr>\n",
              "      <th>R2</th>\n",
              "      <td>4</td>\n",
              "      <td>3</td>\n",
              "      <td>4</td>\n",
              "      <td>4</td>\n",
              "      <td>7</td>\n",
              "    </tr>\n",
              "  </tbody>\n",
              "</table>\n",
              "</div>"
            ],
            "text/plain": [
              "    C1  C2  C3  C4  C5\n",
              "R1   3   6   8   5   2\n",
              "R2   4   3   4   4   7"
            ]
          },
          "metadata": {
            "tags": []
          },
          "execution_count": 29
        }
      ]
    },
    {
      "cell_type": "code",
      "metadata": {
        "id": "MpE1uZ40q4JI",
        "colab_type": "code",
        "colab": {}
      },
      "source": [
        "mass = pd.Series([0.33, 4.87, 5.97, 0.642, 1898, 568, 86.8, 102, 0.0146], \n",
        "                 index=['Mercury', 'Venus', 'Earth', 'Mars', 'Jupiter', 'Saturn', 'Uranus', 'Neptune', 'Pluto'])\n",
        "diameter = pd.Series([4879, 12104, 12756, 3475, 6792, 142984, 120536, 51118, 49528, 2370], \n",
        "                     index=['Mercury', 'Venus', 'Earth', 'Moon', 'Mars', 'Jupiter', 'Saturn', 'Uranus', 'Neptune', 'Pluto'])"
      ],
      "execution_count": 30,
      "outputs": []
    },
    {
      "cell_type": "code",
      "metadata": {
        "id": "Nfm-nRIirDMS",
        "colab_type": "code",
        "colab": {
          "base_uri": "https://localhost:8080/",
          "height": 210
        },
        "outputId": "c4431d4c-eb65-4057-8c67-07941e5f36ae"
      },
      "source": [
        "mass"
      ],
      "execution_count": 31,
      "outputs": [
        {
          "output_type": "execute_result",
          "data": {
            "text/plain": [
              "Mercury       0.3300\n",
              "Venus         4.8700\n",
              "Earth         5.9700\n",
              "Mars          0.6420\n",
              "Jupiter    1898.0000\n",
              "Saturn      568.0000\n",
              "Uranus       86.8000\n",
              "Neptune     102.0000\n",
              "Pluto         0.0146\n",
              "dtype: float64"
            ]
          },
          "metadata": {
            "tags": []
          },
          "execution_count": 31
        }
      ]
    },
    {
      "cell_type": "code",
      "metadata": {
        "id": "tR5vE57urD_8",
        "colab_type": "code",
        "colab": {
          "base_uri": "https://localhost:8080/",
          "height": 229
        },
        "outputId": "e59e4de9-f4d4-4277-9e8d-58a52b6e2f34"
      },
      "source": [
        "diameter"
      ],
      "execution_count": 32,
      "outputs": [
        {
          "output_type": "execute_result",
          "data": {
            "text/plain": [
              "Mercury      4879\n",
              "Venus       12104\n",
              "Earth       12756\n",
              "Moon         3475\n",
              "Mars         6792\n",
              "Jupiter    142984\n",
              "Saturn     120536\n",
              "Uranus      51118\n",
              "Neptune     49528\n",
              "Pluto        2370\n",
              "dtype: int64"
            ]
          },
          "metadata": {
            "tags": []
          },
          "execution_count": 32
        }
      ]
    },
    {
      "cell_type": "code",
      "metadata": {
        "id": "Fx3-OO-vrEjH",
        "colab_type": "code",
        "colab": {}
      },
      "source": [
        "df = pd.DataFrame({'Mass': mass, 'Diameter': diameter})"
      ],
      "execution_count": 33,
      "outputs": []
    },
    {
      "cell_type": "code",
      "metadata": {
        "id": "NYaYD8_frXiU",
        "colab_type": "code",
        "colab": {
          "base_uri": "https://localhost:8080/",
          "height": 363
        },
        "outputId": "c6dd3ebf-d63d-430e-82b1-3b65a4bdc63f"
      },
      "source": [
        "df"
      ],
      "execution_count": 34,
      "outputs": [
        {
          "output_type": "execute_result",
          "data": {
            "text/html": [
              "<div>\n",
              "<style scoped>\n",
              "    .dataframe tbody tr th:only-of-type {\n",
              "        vertical-align: middle;\n",
              "    }\n",
              "\n",
              "    .dataframe tbody tr th {\n",
              "        vertical-align: top;\n",
              "    }\n",
              "\n",
              "    .dataframe thead th {\n",
              "        text-align: right;\n",
              "    }\n",
              "</style>\n",
              "<table border=\"1\" class=\"dataframe\">\n",
              "  <thead>\n",
              "    <tr style=\"text-align: right;\">\n",
              "      <th></th>\n",
              "      <th>Mass</th>\n",
              "      <th>Diameter</th>\n",
              "    </tr>\n",
              "  </thead>\n",
              "  <tbody>\n",
              "    <tr>\n",
              "      <th>Earth</th>\n",
              "      <td>5.9700</td>\n",
              "      <td>12756</td>\n",
              "    </tr>\n",
              "    <tr>\n",
              "      <th>Jupiter</th>\n",
              "      <td>1898.0000</td>\n",
              "      <td>142984</td>\n",
              "    </tr>\n",
              "    <tr>\n",
              "      <th>Mars</th>\n",
              "      <td>0.6420</td>\n",
              "      <td>6792</td>\n",
              "    </tr>\n",
              "    <tr>\n",
              "      <th>Mercury</th>\n",
              "      <td>0.3300</td>\n",
              "      <td>4879</td>\n",
              "    </tr>\n",
              "    <tr>\n",
              "      <th>Moon</th>\n",
              "      <td>NaN</td>\n",
              "      <td>3475</td>\n",
              "    </tr>\n",
              "    <tr>\n",
              "      <th>Neptune</th>\n",
              "      <td>102.0000</td>\n",
              "      <td>49528</td>\n",
              "    </tr>\n",
              "    <tr>\n",
              "      <th>Pluto</th>\n",
              "      <td>0.0146</td>\n",
              "      <td>2370</td>\n",
              "    </tr>\n",
              "    <tr>\n",
              "      <th>Saturn</th>\n",
              "      <td>568.0000</td>\n",
              "      <td>120536</td>\n",
              "    </tr>\n",
              "    <tr>\n",
              "      <th>Uranus</th>\n",
              "      <td>86.8000</td>\n",
              "      <td>51118</td>\n",
              "    </tr>\n",
              "    <tr>\n",
              "      <th>Venus</th>\n",
              "      <td>4.8700</td>\n",
              "      <td>12104</td>\n",
              "    </tr>\n",
              "  </tbody>\n",
              "</table>\n",
              "</div>"
            ],
            "text/plain": [
              "              Mass  Diameter\n",
              "Earth       5.9700     12756\n",
              "Jupiter  1898.0000    142984\n",
              "Mars        0.6420      6792\n",
              "Mercury     0.3300      4879\n",
              "Moon           NaN      3475\n",
              "Neptune   102.0000     49528\n",
              "Pluto       0.0146      2370\n",
              "Saturn    568.0000    120536\n",
              "Uranus     86.8000     51118\n",
              "Venus       4.8700     12104"
            ]
          },
          "metadata": {
            "tags": []
          },
          "execution_count": 34
        }
      ]
    },
    {
      "cell_type": "code",
      "metadata": {
        "id": "cvdyXbILrYGK",
        "colab_type": "code",
        "colab": {
          "base_uri": "https://localhost:8080/",
          "height": 229
        },
        "outputId": "1d8483ab-35a6-4ddf-8cb7-e66210f8178f"
      },
      "source": [
        "df['Mass']"
      ],
      "execution_count": 35,
      "outputs": [
        {
          "output_type": "execute_result",
          "data": {
            "text/plain": [
              "Earth         5.9700\n",
              "Jupiter    1898.0000\n",
              "Mars          0.6420\n",
              "Mercury       0.3300\n",
              "Moon             NaN\n",
              "Neptune     102.0000\n",
              "Pluto         0.0146\n",
              "Saturn      568.0000\n",
              "Uranus       86.8000\n",
              "Venus         4.8700\n",
              "Name: Mass, dtype: float64"
            ]
          },
          "metadata": {
            "tags": []
          },
          "execution_count": 35
        }
      ]
    },
    {
      "cell_type": "code",
      "metadata": {
        "id": "HtxOD7NSrzmJ",
        "colab_type": "code",
        "colab": {
          "base_uri": "https://localhost:8080/",
          "height": 229
        },
        "outputId": "698b316a-1a1a-48e3-a04e-4e8b52443fb5"
      },
      "source": [
        "df['Diameter']"
      ],
      "execution_count": 36,
      "outputs": [
        {
          "output_type": "execute_result",
          "data": {
            "text/plain": [
              "Earth       12756\n",
              "Jupiter    142984\n",
              "Mars         6792\n",
              "Mercury      4879\n",
              "Moon         3475\n",
              "Neptune     49528\n",
              "Pluto        2370\n",
              "Saturn     120536\n",
              "Uranus      51118\n",
              "Venus       12104\n",
              "Name: Diameter, dtype: int64"
            ]
          },
          "metadata": {
            "tags": []
          },
          "execution_count": 36
        }
      ]
    },
    {
      "cell_type": "code",
      "metadata": {
        "id": "GPU_BkLmr72j",
        "colab_type": "code",
        "colab": {
          "base_uri": "https://localhost:8080/",
          "height": 803
        },
        "outputId": "26355cb1-820a-43cd-9e9b-84a44e4bc905"
      },
      "source": [
        "df['Earth']"
      ],
      "execution_count": 37,
      "outputs": [
        {
          "output_type": "error",
          "ename": "KeyError",
          "evalue": "ignored",
          "traceback": [
            "\u001b[0;31m---------------------------------------------------------------------------\u001b[0m",
            "\u001b[0;31mKeyError\u001b[0m                                  Traceback (most recent call last)",
            "\u001b[0;32m/usr/local/lib/python3.6/dist-packages/pandas/core/indexes/base.py\u001b[0m in \u001b[0;36mget_loc\u001b[0;34m(self, key, method, tolerance)\u001b[0m\n\u001b[1;32m   2645\u001b[0m             \u001b[0;32mtry\u001b[0m\u001b[0;34m:\u001b[0m\u001b[0;34m\u001b[0m\u001b[0;34m\u001b[0m\u001b[0m\n\u001b[0;32m-> 2646\u001b[0;31m                 \u001b[0;32mreturn\u001b[0m \u001b[0mself\u001b[0m\u001b[0;34m.\u001b[0m\u001b[0m_engine\u001b[0m\u001b[0;34m.\u001b[0m\u001b[0mget_loc\u001b[0m\u001b[0;34m(\u001b[0m\u001b[0mkey\u001b[0m\u001b[0;34m)\u001b[0m\u001b[0;34m\u001b[0m\u001b[0;34m\u001b[0m\u001b[0m\n\u001b[0m\u001b[1;32m   2647\u001b[0m             \u001b[0;32mexcept\u001b[0m \u001b[0mKeyError\u001b[0m\u001b[0;34m:\u001b[0m\u001b[0;34m\u001b[0m\u001b[0;34m\u001b[0m\u001b[0m\n",
            "\u001b[0;32mpandas/_libs/index.pyx\u001b[0m in \u001b[0;36mpandas._libs.index.IndexEngine.get_loc\u001b[0;34m()\u001b[0m\n",
            "\u001b[0;32mpandas/_libs/index.pyx\u001b[0m in \u001b[0;36mpandas._libs.index.IndexEngine.get_loc\u001b[0;34m()\u001b[0m\n",
            "\u001b[0;32mpandas/_libs/hashtable_class_helper.pxi\u001b[0m in \u001b[0;36mpandas._libs.hashtable.PyObjectHashTable.get_item\u001b[0;34m()\u001b[0m\n",
            "\u001b[0;32mpandas/_libs/hashtable_class_helper.pxi\u001b[0m in \u001b[0;36mpandas._libs.hashtable.PyObjectHashTable.get_item\u001b[0;34m()\u001b[0m\n",
            "\u001b[0;31mKeyError\u001b[0m: 'Earth'",
            "\nDuring handling of the above exception, another exception occurred:\n",
            "\u001b[0;31mKeyError\u001b[0m                                  Traceback (most recent call last)",
            "\u001b[0;32m<ipython-input-37-b07be539a774>\u001b[0m in \u001b[0;36m<module>\u001b[0;34m()\u001b[0m\n\u001b[0;32m----> 1\u001b[0;31m \u001b[0mdf\u001b[0m\u001b[0;34m[\u001b[0m\u001b[0;34m'Earth'\u001b[0m\u001b[0;34m]\u001b[0m\u001b[0;34m\u001b[0m\u001b[0;34m\u001b[0m\u001b[0m\n\u001b[0m",
            "\u001b[0;32m/usr/local/lib/python3.6/dist-packages/pandas/core/frame.py\u001b[0m in \u001b[0;36m__getitem__\u001b[0;34m(self, key)\u001b[0m\n\u001b[1;32m   2798\u001b[0m             \u001b[0;32mif\u001b[0m \u001b[0mself\u001b[0m\u001b[0;34m.\u001b[0m\u001b[0mcolumns\u001b[0m\u001b[0;34m.\u001b[0m\u001b[0mnlevels\u001b[0m \u001b[0;34m>\u001b[0m \u001b[0;36m1\u001b[0m\u001b[0;34m:\u001b[0m\u001b[0;34m\u001b[0m\u001b[0;34m\u001b[0m\u001b[0m\n\u001b[1;32m   2799\u001b[0m                 \u001b[0;32mreturn\u001b[0m \u001b[0mself\u001b[0m\u001b[0;34m.\u001b[0m\u001b[0m_getitem_multilevel\u001b[0m\u001b[0;34m(\u001b[0m\u001b[0mkey\u001b[0m\u001b[0;34m)\u001b[0m\u001b[0;34m\u001b[0m\u001b[0;34m\u001b[0m\u001b[0m\n\u001b[0;32m-> 2800\u001b[0;31m             \u001b[0mindexer\u001b[0m \u001b[0;34m=\u001b[0m \u001b[0mself\u001b[0m\u001b[0;34m.\u001b[0m\u001b[0mcolumns\u001b[0m\u001b[0;34m.\u001b[0m\u001b[0mget_loc\u001b[0m\u001b[0;34m(\u001b[0m\u001b[0mkey\u001b[0m\u001b[0;34m)\u001b[0m\u001b[0;34m\u001b[0m\u001b[0;34m\u001b[0m\u001b[0m\n\u001b[0m\u001b[1;32m   2801\u001b[0m             \u001b[0;32mif\u001b[0m \u001b[0mis_integer\u001b[0m\u001b[0;34m(\u001b[0m\u001b[0mindexer\u001b[0m\u001b[0;34m)\u001b[0m\u001b[0;34m:\u001b[0m\u001b[0;34m\u001b[0m\u001b[0;34m\u001b[0m\u001b[0m\n\u001b[1;32m   2802\u001b[0m                 \u001b[0mindexer\u001b[0m \u001b[0;34m=\u001b[0m \u001b[0;34m[\u001b[0m\u001b[0mindexer\u001b[0m\u001b[0;34m]\u001b[0m\u001b[0;34m\u001b[0m\u001b[0;34m\u001b[0m\u001b[0m\n",
            "\u001b[0;32m/usr/local/lib/python3.6/dist-packages/pandas/core/indexes/base.py\u001b[0m in \u001b[0;36mget_loc\u001b[0;34m(self, key, method, tolerance)\u001b[0m\n\u001b[1;32m   2646\u001b[0m                 \u001b[0;32mreturn\u001b[0m \u001b[0mself\u001b[0m\u001b[0;34m.\u001b[0m\u001b[0m_engine\u001b[0m\u001b[0;34m.\u001b[0m\u001b[0mget_loc\u001b[0m\u001b[0;34m(\u001b[0m\u001b[0mkey\u001b[0m\u001b[0;34m)\u001b[0m\u001b[0;34m\u001b[0m\u001b[0;34m\u001b[0m\u001b[0m\n\u001b[1;32m   2647\u001b[0m             \u001b[0;32mexcept\u001b[0m \u001b[0mKeyError\u001b[0m\u001b[0;34m:\u001b[0m\u001b[0;34m\u001b[0m\u001b[0;34m\u001b[0m\u001b[0m\n\u001b[0;32m-> 2648\u001b[0;31m                 \u001b[0;32mreturn\u001b[0m \u001b[0mself\u001b[0m\u001b[0;34m.\u001b[0m\u001b[0m_engine\u001b[0m\u001b[0;34m.\u001b[0m\u001b[0mget_loc\u001b[0m\u001b[0;34m(\u001b[0m\u001b[0mself\u001b[0m\u001b[0;34m.\u001b[0m\u001b[0m_maybe_cast_indexer\u001b[0m\u001b[0;34m(\u001b[0m\u001b[0mkey\u001b[0m\u001b[0;34m)\u001b[0m\u001b[0;34m)\u001b[0m\u001b[0;34m\u001b[0m\u001b[0;34m\u001b[0m\u001b[0m\n\u001b[0m\u001b[1;32m   2649\u001b[0m         \u001b[0mindexer\u001b[0m \u001b[0;34m=\u001b[0m \u001b[0mself\u001b[0m\u001b[0;34m.\u001b[0m\u001b[0mget_indexer\u001b[0m\u001b[0;34m(\u001b[0m\u001b[0;34m[\u001b[0m\u001b[0mkey\u001b[0m\u001b[0;34m]\u001b[0m\u001b[0;34m,\u001b[0m \u001b[0mmethod\u001b[0m\u001b[0;34m=\u001b[0m\u001b[0mmethod\u001b[0m\u001b[0;34m,\u001b[0m \u001b[0mtolerance\u001b[0m\u001b[0;34m=\u001b[0m\u001b[0mtolerance\u001b[0m\u001b[0;34m)\u001b[0m\u001b[0;34m\u001b[0m\u001b[0;34m\u001b[0m\u001b[0m\n\u001b[1;32m   2650\u001b[0m         \u001b[0;32mif\u001b[0m \u001b[0mindexer\u001b[0m\u001b[0;34m.\u001b[0m\u001b[0mndim\u001b[0m \u001b[0;34m>\u001b[0m \u001b[0;36m1\u001b[0m \u001b[0;32mor\u001b[0m \u001b[0mindexer\u001b[0m\u001b[0;34m.\u001b[0m\u001b[0msize\u001b[0m \u001b[0;34m>\u001b[0m \u001b[0;36m1\u001b[0m\u001b[0;34m:\u001b[0m\u001b[0;34m\u001b[0m\u001b[0;34m\u001b[0m\u001b[0m\n",
            "\u001b[0;32mpandas/_libs/index.pyx\u001b[0m in \u001b[0;36mpandas._libs.index.IndexEngine.get_loc\u001b[0;34m()\u001b[0m\n",
            "\u001b[0;32mpandas/_libs/index.pyx\u001b[0m in \u001b[0;36mpandas._libs.index.IndexEngine.get_loc\u001b[0;34m()\u001b[0m\n",
            "\u001b[0;32mpandas/_libs/hashtable_class_helper.pxi\u001b[0m in \u001b[0;36mpandas._libs.hashtable.PyObjectHashTable.get_item\u001b[0;34m()\u001b[0m\n",
            "\u001b[0;32mpandas/_libs/hashtable_class_helper.pxi\u001b[0m in \u001b[0;36mpandas._libs.hashtable.PyObjectHashTable.get_item\u001b[0;34m()\u001b[0m\n",
            "\u001b[0;31mKeyError\u001b[0m: 'Earth'"
          ]
        }
      ]
    },
    {
      "cell_type": "code",
      "metadata": {
        "id": "tJS9ONODr-GV",
        "colab_type": "code",
        "colab": {
          "base_uri": "https://localhost:8080/",
          "height": 36
        },
        "outputId": "619f5a9e-df1c-41bb-da2e-a178986986ee"
      },
      "source": [
        "df['Mass']['Earth']"
      ],
      "execution_count": 45,
      "outputs": [
        {
          "output_type": "execute_result",
          "data": {
            "text/plain": [
              "5.97"
            ]
          },
          "metadata": {
            "tags": []
          },
          "execution_count": 45
        }
      ]
    },
    {
      "cell_type": "code",
      "metadata": {
        "id": "6pAhGmBqsCr5",
        "colab_type": "code",
        "colab": {
          "base_uri": "https://localhost:8080/",
          "height": 36
        },
        "outputId": "61be8186-bb91-4200-e648-873bd41a770d"
      },
      "source": [
        "df.Mass.Earth"
      ],
      "execution_count": 46,
      "outputs": [
        {
          "output_type": "execute_result",
          "data": {
            "text/plain": [
              "5.97"
            ]
          },
          "metadata": {
            "tags": []
          },
          "execution_count": 46
        }
      ]
    },
    {
      "cell_type": "code",
      "metadata": {
        "id": "aTKGvoiQsEer",
        "colab_type": "code",
        "colab": {}
      },
      "source": [
        "df['pop'] = 0"
      ],
      "execution_count": 51,
      "outputs": []
    },
    {
      "cell_type": "code",
      "metadata": {
        "id": "nqXGDxnOsLt5",
        "colab_type": "code",
        "colab": {
          "base_uri": "https://localhost:8080/",
          "height": 363
        },
        "outputId": "1ac534f2-0208-4e72-a1b7-661a027b68f4"
      },
      "source": [
        "df"
      ],
      "execution_count": 53,
      "outputs": [
        {
          "output_type": "execute_result",
          "data": {
            "text/html": [
              "<div>\n",
              "<style scoped>\n",
              "    .dataframe tbody tr th:only-of-type {\n",
              "        vertical-align: middle;\n",
              "    }\n",
              "\n",
              "    .dataframe tbody tr th {\n",
              "        vertical-align: top;\n",
              "    }\n",
              "\n",
              "    .dataframe thead th {\n",
              "        text-align: right;\n",
              "    }\n",
              "</style>\n",
              "<table border=\"1\" class=\"dataframe\">\n",
              "  <thead>\n",
              "    <tr style=\"text-align: right;\">\n",
              "      <th></th>\n",
              "      <th>Mass</th>\n",
              "      <th>Diameter</th>\n",
              "      <th>pop</th>\n",
              "    </tr>\n",
              "  </thead>\n",
              "  <tbody>\n",
              "    <tr>\n",
              "      <th>Earth</th>\n",
              "      <td>5.9700</td>\n",
              "      <td>12756</td>\n",
              "      <td>0</td>\n",
              "    </tr>\n",
              "    <tr>\n",
              "      <th>Jupiter</th>\n",
              "      <td>1898.0000</td>\n",
              "      <td>142984</td>\n",
              "      <td>0</td>\n",
              "    </tr>\n",
              "    <tr>\n",
              "      <th>Mars</th>\n",
              "      <td>0.6420</td>\n",
              "      <td>6792</td>\n",
              "      <td>0</td>\n",
              "    </tr>\n",
              "    <tr>\n",
              "      <th>Mercury</th>\n",
              "      <td>0.3300</td>\n",
              "      <td>4879</td>\n",
              "      <td>0</td>\n",
              "    </tr>\n",
              "    <tr>\n",
              "      <th>Moon</th>\n",
              "      <td>NaN</td>\n",
              "      <td>3475</td>\n",
              "      <td>0</td>\n",
              "    </tr>\n",
              "    <tr>\n",
              "      <th>Neptune</th>\n",
              "      <td>102.0000</td>\n",
              "      <td>49528</td>\n",
              "      <td>0</td>\n",
              "    </tr>\n",
              "    <tr>\n",
              "      <th>Pluto</th>\n",
              "      <td>0.0146</td>\n",
              "      <td>2370</td>\n",
              "      <td>0</td>\n",
              "    </tr>\n",
              "    <tr>\n",
              "      <th>Saturn</th>\n",
              "      <td>568.0000</td>\n",
              "      <td>120536</td>\n",
              "      <td>0</td>\n",
              "    </tr>\n",
              "    <tr>\n",
              "      <th>Uranus</th>\n",
              "      <td>86.8000</td>\n",
              "      <td>51118</td>\n",
              "      <td>0</td>\n",
              "    </tr>\n",
              "    <tr>\n",
              "      <th>Venus</th>\n",
              "      <td>4.8700</td>\n",
              "      <td>12104</td>\n",
              "      <td>0</td>\n",
              "    </tr>\n",
              "  </tbody>\n",
              "</table>\n",
              "</div>"
            ],
            "text/plain": [
              "              Mass  Diameter  pop\n",
              "Earth       5.9700     12756    0\n",
              "Jupiter  1898.0000    142984    0\n",
              "Mars        0.6420      6792    0\n",
              "Mercury     0.3300      4879    0\n",
              "Moon           NaN      3475    0\n",
              "Neptune   102.0000     49528    0\n",
              "Pluto       0.0146      2370    0\n",
              "Saturn    568.0000    120536    0\n",
              "Uranus     86.8000     51118    0\n",
              "Venus       4.8700     12104    0"
            ]
          },
          "metadata": {
            "tags": []
          },
          "execution_count": 53
        }
      ]
    },
    {
      "cell_type": "code",
      "metadata": {
        "id": "312kXeoFsMMS",
        "colab_type": "code",
        "colab": {
          "base_uri": "https://localhost:8080/",
          "height": 134
        },
        "outputId": "5f7bb69a-a1f2-40ca-ca76-0e596deb9052"
      },
      "source": [
        "df['pop']['Earth'] = 8000000000"
      ],
      "execution_count": 54,
      "outputs": [
        {
          "output_type": "stream",
          "text": [
            "/usr/local/lib/python3.6/dist-packages/ipykernel_launcher.py:1: SettingWithCopyWarning: \n",
            "A value is trying to be set on a copy of a slice from a DataFrame\n",
            "\n",
            "See the caveats in the documentation: https://pandas.pydata.org/pandas-docs/stable/user_guide/indexing.html#returning-a-view-versus-a-copy\n",
            "  \"\"\"Entry point for launching an IPython kernel.\n"
          ],
          "name": "stderr"
        }
      ]
    },
    {
      "cell_type": "code",
      "metadata": {
        "id": "oyBUaQnmsV6N",
        "colab_type": "code",
        "colab": {
          "base_uri": "https://localhost:8080/",
          "height": 363
        },
        "outputId": "8f2f56cb-4e1a-4b16-8bc6-ba62d0cf3160"
      },
      "source": [
        "df"
      ],
      "execution_count": 55,
      "outputs": [
        {
          "output_type": "execute_result",
          "data": {
            "text/html": [
              "<div>\n",
              "<style scoped>\n",
              "    .dataframe tbody tr th:only-of-type {\n",
              "        vertical-align: middle;\n",
              "    }\n",
              "\n",
              "    .dataframe tbody tr th {\n",
              "        vertical-align: top;\n",
              "    }\n",
              "\n",
              "    .dataframe thead th {\n",
              "        text-align: right;\n",
              "    }\n",
              "</style>\n",
              "<table border=\"1\" class=\"dataframe\">\n",
              "  <thead>\n",
              "    <tr style=\"text-align: right;\">\n",
              "      <th></th>\n",
              "      <th>Mass</th>\n",
              "      <th>Diameter</th>\n",
              "      <th>pop</th>\n",
              "    </tr>\n",
              "  </thead>\n",
              "  <tbody>\n",
              "    <tr>\n",
              "      <th>Earth</th>\n",
              "      <td>5.9700</td>\n",
              "      <td>12756</td>\n",
              "      <td>8000000000</td>\n",
              "    </tr>\n",
              "    <tr>\n",
              "      <th>Jupiter</th>\n",
              "      <td>1898.0000</td>\n",
              "      <td>142984</td>\n",
              "      <td>0</td>\n",
              "    </tr>\n",
              "    <tr>\n",
              "      <th>Mars</th>\n",
              "      <td>0.6420</td>\n",
              "      <td>6792</td>\n",
              "      <td>0</td>\n",
              "    </tr>\n",
              "    <tr>\n",
              "      <th>Mercury</th>\n",
              "      <td>0.3300</td>\n",
              "      <td>4879</td>\n",
              "      <td>0</td>\n",
              "    </tr>\n",
              "    <tr>\n",
              "      <th>Moon</th>\n",
              "      <td>NaN</td>\n",
              "      <td>3475</td>\n",
              "      <td>0</td>\n",
              "    </tr>\n",
              "    <tr>\n",
              "      <th>Neptune</th>\n",
              "      <td>102.0000</td>\n",
              "      <td>49528</td>\n",
              "      <td>0</td>\n",
              "    </tr>\n",
              "    <tr>\n",
              "      <th>Pluto</th>\n",
              "      <td>0.0146</td>\n",
              "      <td>2370</td>\n",
              "      <td>0</td>\n",
              "    </tr>\n",
              "    <tr>\n",
              "      <th>Saturn</th>\n",
              "      <td>568.0000</td>\n",
              "      <td>120536</td>\n",
              "      <td>0</td>\n",
              "    </tr>\n",
              "    <tr>\n",
              "      <th>Uranus</th>\n",
              "      <td>86.8000</td>\n",
              "      <td>51118</td>\n",
              "      <td>0</td>\n",
              "    </tr>\n",
              "    <tr>\n",
              "      <th>Venus</th>\n",
              "      <td>4.8700</td>\n",
              "      <td>12104</td>\n",
              "      <td>0</td>\n",
              "    </tr>\n",
              "  </tbody>\n",
              "</table>\n",
              "</div>"
            ],
            "text/plain": [
              "              Mass  Diameter         pop\n",
              "Earth       5.9700     12756  8000000000\n",
              "Jupiter  1898.0000    142984           0\n",
              "Mars        0.6420      6792           0\n",
              "Mercury     0.3300      4879           0\n",
              "Moon           NaN      3475           0\n",
              "Neptune   102.0000     49528           0\n",
              "Pluto       0.0146      2370           0\n",
              "Saturn    568.0000    120536           0\n",
              "Uranus     86.8000     51118           0\n",
              "Venus       4.8700     12104           0"
            ]
          },
          "metadata": {
            "tags": []
          },
          "execution_count": 55
        }
      ]
    },
    {
      "cell_type": "code",
      "metadata": {
        "id": "ULlCbl5tsYQ3",
        "colab_type": "code",
        "colab": {
          "base_uri": "https://localhost:8080/",
          "height": 36
        },
        "outputId": "2f5b6d5c-0e87-4c14-94d3-6ad5f3a8ca8f"
      },
      "source": [
        "df['Mass'] is df.Mass"
      ],
      "execution_count": 56,
      "outputs": [
        {
          "output_type": "execute_result",
          "data": {
            "text/plain": [
              "True"
            ]
          },
          "metadata": {
            "tags": []
          },
          "execution_count": 56
        }
      ]
    },
    {
      "cell_type": "code",
      "metadata": {
        "id": "IvNMvrEOse8B",
        "colab_type": "code",
        "colab": {
          "base_uri": "https://localhost:8080/",
          "height": 36
        },
        "outputId": "e705e01f-fd81-459e-9d97-a3e2cfa6fe5b"
      },
      "source": [
        "df['pop'] is df.pop"
      ],
      "execution_count": 57,
      "outputs": [
        {
          "output_type": "execute_result",
          "data": {
            "text/plain": [
              "False"
            ]
          },
          "metadata": {
            "tags": []
          },
          "execution_count": 57
        }
      ]
    },
    {
      "cell_type": "code",
      "metadata": {
        "id": "2jujyToNvScJ",
        "colab_type": "code",
        "colab": {
          "base_uri": "https://localhost:8080/",
          "height": 363
        },
        "outputId": "12160193-37c8-46e3-ab51-38f78d54d759"
      },
      "source": [
        "df"
      ],
      "execution_count": 58,
      "outputs": [
        {
          "output_type": "execute_result",
          "data": {
            "text/html": [
              "<div>\n",
              "<style scoped>\n",
              "    .dataframe tbody tr th:only-of-type {\n",
              "        vertical-align: middle;\n",
              "    }\n",
              "\n",
              "    .dataframe tbody tr th {\n",
              "        vertical-align: top;\n",
              "    }\n",
              "\n",
              "    .dataframe thead th {\n",
              "        text-align: right;\n",
              "    }\n",
              "</style>\n",
              "<table border=\"1\" class=\"dataframe\">\n",
              "  <thead>\n",
              "    <tr style=\"text-align: right;\">\n",
              "      <th></th>\n",
              "      <th>Mass</th>\n",
              "      <th>Diameter</th>\n",
              "      <th>pop</th>\n",
              "    </tr>\n",
              "  </thead>\n",
              "  <tbody>\n",
              "    <tr>\n",
              "      <th>Earth</th>\n",
              "      <td>5.9700</td>\n",
              "      <td>12756</td>\n",
              "      <td>8000000000</td>\n",
              "    </tr>\n",
              "    <tr>\n",
              "      <th>Jupiter</th>\n",
              "      <td>1898.0000</td>\n",
              "      <td>142984</td>\n",
              "      <td>0</td>\n",
              "    </tr>\n",
              "    <tr>\n",
              "      <th>Mars</th>\n",
              "      <td>0.6420</td>\n",
              "      <td>6792</td>\n",
              "      <td>0</td>\n",
              "    </tr>\n",
              "    <tr>\n",
              "      <th>Mercury</th>\n",
              "      <td>0.3300</td>\n",
              "      <td>4879</td>\n",
              "      <td>0</td>\n",
              "    </tr>\n",
              "    <tr>\n",
              "      <th>Moon</th>\n",
              "      <td>NaN</td>\n",
              "      <td>3475</td>\n",
              "      <td>0</td>\n",
              "    </tr>\n",
              "    <tr>\n",
              "      <th>Neptune</th>\n",
              "      <td>102.0000</td>\n",
              "      <td>49528</td>\n",
              "      <td>0</td>\n",
              "    </tr>\n",
              "    <tr>\n",
              "      <th>Pluto</th>\n",
              "      <td>0.0146</td>\n",
              "      <td>2370</td>\n",
              "      <td>0</td>\n",
              "    </tr>\n",
              "    <tr>\n",
              "      <th>Saturn</th>\n",
              "      <td>568.0000</td>\n",
              "      <td>120536</td>\n",
              "      <td>0</td>\n",
              "    </tr>\n",
              "    <tr>\n",
              "      <th>Uranus</th>\n",
              "      <td>86.8000</td>\n",
              "      <td>51118</td>\n",
              "      <td>0</td>\n",
              "    </tr>\n",
              "    <tr>\n",
              "      <th>Venus</th>\n",
              "      <td>4.8700</td>\n",
              "      <td>12104</td>\n",
              "      <td>0</td>\n",
              "    </tr>\n",
              "  </tbody>\n",
              "</table>\n",
              "</div>"
            ],
            "text/plain": [
              "              Mass  Diameter         pop\n",
              "Earth       5.9700     12756  8000000000\n",
              "Jupiter  1898.0000    142984           0\n",
              "Mars        0.6420      6792           0\n",
              "Mercury     0.3300      4879           0\n",
              "Moon           NaN      3475           0\n",
              "Neptune   102.0000     49528           0\n",
              "Pluto       0.0146      2370           0\n",
              "Saturn    568.0000    120536           0\n",
              "Uranus     86.8000     51118           0\n",
              "Venus       4.8700     12104           0"
            ]
          },
          "metadata": {
            "tags": []
          },
          "execution_count": 58
        }
      ]
    },
    {
      "cell_type": "code",
      "metadata": {
        "id": "TFmPfmtUwn9D",
        "colab_type": "code",
        "colab": {
          "base_uri": "https://localhost:8080/",
          "height": 363
        },
        "outputId": "dffd1873-9842-4079-e1bf-df933d71daaf"
      },
      "source": [
        "df"
      ],
      "execution_count": 59,
      "outputs": [
        {
          "output_type": "execute_result",
          "data": {
            "text/html": [
              "<div>\n",
              "<style scoped>\n",
              "    .dataframe tbody tr th:only-of-type {\n",
              "        vertical-align: middle;\n",
              "    }\n",
              "\n",
              "    .dataframe tbody tr th {\n",
              "        vertical-align: top;\n",
              "    }\n",
              "\n",
              "    .dataframe thead th {\n",
              "        text-align: right;\n",
              "    }\n",
              "</style>\n",
              "<table border=\"1\" class=\"dataframe\">\n",
              "  <thead>\n",
              "    <tr style=\"text-align: right;\">\n",
              "      <th></th>\n",
              "      <th>Mass</th>\n",
              "      <th>Diameter</th>\n",
              "      <th>pop</th>\n",
              "    </tr>\n",
              "  </thead>\n",
              "  <tbody>\n",
              "    <tr>\n",
              "      <th>Earth</th>\n",
              "      <td>5.9700</td>\n",
              "      <td>12756</td>\n",
              "      <td>8000000000</td>\n",
              "    </tr>\n",
              "    <tr>\n",
              "      <th>Jupiter</th>\n",
              "      <td>1898.0000</td>\n",
              "      <td>142984</td>\n",
              "      <td>0</td>\n",
              "    </tr>\n",
              "    <tr>\n",
              "      <th>Mars</th>\n",
              "      <td>0.6420</td>\n",
              "      <td>6792</td>\n",
              "      <td>0</td>\n",
              "    </tr>\n",
              "    <tr>\n",
              "      <th>Mercury</th>\n",
              "      <td>0.3300</td>\n",
              "      <td>4879</td>\n",
              "      <td>0</td>\n",
              "    </tr>\n",
              "    <tr>\n",
              "      <th>Moon</th>\n",
              "      <td>NaN</td>\n",
              "      <td>3475</td>\n",
              "      <td>0</td>\n",
              "    </tr>\n",
              "    <tr>\n",
              "      <th>Neptune</th>\n",
              "      <td>102.0000</td>\n",
              "      <td>49528</td>\n",
              "      <td>0</td>\n",
              "    </tr>\n",
              "    <tr>\n",
              "      <th>Pluto</th>\n",
              "      <td>0.0146</td>\n",
              "      <td>2370</td>\n",
              "      <td>0</td>\n",
              "    </tr>\n",
              "    <tr>\n",
              "      <th>Saturn</th>\n",
              "      <td>568.0000</td>\n",
              "      <td>120536</td>\n",
              "      <td>0</td>\n",
              "    </tr>\n",
              "    <tr>\n",
              "      <th>Uranus</th>\n",
              "      <td>86.8000</td>\n",
              "      <td>51118</td>\n",
              "      <td>0</td>\n",
              "    </tr>\n",
              "    <tr>\n",
              "      <th>Venus</th>\n",
              "      <td>4.8700</td>\n",
              "      <td>12104</td>\n",
              "      <td>0</td>\n",
              "    </tr>\n",
              "  </tbody>\n",
              "</table>\n",
              "</div>"
            ],
            "text/plain": [
              "              Mass  Diameter         pop\n",
              "Earth       5.9700     12756  8000000000\n",
              "Jupiter  1898.0000    142984           0\n",
              "Mars        0.6420      6792           0\n",
              "Mercury     0.3300      4879           0\n",
              "Moon           NaN      3475           0\n",
              "Neptune   102.0000     49528           0\n",
              "Pluto       0.0146      2370           0\n",
              "Saturn    568.0000    120536           0\n",
              "Uranus     86.8000     51118           0\n",
              "Venus       4.8700     12104           0"
            ]
          },
          "metadata": {
            "tags": []
          },
          "execution_count": 59
        }
      ]
    },
    {
      "cell_type": "code",
      "metadata": {
        "id": "3IVoQK952eZ_",
        "colab_type": "code",
        "colab": {
          "base_uri": "https://localhost:8080/",
          "height": 94
        },
        "outputId": "b9831b0d-e49f-4ac3-b888-3d23fa379a0c"
      },
      "source": [
        "df.loc['Earth']"
      ],
      "execution_count": 60,
      "outputs": [
        {
          "output_type": "execute_result",
          "data": {
            "text/plain": [
              "Mass        5.970000e+00\n",
              "Diameter    1.275600e+04\n",
              "pop         8.000000e+09\n",
              "Name: Earth, dtype: float64"
            ]
          },
          "metadata": {
            "tags": []
          },
          "execution_count": 60
        }
      ]
    },
    {
      "cell_type": "code",
      "metadata": {
        "id": "vxG_W-J22iSt",
        "colab_type": "code",
        "colab": {
          "base_uri": "https://localhost:8080/",
          "height": 229
        },
        "outputId": "de1b8f55-b4bf-456b-d1c1-ac0276470ad6"
      },
      "source": [
        "df.loc[:,'Mass']"
      ],
      "execution_count": 61,
      "outputs": [
        {
          "output_type": "execute_result",
          "data": {
            "text/plain": [
              "Earth         5.9700\n",
              "Jupiter    1898.0000\n",
              "Mars          0.6420\n",
              "Mercury       0.3300\n",
              "Moon             NaN\n",
              "Neptune     102.0000\n",
              "Pluto         0.0146\n",
              "Saturn      568.0000\n",
              "Uranus       86.8000\n",
              "Venus         4.8700\n",
              "Name: Mass, dtype: float64"
            ]
          },
          "metadata": {
            "tags": []
          },
          "execution_count": 61
        }
      ]
    },
    {
      "cell_type": "code",
      "metadata": {
        "id": "UoGzbXKqsidN",
        "colab_type": "code",
        "colab": {}
      },
      "source": [
        "def create_mean_row(df):\n",
        "    # df.loc['Col_Mean'] = [np.mean(df[col]) for col in df.columns]\n",
        "    df.loc['Col_Mean'] = df.mean()\n",
        "    return df"
      ],
      "execution_count": 78,
      "outputs": []
    },
    {
      "cell_type": "code",
      "metadata": {
        "id": "mI1vzdl32r9q",
        "colab_type": "code",
        "colab": {
          "base_uri": "https://localhost:8080/",
          "height": 363
        },
        "outputId": "0dc40e05-1cc9-426f-e14a-daba32d02aaf"
      },
      "source": [
        "df"
      ],
      "execution_count": 62,
      "outputs": [
        {
          "output_type": "execute_result",
          "data": {
            "text/html": [
              "<div>\n",
              "<style scoped>\n",
              "    .dataframe tbody tr th:only-of-type {\n",
              "        vertical-align: middle;\n",
              "    }\n",
              "\n",
              "    .dataframe tbody tr th {\n",
              "        vertical-align: top;\n",
              "    }\n",
              "\n",
              "    .dataframe thead th {\n",
              "        text-align: right;\n",
              "    }\n",
              "</style>\n",
              "<table border=\"1\" class=\"dataframe\">\n",
              "  <thead>\n",
              "    <tr style=\"text-align: right;\">\n",
              "      <th></th>\n",
              "      <th>Mass</th>\n",
              "      <th>Diameter</th>\n",
              "      <th>pop</th>\n",
              "    </tr>\n",
              "  </thead>\n",
              "  <tbody>\n",
              "    <tr>\n",
              "      <th>Earth</th>\n",
              "      <td>5.9700</td>\n",
              "      <td>12756</td>\n",
              "      <td>8000000000</td>\n",
              "    </tr>\n",
              "    <tr>\n",
              "      <th>Jupiter</th>\n",
              "      <td>1898.0000</td>\n",
              "      <td>142984</td>\n",
              "      <td>0</td>\n",
              "    </tr>\n",
              "    <tr>\n",
              "      <th>Mars</th>\n",
              "      <td>0.6420</td>\n",
              "      <td>6792</td>\n",
              "      <td>0</td>\n",
              "    </tr>\n",
              "    <tr>\n",
              "      <th>Mercury</th>\n",
              "      <td>0.3300</td>\n",
              "      <td>4879</td>\n",
              "      <td>0</td>\n",
              "    </tr>\n",
              "    <tr>\n",
              "      <th>Moon</th>\n",
              "      <td>NaN</td>\n",
              "      <td>3475</td>\n",
              "      <td>0</td>\n",
              "    </tr>\n",
              "    <tr>\n",
              "      <th>Neptune</th>\n",
              "      <td>102.0000</td>\n",
              "      <td>49528</td>\n",
              "      <td>0</td>\n",
              "    </tr>\n",
              "    <tr>\n",
              "      <th>Pluto</th>\n",
              "      <td>0.0146</td>\n",
              "      <td>2370</td>\n",
              "      <td>0</td>\n",
              "    </tr>\n",
              "    <tr>\n",
              "      <th>Saturn</th>\n",
              "      <td>568.0000</td>\n",
              "      <td>120536</td>\n",
              "      <td>0</td>\n",
              "    </tr>\n",
              "    <tr>\n",
              "      <th>Uranus</th>\n",
              "      <td>86.8000</td>\n",
              "      <td>51118</td>\n",
              "      <td>0</td>\n",
              "    </tr>\n",
              "    <tr>\n",
              "      <th>Venus</th>\n",
              "      <td>4.8700</td>\n",
              "      <td>12104</td>\n",
              "      <td>0</td>\n",
              "    </tr>\n",
              "  </tbody>\n",
              "</table>\n",
              "</div>"
            ],
            "text/plain": [
              "              Mass  Diameter         pop\n",
              "Earth       5.9700     12756  8000000000\n",
              "Jupiter  1898.0000    142984           0\n",
              "Mars        0.6420      6792           0\n",
              "Mercury     0.3300      4879           0\n",
              "Moon           NaN      3475           0\n",
              "Neptune   102.0000     49528           0\n",
              "Pluto       0.0146      2370           0\n",
              "Saturn    568.0000    120536           0\n",
              "Uranus     86.8000     51118           0\n",
              "Venus       4.8700     12104           0"
            ]
          },
          "metadata": {
            "tags": []
          },
          "execution_count": 62
        }
      ]
    },
    {
      "cell_type": "code",
      "metadata": {
        "id": "bKQsio-R2uMi",
        "colab_type": "code",
        "colab": {}
      },
      "source": [
        "df.loc['Col_Mean'] = 0"
      ],
      "execution_count": 63,
      "outputs": []
    },
    {
      "cell_type": "code",
      "metadata": {
        "id": "OJ3oTxHH2xEw",
        "colab_type": "code",
        "colab": {
          "base_uri": "https://localhost:8080/",
          "height": 394
        },
        "outputId": "9e2b9ba2-989c-4aee-9189-3fd6209eaf93"
      },
      "source": [
        "df"
      ],
      "execution_count": 64,
      "outputs": [
        {
          "output_type": "execute_result",
          "data": {
            "text/html": [
              "<div>\n",
              "<style scoped>\n",
              "    .dataframe tbody tr th:only-of-type {\n",
              "        vertical-align: middle;\n",
              "    }\n",
              "\n",
              "    .dataframe tbody tr th {\n",
              "        vertical-align: top;\n",
              "    }\n",
              "\n",
              "    .dataframe thead th {\n",
              "        text-align: right;\n",
              "    }\n",
              "</style>\n",
              "<table border=\"1\" class=\"dataframe\">\n",
              "  <thead>\n",
              "    <tr style=\"text-align: right;\">\n",
              "      <th></th>\n",
              "      <th>Mass</th>\n",
              "      <th>Diameter</th>\n",
              "      <th>pop</th>\n",
              "    </tr>\n",
              "  </thead>\n",
              "  <tbody>\n",
              "    <tr>\n",
              "      <th>Earth</th>\n",
              "      <td>5.9700</td>\n",
              "      <td>12756</td>\n",
              "      <td>8000000000</td>\n",
              "    </tr>\n",
              "    <tr>\n",
              "      <th>Jupiter</th>\n",
              "      <td>1898.0000</td>\n",
              "      <td>142984</td>\n",
              "      <td>0</td>\n",
              "    </tr>\n",
              "    <tr>\n",
              "      <th>Mars</th>\n",
              "      <td>0.6420</td>\n",
              "      <td>6792</td>\n",
              "      <td>0</td>\n",
              "    </tr>\n",
              "    <tr>\n",
              "      <th>Mercury</th>\n",
              "      <td>0.3300</td>\n",
              "      <td>4879</td>\n",
              "      <td>0</td>\n",
              "    </tr>\n",
              "    <tr>\n",
              "      <th>Moon</th>\n",
              "      <td>NaN</td>\n",
              "      <td>3475</td>\n",
              "      <td>0</td>\n",
              "    </tr>\n",
              "    <tr>\n",
              "      <th>Neptune</th>\n",
              "      <td>102.0000</td>\n",
              "      <td>49528</td>\n",
              "      <td>0</td>\n",
              "    </tr>\n",
              "    <tr>\n",
              "      <th>Pluto</th>\n",
              "      <td>0.0146</td>\n",
              "      <td>2370</td>\n",
              "      <td>0</td>\n",
              "    </tr>\n",
              "    <tr>\n",
              "      <th>Saturn</th>\n",
              "      <td>568.0000</td>\n",
              "      <td>120536</td>\n",
              "      <td>0</td>\n",
              "    </tr>\n",
              "    <tr>\n",
              "      <th>Uranus</th>\n",
              "      <td>86.8000</td>\n",
              "      <td>51118</td>\n",
              "      <td>0</td>\n",
              "    </tr>\n",
              "    <tr>\n",
              "      <th>Venus</th>\n",
              "      <td>4.8700</td>\n",
              "      <td>12104</td>\n",
              "      <td>0</td>\n",
              "    </tr>\n",
              "    <tr>\n",
              "      <th>Col_Mean</th>\n",
              "      <td>0.0000</td>\n",
              "      <td>0</td>\n",
              "      <td>0</td>\n",
              "    </tr>\n",
              "  </tbody>\n",
              "</table>\n",
              "</div>"
            ],
            "text/plain": [
              "               Mass  Diameter         pop\n",
              "Earth        5.9700     12756  8000000000\n",
              "Jupiter   1898.0000    142984           0\n",
              "Mars         0.6420      6792           0\n",
              "Mercury      0.3300      4879           0\n",
              "Moon            NaN      3475           0\n",
              "Neptune    102.0000     49528           0\n",
              "Pluto        0.0146      2370           0\n",
              "Saturn     568.0000    120536           0\n",
              "Uranus      86.8000     51118           0\n",
              "Venus        4.8700     12104           0\n",
              "Col_Mean     0.0000         0           0"
            ]
          },
          "metadata": {
            "tags": []
          },
          "execution_count": 64
        }
      ]
    },
    {
      "cell_type": "code",
      "metadata": {
        "id": "qK_lYSom2xtV",
        "colab_type": "code",
        "colab": {
          "base_uri": "https://localhost:8080/",
          "height": 36
        },
        "outputId": "ad68366a-63eb-4b47-a78e-de1714c8186b"
      },
      "source": [
        "np.mean(df['Mass'])"
      ],
      "execution_count": 65,
      "outputs": [
        {
          "output_type": "execute_result",
          "data": {
            "text/plain": [
              "266.66266"
            ]
          },
          "metadata": {
            "tags": []
          },
          "execution_count": 65
        }
      ]
    },
    {
      "cell_type": "code",
      "metadata": {
        "id": "XSK6ML7A29Oy",
        "colab_type": "code",
        "colab": {}
      },
      "source": [
        "df.drop('Col_Mean', inplace=True)"
      ],
      "execution_count": 69,
      "outputs": []
    },
    {
      "cell_type": "code",
      "metadata": {
        "id": "FljM-yqN3Dmw",
        "colab_type": "code",
        "colab": {}
      },
      "source": [
        "df.drop('pop', axis=1, inplace=True)"
      ],
      "execution_count": 70,
      "outputs": []
    },
    {
      "cell_type": "code",
      "metadata": {
        "id": "uI9sWmTz3Ii_",
        "colab_type": "code",
        "colab": {
          "base_uri": "https://localhost:8080/",
          "height": 363
        },
        "outputId": "21261dca-e077-4725-e67f-4d40a28fdec6"
      },
      "source": [
        "df"
      ],
      "execution_count": 71,
      "outputs": [
        {
          "output_type": "execute_result",
          "data": {
            "text/html": [
              "<div>\n",
              "<style scoped>\n",
              "    .dataframe tbody tr th:only-of-type {\n",
              "        vertical-align: middle;\n",
              "    }\n",
              "\n",
              "    .dataframe tbody tr th {\n",
              "        vertical-align: top;\n",
              "    }\n",
              "\n",
              "    .dataframe thead th {\n",
              "        text-align: right;\n",
              "    }\n",
              "</style>\n",
              "<table border=\"1\" class=\"dataframe\">\n",
              "  <thead>\n",
              "    <tr style=\"text-align: right;\">\n",
              "      <th></th>\n",
              "      <th>Mass</th>\n",
              "      <th>Diameter</th>\n",
              "    </tr>\n",
              "  </thead>\n",
              "  <tbody>\n",
              "    <tr>\n",
              "      <th>Earth</th>\n",
              "      <td>5.9700</td>\n",
              "      <td>12756</td>\n",
              "    </tr>\n",
              "    <tr>\n",
              "      <th>Jupiter</th>\n",
              "      <td>1898.0000</td>\n",
              "      <td>142984</td>\n",
              "    </tr>\n",
              "    <tr>\n",
              "      <th>Mars</th>\n",
              "      <td>0.6420</td>\n",
              "      <td>6792</td>\n",
              "    </tr>\n",
              "    <tr>\n",
              "      <th>Mercury</th>\n",
              "      <td>0.3300</td>\n",
              "      <td>4879</td>\n",
              "    </tr>\n",
              "    <tr>\n",
              "      <th>Moon</th>\n",
              "      <td>NaN</td>\n",
              "      <td>3475</td>\n",
              "    </tr>\n",
              "    <tr>\n",
              "      <th>Neptune</th>\n",
              "      <td>102.0000</td>\n",
              "      <td>49528</td>\n",
              "    </tr>\n",
              "    <tr>\n",
              "      <th>Pluto</th>\n",
              "      <td>0.0146</td>\n",
              "      <td>2370</td>\n",
              "    </tr>\n",
              "    <tr>\n",
              "      <th>Saturn</th>\n",
              "      <td>568.0000</td>\n",
              "      <td>120536</td>\n",
              "    </tr>\n",
              "    <tr>\n",
              "      <th>Uranus</th>\n",
              "      <td>86.8000</td>\n",
              "      <td>51118</td>\n",
              "    </tr>\n",
              "    <tr>\n",
              "      <th>Venus</th>\n",
              "      <td>4.8700</td>\n",
              "      <td>12104</td>\n",
              "    </tr>\n",
              "  </tbody>\n",
              "</table>\n",
              "</div>"
            ],
            "text/plain": [
              "              Mass  Diameter\n",
              "Earth       5.9700     12756\n",
              "Jupiter  1898.0000    142984\n",
              "Mars        0.6420      6792\n",
              "Mercury     0.3300      4879\n",
              "Moon           NaN      3475\n",
              "Neptune   102.0000     49528\n",
              "Pluto       0.0146      2370\n",
              "Saturn    568.0000    120536\n",
              "Uranus     86.8000     51118\n",
              "Venus       4.8700     12104"
            ]
          },
          "metadata": {
            "tags": []
          },
          "execution_count": 71
        }
      ]
    },
    {
      "cell_type": "code",
      "metadata": {
        "id": "K9-016Vb3Jyc",
        "colab_type": "code",
        "colab": {
          "base_uri": "https://localhost:8080/",
          "height": 36
        },
        "outputId": "e55eab2e-c4e4-451a-86ae-b0c956adc729"
      },
      "source": [
        "np.mean(df['Mass'])"
      ],
      "execution_count": 72,
      "outputs": [
        {
          "output_type": "execute_result",
          "data": {
            "text/plain": [
              "296.29184444444445"
            ]
          },
          "metadata": {
            "tags": []
          },
          "execution_count": 72
        }
      ]
    },
    {
      "cell_type": "code",
      "metadata": {
        "id": "ivExDIks3XSc",
        "colab_type": "code",
        "colab": {}
      },
      "source": [
        "df.loc['Col_Mean'] = [np.mean(df['Mass']), np.mean(df['Diameter'])]"
      ],
      "execution_count": 73,
      "outputs": []
    },
    {
      "cell_type": "code",
      "metadata": {
        "id": "B7hcSFQX3fCf",
        "colab_type": "code",
        "colab": {
          "base_uri": "https://localhost:8080/",
          "height": 394
        },
        "outputId": "3b731cd8-291a-4d7b-ce70-8ec518527cee"
      },
      "source": [
        "df"
      ],
      "execution_count": 74,
      "outputs": [
        {
          "output_type": "execute_result",
          "data": {
            "text/html": [
              "<div>\n",
              "<style scoped>\n",
              "    .dataframe tbody tr th:only-of-type {\n",
              "        vertical-align: middle;\n",
              "    }\n",
              "\n",
              "    .dataframe tbody tr th {\n",
              "        vertical-align: top;\n",
              "    }\n",
              "\n",
              "    .dataframe thead th {\n",
              "        text-align: right;\n",
              "    }\n",
              "</style>\n",
              "<table border=\"1\" class=\"dataframe\">\n",
              "  <thead>\n",
              "    <tr style=\"text-align: right;\">\n",
              "      <th></th>\n",
              "      <th>Mass</th>\n",
              "      <th>Diameter</th>\n",
              "    </tr>\n",
              "  </thead>\n",
              "  <tbody>\n",
              "    <tr>\n",
              "      <th>Earth</th>\n",
              "      <td>5.970000</td>\n",
              "      <td>12756.0</td>\n",
              "    </tr>\n",
              "    <tr>\n",
              "      <th>Jupiter</th>\n",
              "      <td>1898.000000</td>\n",
              "      <td>142984.0</td>\n",
              "    </tr>\n",
              "    <tr>\n",
              "      <th>Mars</th>\n",
              "      <td>0.642000</td>\n",
              "      <td>6792.0</td>\n",
              "    </tr>\n",
              "    <tr>\n",
              "      <th>Mercury</th>\n",
              "      <td>0.330000</td>\n",
              "      <td>4879.0</td>\n",
              "    </tr>\n",
              "    <tr>\n",
              "      <th>Moon</th>\n",
              "      <td>NaN</td>\n",
              "      <td>3475.0</td>\n",
              "    </tr>\n",
              "    <tr>\n",
              "      <th>Neptune</th>\n",
              "      <td>102.000000</td>\n",
              "      <td>49528.0</td>\n",
              "    </tr>\n",
              "    <tr>\n",
              "      <th>Pluto</th>\n",
              "      <td>0.014600</td>\n",
              "      <td>2370.0</td>\n",
              "    </tr>\n",
              "    <tr>\n",
              "      <th>Saturn</th>\n",
              "      <td>568.000000</td>\n",
              "      <td>120536.0</td>\n",
              "    </tr>\n",
              "    <tr>\n",
              "      <th>Uranus</th>\n",
              "      <td>86.800000</td>\n",
              "      <td>51118.0</td>\n",
              "    </tr>\n",
              "    <tr>\n",
              "      <th>Venus</th>\n",
              "      <td>4.870000</td>\n",
              "      <td>12104.0</td>\n",
              "    </tr>\n",
              "    <tr>\n",
              "      <th>Col_Mean</th>\n",
              "      <td>296.291844</td>\n",
              "      <td>40654.2</td>\n",
              "    </tr>\n",
              "  </tbody>\n",
              "</table>\n",
              "</div>"
            ],
            "text/plain": [
              "                 Mass  Diameter\n",
              "Earth        5.970000   12756.0\n",
              "Jupiter   1898.000000  142984.0\n",
              "Mars         0.642000    6792.0\n",
              "Mercury      0.330000    4879.0\n",
              "Moon              NaN    3475.0\n",
              "Neptune    102.000000   49528.0\n",
              "Pluto        0.014600    2370.0\n",
              "Saturn     568.000000  120536.0\n",
              "Uranus      86.800000   51118.0\n",
              "Venus        4.870000   12104.0\n",
              "Col_Mean   296.291844   40654.2"
            ]
          },
          "metadata": {
            "tags": []
          },
          "execution_count": 74
        }
      ]
    },
    {
      "cell_type": "code",
      "metadata": {
        "id": "lmbjlySS3gBb",
        "colab_type": "code",
        "colab": {
          "base_uri": "https://localhost:8080/",
          "height": 363
        },
        "outputId": "08409f1c-b24f-4851-8cc6-08974290214a"
      },
      "source": [
        "df.drop('Col_Mean')"
      ],
      "execution_count": 76,
      "outputs": [
        {
          "output_type": "execute_result",
          "data": {
            "text/html": [
              "<div>\n",
              "<style scoped>\n",
              "    .dataframe tbody tr th:only-of-type {\n",
              "        vertical-align: middle;\n",
              "    }\n",
              "\n",
              "    .dataframe tbody tr th {\n",
              "        vertical-align: top;\n",
              "    }\n",
              "\n",
              "    .dataframe thead th {\n",
              "        text-align: right;\n",
              "    }\n",
              "</style>\n",
              "<table border=\"1\" class=\"dataframe\">\n",
              "  <thead>\n",
              "    <tr style=\"text-align: right;\">\n",
              "      <th></th>\n",
              "      <th>Mass</th>\n",
              "      <th>Diameter</th>\n",
              "    </tr>\n",
              "  </thead>\n",
              "  <tbody>\n",
              "    <tr>\n",
              "      <th>Earth</th>\n",
              "      <td>5.9700</td>\n",
              "      <td>12756.0</td>\n",
              "    </tr>\n",
              "    <tr>\n",
              "      <th>Jupiter</th>\n",
              "      <td>1898.0000</td>\n",
              "      <td>142984.0</td>\n",
              "    </tr>\n",
              "    <tr>\n",
              "      <th>Mars</th>\n",
              "      <td>0.6420</td>\n",
              "      <td>6792.0</td>\n",
              "    </tr>\n",
              "    <tr>\n",
              "      <th>Mercury</th>\n",
              "      <td>0.3300</td>\n",
              "      <td>4879.0</td>\n",
              "    </tr>\n",
              "    <tr>\n",
              "      <th>Moon</th>\n",
              "      <td>NaN</td>\n",
              "      <td>3475.0</td>\n",
              "    </tr>\n",
              "    <tr>\n",
              "      <th>Neptune</th>\n",
              "      <td>102.0000</td>\n",
              "      <td>49528.0</td>\n",
              "    </tr>\n",
              "    <tr>\n",
              "      <th>Pluto</th>\n",
              "      <td>0.0146</td>\n",
              "      <td>2370.0</td>\n",
              "    </tr>\n",
              "    <tr>\n",
              "      <th>Saturn</th>\n",
              "      <td>568.0000</td>\n",
              "      <td>120536.0</td>\n",
              "    </tr>\n",
              "    <tr>\n",
              "      <th>Uranus</th>\n",
              "      <td>86.8000</td>\n",
              "      <td>51118.0</td>\n",
              "    </tr>\n",
              "    <tr>\n",
              "      <th>Venus</th>\n",
              "      <td>4.8700</td>\n",
              "      <td>12104.0</td>\n",
              "    </tr>\n",
              "  </tbody>\n",
              "</table>\n",
              "</div>"
            ],
            "text/plain": [
              "              Mass  Diameter\n",
              "Earth       5.9700   12756.0\n",
              "Jupiter  1898.0000  142984.0\n",
              "Mars        0.6420    6792.0\n",
              "Mercury     0.3300    4879.0\n",
              "Moon           NaN    3475.0\n",
              "Neptune   102.0000   49528.0\n",
              "Pluto       0.0146    2370.0\n",
              "Saturn    568.0000  120536.0\n",
              "Uranus     86.8000   51118.0\n",
              "Venus       4.8700   12104.0"
            ]
          },
          "metadata": {
            "tags": []
          },
          "execution_count": 76
        }
      ]
    },
    {
      "cell_type": "code",
      "metadata": {
        "id": "YmCmbsRN340b",
        "colab_type": "code",
        "colab": {
          "base_uri": "https://localhost:8080/",
          "height": 394
        },
        "outputId": "f9c4a437-6160-4a94-f418-1809dc7c9501"
      },
      "source": [
        "create_mean_row(df)"
      ],
      "execution_count": 79,
      "outputs": [
        {
          "output_type": "execute_result",
          "data": {
            "text/html": [
              "<div>\n",
              "<style scoped>\n",
              "    .dataframe tbody tr th:only-of-type {\n",
              "        vertical-align: middle;\n",
              "    }\n",
              "\n",
              "    .dataframe tbody tr th {\n",
              "        vertical-align: top;\n",
              "    }\n",
              "\n",
              "    .dataframe thead th {\n",
              "        text-align: right;\n",
              "    }\n",
              "</style>\n",
              "<table border=\"1\" class=\"dataframe\">\n",
              "  <thead>\n",
              "    <tr style=\"text-align: right;\">\n",
              "      <th></th>\n",
              "      <th>Mass</th>\n",
              "      <th>Diameter</th>\n",
              "    </tr>\n",
              "  </thead>\n",
              "  <tbody>\n",
              "    <tr>\n",
              "      <th>Earth</th>\n",
              "      <td>5.970000</td>\n",
              "      <td>12756.0</td>\n",
              "    </tr>\n",
              "    <tr>\n",
              "      <th>Jupiter</th>\n",
              "      <td>1898.000000</td>\n",
              "      <td>142984.0</td>\n",
              "    </tr>\n",
              "    <tr>\n",
              "      <th>Mars</th>\n",
              "      <td>0.642000</td>\n",
              "      <td>6792.0</td>\n",
              "    </tr>\n",
              "    <tr>\n",
              "      <th>Mercury</th>\n",
              "      <td>0.330000</td>\n",
              "      <td>4879.0</td>\n",
              "    </tr>\n",
              "    <tr>\n",
              "      <th>Moon</th>\n",
              "      <td>NaN</td>\n",
              "      <td>3475.0</td>\n",
              "    </tr>\n",
              "    <tr>\n",
              "      <th>Neptune</th>\n",
              "      <td>102.000000</td>\n",
              "      <td>49528.0</td>\n",
              "    </tr>\n",
              "    <tr>\n",
              "      <th>Pluto</th>\n",
              "      <td>0.014600</td>\n",
              "      <td>2370.0</td>\n",
              "    </tr>\n",
              "    <tr>\n",
              "      <th>Saturn</th>\n",
              "      <td>568.000000</td>\n",
              "      <td>120536.0</td>\n",
              "    </tr>\n",
              "    <tr>\n",
              "      <th>Uranus</th>\n",
              "      <td>86.800000</td>\n",
              "      <td>51118.0</td>\n",
              "    </tr>\n",
              "    <tr>\n",
              "      <th>Venus</th>\n",
              "      <td>4.870000</td>\n",
              "      <td>12104.0</td>\n",
              "    </tr>\n",
              "    <tr>\n",
              "      <th>Col_Mean</th>\n",
              "      <td>296.291844</td>\n",
              "      <td>40654.2</td>\n",
              "    </tr>\n",
              "  </tbody>\n",
              "</table>\n",
              "</div>"
            ],
            "text/plain": [
              "                 Mass  Diameter\n",
              "Earth        5.970000   12756.0\n",
              "Jupiter   1898.000000  142984.0\n",
              "Mars         0.642000    6792.0\n",
              "Mercury      0.330000    4879.0\n",
              "Moon              NaN    3475.0\n",
              "Neptune    102.000000   49528.0\n",
              "Pluto        0.014600    2370.0\n",
              "Saturn     568.000000  120536.0\n",
              "Uranus      86.800000   51118.0\n",
              "Venus        4.870000   12104.0\n",
              "Col_Mean   296.291844   40654.2"
            ]
          },
          "metadata": {
            "tags": []
          },
          "execution_count": 79
        }
      ]
    },
    {
      "cell_type": "code",
      "metadata": {
        "id": "uWYccJ1v37Bw",
        "colab_type": "code",
        "colab": {}
      },
      "source": [
        "df = create_df(5, 3)"
      ],
      "execution_count": 80,
      "outputs": []
    },
    {
      "cell_type": "code",
      "metadata": {
        "id": "HuNTChUi4UMp",
        "colab_type": "code",
        "colab": {
          "base_uri": "https://localhost:8080/",
          "height": 206
        },
        "outputId": "e032ca83-591d-4096-8914-5aa5676d859d"
      },
      "source": [
        "df"
      ],
      "execution_count": 82,
      "outputs": [
        {
          "output_type": "execute_result",
          "data": {
            "text/html": [
              "<div>\n",
              "<style scoped>\n",
              "    .dataframe tbody tr th:only-of-type {\n",
              "        vertical-align: middle;\n",
              "    }\n",
              "\n",
              "    .dataframe tbody tr th {\n",
              "        vertical-align: top;\n",
              "    }\n",
              "\n",
              "    .dataframe thead th {\n",
              "        text-align: right;\n",
              "    }\n",
              "</style>\n",
              "<table border=\"1\" class=\"dataframe\">\n",
              "  <thead>\n",
              "    <tr style=\"text-align: right;\">\n",
              "      <th></th>\n",
              "      <th>C1</th>\n",
              "      <th>C2</th>\n",
              "      <th>C3</th>\n",
              "    </tr>\n",
              "  </thead>\n",
              "  <tbody>\n",
              "    <tr>\n",
              "      <th>R1</th>\n",
              "      <td>4</td>\n",
              "      <td>4</td>\n",
              "      <td>6</td>\n",
              "    </tr>\n",
              "    <tr>\n",
              "      <th>R2</th>\n",
              "      <td>7</td>\n",
              "      <td>7</td>\n",
              "      <td>9</td>\n",
              "    </tr>\n",
              "    <tr>\n",
              "      <th>R3</th>\n",
              "      <td>5</td>\n",
              "      <td>8</td>\n",
              "      <td>6</td>\n",
              "    </tr>\n",
              "    <tr>\n",
              "      <th>R4</th>\n",
              "      <td>5</td>\n",
              "      <td>6</td>\n",
              "      <td>8</td>\n",
              "    </tr>\n",
              "    <tr>\n",
              "      <th>R5</th>\n",
              "      <td>0</td>\n",
              "      <td>3</td>\n",
              "      <td>6</td>\n",
              "    </tr>\n",
              "  </tbody>\n",
              "</table>\n",
              "</div>"
            ],
            "text/plain": [
              "    C1  C2  C3\n",
              "R1   4   4   6\n",
              "R2   7   7   9\n",
              "R3   5   8   6\n",
              "R4   5   6   8\n",
              "R5   0   3   6"
            ]
          },
          "metadata": {
            "tags": []
          },
          "execution_count": 82
        }
      ]
    },
    {
      "cell_type": "code",
      "metadata": {
        "id": "p1qLZ_1X4S9u",
        "colab_type": "code",
        "colab": {
          "base_uri": "https://localhost:8080/",
          "height": 94
        },
        "outputId": "1572cd12-6582-4ffd-efbf-415c5335294b"
      },
      "source": [
        "df.mean()"
      ],
      "execution_count": 81,
      "outputs": [
        {
          "output_type": "execute_result",
          "data": {
            "text/plain": [
              "C1    4.2\n",
              "C2    5.6\n",
              "C3    7.0\n",
              "dtype: float64"
            ]
          },
          "metadata": {
            "tags": []
          },
          "execution_count": 81
        }
      ]
    },
    {
      "cell_type": "code",
      "metadata": {
        "id": "J4SNLqdX4Tra",
        "colab_type": "code",
        "colab": {
          "base_uri": "https://localhost:8080/",
          "height": 133
        },
        "outputId": "8456e3ac-6c20-4def-b12d-36a7bb1ac687"
      },
      "source": [
        "df.mean(axis=1)"
      ],
      "execution_count": 83,
      "outputs": [
        {
          "output_type": "execute_result",
          "data": {
            "text/plain": [
              "R1    4.666667\n",
              "R2    7.666667\n",
              "R3    6.333333\n",
              "R4    6.333333\n",
              "R5    3.000000\n",
              "dtype: float64"
            ]
          },
          "metadata": {
            "tags": []
          },
          "execution_count": 83
        }
      ]
    },
    {
      "cell_type": "code",
      "metadata": {
        "id": "DqL1gPZP4ht4",
        "colab_type": "code",
        "colab": {}
      },
      "source": [
        "df['Row_Mean'] = df.mean(axis=1)"
      ],
      "execution_count": 85,
      "outputs": []
    },
    {
      "cell_type": "code",
      "metadata": {
        "id": "03mL8xr2428s",
        "colab_type": "code",
        "colab": {}
      },
      "source": [
        "df.loc['Col_Mean'] = df.mean()"
      ],
      "execution_count": 88,
      "outputs": []
    },
    {
      "cell_type": "code",
      "metadata": {
        "id": "zQnT3qkq47Fm",
        "colab_type": "code",
        "colab": {
          "base_uri": "https://localhost:8080/",
          "height": 237
        },
        "outputId": "92942f19-4f94-423e-8fd8-882c41236a4c"
      },
      "source": [
        "df"
      ],
      "execution_count": 89,
      "outputs": [
        {
          "output_type": "execute_result",
          "data": {
            "text/html": [
              "<div>\n",
              "<style scoped>\n",
              "    .dataframe tbody tr th:only-of-type {\n",
              "        vertical-align: middle;\n",
              "    }\n",
              "\n",
              "    .dataframe tbody tr th {\n",
              "        vertical-align: top;\n",
              "    }\n",
              "\n",
              "    .dataframe thead th {\n",
              "        text-align: right;\n",
              "    }\n",
              "</style>\n",
              "<table border=\"1\" class=\"dataframe\">\n",
              "  <thead>\n",
              "    <tr style=\"text-align: right;\">\n",
              "      <th></th>\n",
              "      <th>C1</th>\n",
              "      <th>C2</th>\n",
              "      <th>C3</th>\n",
              "      <th>Row_Mean</th>\n",
              "    </tr>\n",
              "  </thead>\n",
              "  <tbody>\n",
              "    <tr>\n",
              "      <th>R1</th>\n",
              "      <td>4.0</td>\n",
              "      <td>4.0</td>\n",
              "      <td>6.0</td>\n",
              "      <td>4.666667</td>\n",
              "    </tr>\n",
              "    <tr>\n",
              "      <th>R2</th>\n",
              "      <td>7.0</td>\n",
              "      <td>7.0</td>\n",
              "      <td>9.0</td>\n",
              "      <td>7.666667</td>\n",
              "    </tr>\n",
              "    <tr>\n",
              "      <th>R3</th>\n",
              "      <td>5.0</td>\n",
              "      <td>8.0</td>\n",
              "      <td>6.0</td>\n",
              "      <td>6.333333</td>\n",
              "    </tr>\n",
              "    <tr>\n",
              "      <th>R4</th>\n",
              "      <td>5.0</td>\n",
              "      <td>6.0</td>\n",
              "      <td>8.0</td>\n",
              "      <td>6.333333</td>\n",
              "    </tr>\n",
              "    <tr>\n",
              "      <th>R5</th>\n",
              "      <td>0.0</td>\n",
              "      <td>3.0</td>\n",
              "      <td>6.0</td>\n",
              "      <td>3.000000</td>\n",
              "    </tr>\n",
              "    <tr>\n",
              "      <th>Col_Mean</th>\n",
              "      <td>4.2</td>\n",
              "      <td>5.6</td>\n",
              "      <td>7.0</td>\n",
              "      <td>5.600000</td>\n",
              "    </tr>\n",
              "  </tbody>\n",
              "</table>\n",
              "</div>"
            ],
            "text/plain": [
              "           C1   C2   C3  Row_Mean\n",
              "R1        4.0  4.0  6.0  4.666667\n",
              "R2        7.0  7.0  9.0  7.666667\n",
              "R3        5.0  8.0  6.0  6.333333\n",
              "R4        5.0  6.0  8.0  6.333333\n",
              "R5        0.0  3.0  6.0  3.000000\n",
              "Col_Mean  4.2  5.6  7.0  5.600000"
            ]
          },
          "metadata": {
            "tags": []
          },
          "execution_count": 89
        }
      ]
    },
    {
      "cell_type": "code",
      "metadata": {
        "id": "IlyVeslN5Atn",
        "colab_type": "code",
        "colab": {
          "base_uri": "https://localhost:8080/",
          "height": 114
        },
        "outputId": "9856bfc6-a373-4126-d206-1260c37353ab"
      },
      "source": [
        "df.median()"
      ],
      "execution_count": 90,
      "outputs": [
        {
          "output_type": "execute_result",
          "data": {
            "text/plain": [
              "C1          4.600000\n",
              "C2          5.800000\n",
              "C3          6.500000\n",
              "Row_Mean    5.966667\n",
              "dtype: float64"
            ]
          },
          "metadata": {
            "tags": []
          },
          "execution_count": 90
        }
      ]
    },
    {
      "cell_type": "code",
      "metadata": {
        "id": "shy07-6w5ET5",
        "colab_type": "code",
        "colab": {
          "base_uri": "https://localhost:8080/",
          "height": 114
        },
        "outputId": "1a9bab96-7eb3-487c-d1b1-7cc20f3b29ec"
      },
      "source": [
        "df.min()"
      ],
      "execution_count": 91,
      "outputs": [
        {
          "output_type": "execute_result",
          "data": {
            "text/plain": [
              "C1          0.0\n",
              "C2          3.0\n",
              "C3          6.0\n",
              "Row_Mean    3.0\n",
              "dtype: float64"
            ]
          },
          "metadata": {
            "tags": []
          },
          "execution_count": 91
        }
      ]
    },
    {
      "cell_type": "code",
      "metadata": {
        "id": "NUKKGgGq5Fts",
        "colab_type": "code",
        "colab": {
          "base_uri": "https://localhost:8080/",
          "height": 114
        },
        "outputId": "aad9355f-09d1-49c6-cb49-c3adaa8de7c8"
      },
      "source": [
        "df.max()"
      ],
      "execution_count": 92,
      "outputs": [
        {
          "output_type": "execute_result",
          "data": {
            "text/plain": [
              "C1          7.000000\n",
              "C2          8.000000\n",
              "C3          9.000000\n",
              "Row_Mean    7.666667\n",
              "dtype: float64"
            ]
          },
          "metadata": {
            "tags": []
          },
          "execution_count": 92
        }
      ]
    },
    {
      "cell_type": "code",
      "metadata": {
        "id": "X4rv2FXc5Get",
        "colab_type": "code",
        "colab": {
          "base_uri": "https://localhost:8080/",
          "height": 114
        },
        "outputId": "33655c86-9b32-4be8-d444-3e16e1326a1f"
      },
      "source": [
        "df.quantile(0.25)"
      ],
      "execution_count": 93,
      "outputs": [
        {
          "output_type": "execute_result",
          "data": {
            "text/plain": [
              "C1          4.05\n",
              "C2          4.40\n",
              "C3          6.00\n",
              "Row_Mean    4.90\n",
              "Name: 0.25, dtype: float64"
            ]
          },
          "metadata": {
            "tags": []
          },
          "execution_count": 93
        }
      ]
    },
    {
      "cell_type": "code",
      "metadata": {
        "id": "ILnxCMKZ5Irv",
        "colab_type": "code",
        "colab": {
          "base_uri": "https://localhost:8080/",
          "height": 237
        },
        "outputId": "83620f01-6e51-4ca6-dba7-031312b15904"
      },
      "source": [
        "df.drop('Row_Mean', axis=1)"
      ],
      "execution_count": 94,
      "outputs": [
        {
          "output_type": "execute_result",
          "data": {
            "text/html": [
              "<div>\n",
              "<style scoped>\n",
              "    .dataframe tbody tr th:only-of-type {\n",
              "        vertical-align: middle;\n",
              "    }\n",
              "\n",
              "    .dataframe tbody tr th {\n",
              "        vertical-align: top;\n",
              "    }\n",
              "\n",
              "    .dataframe thead th {\n",
              "        text-align: right;\n",
              "    }\n",
              "</style>\n",
              "<table border=\"1\" class=\"dataframe\">\n",
              "  <thead>\n",
              "    <tr style=\"text-align: right;\">\n",
              "      <th></th>\n",
              "      <th>C1</th>\n",
              "      <th>C2</th>\n",
              "      <th>C3</th>\n",
              "    </tr>\n",
              "  </thead>\n",
              "  <tbody>\n",
              "    <tr>\n",
              "      <th>R1</th>\n",
              "      <td>4.0</td>\n",
              "      <td>4.0</td>\n",
              "      <td>6.0</td>\n",
              "    </tr>\n",
              "    <tr>\n",
              "      <th>R2</th>\n",
              "      <td>7.0</td>\n",
              "      <td>7.0</td>\n",
              "      <td>9.0</td>\n",
              "    </tr>\n",
              "    <tr>\n",
              "      <th>R3</th>\n",
              "      <td>5.0</td>\n",
              "      <td>8.0</td>\n",
              "      <td>6.0</td>\n",
              "    </tr>\n",
              "    <tr>\n",
              "      <th>R4</th>\n",
              "      <td>5.0</td>\n",
              "      <td>6.0</td>\n",
              "      <td>8.0</td>\n",
              "    </tr>\n",
              "    <tr>\n",
              "      <th>R5</th>\n",
              "      <td>0.0</td>\n",
              "      <td>3.0</td>\n",
              "      <td>6.0</td>\n",
              "    </tr>\n",
              "    <tr>\n",
              "      <th>Col_Mean</th>\n",
              "      <td>4.2</td>\n",
              "      <td>5.6</td>\n",
              "      <td>7.0</td>\n",
              "    </tr>\n",
              "  </tbody>\n",
              "</table>\n",
              "</div>"
            ],
            "text/plain": [
              "           C1   C2   C3\n",
              "R1        4.0  4.0  6.0\n",
              "R2        7.0  7.0  9.0\n",
              "R3        5.0  8.0  6.0\n",
              "R4        5.0  6.0  8.0\n",
              "R5        0.0  3.0  6.0\n",
              "Col_Mean  4.2  5.6  7.0"
            ]
          },
          "metadata": {
            "tags": []
          },
          "execution_count": 94
        }
      ]
    },
    {
      "cell_type": "code",
      "metadata": {
        "id": "h9FhsCwP5NEr",
        "colab_type": "code",
        "colab": {
          "base_uri": "https://localhost:8080/",
          "height": 300
        },
        "outputId": "5245fd24-0ea0-40aa-932e-141c5515a903"
      },
      "source": [
        "df.describe()"
      ],
      "execution_count": 95,
      "outputs": [
        {
          "output_type": "execute_result",
          "data": {
            "text/html": [
              "<div>\n",
              "<style scoped>\n",
              "    .dataframe tbody tr th:only-of-type {\n",
              "        vertical-align: middle;\n",
              "    }\n",
              "\n",
              "    .dataframe tbody tr th {\n",
              "        vertical-align: top;\n",
              "    }\n",
              "\n",
              "    .dataframe thead th {\n",
              "        text-align: right;\n",
              "    }\n",
              "</style>\n",
              "<table border=\"1\" class=\"dataframe\">\n",
              "  <thead>\n",
              "    <tr style=\"text-align: right;\">\n",
              "      <th></th>\n",
              "      <th>C1</th>\n",
              "      <th>C2</th>\n",
              "      <th>C3</th>\n",
              "      <th>Row_Mean</th>\n",
              "    </tr>\n",
              "  </thead>\n",
              "  <tbody>\n",
              "    <tr>\n",
              "      <th>count</th>\n",
              "      <td>6.000000</td>\n",
              "      <td>6.000000</td>\n",
              "      <td>6.000000</td>\n",
              "      <td>6.000000</td>\n",
              "    </tr>\n",
              "    <tr>\n",
              "      <th>mean</th>\n",
              "      <td>4.200000</td>\n",
              "      <td>5.600000</td>\n",
              "      <td>7.000000</td>\n",
              "      <td>5.600000</td>\n",
              "    </tr>\n",
              "    <tr>\n",
              "      <th>std</th>\n",
              "      <td>2.315167</td>\n",
              "      <td>1.854724</td>\n",
              "      <td>1.264911</td>\n",
              "      <td>1.611073</td>\n",
              "    </tr>\n",
              "    <tr>\n",
              "      <th>min</th>\n",
              "      <td>0.000000</td>\n",
              "      <td>3.000000</td>\n",
              "      <td>6.000000</td>\n",
              "      <td>3.000000</td>\n",
              "    </tr>\n",
              "    <tr>\n",
              "      <th>25%</th>\n",
              "      <td>4.050000</td>\n",
              "      <td>4.400000</td>\n",
              "      <td>6.000000</td>\n",
              "      <td>4.900000</td>\n",
              "    </tr>\n",
              "    <tr>\n",
              "      <th>50%</th>\n",
              "      <td>4.600000</td>\n",
              "      <td>5.800000</td>\n",
              "      <td>6.500000</td>\n",
              "      <td>5.966667</td>\n",
              "    </tr>\n",
              "    <tr>\n",
              "      <th>75%</th>\n",
              "      <td>5.000000</td>\n",
              "      <td>6.750000</td>\n",
              "      <td>7.750000</td>\n",
              "      <td>6.333333</td>\n",
              "    </tr>\n",
              "    <tr>\n",
              "      <th>max</th>\n",
              "      <td>7.000000</td>\n",
              "      <td>8.000000</td>\n",
              "      <td>9.000000</td>\n",
              "      <td>7.666667</td>\n",
              "    </tr>\n",
              "  </tbody>\n",
              "</table>\n",
              "</div>"
            ],
            "text/plain": [
              "             C1        C2        C3  Row_Mean\n",
              "count  6.000000  6.000000  6.000000  6.000000\n",
              "mean   4.200000  5.600000  7.000000  5.600000\n",
              "std    2.315167  1.854724  1.264911  1.611073\n",
              "min    0.000000  3.000000  6.000000  3.000000\n",
              "25%    4.050000  4.400000  6.000000  4.900000\n",
              "50%    4.600000  5.800000  6.500000  5.966667\n",
              "75%    5.000000  6.750000  7.750000  6.333333\n",
              "max    7.000000  8.000000  9.000000  7.666667"
            ]
          },
          "metadata": {
            "tags": []
          },
          "execution_count": 95
        }
      ]
    },
    {
      "cell_type": "code",
      "metadata": {
        "id": "KlNuT6CK5UbN",
        "colab_type": "code",
        "colab": {}
      },
      "source": [
        "mass = pd.Series([0.33, 4.87, 5.97, 0.642, 1898, 568, 86.8, 102, 0.0146], \n",
        "                 index=['Mercury', 'Venus', 'Earth', 'Mars', 'Jupiter', 'Saturn', 'Uranus', 'Neptune', 'Pluto'])\n",
        "diameter = pd.Series([4879, 12104, 12756, 3475, 6792, 142984, 120536, 51118, 49528, 2370], \n",
        "                     index=['Mercury', 'Venus', 'Earth', 'Moon', 'Mars', 'Jupiter', 'Saturn', 'Uranus', 'Neptune', 'Pluto'])"
      ],
      "execution_count": 96,
      "outputs": []
    },
    {
      "cell_type": "code",
      "metadata": {
        "id": "hNSNTBCh5iR4",
        "colab_type": "code",
        "colab": {}
      },
      "source": [
        "planets = pd.DataFrame({'mass': mass, 'diameter': diameter})"
      ],
      "execution_count": 97,
      "outputs": []
    },
    {
      "cell_type": "code",
      "metadata": {
        "id": "ziFHLDVA5mYf",
        "colab_type": "code",
        "colab": {
          "base_uri": "https://localhost:8080/",
          "height": 300
        },
        "outputId": "393847db-d513-494e-b859-16ba9956498a"
      },
      "source": [
        "planets.describe()"
      ],
      "execution_count": 98,
      "outputs": [
        {
          "output_type": "execute_result",
          "data": {
            "text/html": [
              "<div>\n",
              "<style scoped>\n",
              "    .dataframe tbody tr th:only-of-type {\n",
              "        vertical-align: middle;\n",
              "    }\n",
              "\n",
              "    .dataframe tbody tr th {\n",
              "        vertical-align: top;\n",
              "    }\n",
              "\n",
              "    .dataframe thead th {\n",
              "        text-align: right;\n",
              "    }\n",
              "</style>\n",
              "<table border=\"1\" class=\"dataframe\">\n",
              "  <thead>\n",
              "    <tr style=\"text-align: right;\">\n",
              "      <th></th>\n",
              "      <th>mass</th>\n",
              "      <th>diameter</th>\n",
              "    </tr>\n",
              "  </thead>\n",
              "  <tbody>\n",
              "    <tr>\n",
              "      <th>count</th>\n",
              "      <td>9.000000</td>\n",
              "      <td>10.00000</td>\n",
              "    </tr>\n",
              "    <tr>\n",
              "      <th>mean</th>\n",
              "      <td>296.291844</td>\n",
              "      <td>40654.20000</td>\n",
              "    </tr>\n",
              "    <tr>\n",
              "      <th>std</th>\n",
              "      <td>627.786429</td>\n",
              "      <td>51541.39142</td>\n",
              "    </tr>\n",
              "    <tr>\n",
              "      <th>min</th>\n",
              "      <td>0.014600</td>\n",
              "      <td>2370.00000</td>\n",
              "    </tr>\n",
              "    <tr>\n",
              "      <th>25%</th>\n",
              "      <td>0.642000</td>\n",
              "      <td>5357.25000</td>\n",
              "    </tr>\n",
              "    <tr>\n",
              "      <th>50%</th>\n",
              "      <td>5.970000</td>\n",
              "      <td>12430.00000</td>\n",
              "    </tr>\n",
              "    <tr>\n",
              "      <th>75%</th>\n",
              "      <td>102.000000</td>\n",
              "      <td>50720.50000</td>\n",
              "    </tr>\n",
              "    <tr>\n",
              "      <th>max</th>\n",
              "      <td>1898.000000</td>\n",
              "      <td>142984.00000</td>\n",
              "    </tr>\n",
              "  </tbody>\n",
              "</table>\n",
              "</div>"
            ],
            "text/plain": [
              "              mass      diameter\n",
              "count     9.000000      10.00000\n",
              "mean    296.291844   40654.20000\n",
              "std     627.786429   51541.39142\n",
              "min       0.014600    2370.00000\n",
              "25%       0.642000    5357.25000\n",
              "50%       5.970000   12430.00000\n",
              "75%     102.000000   50720.50000\n",
              "max    1898.000000  142984.00000"
            ]
          },
          "metadata": {
            "tags": []
          },
          "execution_count": 98
        }
      ]
    },
    {
      "cell_type": "code",
      "metadata": {
        "id": "7HIujbxL5nYT",
        "colab_type": "code",
        "colab": {
          "base_uri": "https://localhost:8080/",
          "height": 76
        },
        "outputId": "f42da5a6-7a83-4315-e4bc-63696b7f5dc7"
      },
      "source": [
        "import seaborn as sns"
      ],
      "execution_count": 99,
      "outputs": [
        {
          "output_type": "stream",
          "text": [
            "/usr/local/lib/python3.6/dist-packages/statsmodels/tools/_testing.py:19: FutureWarning: pandas.util.testing is deprecated. Use the functions in the public API at pandas.testing instead.\n",
            "  import pandas.util.testing as tm\n"
          ],
          "name": "stderr"
        }
      ]
    },
    {
      "cell_type": "code",
      "metadata": {
        "id": "ntTVvuru53HZ",
        "colab_type": "code",
        "colab": {}
      },
      "source": [
        "df = sns.load_dataset('planets')"
      ],
      "execution_count": 139,
      "outputs": []
    },
    {
      "cell_type": "code",
      "metadata": {
        "id": "V58kNl7S8MCr",
        "colab_type": "code",
        "colab": {
          "base_uri": "https://localhost:8080/",
          "height": 268
        },
        "outputId": "de531801-da08-4d35-a9f0-dbf381ff3a0c"
      },
      "source": [
        "df.info()"
      ],
      "execution_count": 102,
      "outputs": [
        {
          "output_type": "stream",
          "text": [
            "<class 'pandas.core.frame.DataFrame'>\n",
            "RangeIndex: 1035 entries, 0 to 1034\n",
            "Data columns (total 6 columns):\n",
            " #   Column          Non-Null Count  Dtype  \n",
            "---  ------          --------------  -----  \n",
            " 0   method          1035 non-null   object \n",
            " 1   number          1035 non-null   int64  \n",
            " 2   orbital_period  992 non-null    float64\n",
            " 3   mass            513 non-null    float64\n",
            " 4   distance        808 non-null    float64\n",
            " 5   year            1035 non-null   int64  \n",
            "dtypes: float64(3), int64(2), object(1)\n",
            "memory usage: 48.6+ KB\n"
          ],
          "name": "stdout"
        }
      ]
    },
    {
      "cell_type": "code",
      "metadata": {
        "id": "7IMOJhOd8RDx",
        "colab_type": "code",
        "colab": {
          "base_uri": "https://localhost:8080/",
          "height": 206
        },
        "outputId": "79aa148f-0072-4688-fea1-79e0f4379a94"
      },
      "source": [
        "df.head()"
      ],
      "execution_count": 103,
      "outputs": [
        {
          "output_type": "execute_result",
          "data": {
            "text/html": [
              "<div>\n",
              "<style scoped>\n",
              "    .dataframe tbody tr th:only-of-type {\n",
              "        vertical-align: middle;\n",
              "    }\n",
              "\n",
              "    .dataframe tbody tr th {\n",
              "        vertical-align: top;\n",
              "    }\n",
              "\n",
              "    .dataframe thead th {\n",
              "        text-align: right;\n",
              "    }\n",
              "</style>\n",
              "<table border=\"1\" class=\"dataframe\">\n",
              "  <thead>\n",
              "    <tr style=\"text-align: right;\">\n",
              "      <th></th>\n",
              "      <th>method</th>\n",
              "      <th>number</th>\n",
              "      <th>orbital_period</th>\n",
              "      <th>mass</th>\n",
              "      <th>distance</th>\n",
              "      <th>year</th>\n",
              "    </tr>\n",
              "  </thead>\n",
              "  <tbody>\n",
              "    <tr>\n",
              "      <th>0</th>\n",
              "      <td>Radial Velocity</td>\n",
              "      <td>1</td>\n",
              "      <td>269.300</td>\n",
              "      <td>7.10</td>\n",
              "      <td>77.40</td>\n",
              "      <td>2006</td>\n",
              "    </tr>\n",
              "    <tr>\n",
              "      <th>1</th>\n",
              "      <td>Radial Velocity</td>\n",
              "      <td>1</td>\n",
              "      <td>874.774</td>\n",
              "      <td>2.21</td>\n",
              "      <td>56.95</td>\n",
              "      <td>2008</td>\n",
              "    </tr>\n",
              "    <tr>\n",
              "      <th>2</th>\n",
              "      <td>Radial Velocity</td>\n",
              "      <td>1</td>\n",
              "      <td>763.000</td>\n",
              "      <td>2.60</td>\n",
              "      <td>19.84</td>\n",
              "      <td>2011</td>\n",
              "    </tr>\n",
              "    <tr>\n",
              "      <th>3</th>\n",
              "      <td>Radial Velocity</td>\n",
              "      <td>1</td>\n",
              "      <td>326.030</td>\n",
              "      <td>19.40</td>\n",
              "      <td>110.62</td>\n",
              "      <td>2007</td>\n",
              "    </tr>\n",
              "    <tr>\n",
              "      <th>4</th>\n",
              "      <td>Radial Velocity</td>\n",
              "      <td>1</td>\n",
              "      <td>516.220</td>\n",
              "      <td>10.50</td>\n",
              "      <td>119.47</td>\n",
              "      <td>2009</td>\n",
              "    </tr>\n",
              "  </tbody>\n",
              "</table>\n",
              "</div>"
            ],
            "text/plain": [
              "            method  number  orbital_period   mass  distance  year\n",
              "0  Radial Velocity       1         269.300   7.10     77.40  2006\n",
              "1  Radial Velocity       1         874.774   2.21     56.95  2008\n",
              "2  Radial Velocity       1         763.000   2.60     19.84  2011\n",
              "3  Radial Velocity       1         326.030  19.40    110.62  2007\n",
              "4  Radial Velocity       1         516.220  10.50    119.47  2009"
            ]
          },
          "metadata": {
            "tags": []
          },
          "execution_count": 103
        }
      ]
    },
    {
      "cell_type": "code",
      "metadata": {
        "id": "mOmtR5A48trG",
        "colab_type": "code",
        "colab": {
          "base_uri": "https://localhost:8080/",
          "height": 206
        },
        "outputId": "015b105d-1b4a-4341-aa05-10ef9e999d03"
      },
      "source": [
        "df.tail()"
      ],
      "execution_count": 104,
      "outputs": [
        {
          "output_type": "execute_result",
          "data": {
            "text/html": [
              "<div>\n",
              "<style scoped>\n",
              "    .dataframe tbody tr th:only-of-type {\n",
              "        vertical-align: middle;\n",
              "    }\n",
              "\n",
              "    .dataframe tbody tr th {\n",
              "        vertical-align: top;\n",
              "    }\n",
              "\n",
              "    .dataframe thead th {\n",
              "        text-align: right;\n",
              "    }\n",
              "</style>\n",
              "<table border=\"1\" class=\"dataframe\">\n",
              "  <thead>\n",
              "    <tr style=\"text-align: right;\">\n",
              "      <th></th>\n",
              "      <th>method</th>\n",
              "      <th>number</th>\n",
              "      <th>orbital_period</th>\n",
              "      <th>mass</th>\n",
              "      <th>distance</th>\n",
              "      <th>year</th>\n",
              "    </tr>\n",
              "  </thead>\n",
              "  <tbody>\n",
              "    <tr>\n",
              "      <th>1030</th>\n",
              "      <td>Transit</td>\n",
              "      <td>1</td>\n",
              "      <td>3.941507</td>\n",
              "      <td>NaN</td>\n",
              "      <td>172.0</td>\n",
              "      <td>2006</td>\n",
              "    </tr>\n",
              "    <tr>\n",
              "      <th>1031</th>\n",
              "      <td>Transit</td>\n",
              "      <td>1</td>\n",
              "      <td>2.615864</td>\n",
              "      <td>NaN</td>\n",
              "      <td>148.0</td>\n",
              "      <td>2007</td>\n",
              "    </tr>\n",
              "    <tr>\n",
              "      <th>1032</th>\n",
              "      <td>Transit</td>\n",
              "      <td>1</td>\n",
              "      <td>3.191524</td>\n",
              "      <td>NaN</td>\n",
              "      <td>174.0</td>\n",
              "      <td>2007</td>\n",
              "    </tr>\n",
              "    <tr>\n",
              "      <th>1033</th>\n",
              "      <td>Transit</td>\n",
              "      <td>1</td>\n",
              "      <td>4.125083</td>\n",
              "      <td>NaN</td>\n",
              "      <td>293.0</td>\n",
              "      <td>2008</td>\n",
              "    </tr>\n",
              "    <tr>\n",
              "      <th>1034</th>\n",
              "      <td>Transit</td>\n",
              "      <td>1</td>\n",
              "      <td>4.187757</td>\n",
              "      <td>NaN</td>\n",
              "      <td>260.0</td>\n",
              "      <td>2008</td>\n",
              "    </tr>\n",
              "  </tbody>\n",
              "</table>\n",
              "</div>"
            ],
            "text/plain": [
              "       method  number  orbital_period  mass  distance  year\n",
              "1030  Transit       1        3.941507   NaN     172.0  2006\n",
              "1031  Transit       1        2.615864   NaN     148.0  2007\n",
              "1032  Transit       1        3.191524   NaN     174.0  2007\n",
              "1033  Transit       1        4.125083   NaN     293.0  2008\n",
              "1034  Transit       1        4.187757   NaN     260.0  2008"
            ]
          },
          "metadata": {
            "tags": []
          },
          "execution_count": 104
        }
      ]
    },
    {
      "cell_type": "code",
      "metadata": {
        "id": "gr8jsMyu8zZF",
        "colab_type": "code",
        "colab": {
          "base_uri": "https://localhost:8080/",
          "height": 300
        },
        "outputId": "6598d88a-6565-49c3-d021-ecd87bde420a"
      },
      "source": [
        "df.describe()"
      ],
      "execution_count": 105,
      "outputs": [
        {
          "output_type": "execute_result",
          "data": {
            "text/html": [
              "<div>\n",
              "<style scoped>\n",
              "    .dataframe tbody tr th:only-of-type {\n",
              "        vertical-align: middle;\n",
              "    }\n",
              "\n",
              "    .dataframe tbody tr th {\n",
              "        vertical-align: top;\n",
              "    }\n",
              "\n",
              "    .dataframe thead th {\n",
              "        text-align: right;\n",
              "    }\n",
              "</style>\n",
              "<table border=\"1\" class=\"dataframe\">\n",
              "  <thead>\n",
              "    <tr style=\"text-align: right;\">\n",
              "      <th></th>\n",
              "      <th>number</th>\n",
              "      <th>orbital_period</th>\n",
              "      <th>mass</th>\n",
              "      <th>distance</th>\n",
              "      <th>year</th>\n",
              "    </tr>\n",
              "  </thead>\n",
              "  <tbody>\n",
              "    <tr>\n",
              "      <th>count</th>\n",
              "      <td>1035.000000</td>\n",
              "      <td>992.000000</td>\n",
              "      <td>513.000000</td>\n",
              "      <td>808.000000</td>\n",
              "      <td>1035.000000</td>\n",
              "    </tr>\n",
              "    <tr>\n",
              "      <th>mean</th>\n",
              "      <td>1.785507</td>\n",
              "      <td>2002.917596</td>\n",
              "      <td>2.638161</td>\n",
              "      <td>264.069282</td>\n",
              "      <td>2009.070531</td>\n",
              "    </tr>\n",
              "    <tr>\n",
              "      <th>std</th>\n",
              "      <td>1.240976</td>\n",
              "      <td>26014.728304</td>\n",
              "      <td>3.818617</td>\n",
              "      <td>733.116493</td>\n",
              "      <td>3.972567</td>\n",
              "    </tr>\n",
              "    <tr>\n",
              "      <th>min</th>\n",
              "      <td>1.000000</td>\n",
              "      <td>0.090706</td>\n",
              "      <td>0.003600</td>\n",
              "      <td>1.350000</td>\n",
              "      <td>1989.000000</td>\n",
              "    </tr>\n",
              "    <tr>\n",
              "      <th>25%</th>\n",
              "      <td>1.000000</td>\n",
              "      <td>5.442540</td>\n",
              "      <td>0.229000</td>\n",
              "      <td>32.560000</td>\n",
              "      <td>2007.000000</td>\n",
              "    </tr>\n",
              "    <tr>\n",
              "      <th>50%</th>\n",
              "      <td>1.000000</td>\n",
              "      <td>39.979500</td>\n",
              "      <td>1.260000</td>\n",
              "      <td>55.250000</td>\n",
              "      <td>2010.000000</td>\n",
              "    </tr>\n",
              "    <tr>\n",
              "      <th>75%</th>\n",
              "      <td>2.000000</td>\n",
              "      <td>526.005000</td>\n",
              "      <td>3.040000</td>\n",
              "      <td>178.500000</td>\n",
              "      <td>2012.000000</td>\n",
              "    </tr>\n",
              "    <tr>\n",
              "      <th>max</th>\n",
              "      <td>7.000000</td>\n",
              "      <td>730000.000000</td>\n",
              "      <td>25.000000</td>\n",
              "      <td>8500.000000</td>\n",
              "      <td>2014.000000</td>\n",
              "    </tr>\n",
              "  </tbody>\n",
              "</table>\n",
              "</div>"
            ],
            "text/plain": [
              "            number  orbital_period        mass     distance         year\n",
              "count  1035.000000      992.000000  513.000000   808.000000  1035.000000\n",
              "mean      1.785507     2002.917596    2.638161   264.069282  2009.070531\n",
              "std       1.240976    26014.728304    3.818617   733.116493     3.972567\n",
              "min       1.000000        0.090706    0.003600     1.350000  1989.000000\n",
              "25%       1.000000        5.442540    0.229000    32.560000  2007.000000\n",
              "50%       1.000000       39.979500    1.260000    55.250000  2010.000000\n",
              "75%       2.000000      526.005000    3.040000   178.500000  2012.000000\n",
              "max       7.000000   730000.000000   25.000000  8500.000000  2014.000000"
            ]
          },
          "metadata": {
            "tags": []
          },
          "execution_count": 105
        }
      ]
    },
    {
      "cell_type": "markdown",
      "metadata": {
        "id": "3cU2zH_19nP2",
        "colab_type": "text"
      },
      "source": [
        "Go through each row of the dataframe and delete it (drop) if any of the columns is null"
      ]
    },
    {
      "cell_type": "code",
      "metadata": {
        "id": "Sj0eAMah9AEV",
        "colab_type": "code",
        "colab": {}
      },
      "source": [
        "for r in df.index:\n",
        "    for c in df.columns:\n",
        "        if pd.isnull(df.loc[r, c]):\n",
        "            df.drop(r, inplace=True)\n",
        "            break"
      ],
      "execution_count": 106,
      "outputs": []
    },
    {
      "cell_type": "code",
      "metadata": {
        "id": "6oNLAql3_54k",
        "colab_type": "code",
        "colab": {
          "base_uri": "https://localhost:8080/",
          "height": 300
        },
        "outputId": "f26957f0-c506-4e76-fb22-aef32bf2402a"
      },
      "source": [
        "df.describe()"
      ],
      "execution_count": 107,
      "outputs": [
        {
          "output_type": "execute_result",
          "data": {
            "text/html": [
              "<div>\n",
              "<style scoped>\n",
              "    .dataframe tbody tr th:only-of-type {\n",
              "        vertical-align: middle;\n",
              "    }\n",
              "\n",
              "    .dataframe tbody tr th {\n",
              "        vertical-align: top;\n",
              "    }\n",
              "\n",
              "    .dataframe thead th {\n",
              "        text-align: right;\n",
              "    }\n",
              "</style>\n",
              "<table border=\"1\" class=\"dataframe\">\n",
              "  <thead>\n",
              "    <tr style=\"text-align: right;\">\n",
              "      <th></th>\n",
              "      <th>number</th>\n",
              "      <th>orbital_period</th>\n",
              "      <th>mass</th>\n",
              "      <th>distance</th>\n",
              "      <th>year</th>\n",
              "    </tr>\n",
              "  </thead>\n",
              "  <tbody>\n",
              "    <tr>\n",
              "      <th>count</th>\n",
              "      <td>498.00000</td>\n",
              "      <td>498.000000</td>\n",
              "      <td>498.000000</td>\n",
              "      <td>498.000000</td>\n",
              "      <td>498.000000</td>\n",
              "    </tr>\n",
              "    <tr>\n",
              "      <th>mean</th>\n",
              "      <td>1.73494</td>\n",
              "      <td>835.778671</td>\n",
              "      <td>2.509320</td>\n",
              "      <td>52.068213</td>\n",
              "      <td>2007.377510</td>\n",
              "    </tr>\n",
              "    <tr>\n",
              "      <th>std</th>\n",
              "      <td>1.17572</td>\n",
              "      <td>1469.128259</td>\n",
              "      <td>3.636274</td>\n",
              "      <td>46.596041</td>\n",
              "      <td>4.167284</td>\n",
              "    </tr>\n",
              "    <tr>\n",
              "      <th>min</th>\n",
              "      <td>1.00000</td>\n",
              "      <td>1.328300</td>\n",
              "      <td>0.003600</td>\n",
              "      <td>1.350000</td>\n",
              "      <td>1989.000000</td>\n",
              "    </tr>\n",
              "    <tr>\n",
              "      <th>25%</th>\n",
              "      <td>1.00000</td>\n",
              "      <td>38.272250</td>\n",
              "      <td>0.212500</td>\n",
              "      <td>24.497500</td>\n",
              "      <td>2005.000000</td>\n",
              "    </tr>\n",
              "    <tr>\n",
              "      <th>50%</th>\n",
              "      <td>1.00000</td>\n",
              "      <td>357.000000</td>\n",
              "      <td>1.245000</td>\n",
              "      <td>39.940000</td>\n",
              "      <td>2009.000000</td>\n",
              "    </tr>\n",
              "    <tr>\n",
              "      <th>75%</th>\n",
              "      <td>2.00000</td>\n",
              "      <td>999.600000</td>\n",
              "      <td>2.867500</td>\n",
              "      <td>59.332500</td>\n",
              "      <td>2011.000000</td>\n",
              "    </tr>\n",
              "    <tr>\n",
              "      <th>max</th>\n",
              "      <td>6.00000</td>\n",
              "      <td>17337.500000</td>\n",
              "      <td>25.000000</td>\n",
              "      <td>354.000000</td>\n",
              "      <td>2014.000000</td>\n",
              "    </tr>\n",
              "  </tbody>\n",
              "</table>\n",
              "</div>"
            ],
            "text/plain": [
              "          number  orbital_period        mass    distance         year\n",
              "count  498.00000      498.000000  498.000000  498.000000   498.000000\n",
              "mean     1.73494      835.778671    2.509320   52.068213  2007.377510\n",
              "std      1.17572     1469.128259    3.636274   46.596041     4.167284\n",
              "min      1.00000        1.328300    0.003600    1.350000  1989.000000\n",
              "25%      1.00000       38.272250    0.212500   24.497500  2005.000000\n",
              "50%      1.00000      357.000000    1.245000   39.940000  2009.000000\n",
              "75%      2.00000      999.600000    2.867500   59.332500  2011.000000\n",
              "max      6.00000    17337.500000   25.000000  354.000000  2014.000000"
            ]
          },
          "metadata": {
            "tags": []
          },
          "execution_count": 107
        }
      ]
    },
    {
      "cell_type": "code",
      "metadata": {
        "id": "yRJcXLYJ_72v",
        "colab_type": "code",
        "colab": {
          "base_uri": "https://localhost:8080/",
          "height": 171
        },
        "outputId": "7c842bb1-7b66-4074-8104-b05900fe2550"
      },
      "source": [
        "for i, r in df.iterrows():\n",
        "    print(i)\n",
        "    print(r)\n",
        "    break"
      ],
      "execution_count": 110,
      "outputs": [
        {
          "output_type": "stream",
          "text": [
            "0\n",
            "method            Radial Velocity\n",
            "number                          1\n",
            "orbital_period              269.3\n",
            "mass                          7.1\n",
            "distance                     77.4\n",
            "year                         2006\n",
            "Name: 0, dtype: object\n"
          ],
          "name": "stdout"
        }
      ]
    },
    {
      "cell_type": "code",
      "metadata": {
        "id": "k4DnN1cNAL0Z",
        "colab_type": "code",
        "colab": {}
      },
      "source": [
        "for i, r in df.iterrows():\n",
        "    if pd.isnull(r).any():\n",
        "        df.drop(i, inplace=True)"
      ],
      "execution_count": 115,
      "outputs": []
    },
    {
      "cell_type": "code",
      "metadata": {
        "id": "IA9UxmKyAgXo",
        "colab_type": "code",
        "colab": {
          "base_uri": "https://localhost:8080/",
          "height": 300
        },
        "outputId": "673d603d-8087-4a94-b77b-605e5a2488c6"
      },
      "source": [
        "df.describe()"
      ],
      "execution_count": 118,
      "outputs": [
        {
          "output_type": "execute_result",
          "data": {
            "text/html": [
              "<div>\n",
              "<style scoped>\n",
              "    .dataframe tbody tr th:only-of-type {\n",
              "        vertical-align: middle;\n",
              "    }\n",
              "\n",
              "    .dataframe tbody tr th {\n",
              "        vertical-align: top;\n",
              "    }\n",
              "\n",
              "    .dataframe thead th {\n",
              "        text-align: right;\n",
              "    }\n",
              "</style>\n",
              "<table border=\"1\" class=\"dataframe\">\n",
              "  <thead>\n",
              "    <tr style=\"text-align: right;\">\n",
              "      <th></th>\n",
              "      <th>number</th>\n",
              "      <th>orbital_period</th>\n",
              "      <th>mass</th>\n",
              "      <th>distance</th>\n",
              "      <th>year</th>\n",
              "    </tr>\n",
              "  </thead>\n",
              "  <tbody>\n",
              "    <tr>\n",
              "      <th>count</th>\n",
              "      <td>1035.000000</td>\n",
              "      <td>992.000000</td>\n",
              "      <td>513.000000</td>\n",
              "      <td>808.000000</td>\n",
              "      <td>1035.000000</td>\n",
              "    </tr>\n",
              "    <tr>\n",
              "      <th>mean</th>\n",
              "      <td>1.785507</td>\n",
              "      <td>2002.917596</td>\n",
              "      <td>2.638161</td>\n",
              "      <td>264.069282</td>\n",
              "      <td>2009.070531</td>\n",
              "    </tr>\n",
              "    <tr>\n",
              "      <th>std</th>\n",
              "      <td>1.240976</td>\n",
              "      <td>26014.728304</td>\n",
              "      <td>3.818617</td>\n",
              "      <td>733.116493</td>\n",
              "      <td>3.972567</td>\n",
              "    </tr>\n",
              "    <tr>\n",
              "      <th>min</th>\n",
              "      <td>1.000000</td>\n",
              "      <td>0.090706</td>\n",
              "      <td>0.003600</td>\n",
              "      <td>1.350000</td>\n",
              "      <td>1989.000000</td>\n",
              "    </tr>\n",
              "    <tr>\n",
              "      <th>25%</th>\n",
              "      <td>1.000000</td>\n",
              "      <td>5.442540</td>\n",
              "      <td>0.229000</td>\n",
              "      <td>32.560000</td>\n",
              "      <td>2007.000000</td>\n",
              "    </tr>\n",
              "    <tr>\n",
              "      <th>50%</th>\n",
              "      <td>1.000000</td>\n",
              "      <td>39.979500</td>\n",
              "      <td>1.260000</td>\n",
              "      <td>55.250000</td>\n",
              "      <td>2010.000000</td>\n",
              "    </tr>\n",
              "    <tr>\n",
              "      <th>75%</th>\n",
              "      <td>2.000000</td>\n",
              "      <td>526.005000</td>\n",
              "      <td>3.040000</td>\n",
              "      <td>178.500000</td>\n",
              "      <td>2012.000000</td>\n",
              "    </tr>\n",
              "    <tr>\n",
              "      <th>max</th>\n",
              "      <td>7.000000</td>\n",
              "      <td>730000.000000</td>\n",
              "      <td>25.000000</td>\n",
              "      <td>8500.000000</td>\n",
              "      <td>2014.000000</td>\n",
              "    </tr>\n",
              "  </tbody>\n",
              "</table>\n",
              "</div>"
            ],
            "text/plain": [
              "            number  orbital_period        mass     distance         year\n",
              "count  1035.000000      992.000000  513.000000   808.000000  1035.000000\n",
              "mean      1.785507     2002.917596    2.638161   264.069282  2009.070531\n",
              "std       1.240976    26014.728304    3.818617   733.116493     3.972567\n",
              "min       1.000000        0.090706    0.003600     1.350000  1989.000000\n",
              "25%       1.000000        5.442540    0.229000    32.560000  2007.000000\n",
              "50%       1.000000       39.979500    1.260000    55.250000  2010.000000\n",
              "75%       2.000000      526.005000    3.040000   178.500000  2012.000000\n",
              "max       7.000000   730000.000000   25.000000  8500.000000  2014.000000"
            ]
          },
          "metadata": {
            "tags": []
          },
          "execution_count": 118
        }
      ]
    },
    {
      "cell_type": "code",
      "metadata": {
        "id": "6tZGWYTKAzRk",
        "colab_type": "code",
        "colab": {}
      },
      "source": [
        "df.dropna(inplace=True)"
      ],
      "execution_count": 119,
      "outputs": []
    },
    {
      "cell_type": "code",
      "metadata": {
        "id": "wUsYw889BAJH",
        "colab_type": "code",
        "colab": {
          "base_uri": "https://localhost:8080/",
          "height": 300
        },
        "outputId": "8f7ba941-d0f8-4b79-ff22-f2e8c700b597"
      },
      "source": [
        "df.describe()"
      ],
      "execution_count": 120,
      "outputs": [
        {
          "output_type": "execute_result",
          "data": {
            "text/html": [
              "<div>\n",
              "<style scoped>\n",
              "    .dataframe tbody tr th:only-of-type {\n",
              "        vertical-align: middle;\n",
              "    }\n",
              "\n",
              "    .dataframe tbody tr th {\n",
              "        vertical-align: top;\n",
              "    }\n",
              "\n",
              "    .dataframe thead th {\n",
              "        text-align: right;\n",
              "    }\n",
              "</style>\n",
              "<table border=\"1\" class=\"dataframe\">\n",
              "  <thead>\n",
              "    <tr style=\"text-align: right;\">\n",
              "      <th></th>\n",
              "      <th>number</th>\n",
              "      <th>orbital_period</th>\n",
              "      <th>mass</th>\n",
              "      <th>distance</th>\n",
              "      <th>year</th>\n",
              "    </tr>\n",
              "  </thead>\n",
              "  <tbody>\n",
              "    <tr>\n",
              "      <th>count</th>\n",
              "      <td>498.00000</td>\n",
              "      <td>498.000000</td>\n",
              "      <td>498.000000</td>\n",
              "      <td>498.000000</td>\n",
              "      <td>498.000000</td>\n",
              "    </tr>\n",
              "    <tr>\n",
              "      <th>mean</th>\n",
              "      <td>1.73494</td>\n",
              "      <td>835.778671</td>\n",
              "      <td>2.509320</td>\n",
              "      <td>52.068213</td>\n",
              "      <td>2007.377510</td>\n",
              "    </tr>\n",
              "    <tr>\n",
              "      <th>std</th>\n",
              "      <td>1.17572</td>\n",
              "      <td>1469.128259</td>\n",
              "      <td>3.636274</td>\n",
              "      <td>46.596041</td>\n",
              "      <td>4.167284</td>\n",
              "    </tr>\n",
              "    <tr>\n",
              "      <th>min</th>\n",
              "      <td>1.00000</td>\n",
              "      <td>1.328300</td>\n",
              "      <td>0.003600</td>\n",
              "      <td>1.350000</td>\n",
              "      <td>1989.000000</td>\n",
              "    </tr>\n",
              "    <tr>\n",
              "      <th>25%</th>\n",
              "      <td>1.00000</td>\n",
              "      <td>38.272250</td>\n",
              "      <td>0.212500</td>\n",
              "      <td>24.497500</td>\n",
              "      <td>2005.000000</td>\n",
              "    </tr>\n",
              "    <tr>\n",
              "      <th>50%</th>\n",
              "      <td>1.00000</td>\n",
              "      <td>357.000000</td>\n",
              "      <td>1.245000</td>\n",
              "      <td>39.940000</td>\n",
              "      <td>2009.000000</td>\n",
              "    </tr>\n",
              "    <tr>\n",
              "      <th>75%</th>\n",
              "      <td>2.00000</td>\n",
              "      <td>999.600000</td>\n",
              "      <td>2.867500</td>\n",
              "      <td>59.332500</td>\n",
              "      <td>2011.000000</td>\n",
              "    </tr>\n",
              "    <tr>\n",
              "      <th>max</th>\n",
              "      <td>6.00000</td>\n",
              "      <td>17337.500000</td>\n",
              "      <td>25.000000</td>\n",
              "      <td>354.000000</td>\n",
              "      <td>2014.000000</td>\n",
              "    </tr>\n",
              "  </tbody>\n",
              "</table>\n",
              "</div>"
            ],
            "text/plain": [
              "          number  orbital_period        mass    distance         year\n",
              "count  498.00000      498.000000  498.000000  498.000000   498.000000\n",
              "mean     1.73494      835.778671    2.509320   52.068213  2007.377510\n",
              "std      1.17572     1469.128259    3.636274   46.596041     4.167284\n",
              "min      1.00000        1.328300    0.003600    1.350000  1989.000000\n",
              "25%      1.00000       38.272250    0.212500   24.497500  2005.000000\n",
              "50%      1.00000      357.000000    1.245000   39.940000  2009.000000\n",
              "75%      2.00000      999.600000    2.867500   59.332500  2011.000000\n",
              "max      6.00000    17337.500000   25.000000  354.000000  2014.000000"
            ]
          },
          "metadata": {
            "tags": []
          },
          "execution_count": 120
        }
      ]
    },
    {
      "cell_type": "markdown",
      "metadata": {
        "id": "z8o3xudjBN7F",
        "colab_type": "text"
      },
      "source": [
        "Filter and show only those rows which have planets that are found in the 2010s and method is 'Radial Velocity' or 'Transit' and distance is large (> 75 percentile)"
      ]
    },
    {
      "cell_type": "code",
      "metadata": {
        "id": "azywJKUwFXaM",
        "colab_type": "code",
        "colab": {}
      },
      "source": [
        "df_ = df.copy()\n",
        "per_75 = df.distance.quantile(0.75)\n",
        "for i, r in df_.iterrows():\n",
        "    if r['year'] < 2010:\n",
        "        df_.drop(i, inplace=True)\n",
        "        continue\n",
        "    if r['method'] != 'Radial Velocity' and r['method'] != 'Transit':\n",
        "        df_.drop(i, inplace=True)\n",
        "        continue\n",
        "    if r['distance'] < per_75:\n",
        "        df_.drop(i, inplace=True)\n",
        "        continue"
      ],
      "execution_count": 130,
      "outputs": []
    },
    {
      "cell_type": "code",
      "metadata": {
        "id": "sQszAggpG4vV",
        "colab_type": "code",
        "colab": {
          "base_uri": "https://localhost:8080/",
          "height": 300
        },
        "outputId": "c5a5e2d9-9758-4652-9532-407b0a95fb09"
      },
      "source": [
        "df_.describe()"
      ],
      "execution_count": 131,
      "outputs": [
        {
          "output_type": "execute_result",
          "data": {
            "text/html": [
              "<div>\n",
              "<style scoped>\n",
              "    .dataframe tbody tr th:only-of-type {\n",
              "        vertical-align: middle;\n",
              "    }\n",
              "\n",
              "    .dataframe tbody tr th {\n",
              "        vertical-align: top;\n",
              "    }\n",
              "\n",
              "    .dataframe thead th {\n",
              "        text-align: right;\n",
              "    }\n",
              "</style>\n",
              "<table border=\"1\" class=\"dataframe\">\n",
              "  <thead>\n",
              "    <tr style=\"text-align: right;\">\n",
              "      <th></th>\n",
              "      <th>number</th>\n",
              "      <th>orbital_period</th>\n",
              "      <th>mass</th>\n",
              "      <th>distance</th>\n",
              "      <th>year</th>\n",
              "    </tr>\n",
              "  </thead>\n",
              "  <tbody>\n",
              "    <tr>\n",
              "      <th>count</th>\n",
              "      <td>50.000000</td>\n",
              "      <td>50.000000</td>\n",
              "      <td>50.000000</td>\n",
              "      <td>50.000000</td>\n",
              "      <td>50.000000</td>\n",
              "    </tr>\n",
              "    <tr>\n",
              "      <th>mean</th>\n",
              "      <td>1.300000</td>\n",
              "      <td>763.904808</td>\n",
              "      <td>3.322740</td>\n",
              "      <td>133.142600</td>\n",
              "      <td>2011.360000</td>\n",
              "    </tr>\n",
              "    <tr>\n",
              "      <th>std</th>\n",
              "      <td>0.505076</td>\n",
              "      <td>966.789870</td>\n",
              "      <td>3.648002</td>\n",
              "      <td>70.378699</td>\n",
              "      <td>1.120496</td>\n",
              "    </tr>\n",
              "    <tr>\n",
              "      <th>min</th>\n",
              "      <td>1.000000</td>\n",
              "      <td>2.703390</td>\n",
              "      <td>0.770000</td>\n",
              "      <td>65.620000</td>\n",
              "      <td>2010.000000</td>\n",
              "    </tr>\n",
              "    <tr>\n",
              "      <th>25%</th>\n",
              "      <td>1.000000</td>\n",
              "      <td>255.555000</td>\n",
              "      <td>1.325000</td>\n",
              "      <td>80.205000</td>\n",
              "      <td>2011.000000</td>\n",
              "    </tr>\n",
              "    <tr>\n",
              "      <th>50%</th>\n",
              "      <td>1.000000</td>\n",
              "      <td>550.500000</td>\n",
              "      <td>1.875000</td>\n",
              "      <td>121.070000</td>\n",
              "      <td>2011.000000</td>\n",
              "    </tr>\n",
              "    <tr>\n",
              "      <th>75%</th>\n",
              "      <td>2.000000</td>\n",
              "      <td>873.625000</td>\n",
              "      <td>3.400000</td>\n",
              "      <td>150.097500</td>\n",
              "      <td>2012.000000</td>\n",
              "    </tr>\n",
              "    <tr>\n",
              "      <th>max</th>\n",
              "      <td>3.000000</td>\n",
              "      <td>5584.000000</td>\n",
              "      <td>20.600000</td>\n",
              "      <td>354.000000</td>\n",
              "      <td>2014.000000</td>\n",
              "    </tr>\n",
              "  </tbody>\n",
              "</table>\n",
              "</div>"
            ],
            "text/plain": [
              "          number  orbital_period       mass    distance         year\n",
              "count  50.000000       50.000000  50.000000   50.000000    50.000000\n",
              "mean    1.300000      763.904808   3.322740  133.142600  2011.360000\n",
              "std     0.505076      966.789870   3.648002   70.378699     1.120496\n",
              "min     1.000000        2.703390   0.770000   65.620000  2010.000000\n",
              "25%     1.000000      255.555000   1.325000   80.205000  2011.000000\n",
              "50%     1.000000      550.500000   1.875000  121.070000  2011.000000\n",
              "75%     2.000000      873.625000   3.400000  150.097500  2012.000000\n",
              "max     3.000000     5584.000000  20.600000  354.000000  2014.000000"
            ]
          },
          "metadata": {
            "tags": []
          },
          "execution_count": 131
        }
      ]
    },
    {
      "cell_type": "code",
      "metadata": {
        "id": "cFzDQxvjG8pU",
        "colab_type": "code",
        "colab": {
          "base_uri": "https://localhost:8080/",
          "height": 206
        },
        "outputId": "b53d8ea2-cdfa-4c73-f976-1d8a0e52b33d"
      },
      "source": [
        "df_.tail()"
      ],
      "execution_count": 134,
      "outputs": [
        {
          "output_type": "execute_result",
          "data": {
            "text/html": [
              "<div>\n",
              "<style scoped>\n",
              "    .dataframe tbody tr th:only-of-type {\n",
              "        vertical-align: middle;\n",
              "    }\n",
              "\n",
              "    .dataframe tbody tr th {\n",
              "        vertical-align: top;\n",
              "    }\n",
              "\n",
              "    .dataframe thead th {\n",
              "        text-align: right;\n",
              "    }\n",
              "</style>\n",
              "<table border=\"1\" class=\"dataframe\">\n",
              "  <thead>\n",
              "    <tr style=\"text-align: right;\">\n",
              "      <th></th>\n",
              "      <th>method</th>\n",
              "      <th>number</th>\n",
              "      <th>orbital_period</th>\n",
              "      <th>mass</th>\n",
              "      <th>distance</th>\n",
              "      <th>year</th>\n",
              "    </tr>\n",
              "  </thead>\n",
              "  <tbody>\n",
              "    <tr>\n",
              "      <th>620</th>\n",
              "      <td>Radial Velocity</td>\n",
              "      <td>1</td>\n",
              "      <td>745.70000</td>\n",
              "      <td>5.300</td>\n",
              "      <td>307.69</td>\n",
              "      <td>2011</td>\n",
              "    </tr>\n",
              "    <tr>\n",
              "      <th>627</th>\n",
              "      <td>Radial Velocity</td>\n",
              "      <td>1</td>\n",
              "      <td>16.20000</td>\n",
              "      <td>1.250</td>\n",
              "      <td>223.21</td>\n",
              "      <td>2010</td>\n",
              "    </tr>\n",
              "    <tr>\n",
              "      <th>636</th>\n",
              "      <td>Radial Velocity</td>\n",
              "      <td>1</td>\n",
              "      <td>124.60000</td>\n",
              "      <td>9.180</td>\n",
              "      <td>149.25</td>\n",
              "      <td>2013</td>\n",
              "    </tr>\n",
              "    <tr>\n",
              "      <th>649</th>\n",
              "      <td>Transit</td>\n",
              "      <td>1</td>\n",
              "      <td>2.70339</td>\n",
              "      <td>1.470</td>\n",
              "      <td>178.00</td>\n",
              "      <td>2013</td>\n",
              "    </tr>\n",
              "    <tr>\n",
              "      <th>784</th>\n",
              "      <td>Radial Velocity</td>\n",
              "      <td>3</td>\n",
              "      <td>580.00000</td>\n",
              "      <td>0.947</td>\n",
              "      <td>135.00</td>\n",
              "      <td>2012</td>\n",
              "    </tr>\n",
              "  </tbody>\n",
              "</table>\n",
              "</div>"
            ],
            "text/plain": [
              "              method  number  orbital_period   mass  distance  year\n",
              "620  Radial Velocity       1       745.70000  5.300    307.69  2011\n",
              "627  Radial Velocity       1        16.20000  1.250    223.21  2010\n",
              "636  Radial Velocity       1       124.60000  9.180    149.25  2013\n",
              "649          Transit       1         2.70339  1.470    178.00  2013\n",
              "784  Radial Velocity       3       580.00000  0.947    135.00  2012"
            ]
          },
          "metadata": {
            "tags": []
          },
          "execution_count": 134
        }
      ]
    },
    {
      "cell_type": "code",
      "metadata": {
        "id": "NdJ-f9UcHAde",
        "colab_type": "code",
        "colab": {
          "base_uri": "https://localhost:8080/",
          "height": 36
        },
        "outputId": "8b9b6a8c-c008-4988-fdbd-9e1298d869c0"
      },
      "source": [
        "per_75"
      ],
      "execution_count": 133,
      "outputs": [
        {
          "output_type": "execute_result",
          "data": {
            "text/plain": [
              "59.3325"
            ]
          },
          "metadata": {
            "tags": []
          },
          "execution_count": 133
        }
      ]
    },
    {
      "cell_type": "code",
      "metadata": {
        "id": "9nHuteFOHEHy",
        "colab_type": "code",
        "colab": {}
      },
      "source": [
        "df_ = df.copy()\n",
        "df_ = df_[\n",
        "    (df_['year'] >= 2010) &\n",
        "    ((df_['method'] == 'Radial Velocity') | (df_['method'] == 'Transit')) &\n",
        "    (df_['distance'] > per_75)\n",
        "]"
      ],
      "execution_count": 136,
      "outputs": []
    },
    {
      "cell_type": "code",
      "metadata": {
        "id": "zSOnhQcGHhTP",
        "colab_type": "code",
        "colab": {
          "base_uri": "https://localhost:8080/",
          "height": 300
        },
        "outputId": "ca077db8-dafb-4e87-9f86-e49e480b21ab"
      },
      "source": [
        "df_.describe()"
      ],
      "execution_count": 137,
      "outputs": [
        {
          "output_type": "execute_result",
          "data": {
            "text/html": [
              "<div>\n",
              "<style scoped>\n",
              "    .dataframe tbody tr th:only-of-type {\n",
              "        vertical-align: middle;\n",
              "    }\n",
              "\n",
              "    .dataframe tbody tr th {\n",
              "        vertical-align: top;\n",
              "    }\n",
              "\n",
              "    .dataframe thead th {\n",
              "        text-align: right;\n",
              "    }\n",
              "</style>\n",
              "<table border=\"1\" class=\"dataframe\">\n",
              "  <thead>\n",
              "    <tr style=\"text-align: right;\">\n",
              "      <th></th>\n",
              "      <th>number</th>\n",
              "      <th>orbital_period</th>\n",
              "      <th>mass</th>\n",
              "      <th>distance</th>\n",
              "      <th>year</th>\n",
              "    </tr>\n",
              "  </thead>\n",
              "  <tbody>\n",
              "    <tr>\n",
              "      <th>count</th>\n",
              "      <td>50.000000</td>\n",
              "      <td>50.000000</td>\n",
              "      <td>50.000000</td>\n",
              "      <td>50.000000</td>\n",
              "      <td>50.000000</td>\n",
              "    </tr>\n",
              "    <tr>\n",
              "      <th>mean</th>\n",
              "      <td>1.300000</td>\n",
              "      <td>763.904808</td>\n",
              "      <td>3.322740</td>\n",
              "      <td>133.142600</td>\n",
              "      <td>2011.360000</td>\n",
              "    </tr>\n",
              "    <tr>\n",
              "      <th>std</th>\n",
              "      <td>0.505076</td>\n",
              "      <td>966.789870</td>\n",
              "      <td>3.648002</td>\n",
              "      <td>70.378699</td>\n",
              "      <td>1.120496</td>\n",
              "    </tr>\n",
              "    <tr>\n",
              "      <th>min</th>\n",
              "      <td>1.000000</td>\n",
              "      <td>2.703390</td>\n",
              "      <td>0.770000</td>\n",
              "      <td>65.620000</td>\n",
              "      <td>2010.000000</td>\n",
              "    </tr>\n",
              "    <tr>\n",
              "      <th>25%</th>\n",
              "      <td>1.000000</td>\n",
              "      <td>255.555000</td>\n",
              "      <td>1.325000</td>\n",
              "      <td>80.205000</td>\n",
              "      <td>2011.000000</td>\n",
              "    </tr>\n",
              "    <tr>\n",
              "      <th>50%</th>\n",
              "      <td>1.000000</td>\n",
              "      <td>550.500000</td>\n",
              "      <td>1.875000</td>\n",
              "      <td>121.070000</td>\n",
              "      <td>2011.000000</td>\n",
              "    </tr>\n",
              "    <tr>\n",
              "      <th>75%</th>\n",
              "      <td>2.000000</td>\n",
              "      <td>873.625000</td>\n",
              "      <td>3.400000</td>\n",
              "      <td>150.097500</td>\n",
              "      <td>2012.000000</td>\n",
              "    </tr>\n",
              "    <tr>\n",
              "      <th>max</th>\n",
              "      <td>3.000000</td>\n",
              "      <td>5584.000000</td>\n",
              "      <td>20.600000</td>\n",
              "      <td>354.000000</td>\n",
              "      <td>2014.000000</td>\n",
              "    </tr>\n",
              "  </tbody>\n",
              "</table>\n",
              "</div>"
            ],
            "text/plain": [
              "          number  orbital_period       mass    distance         year\n",
              "count  50.000000       50.000000  50.000000   50.000000    50.000000\n",
              "mean    1.300000      763.904808   3.322740  133.142600  2011.360000\n",
              "std     0.505076      966.789870   3.648002   70.378699     1.120496\n",
              "min     1.000000        2.703390   0.770000   65.620000  2010.000000\n",
              "25%     1.000000      255.555000   1.325000   80.205000  2011.000000\n",
              "50%     1.000000      550.500000   1.875000  121.070000  2011.000000\n",
              "75%     2.000000      873.625000   3.400000  150.097500  2012.000000\n",
              "max     3.000000     5584.000000  20.600000  354.000000  2014.000000"
            ]
          },
          "metadata": {
            "tags": []
          },
          "execution_count": 137
        }
      ]
    },
    {
      "cell_type": "markdown",
      "metadata": {
        "id": "121s5IAlH-Yy",
        "colab_type": "text"
      },
      "source": [
        "Modify the method column to have only the abbreviation of each method "
      ]
    },
    {
      "cell_type": "code",
      "metadata": {
        "id": "O2ZDD40XHlfa",
        "colab_type": "code",
        "colab": {
          "base_uri": "https://localhost:8080/",
          "height": 94
        },
        "outputId": "586b2d1d-8713-4e8a-99b3-b8625b0c0521"
      },
      "source": [
        "df.method.unique()"
      ],
      "execution_count": 140,
      "outputs": [
        {
          "output_type": "execute_result",
          "data": {
            "text/plain": [
              "array(['Radial Velocity', 'Imaging', 'Eclipse Timing Variations',\n",
              "       'Transit', 'Astrometry', 'Transit Timing Variations',\n",
              "       'Orbital Brightness Modulation', 'Microlensing', 'Pulsar Timing',\n",
              "       'Pulsation Timing Variations'], dtype=object)"
            ]
          },
          "metadata": {
            "tags": []
          },
          "execution_count": 140
        }
      ]
    },
    {
      "cell_type": "code",
      "metadata": {
        "id": "NHbza9KQKBau",
        "colab_type": "code",
        "colab": {}
      },
      "source": [
        "s = 'Orbital Brightness Modulation'"
      ],
      "execution_count": 145,
      "outputs": []
    },
    {
      "cell_type": "code",
      "metadata": {
        "id": "X8DNfJS2KVv5",
        "colab_type": "code",
        "colab": {
          "base_uri": "https://localhost:8080/",
          "height": 36
        },
        "outputId": "be220abd-3b1a-4b4b-d151-b3b7f20220db"
      },
      "source": [
        "''.join([x[0] for x in s.split(' ')])"
      ],
      "execution_count": 146,
      "outputs": [
        {
          "output_type": "execute_result",
          "data": {
            "text/plain": [
              "'OBM'"
            ]
          },
          "metadata": {
            "tags": []
          },
          "execution_count": 146
        }
      ]
    },
    {
      "cell_type": "code",
      "metadata": {
        "id": "-SC92vA8KWJY",
        "colab_type": "code",
        "colab": {}
      },
      "source": [
        "short_names = {}\n",
        "for s in df.method.unique():\n",
        "    short_names[s] = ''.join([x[0] for x in s.split(' ')])"
      ],
      "execution_count": 147,
      "outputs": []
    },
    {
      "cell_type": "code",
      "metadata": {
        "id": "hT9GQfaXKuk-",
        "colab_type": "code",
        "colab": {
          "base_uri": "https://localhost:8080/",
          "height": 56
        },
        "outputId": "68cd9439-81a5-4427-d855-88657135fece"
      },
      "source": [
        "print(short_names)"
      ],
      "execution_count": 148,
      "outputs": [
        {
          "output_type": "stream",
          "text": [
            "{'Radial Velocity': 'RV', 'Imaging': 'I', 'Eclipse Timing Variations': 'ETV', 'Transit': 'T', 'Astrometry': 'A', 'Transit Timing Variations': 'TTV', 'Orbital Brightness Modulation': 'OBM', 'Microlensing': 'M', 'Pulsar Timing': 'PT', 'Pulsation Timing Variations': 'PTV'}\n"
          ],
          "name": "stdout"
        }
      ]
    },
    {
      "cell_type": "code",
      "metadata": {
        "id": "vA_zWBL1Kvcv",
        "colab_type": "code",
        "colab": {}
      },
      "source": [
        "for i, r in df.iterrows():\n",
        "    df.loc[i, 'short_method'] = short_names.get(r['method'], r['method'])"
      ],
      "execution_count": 149,
      "outputs": []
    },
    {
      "cell_type": "code",
      "metadata": {
        "id": "ekFwrCI9LJXa",
        "colab_type": "code",
        "colab": {
          "base_uri": "https://localhost:8080/",
          "height": 206
        },
        "outputId": "57bdeeff-a70e-4674-bb60-107b864ac8bb"
      },
      "source": [
        "df.tail()"
      ],
      "execution_count": 151,
      "outputs": [
        {
          "output_type": "execute_result",
          "data": {
            "text/html": [
              "<div>\n",
              "<style scoped>\n",
              "    .dataframe tbody tr th:only-of-type {\n",
              "        vertical-align: middle;\n",
              "    }\n",
              "\n",
              "    .dataframe tbody tr th {\n",
              "        vertical-align: top;\n",
              "    }\n",
              "\n",
              "    .dataframe thead th {\n",
              "        text-align: right;\n",
              "    }\n",
              "</style>\n",
              "<table border=\"1\" class=\"dataframe\">\n",
              "  <thead>\n",
              "    <tr style=\"text-align: right;\">\n",
              "      <th></th>\n",
              "      <th>method</th>\n",
              "      <th>number</th>\n",
              "      <th>orbital_period</th>\n",
              "      <th>mass</th>\n",
              "      <th>distance</th>\n",
              "      <th>year</th>\n",
              "      <th>short_method</th>\n",
              "    </tr>\n",
              "  </thead>\n",
              "  <tbody>\n",
              "    <tr>\n",
              "      <th>1030</th>\n",
              "      <td>Transit</td>\n",
              "      <td>1</td>\n",
              "      <td>3.941507</td>\n",
              "      <td>NaN</td>\n",
              "      <td>172.0</td>\n",
              "      <td>2006</td>\n",
              "      <td>T</td>\n",
              "    </tr>\n",
              "    <tr>\n",
              "      <th>1031</th>\n",
              "      <td>Transit</td>\n",
              "      <td>1</td>\n",
              "      <td>2.615864</td>\n",
              "      <td>NaN</td>\n",
              "      <td>148.0</td>\n",
              "      <td>2007</td>\n",
              "      <td>T</td>\n",
              "    </tr>\n",
              "    <tr>\n",
              "      <th>1032</th>\n",
              "      <td>Transit</td>\n",
              "      <td>1</td>\n",
              "      <td>3.191524</td>\n",
              "      <td>NaN</td>\n",
              "      <td>174.0</td>\n",
              "      <td>2007</td>\n",
              "      <td>T</td>\n",
              "    </tr>\n",
              "    <tr>\n",
              "      <th>1033</th>\n",
              "      <td>Transit</td>\n",
              "      <td>1</td>\n",
              "      <td>4.125083</td>\n",
              "      <td>NaN</td>\n",
              "      <td>293.0</td>\n",
              "      <td>2008</td>\n",
              "      <td>T</td>\n",
              "    </tr>\n",
              "    <tr>\n",
              "      <th>1034</th>\n",
              "      <td>Transit</td>\n",
              "      <td>1</td>\n",
              "      <td>4.187757</td>\n",
              "      <td>NaN</td>\n",
              "      <td>260.0</td>\n",
              "      <td>2008</td>\n",
              "      <td>T</td>\n",
              "    </tr>\n",
              "  </tbody>\n",
              "</table>\n",
              "</div>"
            ],
            "text/plain": [
              "       method  number  orbital_period  mass  distance  year short_method\n",
              "1030  Transit       1        3.941507   NaN     172.0  2006            T\n",
              "1031  Transit       1        2.615864   NaN     148.0  2007            T\n",
              "1032  Transit       1        3.191524   NaN     174.0  2007            T\n",
              "1033  Transit       1        4.125083   NaN     293.0  2008            T\n",
              "1034  Transit       1        4.187757   NaN     260.0  2008            T"
            ]
          },
          "metadata": {
            "tags": []
          },
          "execution_count": 151
        }
      ]
    },
    {
      "cell_type": "code",
      "metadata": {
        "id": "ZyDV8tT1LKWJ",
        "colab_type": "code",
        "colab": {}
      },
      "source": [
        "df = sns.load_dataset('planets')"
      ],
      "execution_count": 152,
      "outputs": []
    },
    {
      "cell_type": "code",
      "metadata": {
        "id": "Yz_ubflMLmPE",
        "colab_type": "code",
        "colab": {}
      },
      "source": [
        "def shorten_method(s):\n",
        "    return short_names.get(s, s)"
      ],
      "execution_count": 153,
      "outputs": []
    },
    {
      "cell_type": "code",
      "metadata": {
        "id": "5bkUqrbRLcHA",
        "colab_type": "code",
        "colab": {}
      },
      "source": [
        "df['short_method'] = df['method'].apply(shorten_method)"
      ],
      "execution_count": 154,
      "outputs": []
    },
    {
      "cell_type": "code",
      "metadata": {
        "id": "jYyi7oLlLxJq",
        "colab_type": "code",
        "colab": {
          "base_uri": "https://localhost:8080/",
          "height": 206
        },
        "outputId": "3e128b44-9d1d-46b1-e7ad-58632d4569bd"
      },
      "source": [
        "df.head()"
      ],
      "execution_count": 155,
      "outputs": [
        {
          "output_type": "execute_result",
          "data": {
            "text/html": [
              "<div>\n",
              "<style scoped>\n",
              "    .dataframe tbody tr th:only-of-type {\n",
              "        vertical-align: middle;\n",
              "    }\n",
              "\n",
              "    .dataframe tbody tr th {\n",
              "        vertical-align: top;\n",
              "    }\n",
              "\n",
              "    .dataframe thead th {\n",
              "        text-align: right;\n",
              "    }\n",
              "</style>\n",
              "<table border=\"1\" class=\"dataframe\">\n",
              "  <thead>\n",
              "    <tr style=\"text-align: right;\">\n",
              "      <th></th>\n",
              "      <th>method</th>\n",
              "      <th>number</th>\n",
              "      <th>orbital_period</th>\n",
              "      <th>mass</th>\n",
              "      <th>distance</th>\n",
              "      <th>year</th>\n",
              "      <th>short_method</th>\n",
              "    </tr>\n",
              "  </thead>\n",
              "  <tbody>\n",
              "    <tr>\n",
              "      <th>0</th>\n",
              "      <td>Radial Velocity</td>\n",
              "      <td>1</td>\n",
              "      <td>269.300</td>\n",
              "      <td>7.10</td>\n",
              "      <td>77.40</td>\n",
              "      <td>2006</td>\n",
              "      <td>RV</td>\n",
              "    </tr>\n",
              "    <tr>\n",
              "      <th>1</th>\n",
              "      <td>Radial Velocity</td>\n",
              "      <td>1</td>\n",
              "      <td>874.774</td>\n",
              "      <td>2.21</td>\n",
              "      <td>56.95</td>\n",
              "      <td>2008</td>\n",
              "      <td>RV</td>\n",
              "    </tr>\n",
              "    <tr>\n",
              "      <th>2</th>\n",
              "      <td>Radial Velocity</td>\n",
              "      <td>1</td>\n",
              "      <td>763.000</td>\n",
              "      <td>2.60</td>\n",
              "      <td>19.84</td>\n",
              "      <td>2011</td>\n",
              "      <td>RV</td>\n",
              "    </tr>\n",
              "    <tr>\n",
              "      <th>3</th>\n",
              "      <td>Radial Velocity</td>\n",
              "      <td>1</td>\n",
              "      <td>326.030</td>\n",
              "      <td>19.40</td>\n",
              "      <td>110.62</td>\n",
              "      <td>2007</td>\n",
              "      <td>RV</td>\n",
              "    </tr>\n",
              "    <tr>\n",
              "      <th>4</th>\n",
              "      <td>Radial Velocity</td>\n",
              "      <td>1</td>\n",
              "      <td>516.220</td>\n",
              "      <td>10.50</td>\n",
              "      <td>119.47</td>\n",
              "      <td>2009</td>\n",
              "      <td>RV</td>\n",
              "    </tr>\n",
              "  </tbody>\n",
              "</table>\n",
              "</div>"
            ],
            "text/plain": [
              "            method  number  orbital_period   mass  distance  year short_method\n",
              "0  Radial Velocity       1         269.300   7.10     77.40  2006           RV\n",
              "1  Radial Velocity       1         874.774   2.21     56.95  2008           RV\n",
              "2  Radial Velocity       1         763.000   2.60     19.84  2011           RV\n",
              "3  Radial Velocity       1         326.030  19.40    110.62  2007           RV\n",
              "4  Radial Velocity       1         516.220  10.50    119.47  2009           RV"
            ]
          },
          "metadata": {
            "tags": []
          },
          "execution_count": 155
        }
      ]
    },
    {
      "cell_type": "markdown",
      "metadata": {
        "id": "oCv5VIzHMER4",
        "colab_type": "text"
      },
      "source": [
        "Count the number of planets discovered for each method type"
      ]
    },
    {
      "cell_type": "markdown",
      "metadata": {
        "id": "M-jWEyzfOWZF",
        "colab_type": "text"
      },
      "source": [
        "1. **Split** the dataframe into smaller chunks (in this case they should have the same method name)\n",
        "2. **Apply** some function in each smaller chunk (in this case it is the count function)\n",
        "3. **Aggregate** the results from each chunk together"
      ]
    },
    {
      "cell_type": "code",
      "metadata": {
        "id": "FxMwYJUBLyJ-",
        "colab_type": "code",
        "colab": {
          "base_uri": "https://localhost:8080/",
          "height": 56
        },
        "outputId": "c353f4f1-4b7e-4062-d1a3-93ae8890efaa"
      },
      "source": [
        "d = {}\n",
        "for m in df.method.unique():\n",
        "    d[m] = df[df.method == m]['method'].count()\n",
        "print(d)"
      ],
      "execution_count": 160,
      "outputs": [
        {
          "output_type": "stream",
          "text": [
            "{'Radial Velocity': 553, 'Imaging': 38, 'Eclipse Timing Variations': 9, 'Transit': 397, 'Astrometry': 2, 'Transit Timing Variations': 4, 'Orbital Brightness Modulation': 3, 'Microlensing': 23, 'Pulsar Timing': 5, 'Pulsation Timing Variations': 1}\n"
          ],
          "name": "stdout"
        }
      ]
    },
    {
      "cell_type": "code",
      "metadata": {
        "id": "103g6EKFO_9Q",
        "colab_type": "code",
        "colab": {
          "base_uri": "https://localhost:8080/",
          "height": 249
        },
        "outputId": "d13375cc-3448-41aa-fbec-f136308c1e21"
      },
      "source": [
        "df.groupby('method')['method'].count()"
      ],
      "execution_count": 162,
      "outputs": [
        {
          "output_type": "execute_result",
          "data": {
            "text/plain": [
              "method\n",
              "Astrometry                         2\n",
              "Eclipse Timing Variations          9\n",
              "Imaging                           38\n",
              "Microlensing                      23\n",
              "Orbital Brightness Modulation      3\n",
              "Pulsar Timing                      5\n",
              "Pulsation Timing Variations        1\n",
              "Radial Velocity                  553\n",
              "Transit                          397\n",
              "Transit Timing Variations          4\n",
              "Name: method, dtype: int64"
            ]
          },
          "metadata": {
            "tags": []
          },
          "execution_count": 162
        }
      ]
    },
    {
      "cell_type": "code",
      "metadata": {
        "id": "YM1z6FLXPmfr",
        "colab_type": "code",
        "colab": {
          "base_uri": "https://localhost:8080/",
          "height": 56
        },
        "outputId": "b6170d57-46ca-4e68-fa19-9d97e020313b"
      },
      "source": [
        "d = {}\n",
        "for m in df.method.unique():\n",
        "    d[m] = df[df.method == m]['distance'].mean()\n",
        "print(d)"
      ],
      "execution_count": 163,
      "outputs": [
        {
          "output_type": "stream",
          "text": [
            "{'Radial Velocity': 51.60020754716983, 'Imaging': 67.7159375, 'Eclipse Timing Variations': 315.36, 'Transit': 599.2980803571429, 'Astrometry': 17.875, 'Transit Timing Variations': 1104.3333333333333, 'Orbital Brightness Modulation': 1180.0, 'Microlensing': 4144.0, 'Pulsar Timing': 1200.0, 'Pulsation Timing Variations': nan}\n"
          ],
          "name": "stdout"
        }
      ]
    },
    {
      "cell_type": "code",
      "metadata": {
        "id": "rkpM2WsSQJo1",
        "colab_type": "code",
        "colab": {
          "base_uri": "https://localhost:8080/",
          "height": 249
        },
        "outputId": "3956566c-1277-4d45-fda7-fbe6ed44ba25"
      },
      "source": [
        "df.groupby('method')['distance'].mean()"
      ],
      "execution_count": 164,
      "outputs": [
        {
          "output_type": "execute_result",
          "data": {
            "text/plain": [
              "method\n",
              "Astrometry                         17.875000\n",
              "Eclipse Timing Variations         315.360000\n",
              "Imaging                            67.715937\n",
              "Microlensing                     4144.000000\n",
              "Orbital Brightness Modulation    1180.000000\n",
              "Pulsar Timing                    1200.000000\n",
              "Pulsation Timing Variations              NaN\n",
              "Radial Velocity                    51.600208\n",
              "Transit                           599.298080\n",
              "Transit Timing Variations        1104.333333\n",
              "Name: distance, dtype: float64"
            ]
          },
          "metadata": {
            "tags": []
          },
          "execution_count": 164
        }
      ]
    },
    {
      "cell_type": "markdown",
      "metadata": {
        "id": "kf4NtymJQhSL",
        "colab_type": "text"
      },
      "source": [
        "Find out what fraction of planets have been found in the last decade (i.e., in 2010s) across each method type"
      ]
    },
    {
      "cell_type": "markdown",
      "metadata": {
        "id": "w43lsFYUS4LU",
        "colab_type": "text"
      },
      "source": [
        "1. **Filter** the data for given condition (in this case planet found in last decade)\n",
        "2. **Split** (in this case across method)\n",
        "3. **Apply** (in this case just count)\n",
        "4. **Aggregate** (to represent the final result)"
      ]
    },
    {
      "cell_type": "code",
      "metadata": {
        "id": "kuDaiBZNQNE7",
        "colab_type": "code",
        "colab": {}
      },
      "source": [
        "s_2010s = df[df.year >= 2010].groupby('method')['method'].count()"
      ],
      "execution_count": 170,
      "outputs": []
    },
    {
      "cell_type": "code",
      "metadata": {
        "id": "W5UrfuI5TXvl",
        "colab_type": "code",
        "colab": {}
      },
      "source": [
        "s_allTime = df.groupby('method')['method'].count()"
      ],
      "execution_count": 171,
      "outputs": []
    },
    {
      "cell_type": "code",
      "metadata": {
        "id": "TMZDZqb8T4g4",
        "colab_type": "code",
        "colab": {
          "base_uri": "https://localhost:8080/",
          "height": 249
        },
        "outputId": "4270e243-a1b6-4a16-ff72-b9d0e5b10a17"
      },
      "source": [
        "s_2010s/s_allTime"
      ],
      "execution_count": 172,
      "outputs": [
        {
          "output_type": "execute_result",
          "data": {
            "text/plain": [
              "method\n",
              "Astrometry                       1.000000\n",
              "Eclipse Timing Variations        0.666667\n",
              "Imaging                          0.473684\n",
              "Microlensing                     0.565217\n",
              "Orbital Brightness Modulation    1.000000\n",
              "Pulsar Timing                    0.200000\n",
              "Pulsation Timing Variations           NaN\n",
              "Radial Velocity                  0.388788\n",
              "Transit                          0.843829\n",
              "Transit Timing Variations        1.000000\n",
              "Name: method, dtype: float64"
            ]
          },
          "metadata": {
            "tags": []
          },
          "execution_count": 172
        }
      ]
    },
    {
      "cell_type": "markdown",
      "metadata": {
        "id": "i02RXWexUZgO",
        "colab_type": "text"
      },
      "source": [
        "Find a dataset of Nifty numbers for 2018 and 2019 - daily numbers open, close, high, low"
      ]
    },
    {
      "cell_type": "code",
      "metadata": {
        "id": "F9vsWrkiUCCT",
        "colab_type": "code",
        "colab": {}
      },
      "source": [
        "nifty50_2018 = pd.read_csv('NIFTY50_2018.csv')"
      ],
      "execution_count": 173,
      "outputs": []
    },
    {
      "cell_type": "code",
      "metadata": {
        "id": "ZrGcNLHJXLeY",
        "colab_type": "code",
        "colab": {
          "base_uri": "https://localhost:8080/",
          "height": 206
        },
        "outputId": "f4cd3bcd-2585-4551-bdf8-864433f96bd3"
      },
      "source": [
        "nifty50_2018.head()"
      ],
      "execution_count": 174,
      "outputs": [
        {
          "output_type": "execute_result",
          "data": {
            "text/html": [
              "<div>\n",
              "<style scoped>\n",
              "    .dataframe tbody tr th:only-of-type {\n",
              "        vertical-align: middle;\n",
              "    }\n",
              "\n",
              "    .dataframe tbody tr th {\n",
              "        vertical-align: top;\n",
              "    }\n",
              "\n",
              "    .dataframe thead th {\n",
              "        text-align: right;\n",
              "    }\n",
              "</style>\n",
              "<table border=\"1\" class=\"dataframe\">\n",
              "  <thead>\n",
              "    <tr style=\"text-align: right;\">\n",
              "      <th></th>\n",
              "      <th>Date</th>\n",
              "      <th>Open</th>\n",
              "      <th>High</th>\n",
              "      <th>Low</th>\n",
              "      <th>Close</th>\n",
              "    </tr>\n",
              "  </thead>\n",
              "  <tbody>\n",
              "    <tr>\n",
              "      <th>0</th>\n",
              "      <td>31 Dec 2018</td>\n",
              "      <td>10913.20</td>\n",
              "      <td>10923.55</td>\n",
              "      <td>10853.20</td>\n",
              "      <td>10862.55</td>\n",
              "    </tr>\n",
              "    <tr>\n",
              "      <th>1</th>\n",
              "      <td>28 Dec 2018</td>\n",
              "      <td>10820.95</td>\n",
              "      <td>10893.60</td>\n",
              "      <td>10817.15</td>\n",
              "      <td>10859.90</td>\n",
              "    </tr>\n",
              "    <tr>\n",
              "      <th>2</th>\n",
              "      <td>27 Dec 2018</td>\n",
              "      <td>10817.90</td>\n",
              "      <td>10834.20</td>\n",
              "      <td>10764.45</td>\n",
              "      <td>10779.80</td>\n",
              "    </tr>\n",
              "    <tr>\n",
              "      <th>3</th>\n",
              "      <td>26 Dec 2018</td>\n",
              "      <td>10635.45</td>\n",
              "      <td>10747.50</td>\n",
              "      <td>10534.55</td>\n",
              "      <td>10729.85</td>\n",
              "    </tr>\n",
              "    <tr>\n",
              "      <th>4</th>\n",
              "      <td>24 Dec 2018</td>\n",
              "      <td>10780.90</td>\n",
              "      <td>10782.30</td>\n",
              "      <td>10649.25</td>\n",
              "      <td>10663.50</td>\n",
              "    </tr>\n",
              "  </tbody>\n",
              "</table>\n",
              "</div>"
            ],
            "text/plain": [
              "          Date      Open      High       Low     Close\n",
              "0  31 Dec 2018  10913.20  10923.55  10853.20  10862.55\n",
              "1  28 Dec 2018  10820.95  10893.60  10817.15  10859.90\n",
              "2  27 Dec 2018  10817.90  10834.20  10764.45  10779.80\n",
              "3  26 Dec 2018  10635.45  10747.50  10534.55  10729.85\n",
              "4  24 Dec 2018  10780.90  10782.30  10649.25  10663.50"
            ]
          },
          "metadata": {
            "tags": []
          },
          "execution_count": 174
        }
      ]
    },
    {
      "cell_type": "code",
      "metadata": {
        "id": "dakbVdmFXM8y",
        "colab_type": "code",
        "colab": {}
      },
      "source": [
        "nifty50_2018 = pd.read_csv('NIFTY50_2018.csv', index_col=0)"
      ],
      "execution_count": 175,
      "outputs": []
    },
    {
      "cell_type": "code",
      "metadata": {
        "id": "byqA9_QJXf0G",
        "colab_type": "code",
        "colab": {
          "base_uri": "https://localhost:8080/",
          "height": 237
        },
        "outputId": "3b82d366-4393-4db5-c968-873b066b36fb"
      },
      "source": [
        "nifty50_2018.head()"
      ],
      "execution_count": 176,
      "outputs": [
        {
          "output_type": "execute_result",
          "data": {
            "text/html": [
              "<div>\n",
              "<style scoped>\n",
              "    .dataframe tbody tr th:only-of-type {\n",
              "        vertical-align: middle;\n",
              "    }\n",
              "\n",
              "    .dataframe tbody tr th {\n",
              "        vertical-align: top;\n",
              "    }\n",
              "\n",
              "    .dataframe thead th {\n",
              "        text-align: right;\n",
              "    }\n",
              "</style>\n",
              "<table border=\"1\" class=\"dataframe\">\n",
              "  <thead>\n",
              "    <tr style=\"text-align: right;\">\n",
              "      <th></th>\n",
              "      <th>Open</th>\n",
              "      <th>High</th>\n",
              "      <th>Low</th>\n",
              "      <th>Close</th>\n",
              "    </tr>\n",
              "    <tr>\n",
              "      <th>Date</th>\n",
              "      <th></th>\n",
              "      <th></th>\n",
              "      <th></th>\n",
              "      <th></th>\n",
              "    </tr>\n",
              "  </thead>\n",
              "  <tbody>\n",
              "    <tr>\n",
              "      <th>31 Dec 2018</th>\n",
              "      <td>10913.20</td>\n",
              "      <td>10923.55</td>\n",
              "      <td>10853.20</td>\n",
              "      <td>10862.55</td>\n",
              "    </tr>\n",
              "    <tr>\n",
              "      <th>28 Dec 2018</th>\n",
              "      <td>10820.95</td>\n",
              "      <td>10893.60</td>\n",
              "      <td>10817.15</td>\n",
              "      <td>10859.90</td>\n",
              "    </tr>\n",
              "    <tr>\n",
              "      <th>27 Dec 2018</th>\n",
              "      <td>10817.90</td>\n",
              "      <td>10834.20</td>\n",
              "      <td>10764.45</td>\n",
              "      <td>10779.80</td>\n",
              "    </tr>\n",
              "    <tr>\n",
              "      <th>26 Dec 2018</th>\n",
              "      <td>10635.45</td>\n",
              "      <td>10747.50</td>\n",
              "      <td>10534.55</td>\n",
              "      <td>10729.85</td>\n",
              "    </tr>\n",
              "    <tr>\n",
              "      <th>24 Dec 2018</th>\n",
              "      <td>10780.90</td>\n",
              "      <td>10782.30</td>\n",
              "      <td>10649.25</td>\n",
              "      <td>10663.50</td>\n",
              "    </tr>\n",
              "  </tbody>\n",
              "</table>\n",
              "</div>"
            ],
            "text/plain": [
              "                 Open      High       Low     Close\n",
              "Date                                               \n",
              "31 Dec 2018  10913.20  10923.55  10853.20  10862.55\n",
              "28 Dec 2018  10820.95  10893.60  10817.15  10859.90\n",
              "27 Dec 2018  10817.90  10834.20  10764.45  10779.80\n",
              "26 Dec 2018  10635.45  10747.50  10534.55  10729.85\n",
              "24 Dec 2018  10780.90  10782.30  10649.25  10663.50"
            ]
          },
          "metadata": {
            "tags": []
          },
          "execution_count": 176
        }
      ]
    },
    {
      "cell_type": "code",
      "metadata": {
        "id": "ENy7FYERXhgL",
        "colab_type": "code",
        "colab": {
          "base_uri": "https://localhost:8080/",
          "height": 114
        },
        "outputId": "a9d8a86e-19da-4f7a-b3b0-e728554437ce"
      },
      "source": [
        "nifty50_2018.loc['31 Dec 2018']"
      ],
      "execution_count": 177,
      "outputs": [
        {
          "output_type": "execute_result",
          "data": {
            "text/plain": [
              "Open     10913.20\n",
              "High     10923.55\n",
              "Low      10853.20\n",
              "Close    10862.55\n",
              "Name: 31 Dec 2018, dtype: float64"
            ]
          },
          "metadata": {
            "tags": []
          },
          "execution_count": 177
        }
      ]
    },
    {
      "cell_type": "code",
      "metadata": {
        "id": "P7F-5yvvXmfE",
        "colab_type": "code",
        "colab": {
          "base_uri": "https://localhost:8080/",
          "height": 268
        },
        "outputId": "9e8485ac-5b17-4dc3-e89e-1373cfcad392"
      },
      "source": [
        "nifty50_2018['Open']"
      ],
      "execution_count": 178,
      "outputs": [
        {
          "output_type": "execute_result",
          "data": {
            "text/plain": [
              "Date\n",
              "31 Dec 2018    10913.20\n",
              "28 Dec 2018    10820.95\n",
              "27 Dec 2018    10817.90\n",
              "26 Dec 2018    10635.45\n",
              "24 Dec 2018    10780.90\n",
              "                 ...   \n",
              "05 Jan 2018    10534.25\n",
              "04 Jan 2018    10469.40\n",
              "03 Jan 2018    10482.65\n",
              "02 Jan 2018    10477.55\n",
              "01 Jan 2018    10531.70\n",
              "Name: Open, Length: 246, dtype: float64"
            ]
          },
          "metadata": {
            "tags": []
          },
          "execution_count": 178
        }
      ]
    },
    {
      "cell_type": "code",
      "metadata": {
        "id": "5XRvO0ZHXs1U",
        "colab_type": "code",
        "colab": {}
      },
      "source": [
        "nifty50_2019 = pd.read_csv('NIFTY50_2019.csv', index_col=0)"
      ],
      "execution_count": 179,
      "outputs": []
    },
    {
      "cell_type": "code",
      "metadata": {
        "id": "BwL7KfqlX8Hi",
        "colab_type": "code",
        "colab": {
          "base_uri": "https://localhost:8080/",
          "height": 237
        },
        "outputId": "be1f8087-16a2-416f-f169-d004891f3635"
      },
      "source": [
        "nifty50_2019.head()"
      ],
      "execution_count": 180,
      "outputs": [
        {
          "output_type": "execute_result",
          "data": {
            "text/html": [
              "<div>\n",
              "<style scoped>\n",
              "    .dataframe tbody tr th:only-of-type {\n",
              "        vertical-align: middle;\n",
              "    }\n",
              "\n",
              "    .dataframe tbody tr th {\n",
              "        vertical-align: top;\n",
              "    }\n",
              "\n",
              "    .dataframe thead th {\n",
              "        text-align: right;\n",
              "    }\n",
              "</style>\n",
              "<table border=\"1\" class=\"dataframe\">\n",
              "  <thead>\n",
              "    <tr style=\"text-align: right;\">\n",
              "      <th></th>\n",
              "      <th>Open</th>\n",
              "      <th>High</th>\n",
              "      <th>Low</th>\n",
              "      <th>Close</th>\n",
              "    </tr>\n",
              "    <tr>\n",
              "      <th>Date</th>\n",
              "      <th></th>\n",
              "      <th></th>\n",
              "      <th></th>\n",
              "      <th></th>\n",
              "    </tr>\n",
              "  </thead>\n",
              "  <tbody>\n",
              "    <tr>\n",
              "      <th>31 Dec 2019</th>\n",
              "      <td>12247.10</td>\n",
              "      <td>12247.10</td>\n",
              "      <td>12151.80</td>\n",
              "      <td>12168.45</td>\n",
              "    </tr>\n",
              "    <tr>\n",
              "      <th>30 Dec 2019</th>\n",
              "      <td>12274.90</td>\n",
              "      <td>12286.45</td>\n",
              "      <td>12213.80</td>\n",
              "      <td>12255.85</td>\n",
              "    </tr>\n",
              "    <tr>\n",
              "      <th>27 Dec 2019</th>\n",
              "      <td>12172.90</td>\n",
              "      <td>12258.45</td>\n",
              "      <td>12157.90</td>\n",
              "      <td>12245.80</td>\n",
              "    </tr>\n",
              "    <tr>\n",
              "      <th>26 Dec 2019</th>\n",
              "      <td>12211.85</td>\n",
              "      <td>12221.55</td>\n",
              "      <td>12118.85</td>\n",
              "      <td>12126.55</td>\n",
              "    </tr>\n",
              "    <tr>\n",
              "      <th>24 Dec 2019</th>\n",
              "      <td>12269.25</td>\n",
              "      <td>12283.70</td>\n",
              "      <td>12202.10</td>\n",
              "      <td>12214.55</td>\n",
              "    </tr>\n",
              "  </tbody>\n",
              "</table>\n",
              "</div>"
            ],
            "text/plain": [
              "                 Open      High       Low     Close\n",
              "Date                                               \n",
              "31 Dec 2019  12247.10  12247.10  12151.80  12168.45\n",
              "30 Dec 2019  12274.90  12286.45  12213.80  12255.85\n",
              "27 Dec 2019  12172.90  12258.45  12157.90  12245.80\n",
              "26 Dec 2019  12211.85  12221.55  12118.85  12126.55\n",
              "24 Dec 2019  12269.25  12283.70  12202.10  12214.55"
            ]
          },
          "metadata": {
            "tags": []
          },
          "execution_count": 180
        }
      ]
    },
    {
      "cell_type": "code",
      "metadata": {
        "id": "ukxYZPQwYJCF",
        "colab_type": "code",
        "colab": {
          "base_uri": "https://localhost:8080/",
          "height": 36
        },
        "outputId": "eee48e57-d2ec-4106-c16c-84c51776e925"
      },
      "source": [
        "print(nifty50_2018.shape, nifty50_2019.shape)"
      ],
      "execution_count": 182,
      "outputs": [
        {
          "output_type": "stream",
          "text": [
            "(246, 4) (245, 4)\n"
          ],
          "name": "stdout"
        }
      ]
    },
    {
      "cell_type": "code",
      "metadata": {
        "id": "fxY8sCilX9Jd",
        "colab_type": "code",
        "colab": {}
      },
      "source": [
        "nifty50 = pd.concat([nifty50_2018, nifty50_2019])"
      ],
      "execution_count": 183,
      "outputs": []
    },
    {
      "cell_type": "code",
      "metadata": {
        "id": "vDhZjzamYHd4",
        "colab_type": "code",
        "colab": {
          "base_uri": "https://localhost:8080/",
          "height": 36
        },
        "outputId": "7ce28cf9-a66e-4890-c2c9-95c473eafcde"
      },
      "source": [
        "nifty50.shape"
      ],
      "execution_count": 184,
      "outputs": [
        {
          "output_type": "execute_result",
          "data": {
            "text/plain": [
              "(491, 4)"
            ]
          },
          "metadata": {
            "tags": []
          },
          "execution_count": 184
        }
      ]
    },
    {
      "cell_type": "code",
      "metadata": {
        "id": "rOR1n8c7YRl0",
        "colab_type": "code",
        "colab": {}
      },
      "source": [
        "niftynext50_2019 = pd.read_csv('NIFTYNext50_2019.csv', index_col = 0)"
      ],
      "execution_count": 185,
      "outputs": []
    },
    {
      "cell_type": "code",
      "metadata": {
        "id": "9OKbg9ebYjjp",
        "colab_type": "code",
        "colab": {
          "base_uri": "https://localhost:8080/",
          "height": 237
        },
        "outputId": "059d607a-4a14-4dfd-ca56-602e114858a4"
      },
      "source": [
        "niftynext50_2019.head()"
      ],
      "execution_count": 186,
      "outputs": [
        {
          "output_type": "execute_result",
          "data": {
            "text/html": [
              "<div>\n",
              "<style scoped>\n",
              "    .dataframe tbody tr th:only-of-type {\n",
              "        vertical-align: middle;\n",
              "    }\n",
              "\n",
              "    .dataframe tbody tr th {\n",
              "        vertical-align: top;\n",
              "    }\n",
              "\n",
              "    .dataframe thead th {\n",
              "        text-align: right;\n",
              "    }\n",
              "</style>\n",
              "<table border=\"1\" class=\"dataframe\">\n",
              "  <thead>\n",
              "    <tr style=\"text-align: right;\">\n",
              "      <th></th>\n",
              "      <th>Open</th>\n",
              "      <th>High</th>\n",
              "      <th>Low</th>\n",
              "      <th>Close</th>\n",
              "    </tr>\n",
              "    <tr>\n",
              "      <th>Date</th>\n",
              "      <th></th>\n",
              "      <th></th>\n",
              "      <th></th>\n",
              "      <th></th>\n",
              "    </tr>\n",
              "  </thead>\n",
              "  <tbody>\n",
              "    <tr>\n",
              "      <th>31 Dec 2019</th>\n",
              "      <td>28495.00</td>\n",
              "      <td>28549.50</td>\n",
              "      <td>28270.25</td>\n",
              "      <td>28307.55</td>\n",
              "    </tr>\n",
              "    <tr>\n",
              "      <th>30 Dec 2019</th>\n",
              "      <td>28528.95</td>\n",
              "      <td>28612.95</td>\n",
              "      <td>28406.70</td>\n",
              "      <td>28484.85</td>\n",
              "    </tr>\n",
              "    <tr>\n",
              "      <th>27 Dec 2019</th>\n",
              "      <td>28354.50</td>\n",
              "      <td>28500.25</td>\n",
              "      <td>28319.90</td>\n",
              "      <td>28476.80</td>\n",
              "    </tr>\n",
              "    <tr>\n",
              "      <th>26 Dec 2019</th>\n",
              "      <td>28409.10</td>\n",
              "      <td>28435.25</td>\n",
              "      <td>28259.75</td>\n",
              "      <td>28280.25</td>\n",
              "    </tr>\n",
              "    <tr>\n",
              "      <th>24 Dec 2019</th>\n",
              "      <td>28423.70</td>\n",
              "      <td>28430.40</td>\n",
              "      <td>28318.75</td>\n",
              "      <td>28382.85</td>\n",
              "    </tr>\n",
              "  </tbody>\n",
              "</table>\n",
              "</div>"
            ],
            "text/plain": [
              "                 Open      High       Low     Close\n",
              "Date                                               \n",
              "31 Dec 2019  28495.00  28549.50  28270.25  28307.55\n",
              "30 Dec 2019  28528.95  28612.95  28406.70  28484.85\n",
              "27 Dec 2019  28354.50  28500.25  28319.90  28476.80\n",
              "26 Dec 2019  28409.10  28435.25  28259.75  28280.25\n",
              "24 Dec 2019  28423.70  28430.40  28318.75  28382.85"
            ]
          },
          "metadata": {
            "tags": []
          },
          "execution_count": 186
        }
      ]
    },
    {
      "cell_type": "code",
      "metadata": {
        "id": "9nwUiCs2YlGw",
        "colab_type": "code",
        "colab": {}
      },
      "source": [
        "nifty_2019 = pd.concat([nifty50_2019, niftynext50_2019], axis=1)"
      ],
      "execution_count": 187,
      "outputs": []
    },
    {
      "cell_type": "code",
      "metadata": {
        "id": "XrKQYFkqY6gV",
        "colab_type": "code",
        "colab": {
          "base_uri": "https://localhost:8080/",
          "height": 36
        },
        "outputId": "c84f3672-5a7a-4083-8cdf-1953e0d2e21a"
      },
      "source": [
        "nifty_2019.shape"
      ],
      "execution_count": 188,
      "outputs": [
        {
          "output_type": "execute_result",
          "data": {
            "text/plain": [
              "(245, 8)"
            ]
          },
          "metadata": {
            "tags": []
          },
          "execution_count": 188
        }
      ]
    },
    {
      "cell_type": "code",
      "metadata": {
        "id": "RKj6fMWHY8M8",
        "colab_type": "code",
        "colab": {
          "base_uri": "https://localhost:8080/",
          "height": 324
        },
        "outputId": "c06d877b-0af4-43f3-e5a6-7c2015022a81"
      },
      "source": [
        "nifty_2019.head()"
      ],
      "execution_count": 189,
      "outputs": [
        {
          "output_type": "execute_result",
          "data": {
            "text/html": [
              "<div>\n",
              "<style scoped>\n",
              "    .dataframe tbody tr th:only-of-type {\n",
              "        vertical-align: middle;\n",
              "    }\n",
              "\n",
              "    .dataframe tbody tr th {\n",
              "        vertical-align: top;\n",
              "    }\n",
              "\n",
              "    .dataframe thead th {\n",
              "        text-align: right;\n",
              "    }\n",
              "</style>\n",
              "<table border=\"1\" class=\"dataframe\">\n",
              "  <thead>\n",
              "    <tr style=\"text-align: right;\">\n",
              "      <th></th>\n",
              "      <th>Open</th>\n",
              "      <th>High</th>\n",
              "      <th>Low</th>\n",
              "      <th>Close</th>\n",
              "      <th>Open</th>\n",
              "      <th>High</th>\n",
              "      <th>Low</th>\n",
              "      <th>Close</th>\n",
              "    </tr>\n",
              "    <tr>\n",
              "      <th>Date</th>\n",
              "      <th></th>\n",
              "      <th></th>\n",
              "      <th></th>\n",
              "      <th></th>\n",
              "      <th></th>\n",
              "      <th></th>\n",
              "      <th></th>\n",
              "      <th></th>\n",
              "    </tr>\n",
              "  </thead>\n",
              "  <tbody>\n",
              "    <tr>\n",
              "      <th>31 Dec 2019</th>\n",
              "      <td>12247.10</td>\n",
              "      <td>12247.10</td>\n",
              "      <td>12151.80</td>\n",
              "      <td>12168.45</td>\n",
              "      <td>28495.00</td>\n",
              "      <td>28549.50</td>\n",
              "      <td>28270.25</td>\n",
              "      <td>28307.55</td>\n",
              "    </tr>\n",
              "    <tr>\n",
              "      <th>30 Dec 2019</th>\n",
              "      <td>12274.90</td>\n",
              "      <td>12286.45</td>\n",
              "      <td>12213.80</td>\n",
              "      <td>12255.85</td>\n",
              "      <td>28528.95</td>\n",
              "      <td>28612.95</td>\n",
              "      <td>28406.70</td>\n",
              "      <td>28484.85</td>\n",
              "    </tr>\n",
              "    <tr>\n",
              "      <th>27 Dec 2019</th>\n",
              "      <td>12172.90</td>\n",
              "      <td>12258.45</td>\n",
              "      <td>12157.90</td>\n",
              "      <td>12245.80</td>\n",
              "      <td>28354.50</td>\n",
              "      <td>28500.25</td>\n",
              "      <td>28319.90</td>\n",
              "      <td>28476.80</td>\n",
              "    </tr>\n",
              "    <tr>\n",
              "      <th>26 Dec 2019</th>\n",
              "      <td>12211.85</td>\n",
              "      <td>12221.55</td>\n",
              "      <td>12118.85</td>\n",
              "      <td>12126.55</td>\n",
              "      <td>28409.10</td>\n",
              "      <td>28435.25</td>\n",
              "      <td>28259.75</td>\n",
              "      <td>28280.25</td>\n",
              "    </tr>\n",
              "    <tr>\n",
              "      <th>24 Dec 2019</th>\n",
              "      <td>12269.25</td>\n",
              "      <td>12283.70</td>\n",
              "      <td>12202.10</td>\n",
              "      <td>12214.55</td>\n",
              "      <td>28423.70</td>\n",
              "      <td>28430.40</td>\n",
              "      <td>28318.75</td>\n",
              "      <td>28382.85</td>\n",
              "    </tr>\n",
              "  </tbody>\n",
              "</table>\n",
              "</div>"
            ],
            "text/plain": [
              "                 Open      High       Low  ...      High       Low     Close\n",
              "Date                                       ...                              \n",
              "31 Dec 2019  12247.10  12247.10  12151.80  ...  28549.50  28270.25  28307.55\n",
              "30 Dec 2019  12274.90  12286.45  12213.80  ...  28612.95  28406.70  28484.85\n",
              "27 Dec 2019  12172.90  12258.45  12157.90  ...  28500.25  28319.90  28476.80\n",
              "26 Dec 2019  12211.85  12221.55  12118.85  ...  28435.25  28259.75  28280.25\n",
              "24 Dec 2019  12269.25  12283.70  12202.10  ...  28430.40  28318.75  28382.85\n",
              "\n",
              "[5 rows x 8 columns]"
            ]
          },
          "metadata": {
            "tags": []
          },
          "execution_count": 189
        }
      ]
    },
    {
      "cell_type": "code",
      "metadata": {
        "id": "H7H9Mf-vY-Qy",
        "colab_type": "code",
        "colab": {}
      },
      "source": [
        "nifty_2019 = pd.concat([nifty50_2019, niftynext50_2019], axis=1,\n",
        "                       keys=['nifty50', 'niftynext50'])"
      ],
      "execution_count": 190,
      "outputs": []
    },
    {
      "cell_type": "code",
      "metadata": {
        "id": "0Gl7UB80ZU8z",
        "colab_type": "code",
        "colab": {
          "base_uri": "https://localhost:8080/",
          "height": 36
        },
        "outputId": "60694e71-e726-4509-bde9-761e7031cbc7"
      },
      "source": [
        "nifty_2019.shape"
      ],
      "execution_count": 191,
      "outputs": [
        {
          "output_type": "execute_result",
          "data": {
            "text/plain": [
              "(245, 8)"
            ]
          },
          "metadata": {
            "tags": []
          },
          "execution_count": 191
        }
      ]
    },
    {
      "cell_type": "code",
      "metadata": {
        "id": "yRIQQbbvZW1N",
        "colab_type": "code",
        "colab": {
          "base_uri": "https://localhost:8080/",
          "height": 356
        },
        "outputId": "b728cfa5-cd2a-49c9-e922-2f50114698d8"
      },
      "source": [
        "nifty_2019.head()"
      ],
      "execution_count": 192,
      "outputs": [
        {
          "output_type": "execute_result",
          "data": {
            "text/html": [
              "<div>\n",
              "<style scoped>\n",
              "    .dataframe tbody tr th:only-of-type {\n",
              "        vertical-align: middle;\n",
              "    }\n",
              "\n",
              "    .dataframe tbody tr th {\n",
              "        vertical-align: top;\n",
              "    }\n",
              "\n",
              "    .dataframe thead tr th {\n",
              "        text-align: left;\n",
              "    }\n",
              "\n",
              "    .dataframe thead tr:last-of-type th {\n",
              "        text-align: right;\n",
              "    }\n",
              "</style>\n",
              "<table border=\"1\" class=\"dataframe\">\n",
              "  <thead>\n",
              "    <tr>\n",
              "      <th></th>\n",
              "      <th colspan=\"4\" halign=\"left\">nifty50</th>\n",
              "      <th colspan=\"4\" halign=\"left\">niftynext50</th>\n",
              "    </tr>\n",
              "    <tr>\n",
              "      <th></th>\n",
              "      <th>Open</th>\n",
              "      <th>High</th>\n",
              "      <th>Low</th>\n",
              "      <th>Close</th>\n",
              "      <th>Open</th>\n",
              "      <th>High</th>\n",
              "      <th>Low</th>\n",
              "      <th>Close</th>\n",
              "    </tr>\n",
              "    <tr>\n",
              "      <th>Date</th>\n",
              "      <th></th>\n",
              "      <th></th>\n",
              "      <th></th>\n",
              "      <th></th>\n",
              "      <th></th>\n",
              "      <th></th>\n",
              "      <th></th>\n",
              "      <th></th>\n",
              "    </tr>\n",
              "  </thead>\n",
              "  <tbody>\n",
              "    <tr>\n",
              "      <th>31 Dec 2019</th>\n",
              "      <td>12247.10</td>\n",
              "      <td>12247.10</td>\n",
              "      <td>12151.80</td>\n",
              "      <td>12168.45</td>\n",
              "      <td>28495.00</td>\n",
              "      <td>28549.50</td>\n",
              "      <td>28270.25</td>\n",
              "      <td>28307.55</td>\n",
              "    </tr>\n",
              "    <tr>\n",
              "      <th>30 Dec 2019</th>\n",
              "      <td>12274.90</td>\n",
              "      <td>12286.45</td>\n",
              "      <td>12213.80</td>\n",
              "      <td>12255.85</td>\n",
              "      <td>28528.95</td>\n",
              "      <td>28612.95</td>\n",
              "      <td>28406.70</td>\n",
              "      <td>28484.85</td>\n",
              "    </tr>\n",
              "    <tr>\n",
              "      <th>27 Dec 2019</th>\n",
              "      <td>12172.90</td>\n",
              "      <td>12258.45</td>\n",
              "      <td>12157.90</td>\n",
              "      <td>12245.80</td>\n",
              "      <td>28354.50</td>\n",
              "      <td>28500.25</td>\n",
              "      <td>28319.90</td>\n",
              "      <td>28476.80</td>\n",
              "    </tr>\n",
              "    <tr>\n",
              "      <th>26 Dec 2019</th>\n",
              "      <td>12211.85</td>\n",
              "      <td>12221.55</td>\n",
              "      <td>12118.85</td>\n",
              "      <td>12126.55</td>\n",
              "      <td>28409.10</td>\n",
              "      <td>28435.25</td>\n",
              "      <td>28259.75</td>\n",
              "      <td>28280.25</td>\n",
              "    </tr>\n",
              "    <tr>\n",
              "      <th>24 Dec 2019</th>\n",
              "      <td>12269.25</td>\n",
              "      <td>12283.70</td>\n",
              "      <td>12202.10</td>\n",
              "      <td>12214.55</td>\n",
              "      <td>28423.70</td>\n",
              "      <td>28430.40</td>\n",
              "      <td>28318.75</td>\n",
              "      <td>28382.85</td>\n",
              "    </tr>\n",
              "  </tbody>\n",
              "</table>\n",
              "</div>"
            ],
            "text/plain": [
              "              nifty50                      ... niftynext50                    \n",
              "                 Open      High       Low  ...        High       Low     Close\n",
              "Date                                       ...                                \n",
              "31 Dec 2019  12247.10  12247.10  12151.80  ...    28549.50  28270.25  28307.55\n",
              "30 Dec 2019  12274.90  12286.45  12213.80  ...    28612.95  28406.70  28484.85\n",
              "27 Dec 2019  12172.90  12258.45  12157.90  ...    28500.25  28319.90  28476.80\n",
              "26 Dec 2019  12211.85  12221.55  12118.85  ...    28435.25  28259.75  28280.25\n",
              "24 Dec 2019  12269.25  12283.70  12202.10  ...    28430.40  28318.75  28382.85\n",
              "\n",
              "[5 rows x 8 columns]"
            ]
          },
          "metadata": {
            "tags": []
          },
          "execution_count": 192
        }
      ]
    },
    {
      "cell_type": "code",
      "metadata": {
        "id": "xwq9zZyLZYQQ",
        "colab_type": "code",
        "colab": {
          "base_uri": "https://localhost:8080/",
          "height": 114
        },
        "outputId": "98251bd3-b42e-48dc-9c97-e9ac24aa6d2d"
      },
      "source": [
        "nifty_2019['nifty50'].loc['31 Dec 2019']"
      ],
      "execution_count": 196,
      "outputs": [
        {
          "output_type": "execute_result",
          "data": {
            "text/plain": [
              "Open     12247.10\n",
              "High     12247.10\n",
              "Low      12151.80\n",
              "Close    12168.45\n",
              "Name: 31 Dec 2019, dtype: float64"
            ]
          },
          "metadata": {
            "tags": []
          },
          "execution_count": 196
        }
      ]
    },
    {
      "cell_type": "markdown",
      "metadata": {
        "id": "geB0hvuMa6Go",
        "colab_type": "text"
      },
      "source": [
        "Tasks on the NIFTY datasets:\n",
        "\n",
        "1. In 2019, in how many days was the NIFTY50 volatile (high > 105% of low)\n",
        "\n",
        "2. In 2019, in how many days was the NIFTYNEXT50 volatile (high > 105% of low)\n",
        "\n",
        "3. In 2019, how many days belonged to the four classes NIFTY50 volatile / non-volatile and NIFTYNext50 volatile / non-volatile\n",
        "\n",
        "4. Compute the mean, median, std, var of closing values for each weekday in NIFTY50 for 2019\n",
        "\n",
        "5. Compute the mean, median, std, var of closing values for each month in NIFTY50 for 2019\n",
        "\n",
        "6. On the days in which NIFTY50 closed higher than the open, what was the mean of (close - open) for NIFTYNext50\n",
        "\n",
        "7. In 2019, how many days had the day's high lower than the previous day's low in NIFTY50\n",
        "\n",
        "8. In 2019, on how many days did the day's close exceed the 30 day moving average in NIFTY50 (exclude first month)"
      ]
    },
    {
      "cell_type": "code",
      "metadata": {
        "id": "WZ9RCXril7lq",
        "colab_type": "code",
        "colab": {}
      },
      "source": [
        ""
      ],
      "execution_count": null,
      "outputs": []
    },
    {
      "cell_type": "code",
      "metadata": {
        "id": "_TWGldafZliX",
        "colab_type": "code",
        "colab": {}
      },
      "source": [
        ""
      ],
      "execution_count": null,
      "outputs": []
    }
  ]
}