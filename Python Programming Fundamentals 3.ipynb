{
 "cells": [
  {
   "cell_type": "markdown",
   "metadata": {},
   "source": [
    "# <center> Session 4: Python Programming Fundamentals 3 </center>\n",
    "###  <center> <span style=\"color: blue\"> Author, Mentor, Trainer:</span>  <span style=\"color: red\">Sudhindra Goutam Vedanthi</span> </center>\n",
    "###  <center> C3 Mentroring </center>\n",
    "#### <center> This assignment is developed as part of \"Python Programming for Data science and Engineering\" Course</center>\n",
    "**<center> Class Notebook for 03/23/2021 <center>**"
   ]
  },
  {
   "cell_type": "markdown",
   "metadata": {},
   "source": [
    "#### Agenda: \n",
    "\n",
    "* Review of `print()` formatting \n",
    "* Review of strings and string manipulations\n",
    "* Conditional Expressions - boolean and logical operators\n",
    "* Conditional Execution - `if`, `elif`, `else` and nested `if` statements\n",
    "* Iterations and Looping - `for`loops and conditional `while` loops\n",
    "* Normal and Interrupted - Normal execution, Interrupted execution of loops using `break`, `continue`\n",
    "* Lists and List operations"
   ]
  },
  {
   "cell_type": "code",
   "execution_count": 26,
   "metadata": {},
   "outputs": [
    {
     "name": "stdout",
     "output_type": "stream",
     "text": [
      "The price is 49 dollars\n",
      "The price is 49 dollars\n"
     ]
    }
   ],
   "source": [
    "## Review print and formatting.\n",
    "price = 49\n",
    "txt = \"The price is {} dollars\"\n",
    "print(txt.format(price))\n",
    "print(\"The price is {} dollars\".format(price))"
   ]
  },
  {
   "cell_type": "code",
   "execution_count": 27,
   "metadata": {},
   "outputs": [
    {
     "name": "stdout",
     "output_type": "stream",
     "text": [
      "The price is 49.00 dollars\n"
     ]
    }
   ],
   "source": [
    "price = 49\n",
    "txt = \"The price is {:.2f} dollars\"\n",
    "print(txt.format(price))"
   ]
  },
  {
   "cell_type": "code",
   "execution_count": 28,
   "metadata": {},
   "outputs": [
    {
     "name": "stdout",
     "output_type": "stream",
     "text": [
      "I want 3 pieces of item number 567 for 49.00 dollars.\n"
     ]
    }
   ],
   "source": [
    "quantity = 3\n",
    "itemno = 567\n",
    "price = 49\n",
    "myorder = \"I want {} pieces of item number {} for {:.2f} dollars.\"\n",
    "print(myorder.format(quantity, itemno, price))"
   ]
  },
  {
   "cell_type": "code",
   "execution_count": 29,
   "metadata": {},
   "outputs": [
    {
     "name": "stdout",
     "output_type": "stream",
     "text": [
      "I want 3 pieces of item number 567 for 49.00 dollars.\n"
     ]
    }
   ],
   "source": [
    "#Indexing the substitution variables\n",
    "quantity = 3\n",
    "itemno = 567\n",
    "price = 49\n",
    "myorder = \"I want {0} pieces of item number {1} for {2:.2f} dollars.\"\n",
    "print(myorder.format(quantity, itemno, price))"
   ]
  },
  {
   "cell_type": "code",
   "execution_count": 34,
   "metadata": {},
   "outputs": [
    {
     "name": "stdout",
     "output_type": "stream",
     "text": [
      "His name is John. John is 36 years old.\n"
     ]
    }
   ],
   "source": [
    "# Refer to the same value more than once\n",
    "age = 36\n",
    "name = \"John\"\n",
    "txt = \"His name is {1}. {1} is {0} years old.\"\n",
    "print(txt.format(age, name))"
   ]
  },
  {
   "cell_type": "code",
   "execution_count": 31,
   "metadata": {},
   "outputs": [
    {
     "name": "stdout",
     "output_type": "stream",
     "text": [
      "I have a Ford, it is a Mustang.\n"
     ]
    }
   ],
   "source": [
    "# Named Indexes\n",
    "myorder = \"I have a {carname}, it is a {model}.\"\n",
    "print(myorder.format(carname = \"Ford\", model = \"Mustang\"))"
   ]
  },
  {
   "cell_type": "code",
   "execution_count": 32,
   "metadata": {},
   "outputs": [
    {
     "name": "stdout",
     "output_type": "stream",
     "text": [
      "4 to the power of 3 is 64, the random number is 0.6079\n"
     ]
    }
   ],
   "source": [
    "import math\n",
    "import random\n",
    "x = 4\n",
    "y = 3\n",
    "print(\"%0.0f to the power of %0.0f is %.0f, the random number is %0.4f\" %(x, y, math.pow(x, y), random.random()))"
   ]
  },
  {
   "cell_type": "code",
   "execution_count": null,
   "metadata": {},
   "outputs": [],
   "source": [
    "## Write some programs with String manipulations."
   ]
  },
  {
   "cell_type": "code",
   "execution_count": null,
   "metadata": {},
   "outputs": [],
   "source": []
  },
  {
   "cell_type": "code",
   "execution_count": null,
   "metadata": {},
   "outputs": [],
   "source": []
  },
  {
   "cell_type": "markdown",
   "metadata": {},
   "source": [
    "### Conditional Execution\n",
    "#### Boolean Expressions and Logical Operators\n",
    "\n",
    "##### Boolean Expressions\n",
    "1. Expressions with boolean operations\n",
    "2. boolean operators: <, <=, ==, >, >=, !=\n",
    "3. Examples: `x >= y`, `age == 8`, `limit < 100` etc.\n",
    "4. Each of the boolear expressions will result in a `True` or `False`\n",
    "\n",
    "##### Logical Operators\n",
    "1. Combining boolean expressions to make compound statements\n",
    "2. Logical Operators: and, or, not\n",
    "3. Examples: `(age > 12) and (age <= 19)`, `(number == 6) or (number == 0)`, `not(result)`\n",
    "4. Each of the boolean expressions must evaluate to either `True` or `False`\n",
    "\n",
    "##### Conditional Execution\n",
    "\n",
    "```python\n",
    "\n",
    "# Simple Condition Execution\n",
    "if x > 0:                  \n",
    " print('x is positive')\n",
    "\n",
    "# Handling Negative Values\n",
    "if x < 0:                  \n",
    " pass\n",
    "\n",
    "# Alternate Execution\n",
    "if x % 2 == 0:             \n",
    "   print('x is even')\n",
    "else:\n",
    "   print('x is odd')\n",
    "\n",
    "# Chained Conditionals\n",
    "if x < y:\n",
    "    print('x is less than y')\n",
    "elif x > y:\n",
    "    print('x is greater than y')\n",
    "else:\n",
    "    print('x and y are equal')\n",
    "    \n",
    "# Nested Conditionals\n",
    "if x == y:\n",
    "    print('x and y are equal')\n",
    "else:\n",
    "    if x < y:\n",
    "        print('x is less than y')\n",
    "        \n",
    "    else:\n",
    "        print('x is greater than y')\n",
    "```\n",
    "\n"
   ]
  },
  {
   "cell_type": "code",
   "execution_count": 37,
   "metadata": {},
   "outputs": [
    {
     "name": "stdout",
     "output_type": "stream",
     "text": [
      "my number is greater than 10\n"
     ]
    }
   ],
   "source": [
    "x = 13\n",
    "if x > 10:\n",
    "    print(\"my number is greater than 10\")\n",
    "else:\n",
    "    print(\"my number is less than 10\")"
   ]
  },
  {
   "cell_type": "code",
   "execution_count": 2,
   "metadata": {},
   "outputs": [
    {
     "name": "stdout",
     "output_type": "stream",
     "text": [
      "My dear Zero\n"
     ]
    }
   ],
   "source": [
    "x = 0\n",
    "if x >= 10:\n",
    "    print(\"Hi\")\n",
    "elif (x > 0) and (x <10):\n",
    "    print(\"Hello\")\n",
    "else:\n",
    "    print(\"My dear Zero\")"
   ]
  },
  {
   "cell_type": "code",
   "execution_count": 40,
   "metadata": {},
   "outputs": [
    {
     "name": "stdout",
     "output_type": "stream",
     "text": [
      "x is greater than y\n"
     ]
    }
   ],
   "source": [
    "x = 7\n",
    "y = 6\n",
    "if x == y:\n",
    "    print('x and y are equal')\n",
    "else:\n",
    "    if x < y:\n",
    "        print('x is less than y')\n",
    "\n",
    "    else:\n",
    "        print('x is greater than y')"
   ]
  },
  {
   "cell_type": "code",
   "execution_count": 39,
   "metadata": {},
   "outputs": [
    {
     "name": "stdout",
     "output_type": "stream",
     "text": [
      "x is greater than y\n"
     ]
    }
   ],
   "source": [
    "x = 7\n",
    "y = 6\n",
    "if x == y:\n",
    "    print('x and y are equal')\n",
    "elif x < y:\n",
    "    print('x is less than y')\n",
    "else:\n",
    "    print('x is greater than y')"
   ]
  },
  {
   "cell_type": "code",
   "execution_count": null,
   "metadata": {},
   "outputs": [],
   "source": []
  },
  {
   "cell_type": "markdown",
   "metadata": {},
   "source": [
    "**`for` loops**\n",
    "\n",
    "for is an iterator over a list, sequence, or range.\n",
    "**_syntax_**\n",
    "\n",
    "```python\n",
    "for variable in <range of values>:\n",
    "      do the work\n",
    "      \n",
    "```"
   ]
  },
  {
   "cell_type": "code",
   "execution_count": 4,
   "metadata": {},
   "outputs": [
    {
     "name": "stdout",
     "output_type": "stream",
     "text": [
      "We're on time 0\n",
      "We're on time 1\n",
      "We're on time 2\n"
     ]
    }
   ],
   "source": [
    "for x in range(0, 3):\n",
    "    print(\"We're on time %d\" % (x))"
   ]
  },
  {
   "cell_type": "code",
   "execution_count": 5,
   "metadata": {},
   "outputs": [
    {
     "name": "stdout",
     "output_type": "stream",
     "text": [
      "0  1  2  3  4  5  6  7  8  9  10  blast off\n"
     ]
    }
   ],
   "source": [
    "for x in range(11):\n",
    "    print(x, end =\"  \")\n",
    "print(\"blast off\")"
   ]
  },
  {
   "cell_type": "code",
   "execution_count": 6,
   "metadata": {},
   "outputs": [
    {
     "name": "stdout",
     "output_type": "stream",
     "text": [
      "10  9  8  7  6  5  4  3  2  1  0  "
     ]
    }
   ],
   "source": [
    "for x in range(10, -1, -1):\n",
    "    print(x, end =\"  \")"
   ]
  },
  {
   "cell_type": "code",
   "execution_count": 7,
   "metadata": {},
   "outputs": [
    {
     "name": "stdout",
     "output_type": "stream",
     "text": [
      "b\n",
      "a\n",
      "n\n",
      "a\n",
      "n\n",
      "a\n"
     ]
    }
   ],
   "source": [
    "fruit = 'banana'\n",
    "for letter in fruit:\n",
    "    print(letter)"
   ]
  },
  {
   "cell_type": "code",
   "execution_count": 8,
   "metadata": {},
   "outputs": [
    {
     "name": "stdout",
     "output_type": "stream",
     "text": [
      "0\n",
      "1\n",
      "2\n",
      "Final x = 2\n"
     ]
    }
   ],
   "source": [
    "for x in range(3):\n",
    "    print(x)\n",
    "else:\n",
    "    print('Final x = %d' % (x))"
   ]
  },
  {
   "cell_type": "code",
   "execution_count": 9,
   "metadata": {},
   "outputs": [
    {
     "name": "stdout",
     "output_type": "stream",
     "text": [
      "H:e:l:l:o: :W:o:r:l:d:"
     ]
    }
   ],
   "source": [
    "string = \"Hello World\"\n",
    "for x in string:\n",
    "    print(x, end=\":\")    # Change the character in end to single space, ;,: etc \n",
    "                         # and check the result"
   ]
  },
  {
   "cell_type": "code",
   "execution_count": 10,
   "metadata": {},
   "outputs": [
    {
     "name": "stdout",
     "output_type": "stream",
     "text": [
      "0*0 = 0\n",
      "1*1 = 1\n",
      "2*2 = 4\n",
      "3*3 = 9\n",
      "4*4 = 16\n",
      "5*5 = 25\n",
      "6*6 = 36\n",
      "7*7 = 49\n",
      "8*8 = 64\n",
      "9*9 = 81\n",
      "10*10 = 100\n"
     ]
    }
   ],
   "source": [
    "for n in range(11):\n",
    "    print(f\"{n}*{n} = {n*n}\")"
   ]
  },
  {
   "cell_type": "code",
   "execution_count": 11,
   "metadata": {
    "collapsed": true
   },
   "outputs": [
    {
     "name": "stdout",
     "output_type": "stream",
     "text": [
      "1 * 1 = 1\n",
      "1 * 2 = 2\n",
      "1 * 3 = 3\n",
      "1 * 4 = 4\n",
      "1 * 5 = 5\n",
      "1 * 6 = 6\n",
      "1 * 7 = 7\n",
      "1 * 8 = 8\n",
      "1 * 9 = 9\n",
      "1 * 10 = 10\n",
      "2 * 1 = 2\n",
      "2 * 2 = 4\n",
      "2 * 3 = 6\n",
      "2 * 4 = 8\n",
      "2 * 5 = 10\n",
      "2 * 6 = 12\n",
      "2 * 7 = 14\n",
      "2 * 8 = 16\n",
      "2 * 9 = 18\n",
      "2 * 10 = 20\n",
      "3 * 1 = 3\n",
      "3 * 2 = 6\n",
      "3 * 3 = 9\n",
      "3 * 4 = 12\n",
      "3 * 5 = 15\n",
      "3 * 6 = 18\n",
      "3 * 7 = 21\n",
      "3 * 8 = 24\n",
      "3 * 9 = 27\n",
      "3 * 10 = 30\n",
      "4 * 1 = 4\n",
      "4 * 2 = 8\n",
      "4 * 3 = 12\n",
      "4 * 4 = 16\n",
      "4 * 5 = 20\n",
      "4 * 6 = 24\n",
      "4 * 7 = 28\n",
      "4 * 8 = 32\n",
      "4 * 9 = 36\n",
      "4 * 10 = 40\n",
      "5 * 1 = 5\n",
      "5 * 2 = 10\n",
      "5 * 3 = 15\n",
      "5 * 4 = 20\n",
      "5 * 5 = 25\n",
      "5 * 6 = 30\n",
      "5 * 7 = 35\n",
      "5 * 8 = 40\n",
      "5 * 9 = 45\n",
      "5 * 10 = 50\n",
      "6 * 1 = 6\n",
      "6 * 2 = 12\n",
      "6 * 3 = 18\n",
      "6 * 4 = 24\n",
      "6 * 5 = 30\n",
      "6 * 6 = 36\n",
      "6 * 7 = 42\n",
      "6 * 8 = 48\n",
      "6 * 9 = 54\n",
      "6 * 10 = 60\n",
      "7 * 1 = 7\n",
      "7 * 2 = 14\n",
      "7 * 3 = 21\n",
      "7 * 4 = 28\n",
      "7 * 5 = 35\n",
      "7 * 6 = 42\n",
      "7 * 7 = 49\n",
      "7 * 8 = 56\n",
      "7 * 9 = 63\n",
      "7 * 10 = 70\n",
      "8 * 1 = 8\n",
      "8 * 2 = 16\n",
      "8 * 3 = 24\n",
      "8 * 4 = 32\n",
      "8 * 5 = 40\n",
      "8 * 6 = 48\n",
      "8 * 7 = 56\n",
      "8 * 8 = 64\n",
      "8 * 9 = 72\n",
      "8 * 10 = 80\n",
      "9 * 1 = 9\n",
      "9 * 2 = 18\n",
      "9 * 3 = 27\n",
      "9 * 4 = 36\n",
      "9 * 5 = 45\n",
      "9 * 6 = 54\n",
      "9 * 7 = 63\n",
      "9 * 8 = 72\n",
      "9 * 9 = 81\n",
      "9 * 10 = 90\n",
      "10 * 1 = 10\n",
      "10 * 2 = 20\n",
      "10 * 3 = 30\n",
      "10 * 4 = 40\n",
      "10 * 5 = 50\n",
      "10 * 6 = 60\n",
      "10 * 7 = 70\n",
      "10 * 8 = 80\n",
      "10 * 9 = 90\n",
      "10 * 10 = 100\n"
     ]
    }
   ],
   "source": [
    "# Multiplication tables 1 through 10\n",
    "for x in range(1, 11):\n",
    "    for y in range(1, 11):\n",
    "        print('%d * %d = %d' % (x, y, x*y))"
   ]
  },
  {
   "cell_type": "code",
   "execution_count": 12,
   "metadata": {},
   "outputs": [
    {
     "name": "stdout",
     "output_type": "stream",
     "text": [
      "1\n"
     ]
    }
   ],
   "source": [
    "for x in range(3):\n",
    "    if x == 1:\n",
    "        print(x)\n",
    "        break"
   ]
  },
  {
   "cell_type": "code",
   "execution_count": 44,
   "metadata": {},
   "outputs": [
    {
     "name": "stdout",
     "output_type": "stream",
     "text": [
      "S:u:d:h:i:n:d:r:a: :G:o:u:t:a:m: :V:e:d:a:n:t:h:i:Done.\n"
     ]
    }
   ],
   "source": [
    "name = \"Sudhindra Goutam Vedanthi\"\n",
    "for i in name:\n",
    "        if i == 'x':\n",
    "            break\n",
    "        print(i, end= \":\")\n",
    "else:\n",
    "        print('Done.')  # Will not execute?"
   ]
  },
  {
   "cell_type": "code",
   "execution_count": 17,
   "metadata": {},
   "outputs": [
    {
     "name": "stdout",
     "output_type": "stream",
     "text": [
      "Sudhindra"
     ]
    }
   ],
   "source": [
    "for c in \"Sudhindra\":\n",
    "    print(c, end=\"\")"
   ]
  },
  {
   "cell_type": "code",
   "execution_count": 18,
   "metadata": {},
   "outputs": [
    {
     "name": "stdout",
     "output_type": "stream",
     "text": [
      "10\n",
      "16\n"
     ]
    }
   ],
   "source": [
    "for x in range(10, 21, 6):\n",
    "    print(x)"
   ]
  },
  {
   "cell_type": "code",
   "execution_count": 25,
   "metadata": {},
   "outputs": [
    {
     "name": "stdout",
     "output_type": "stream",
     "text": [
      "1\n",
      "2\n",
      "3\n",
      "4\n"
     ]
    }
   ],
   "source": [
    "for x in [1, 2, 3, 4]:\n",
    "    print(x)"
   ]
  },
  {
   "cell_type": "code",
   "execution_count": null,
   "metadata": {},
   "outputs": [],
   "source": []
  },
  {
   "cell_type": "markdown",
   "metadata": {},
   "source": [
    "### `while - loop - else` clause\n",
    "\n",
    "This lesson covers the `while-loop-else` -clause, which is unique to Python. The `else`-block is only executed if the `while`-loop is exhausted. You don’t know what that means? Check out this lesson to find out! Furthermore, you can find two examples below, which you can copy-paste and run to get a sense of what’s happening.\n",
    "\n",
    "> Examples are like this\n",
    "\n",
    ">> Example 1:\n",
    ">>>   ```Python\n",
    ">>>      n = 5\n",
    ">>>      while n > 0:\n",
    ">>>          n = n - 1\n",
    ">>>          if n == 2:\n",
    ">>>             break\n",
    ">>>          print(n)\n",
    ">>>      else:\n",
    ">>>          print(\"Loop is finished\")\n",
    ">>>    ```\n"
   ]
  },
  {
   "cell_type": "code",
   "execution_count": 45,
   "metadata": {},
   "outputs": [
    {
     "name": "stdout",
     "output_type": "stream",
     "text": [
      "6\n",
      "5\n",
      "4\n",
      "3\n"
     ]
    }
   ],
   "source": [
    "n = 7\n",
    "while n > 2:\n",
    "    n = n - 1\n",
    "    if n == 2:\n",
    "        break\n",
    "    print(n)\n",
    "else:\n",
    "    print(\"Loop is finished\")"
   ]
  },
  {
   "cell_type": "code",
   "execution_count": 16,
   "metadata": {},
   "outputs": [
    {
     "name": "stdout",
     "output_type": "stream",
     "text": [
      "4\n",
      "3\n",
      "1\n",
      "0\n",
      "Loop is finished\n"
     ]
    }
   ],
   "source": [
    "n = 5\n",
    "while n > 0:\n",
    "    n = n - 1\n",
    "    if n == 2:\n",
    "        continue\n",
    "    print(n)\n",
    "else:\n",
    "    print(\"Loop is finished\")"
   ]
  },
  {
   "cell_type": "code",
   "execution_count": 19,
   "metadata": {},
   "outputs": [
    {
     "name": "stdout",
     "output_type": "stream",
     "text": [
      "1 :: 2 :: 3 :: 4 :: 5 :: 6 :: 7 :: 8 :: 9 :: 10 :: "
     ]
    }
   ],
   "source": [
    "#repetition\n",
    "x = 1\n",
    "while x < 11:\n",
    "    print(x, end =\" :: \")\n",
    "    x = x + 1  # x +=1"
   ]
  },
  {
   "cell_type": "code",
   "execution_count": 47,
   "metadata": {},
   "outputs": [
    {
     "name": "stdout",
     "output_type": "stream",
     "text": [
      " ::"
     ]
    }
   ],
   "source": [
    "name = \"James Stewart\"\n",
    "#name = \" \"\n",
    "while name:\n",
    "    print(name, end = \"::\")\n",
    "    name = name[1:]"
   ]
  },
  {
   "cell_type": "code",
   "execution_count": 21,
   "metadata": {},
   "outputs": [
    {
     "name": "stdout",
     "output_type": "stream",
     "text": [
      "0:1:2:3:4:5:6:7:8:9:10:"
     ]
    }
   ],
   "source": [
    "a, b = 0, 10\n",
    "while a <= b:\n",
    "    print(a, end = \":\")\n",
    "    a +=1"
   ]
  },
  {
   "cell_type": "code",
   "execution_count": 49,
   "metadata": {},
   "outputs": [
    {
     "name": "stdout",
     "output_type": "stream",
     "text": [
      "10\n",
      "9\n",
      "8\n",
      "7\n",
      "6\n",
      "5\n",
      "4\n",
      "3\n",
      "2\n",
      "1\n",
      " I'm done \n"
     ]
    }
   ],
   "source": [
    "x = 10\n",
    "while True:    #infinite loop\n",
    "    print(x)\n",
    "    x -=1\n",
    "    if x == 0:\n",
    "        break\n",
    "print(\" I'm done \")"
   ]
  },
  {
   "cell_type": "code",
   "execution_count": 23,
   "metadata": {},
   "outputs": [
    {
     "name": "stdout",
     "output_type": "stream",
     "text": [
      "9:7:5:3:1:Hello\n"
     ]
    }
   ],
   "source": [
    "x = 10\n",
    "while x:\n",
    "    x = x -1\n",
    "    if (x % 2) == 0:\n",
    "        continue\n",
    "    print(x, end = \":\")\n",
    "\n",
    "print(\"Hello\")"
   ]
  },
  {
   "cell_type": "code",
   "execution_count": 24,
   "metadata": {},
   "outputs": [
    {
     "ename": "IndentationError",
     "evalue": "expected an indented block (<ipython-input-24-b3062201df13>, line 5)",
     "output_type": "error",
     "traceback": [
      "\u001b[1;36m  File \u001b[1;32m\"<ipython-input-24-b3062201df13>\"\u001b[1;36m, line \u001b[1;32m5\u001b[0m\n\u001b[1;33m    continue\u001b[0m\n\u001b[1;37m    ^\u001b[0m\n\u001b[1;31mIndentationError\u001b[0m\u001b[1;31m:\u001b[0m expected an indented block\n"
     ]
    }
   ],
   "source": [
    "x = 10\n",
    "while x:\n",
    "    x = x -1\n",
    "    if (x % 2) == 0:\n",
    "    continue\n",
    "print(x ,end= \" :: \")"
   ]
  },
  {
   "cell_type": "code",
   "execution_count": null,
   "metadata": {},
   "outputs": [],
   "source": []
  },
  {
   "cell_type": "code",
   "execution_count": null,
   "metadata": {},
   "outputs": [],
   "source": []
  },
  {
   "cell_type": "markdown",
   "metadata": {},
   "source": [
    "## Lists in Python\n",
    "\n",
    "Lists are one of Python’s most useful built-in types.\n",
    "\n",
    "Like a string, a list is a sequence of values. In a string, the values are characters; in a list,\n",
    "they can be any type. The values in a list are called **elements** or sometimes **items**.\n",
    "\n",
    "There are several ways to create a new list; the simplest is to enclose the elements in square\n",
    "brackets (`[]`):\n",
    "`\n",
    "[10, 20, 30, 40]\n",
    "\n",
    "['frog', 'ram', 'lark']\n",
    "`\n",
    "\n",
    "* The first example is a list of four integers. \n",
    "* The second is a list of three strings. \n",
    "* The elements of a list don’t have to be the same type. \n",
    "* The following list contains a string, a float, an integer, and (lo!) another list:\n",
    "`['spam', 2.0, 5, [10, 20]]`\n",
    "\n",
    "* A list within another list is nested.\n",
    "* A list that contains no elements is called an empty list; you can create one with empty brackets, `[]`.\n",
    "* As you might expect, you can assign list values to variables:\n",
    "\n",
    "```Python\n",
    "cheeses = ['Cheddar', 'Edam', 'Gouda']\n",
    "numbers = [42, 123]\n",
    "empty = []\n",
    "print(cheeses, numbers, empty)\n",
    "['Cheddar', 'Edam', 'Gouda'] [42, 123] []\n",
    "```\n",
    "\n",
    "* Lists are mutable. \n",
    "* You can overwrite specific elements. \n",
    "* add/update/append/delete specific elements"
   ]
  },
  {
   "cell_type": "code",
   "execution_count": null,
   "metadata": {},
   "outputs": [],
   "source": [
    "fruits = ['banana', 'pineapple', 'apple', 'pears', 'kiwi', 'grapes', 'guava', 'persimmon']"
   ]
  },
  {
   "cell_type": "code",
   "execution_count": null,
   "metadata": {},
   "outputs": [],
   "source": [
    "fruits"
   ]
  },
  {
   "cell_type": "code",
   "execution_count": null,
   "metadata": {},
   "outputs": [],
   "source": [
    "fruits[0]"
   ]
  },
  {
   "cell_type": "code",
   "execution_count": null,
   "metadata": {},
   "outputs": [],
   "source": [
    "fruits[7]"
   ]
  },
  {
   "cell_type": "code",
   "execution_count": null,
   "metadata": {},
   "outputs": [],
   "source": [
    "fruits[99]"
   ]
  },
  {
   "cell_type": "code",
   "execution_count": null,
   "metadata": {},
   "outputs": [],
   "source": [
    "fruits[0] = 'nanaba'"
   ]
  },
  {
   "cell_type": "code",
   "execution_count": null,
   "metadata": {},
   "outputs": [],
   "source": [
    "fruits"
   ]
  },
  {
   "cell_type": "code",
   "execution_count": null,
   "metadata": {},
   "outputs": [],
   "source": [
    "## Slicing Lists\n",
    "print(\"Slicing Lists\")\n",
    "print(fruits[:3])\n",
    "print(fruits[1:-1])\n",
    "print(fruits[4:])\n",
    "print(fruits[-5:-3])\n",
    "\n",
    "print(\"Concatenate Lists and Repeat Lists\")\n",
    "print(fruits + ['mango', 'oranges'])\n",
    "print(fruits)\n",
    "fruits[0] = 'banana'\n",
    "print(fruits*3)"
   ]
  },
  {
   "cell_type": "code",
   "execution_count": null,
   "metadata": {},
   "outputs": [],
   "source": [
    "## Type Specific Operations on Lists\n",
    "## append(), pop(), sort(), reverse()\n",
    "\n",
    "og_fruits = fruits\n",
    "print(og_fruits)\n",
    "fruits = og_fruits\n",
    "fruits.append('mango')\n",
    "print(fruits)\n",
    "fruits.pop(1)\n",
    "\n",
    "print(fruits)\n",
    "fruits.sort()\n",
    "print(fruits)\n",
    "fruits.reverse()\n",
    "print(fruits)\n"
   ]
  },
  {
   "cell_type": "code",
   "execution_count": null,
   "metadata": {},
   "outputs": [],
   "source": [
    "## Nested Lists\n",
    "\n",
    "M = [[1, 2, 3],             # A 3 × 3 matrix, as nested lists\n",
    "     [4, 5, 6],             # Code can span lines if bracketed\n",
    "     [7, 8, 9]]\n"
   ]
  },
  {
   "cell_type": "code",
   "execution_count": null,
   "metadata": {},
   "outputs": [],
   "source": [
    "M"
   ]
  },
  {
   "cell_type": "code",
   "execution_count": null,
   "metadata": {},
   "outputs": [],
   "source": [
    "M[1]"
   ]
  },
  {
   "cell_type": "code",
   "execution_count": null,
   "metadata": {},
   "outputs": [],
   "source": [
    "M[1][2]"
   ]
  },
  {
   "cell_type": "code",
   "execution_count": null,
   "metadata": {},
   "outputs": [],
   "source": [
    "col2 = [row[1] for row in M]"
   ]
  },
  {
   "cell_type": "code",
   "execution_count": 50,
   "metadata": {
    "collapsed": true
   },
   "outputs": [
    {
     "ename": "NameError",
     "evalue": "name 'col2' is not defined",
     "output_type": "error",
     "traceback": [
      "\u001b[1;31m---------------------------------------------------------------------------\u001b[0m",
      "\u001b[1;31mNameError\u001b[0m                                 Traceback (most recent call last)",
      "\u001b[1;32m<ipython-input-50-ea675d289520>\u001b[0m in \u001b[0;36m<module>\u001b[1;34m\u001b[0m\n\u001b[1;32m----> 1\u001b[1;33m \u001b[0mcol2\u001b[0m\u001b[1;33m\u001b[0m\u001b[1;33m\u001b[0m\u001b[0m\n\u001b[0m",
      "\u001b[1;31mNameError\u001b[0m: name 'col2' is not defined"
     ]
    }
   ],
   "source": [
    "col2"
   ]
  },
  {
   "cell_type": "code",
   "execution_count": null,
   "metadata": {},
   "outputs": [],
   "source": [
    "col2new = [row[1] + 1 for row in M]"
   ]
  },
  {
   "cell_type": "code",
   "execution_count": null,
   "metadata": {},
   "outputs": [],
   "source": [
    "col2new"
   ]
  },
  {
   "cell_type": "code",
   "execution_count": null,
   "metadata": {},
   "outputs": [],
   "source": [
    "filteredcol = [row[1] for row in M if row[1] % 2 == 0] # Filter out odd items"
   ]
  },
  {
   "cell_type": "code",
   "execution_count": null,
   "metadata": {},
   "outputs": [],
   "source": [
    "filteredcol"
   ]
  },
  {
   "cell_type": "code",
   "execution_count": null,
   "metadata": {},
   "outputs": [],
   "source": [
    "doubles = [c * 2 for c in 'spam']\n",
    "print(doubles)"
   ]
  },
  {
   "cell_type": "code",
   "execution_count": null,
   "metadata": {},
   "outputs": [],
   "source": [
    "diag = [M[i][i] for i in [2, 1, 0]] # Non-mutating action\n",
    "print(diag)\n",
    "print(M)"
   ]
  },
  {
   "cell_type": "code",
   "execution_count": null,
   "metadata": {},
   "outputs": [],
   "source": [
    "listFromRange1 = list(range(11))\n",
    "listFromRange1"
   ]
  },
  {
   "cell_type": "code",
   "execution_count": null,
   "metadata": {},
   "outputs": [],
   "source": [
    "list_from_range2 = list(range(5, 26))\n",
    "list_from_range2"
   ]
  },
  {
   "cell_type": "code",
   "execution_count": null,
   "metadata": {},
   "outputs": [],
   "source": [
    "list_from_range3 = list(range(-10, 11, 2))\n",
    "list_from_range3"
   ]
  },
  {
   "cell_type": "code",
   "execution_count": null,
   "metadata": {},
   "outputs": [],
   "source": [
    "range(10)"
   ]
  },
  {
   "cell_type": "code",
   "execution_count": null,
   "metadata": {},
   "outputs": [],
   "source": [
    "print(range(10))"
   ]
  },
  {
   "cell_type": "code",
   "execution_count": null,
   "metadata": {},
   "outputs": [],
   "source": [
    "print(range(5, 26))"
   ]
  },
  {
   "cell_type": "code",
   "execution_count": null,
   "metadata": {},
   "outputs": [],
   "source": [
    "print(range(-100, 101, 10))"
   ]
  },
  {
   "cell_type": "code",
   "execution_count": null,
   "metadata": {},
   "outputs": [],
   "source": [
    "[[x ** 2, x ** 3] for x in range(4)]"
   ]
  },
  {
   "cell_type": "code",
   "execution_count": null,
   "metadata": {},
   "outputs": [],
   "source": [
    "_   # last output in the buffer, works with only the expressions that generate an output."
   ]
  },
  {
   "cell_type": "code",
   "execution_count": null,
   "metadata": {},
   "outputs": [],
   "source": [
    "_"
   ]
  },
  {
   "cell_type": "code",
   "execution_count": null,
   "metadata": {},
   "outputs": [],
   "source": [
    "newvalue = 2"
   ]
  },
  {
   "cell_type": "code",
   "execution_count": null,
   "metadata": {},
   "outputs": [],
   "source": [
    "_"
   ]
  },
  {
   "cell_type": "code",
   "execution_count": null,
   "metadata": {},
   "outputs": [],
   "source": [
    "my_special_list = [[x, x / 2, x * 2] for x in range(-6, 7, 2) if x > 0]"
   ]
  },
  {
   "cell_type": "code",
   "execution_count": null,
   "metadata": {},
   "outputs": [],
   "source": [
    "_  # Assignment operator does not produce any output to buffer. \n",
    "   # So the previous output in the buffer will be printed."
   ]
  },
  {
   "cell_type": "code",
   "execution_count": null,
   "metadata": {},
   "outputs": [],
   "source": [
    "newlistfrombuffer= _"
   ]
  },
  {
   "cell_type": "code",
   "execution_count": null,
   "metadata": {},
   "outputs": [],
   "source": [
    "newlistfrombuffer"
   ]
  },
  {
   "cell_type": "code",
   "execution_count": null,
   "metadata": {},
   "outputs": [],
   "source": [
    "newvalue"
   ]
  },
  {
   "cell_type": "code",
   "execution_count": null,
   "metadata": {},
   "outputs": [],
   "source": [
    "_ + 4"
   ]
  },
  {
   "cell_type": "code",
   "execution_count": null,
   "metadata": {},
   "outputs": [],
   "source": [
    "## M = [[1, 2, 3],             # A 3 × 3 matrix, as nested lists\n",
    "##     [4, 5, 6],             # Code can span lines if bracketed\n",
    "##     [7, 8, 9]]\n",
    "\n",
    "G = (sum(row) for row in M) # Iteration that creates sums of the rows - Generator Object\n",
    "G"
   ]
  },
  {
   "cell_type": "code",
   "execution_count": null,
   "metadata": {},
   "outputs": [],
   "source": [
    "next(G)"
   ]
  },
  {
   "cell_type": "code",
   "execution_count": null,
   "metadata": {},
   "outputs": [],
   "source": [
    "print(G)"
   ]
  },
  {
   "cell_type": "code",
   "execution_count": null,
   "metadata": {},
   "outputs": [],
   "source": [
    "list(map(sum, M))"
   ]
  },
  {
   "cell_type": "code",
   "execution_count": null,
   "metadata": {},
   "outputs": [],
   "source": [
    "{sum(row) for row in M}"
   ]
  },
  {
   "cell_type": "code",
   "execution_count": null,
   "metadata": {},
   "outputs": [],
   "source": [
    "{i : sum(M[i]) for i in range(3)}     # Creates key/value table of row sums"
   ]
  },
  {
   "cell_type": "code",
   "execution_count": null,
   "metadata": {},
   "outputs": [],
   "source": [
    "a = [1, 2, 3, 4, 5]\n",
    "b = a                    # Referencing, works as an alias\n",
    "print(a, b)\n",
    "b.pop()                  # Removes elements in both a and b, because both are pointing to the same location\n",
    "print(a, b)"
   ]
  },
  {
   "cell_type": "markdown",
   "metadata": {},
   "source": [
    "\n",
    "### Common list literals and operations\n",
    "**Operation**                         |         **Interpretation**    |\n",
    "\n",
    "\n",
    "```python\n",
    "L = []                                    # An empty list\n",
    "L = [123, 'abc', 1.23, {}]                # Four items: indexes 0..3\n",
    "L = ['Bob', 40.0, ['dev', 'mgr']]         # Nested sublists\n",
    "L = list('spam')                          # List of an iterable’s items,\n",
    "L = list(range(-4, 4))                     list of successive integers\n",
    "L[i]                                       Accessing List Items, Index\n",
    "L[i][j]                                    Index of Index\n",
    "L[i:j]                                     Slice\n",
    "len(L)                                     Length\n",
    "L1 + L2                                    Concatenate, repeat\n",
    "L * 3                                      Repeat\n",
    "for x in L: print(x)                       Iteration\n",
    "3 in L                                     Membership\n",
    "L.append(4)                                Method: growing : Append\n",
    "L.extend([5,6,7])                          Method: growing : Extend\n",
    "L.insert(i, X)                             Method: growing : Insert\n",
    "L.index(X)                                 Method: searching\n",
    "L.count(X)                                 Method: searching\n",
    "L.sort()                                   Method: sorting\n",
    "L.reverse()                                Method: reversing\n",
    "L.copy()                                   Method: copying (3.3+)\n",
    "L.clear()                                  Method: clearing (3.3+)\n",
    "L.pop(i)                                   Method: shrinking\n",
    "L.remove(X)                                Method: shrinking\n",
    "del L[i]                                   Statements: Shrinking\n",
    "del L[i:j]                                 Statements: Shrinking                  \n",
    "L[i:j] = []                                Index assignment - Empty List Assignment                   \n",
    "L[i] = 3                                   Index assignment, \n",
    "L[i:j] = [4,5,6]                           Slice assignment\n",
    "L = [x**2 for x in range(5)]               List Creation from iteration\n",
    "list(map(ord, 'spam'))                     \n",
    "```"
   ]
  },
  {
   "cell_type": "code",
   "execution_count": null,
   "metadata": {},
   "outputs": [],
   "source": [
    "list(map(ord, 'spam')) "
   ]
  },
  {
   "cell_type": "code",
   "execution_count": null,
   "metadata": {},
   "outputs": [],
   "source": [
    "L = ['Goutam', 22, True, 12.45]\n",
    "L"
   ]
  },
  {
   "cell_type": "code",
   "execution_count": null,
   "metadata": {},
   "outputs": [],
   "source": [
    "newL = L[:]\n",
    "newL"
   ]
  },
  {
   "cell_type": "code",
   "execution_count": null,
   "metadata": {},
   "outputs": [],
   "source": [
    "newL[0] = 'Sudhindra'\n",
    "newL, L"
   ]
  },
  {
   "cell_type": "code",
   "execution_count": null,
   "metadata": {},
   "outputs": [],
   "source": []
  },
  {
   "cell_type": "code",
   "execution_count": null,
   "metadata": {},
   "outputs": [],
   "source": []
  }
 ],
 "metadata": {
  "kernelspec": {
   "display_name": "Python 3",
   "language": "python",
   "name": "python3"
  },
  "language_info": {
   "codemirror_mode": {
    "name": "ipython",
    "version": 3
   },
   "file_extension": ".py",
   "mimetype": "text/x-python",
   "name": "python",
   "nbconvert_exporter": "python",
   "pygments_lexer": "ipython3",
   "version": "3.8.5"
  }
 },
 "nbformat": 4,
 "nbformat_minor": 4
}
