{
 "cells": [
  {
   "cell_type": "markdown",
   "metadata": {},
   "source": [
    "# <center> Homework 1: Python Programming Homework Notebook 1</center>\n",
    "###  <center> <span style=\"color: blue\"> Author, Mentor, Trainer:</span>  <span style=\"color: red\">Sudhindra Goutam Vedanthi</span> </center>\n",
    "###  <center> C3 Mentroring </center>\n",
    "#### <center> This assignment is developed as part of \"Python Programming for Data science and Engineering\" Course</center>\n",
    "**<center> Homework due by 03/30/2021 <center>**"
   ]
  },
  {
   "cell_type": "markdown",
   "metadata": {},
   "source": [
    "##### Homework common rules.\n",
    "1. Insert comments appropriately to make the program readable.\n",
    "2. Make variable names meaningful\n",
    "3. For larger programs create documentation using `markdown` cells\n",
    "4. Validate inputs for int, or strings and handle the exceptions. For example: if \"dont know\" entered as a value for age, you should print an error and allow the user to enter the correct value.\n",
    "5. Use all concepts taught so far - operations, data types, type conversions, expressions, boolean expressions, conditional expressions, conditional execution using `if` etc, repeated executions using iterations (`for` loops), conditinal repetitions using (`while`), formatted outputs, strings and string manipulations(slicing etc), Lists and list operations.\n",
    "6. Try to do few programs each day, instead of completing everything on one day.\n",
    "7. \"Happy Programming, Pythonians!!\""
   ]
  },
  {
   "cell_type": "code",
   "execution_count": null,
   "metadata": {},
   "outputs": [],
   "source": [
    "print(\"Happy Programming, Pythonians!!\")"
   ]
  },
  {
   "cell_type": "markdown",
   "metadata": {},
   "source": [
    "**Q1. Play with numbers**\n",
    "\n",
    "* Q1.1 - Print numbers from 20 to 10 (not including 10) using `while` loop.\n",
    "* Q1.2 - Print all even numbers from 0 to 100 including both, using `for` loop.\n",
    "* Q1.3 - Print all even numbers from 0 to 100 including both, using `while` loop.\n",
    "* Q1.4 - Print all numbers from 1 to 20 except 9, 10, 11 and 12."
   ]
  },
  {
   "cell_type": "code",
   "execution_count": null,
   "metadata": {},
   "outputs": [],
   "source": []
  },
  {
   "cell_type": "markdown",
   "metadata": {},
   "source": [
    "**Q2. Simple Logiks**\n",
    "* Q2.1 - Accept a number, and find whether it is even or odd\n",
    "* Q2.2 - Accept a number, and display countdown and \"Blast Off\" message with three versions - using (1) `for` loop and (2) `while` loop and (3) `if` / `else` conditions\n",
    "* Q2.3 - Accept a number find the factorial of the number\n",
    "* Q2.4 - Accept a number 'n' , and print the first 'n' fibonacci numbers (No recursion please). Fibonacci Numbers are  - 0, 1, 1, 2, 3, 5, 8, 13 etc.. (figure out the logic)\n",
    "* Q2.5 - Accept a number and find the absolute of the number\n",
    "* Q2.6 - Accept a number and print 1 if x is greater than y, 0 if x is equal to y and -1 if x is less than y.\n",
    "* Q2.7 - Accept two numbers and find if the first one is divisible by the second (Hint: means no reminder)\n",
    "* Q2.8 - Write an infinite loop, that displays a prompt ('>>>'), does not do anything for your input except when you type the following words: done, quit, exit.\n",
    "* Q2.9 - Guessing game. Create a secret number. Let user guess a number, if it is same as the secret number, print a message as \"You won\". Give three attempts. For every failed attempt give another chance with a message \"Try Again\". After 3 attempts, Display \"Sorry! You lost the game\""
   ]
  },
  {
   "cell_type": "code",
   "execution_count": null,
   "metadata": {},
   "outputs": [],
   "source": []
  },
  {
   "cell_type": "markdown",
   "metadata": {},
   "source": [
    "**Q3.No Stone Unturned - A Game**  \n",
    "\n",
    "In this game  \n",
    "* Two players sit in front of a pile of 100 stones. \n",
    "* They take turns, each removing between 1 and 5 stones (assuming there are at least 5 stones left in the pile. If less then 5 stones are there then you can only turn so much). \n",
    "* The person who removes the last stone(s) wins\n",
    "\n",
    "**_Assumptions_** - If you have made any assumptions, please print as notes to the game player."
   ]
  },
  {
   "cell_type": "code",
   "execution_count": null,
   "metadata": {},
   "outputs": [],
   "source": []
  },
  {
   "cell_type": "markdown",
   "metadata": {},
   "source": [
    "**Q4. Pig Latin**  \n",
    "Write a function pig latin that takes in a single word, then converts the word to Pig Latin. To review, Pig Latin takes the first letter of a word, puts it at the end, and appends “ay”. The only exception is if the first letter is a vowel, in which case we keep it as it is and append “hay” to the end.\n",
    "\n",
    ">E.g. “boot” → “ootbay”, and “image” → “imagehay”.\n",
    "\n",
    "**_Points to Note:_** It will be useful to define a list at the top of your code file called VOWELS. This way, you can check if a letter x is a vowel with the expression x in VOWELS.  \n",
    "\n",
    "**_Remember_** - to get a word except for the first letter, you can use word `[1:]`."
   ]
  },
  {
   "cell_type": "code",
   "execution_count": null,
   "metadata": {},
   "outputs": [],
   "source": []
  },
  {
   "cell_type": "markdown",
   "metadata": {},
   "source": [
    "**Q5. Name Game**  \n",
    "\n",
    "Do the following:\n",
    "* Get the users name as input.\n",
    "* Find the length of the name\n",
    "* If the name contains more than 30 characters, truncate the name to 30 characters and let the user know that the name has a limit.\n",
    "* Find how many vowels and how many constants and how many spaces\n",
    "* Split the name into a list\n",
    "* Create a piglatin code - a replaced by z, b replaced by y etc also in the reverse z replaced by a etc.\n",
    "* Using the code above, create your code name."
   ]
  },
  {
   "cell_type": "code",
   "execution_count": null,
   "metadata": {},
   "outputs": [],
   "source": []
  },
  {
   "cell_type": "markdown",
   "metadata": {},
   "source": [
    "**Q6. Play with `Lists`**\n",
    "\n",
    "Write a program to take 'n' numbers from the user\n",
    "* Create a list - L\n",
    "* Create a list of squares of L\n",
    "* Create a list of cubes of L\n",
    "* Find the max, min, average of the values of L (do not use pre-defined funtions)\n",
    "* Find the standard deviation and variance (do not use any pre-defined functions)\n",
    "* Find the mean, median and mode\n",
    "* Ask of a number from the user and find whether it exists or not\n",
    "* Find the place (location in the list) of the above number in the list\n",
    "* Accept and add a new number to the list at the end\n",
    "* Accept and add a new number to the list at a particular location\n",
    "* Sort the list and created a sorted list sortedL, using the standard function and write your own logic to sort.\n",
    "* Ask for a number from the user and delete it.\n",
    "* Conduct various slice operations."
   ]
  },
  {
   "cell_type": "code",
   "execution_count": null,
   "metadata": {},
   "outputs": [],
   "source": []
  },
  {
   "cell_type": "markdown",
   "metadata": {},
   "source": [
    "**Q7. Roll the dice.**\n",
    "* Create Dice as a list\n",
    "* Use `random` module for rolling the dice.\n",
    "* Set a target value like 100. Find how many times you have to roll the dice to get the is number. Create the dice roll outcomes as a list."
   ]
  },
  {
   "cell_type": "code",
   "execution_count": null,
   "metadata": {},
   "outputs": [],
   "source": []
  },
  {
   "attachments": {
    "image-2.png": {
     "image/png": "[encoded data removed]"
    },
    "image-3.png": {
     "image/png": "[encoded data removed]"
    },
    "image-4.png": {
     "image/png": "[encoded data removed]"
    },
    "image.png": {
     "image/png": "[encoded data removed]"
    }
   },
   "cell_type": "markdown",
   "metadata": {},
   "source": [
    "##### Q8. Creat a Geometry Helper\n",
    "The Geometry helper displays a menu to compute the following:\n",
    "1. Calculation of metrics\n",
    "   > Compute the distance between two points - each point has a x and y coordinates. Like point a = `[x1, y1]`\n",
    "   > ![image.png](attachment:image.png)\n",
    "     ![image-2.png](attachment:image-2.png)\n",
    "     Fill in the values:\t \t\n",
    "     ![image-3.png](attachment:image-3.png)\n",
    "     ![image-4.png](attachment:image-4.png)\n",
    "     \n",
    "2. Find the area of the rectangle, triangle, square and circle\n",
    "3. Find the volume of the cube, box (rectangular), and sphere\n",
    "4. Based on the choice, accept the values required.\n",
    "5. Use math functions like power, square root, constants like `pi` etc\n",
    "6. Menu should be displayed and the calculations should be done until the user selects a \"quit\" option\n",
    " \t "
   ]
  },
  {
   "cell_type": "code",
   "execution_count": null,
   "metadata": {},
   "outputs": [],
   "source": []
  },
  {
   "cell_type": "markdown",
   "metadata": {},
   "source": [
    "##### Q9. Create a Conversion Calculator\n",
    "The calculator should display a menu for the following conversions\n",
    "  >   * Convert from Farenheit to Celcius\n",
    "      * Convert from Celcius to Farenheit\n",
    "      * Convert from Pounds to Kilograms\n",
    "      * Convert from Kilograms to Pounds\n",
    "      * Convert from Miles to Kilometers\n",
    "      * Convert from Kilometers to Miles\n",
    "\n",
    "Other features similar to Question 8 above.  \n",
    "For conversion formulas look up to Google sir."
   ]
  },
  {
   "cell_type": "code",
   "execution_count": null,
   "metadata": {},
   "outputs": [],
   "source": []
  },
  {
   "cell_type": "markdown",
   "metadata": {},
   "source": [
    "#### <span style=\"color: red\"> Q10.  Health Calculators </span>\n",
    "Create a program to display the option of calculating BMI or BMR   \n",
    "\n",
    "**1. BMI (Body Mass Index)**\n",
    "   * Accept body weight in kilo grams, accept height in centimeters\n",
    "   * Convert height from cm to meters\n",
    "   * Calculate BMI\n",
    "   * Print BMI interpretation based on the table given below\n",
    "\n",
    "**2. BMR (Basal Metabolic Rate)**\n",
    "   * Accept body weight in kilo grams, accept height in centimeters\n",
    "   * Accept the gender (Male or Female)\n",
    "   * Calculate BMR\n",
    "   * Accept the Level of activity\n",
    "   * Multiply the BMR found earlier with the factor given in the calculation\n",
    "   * Display the BMR and adjusted BMR\n",
    "   \n",
    "\n",
    "**BMI is calculated as follows:**  \n",
    "The body mass index (BMI) is a statistic developed by Adolphe Quetelet in the 1900’s for evaluating body mass. It is not related to gender and age. It uses the same formula for men as for women and children.\n",
    "> The body mass index is calculated based on the following formula:\n",
    "       >> Bodyweight in kilograms divided by height in meters squared\n",
    "                   or\n",
    "          BMI = x in k  / (y in meters)\\**2\n",
    "          Where:\n",
    "               x=bodyweight in KG\n",
    "               y=height in m\n",
    "         Example for 175 cm height und 70 kg weight:\n",
    "                 BMI = 70 / (1.75 * 1.75) = 22.86\n",
    "                 \n",
    "> BMI Interpretation Table\n",
    "          Meaning\t            BMI\n",
    "         Normal weight\t     19–24.9\n",
    "         Overweight\t         25–29.9\n",
    "         Obesity level I\t 30–34.9\n",
    "         Obesity level II\t 35–39.9\n",
    "         Obesity level III\t ≥ 40\n",
    "\n",
    "\n",
    "                 \n",
    "**BMR is calculated as follows:**  \n",
    "You use energy no matter what you're doing, even when sleeping. Your Basal Metabolic Rate (BMR) is the number of calories you'd burn if you stayed in bed all day, the amount of energy expended while at rest in a neutrally temperate environment, and in a post-absorptive state (meaning that the digestive system is inactive, which requires about 12 hours of fasting).\n",
    "\n",
    "If you've noticed that every year, it becomes harder to eat whatever you want and stay slim, you've also learnt that your BMR decreases as you age. Likewise, depriving yourself of food in hopes of losing weight also decreases your BMR, a foil to your intentions. However, a regular routine of cardiovascular exercise can increase your BMR, improving your health and fitness when your body's ability to burn energy gradually slows down.\n",
    "> The BMR is calculated using Revised Harris-Benedict Equations:\n",
    ">>  \n",
    "    **For men:**  \n",
    "       BMR = 13.397W + 4.799H - 5.677A + 88.362\n",
    ">>  \n",
    "    **For women:**  \n",
    "       BMR = 9.247W + 3.098H - 4.330A + 447.593\n",
    ">>  \n",
    ">>  where:  \n",
    ">>  - W is body weight in kg\n",
    ">>  - H is body height in cm\n",
    ">>  - A is age\n",
    "          \n",
    "> BMR calculated above will be the resting calorie needs. To get the actual calorie needs based on the activity that an individual is performing: To determine your total daily calorie needs, multiply your BMR by the appropriate activity factor, as follows:\n",
    "    \n",
    ">>    - If you are sedentary (little or no exercise) : Calorie-Calculation = BMR x 1.2\n",
    ">>    - If you are lightly active (light exercise/sports 1-3 days/week) : Calorie-Calculation = BMR x 1.375\n",
    ">>    - If you are moderatetely active (moderate exercise/sports 3-5 days/week) : Calorie-Calculation = BMR x 1.55\n",
    ">>    - If you are very active (hard exercise/sports 6-7 days a week) : Calorie-Calculation = BMR x 1.725\n",
    ">>    - If you are extra active (very hard exercise/sports & physical job or 2x training) : Calorie-Calculation = BMR x 1.9\n",
    "    \n"
   ]
  },
  {
   "cell_type": "code",
   "execution_count": null,
   "metadata": {},
   "outputs": [],
   "source": []
  },
  {
   "cell_type": "markdown",
   "metadata": {},
   "source": [
    "**Q11. Create a problem. State the problem and Write a program to solve the problem.**"
   ]
  },
  {
   "cell_type": "code",
   "execution_count": null,
   "metadata": {},
   "outputs": [],
   "source": []
  },
  {
   "cell_type": "markdown",
   "metadata": {},
   "source": [
    "### Project 1: Student Grade Report\n",
    "1. Create a class list with five class code (example: CS101, CS205, SE301). Class codes contain 2 alpha characters and 3 digits.\n",
    "2. Create a Student List - This list contains lists of Student info like student name and id, list of lists example \n",
    "    `StudentList = [[\"Goutam\", 101], [\"Ramanujan\", 102], .... ]`\n",
    "3. Create a list of Score Cards - It is a two dimensional list of lists containing studentID, score1, score2 etc Scores are percentage got in the corresponding course from the Course/Class List\n",
    "   Example\n",
    "   101, 95.6, 87.6, ......  (this is the first list element in the outer list - studentId, score1, etc..)\n",
    "   102, ................... (this is the second element for the second student etc...)\n",
    "   \n",
    "4. Create all the lists statically - created inside the program \n",
    "5. Create all the lists dynamically - created using the input from the user.\n",
    "6. Scores are given as percentages in the format of nn.n \n",
    "7. Find the average of all the five courses\n",
    "8. Find the GPA:\n",
    "   * 90 - 100  --> A\n",
    "   * 80 - 89.9 --> B\n",
    "   * 70 - 79.9 --> C\n",
    "   * 60 - 69.9 --> D\n",
    "   * <60       --> F (Fail)\n",
    "9. Create a Score Report for each student as follows:\n",
    "   ```\n",
    "   |-----------------------------------------------------------------------------|\n",
    "   |Student's Name:                                                              |\n",
    "   |-----------------------------------------------------------------------------|\n",
    "   |Class Code          |  Score      |   GPA        |      Comments             |\n",
    "   |-----------------------------------------------------------------------------|\n",
    "   |CS101               |  95.6       |    A         |                           |\n",
    "   \n",
    "   ...................\n",
    "   |-----------------------------------------------------------------------------|\n",
    "   |Overall Scores      | Average     | Overall GPA  |                           |\n",
    "   |-----------------------------------------------------------------------------|\n",
    "    \n",
    "   Important Notes: The following courses need to be taken again: CS205, etc.. (All classes with GPA 'D' or 'F')```\n",
    "   \n",
    "10. Calculate the Class Average Score across all students for every course.\n",
    "11. Calcualte the standard deviation and variance\n",
    "12. How many students with each GPA for each class\n",
    "13. What is the overall mean GPA for each class and the overall mean GPA for the entire group\n",
    "14. A school administrator wants to use this program. Please make it as much user friendly as possible.\n",
    "11. Create proper menus, display until the user wants to quit. \n",
    "12. Validate the data as alpha, alphanumeric or numeric before saving it in the lists.\n",
    "13. We will be doing more things with this problem like adding new courses, student ages, address, contact info, course names and descriptions.\n",
    "14. Build the programs gradually.\n",
    "15. Use all the concepts taught so far.\n",
    "16. All the best"
   ]
  },
  {
   "cell_type": "code",
   "execution_count": null,
   "metadata": {},
   "outputs": [],
   "source": []
  }
 ],
 "metadata": {
  "kernelspec": {
   "display_name": "Python 3",
   "language": "python",
   "name": "python3"
  },
  "language_info": {
   "codemirror_mode": {
    "name": "ipython",
    "version": 3
   },
   "file_extension": ".py",
   "mimetype": "text/x-python",
   "name": "python",
   "nbconvert_exporter": "python",
   "pygments_lexer": "ipython3",
   "version": "3.8.5"
  }
 },
 "nbformat": 4,
 "nbformat_minor": 4
}
