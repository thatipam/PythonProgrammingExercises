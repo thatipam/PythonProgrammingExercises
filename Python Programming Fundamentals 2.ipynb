{
 "cells": [
  {
   "cell_type": "markdown",
   "metadata": {},
   "source": [
    "# <center> Python Programming Fundamentals </center>\n",
    "\n",
    "## Python Language Basics\n",
    "\n",
    "Any computer language (for that matter any language) will have letters, words and sentences that are meaningful to the language. Python is no exception.\n",
    "    Python language has specific words reserved for certain purposes. These cannot be used to construct the programs. Here is the list of Python 3 reserved words.\n",
    "    \n",
    "The following identifiers are used as reserved words, or keywords of the language, and cannot be used as ordinary identifiers. \n",
    "\n",
    "They must be spelled exactly as written here:\n",
    "```Python\n",
    "False      await      else       import     pass\n",
    "None       break      except     in         raise\n",
    "True       class      finally    is         return\n",
    "and        continue   for        lambda     try\n",
    "as         def        from       nonlocal   while\n",
    "assert     del        global     not        with\n",
    "async      elif       if         or         yield\n",
    "```\n",
    "\n",
    "With that being said, let us start working.....\n",
    "\n",
    "###  Little Arithmatic in Python\n",
    "\n",
    "In its most basic form Python can be used as a simple calculator. \n",
    "Consider the following arithmetic operators:\n",
    "\n",
    "* Addition: +\n",
    "* Subtraction: -\n",
    "* Multiplication: *\n",
    "* Division: /   - Float Division\n",
    "* Division //   - Integer Division\n",
    "* Exponentiation: **\n",
    "* Modulo: %  - gives the remainder \n",
    "\n",
    "![image.png](attachment:image.png)\n",
    "\n",
    "\n",
    "###  Using Python prompt as a calculator\n",
    "\n",
    "\n",
    "\n",
    "Use Python as a calculator as follows\n",
    "\n",
    "```Python\n",
    ">>>\n",
    ">>> 4 + 3\n",
    "7\n",
    ">>> 5 - 2\n",
    "3\n",
    ">>> 4 * 8\n",
    "32\n",
    ">>> 8 / 2\n",
    "4.0\n",
    ">>> 7 / 2\n",
    "3.5\n",
    ">>> 7 // 2\n",
    "3\n",
    ">>> 7 % 2\n",
    "1\n",
    ">>> 2 ** 4\n",
    "16\n",
    ">>>             \n",
    "```\n",
    "\n",
    "Practice the above in the code cells below"
   ]
  },
  {
   "cell_type": "code",
   "execution_count": 1,
   "metadata": {},
   "outputs": [
    {
     "data": {
      "text/plain": [
       "7"
      ]
     },
     "execution_count": 1,
     "metadata": {},
     "output_type": "execute_result"
    }
   ],
   "source": [
    "3 + 4"
   ]
  },
  {
   "cell_type": "code",
   "execution_count": null,
   "metadata": {},
   "outputs": [],
   "source": [
    "# Practice in these cells\n",
    "# If you need more cells, insert them using the 'Insert' menu above"
   ]
  },
  {
   "cell_type": "markdown",
   "metadata": {},
   "source": [
    "#### Code Samples\n",
    "\n",
    "##### Example 1\n",
    "```Python\n",
    "age = 23\n",
    "print(\"Hello, your age is \" + age)\n",
    "```\n",
    "\n",
    "##### Example 2\n",
    "<code>Python\n",
    "    age = 23\n",
    "    print(\"Hello, your age is \" + age)\n",
    "</code>"
   ]
  },
  {
   "cell_type": "markdown",
   "metadata": {},
   "source": [
    "##  Variables and Literals\n",
    "\n",
    "### Python Naming Conventions\n",
    "\n",
    "#### Naming and Using Variables\n",
    "\n",
    "When you’re using variables in Python, you need to adhere to a few rules\n",
    "and guidelines. Breaking some of these rules will cause errors; other guidelines\n",
    "just help you write code that’s easier to read and understand. Be sure\n",
    "to keep the following variable rules in mind:\n",
    "* Variable names can contain only letters, numbers, and underscores. They can start with a letter or an underscore, but not with a number.For instance, you can call a variable message_1 but not 1_message.\n",
    "* Spaces are not allowed in variable names, but underscores can be used to separate words in variable names. For example, greeting_message works, but greeting message will cause errors.\n",
    "* Avoid using Python keywords and function names as variable names; that is, do not use words that Python has reserved for a particular programmatic purpose, such as the word print. (See “Python Keywords and Built-in Functions” on page 489.)\n",
    "* Variable names should be short but descriptive. For example, name is better than n, student_name is better than s_n, and name_length is better than length_of_persons_name.\n",
    "* Be careful when using the lowercase letter l and the uppercase letter O because they could be confused with the numbers 1 and 0. \n",
    "\n",
    "It can take some practice to learn how to create good variable names,\n",
    "especially as your programs become more interesting and complicated. As\n",
    "you write more programs and start to read through other people’s code,\n",
    "you’ll get better at coming up with meaningful names.\n",
    "\n",
    "####  Examples of Variables\n",
    "```Python\n",
    "name = \"Sumedh\"\n",
    "age = 18\n",
    "welcome_message = \"Hello\"\n",
    "unit_price = 1.25\n",
    "is_done = True\n",
    "_timevar = 0.0\n",
    "name2 = \"Vishnu\"\n",
    "```\n"
   ]
  },
  {
   "cell_type": "code",
   "execution_count": 2,
   "metadata": {},
   "outputs": [],
   "source": [
    "name = \"Sumedh\"\n",
    "age = 18\n",
    "welcome_message = \"Hello\"\n",
    "unit_price = 1.25\n",
    "is_done = True\n",
    "_timevar = 0.0\n",
    "name2 = \"Vishnu\""
   ]
  },
  {
   "cell_type": "code",
   "execution_count": null,
   "metadata": {},
   "outputs": [],
   "source": [
    "# Practice in these cells\n",
    "# If you need more cells, insert them using the 'Insert' menu above"
   ]
  },
  {
   "cell_type": "markdown",
   "metadata": {},
   "source": [
    "### Output and Input\n",
    "\n",
    "* Simple Output statement can be achieved through `print()` function.\n",
    "* Print the above variables (created in the earlier steps)\n",
    "\n",
    "Example\n",
    "```Python\n",
    "print(\"Hello World\")\n",
    "Hello World\n",
    "```"
   ]
  },
  {
   "cell_type": "code",
   "execution_count": 3,
   "metadata": {},
   "outputs": [
    {
     "name": "stdout",
     "output_type": "stream",
     "text": [
      "Hello World\n"
     ]
    }
   ],
   "source": [
    "print(\"Hello World\")"
   ]
  },
  {
   "cell_type": "code",
   "execution_count": 18,
   "metadata": {},
   "outputs": [
    {
     "name": "stdout",
     "output_type": "stream",
     "text": [
      "Vishnu 18\n",
      "Hello Vishnu ! You are 18 years old.\n"
     ]
    }
   ],
   "source": [
    "name = \"Vishnu\"\n",
    "age = 18\n",
    "print(name, age)\n",
    "print(\"Hello\", name, \"! You are\", age, \"years old.\")\n"
   ]
  },
  {
   "attachments": {
    "image.png": {
     "image/png": "[encoded data removed]"
    }
   },
   "cell_type": "markdown",
   "metadata": {},
   "source": [
    "#### Accepting input from keyboard\n",
    "\n",
    "For input from user, you can use the `input()` function.\n",
    "\n",
    "![image.png](attachment:image.png)\n",
    "\n",
    "Look at the above statements\n",
    "Let us practice some examples\n"
   ]
  },
  {
   "cell_type": "code",
   "execution_count": 5,
   "metadata": {},
   "outputs": [
    {
     "name": "stdout",
     "output_type": "stream",
     "text": [
      "23\n",
      "Enter a name: Goutam\n",
      "Enter a name: Sumedh\n"
     ]
    },
    {
     "data": {
      "text/plain": [
       "'Sumedh'"
      ]
     },
     "execution_count": 5,
     "metadata": {},
     "output_type": "execute_result"
    }
   ],
   "source": [
    "input()\n",
    "input(\"Enter a name: \")\n",
    "name = input(\"Enter a name: \")\n",
    "name"
   ]
  },
  {
   "cell_type": "code",
   "execution_count": null,
   "metadata": {},
   "outputs": [],
   "source": [
    "## Problem: Accept the name and age and display with a message"
   ]
  },
  {
   "cell_type": "code",
   "execution_count": null,
   "metadata": {},
   "outputs": [],
   "source": []
  },
  {
   "cell_type": "markdown",
   "metadata": {},
   "source": [
    "#### Finding the type of the variable or value/literal\n",
    "\n",
    "The value or variable type can be inspected using the `type()` function as follows:\n",
    "```Python\n",
    "type(name)\n",
    "\n",
    "```"
   ]
  },
  {
   "cell_type": "code",
   "execution_count": 6,
   "metadata": {},
   "outputs": [
    {
     "data": {
      "text/plain": [
       "str"
      ]
     },
     "execution_count": 6,
     "metadata": {},
     "output_type": "execute_result"
    }
   ],
   "source": [
    "type(name)"
   ]
  },
  {
   "cell_type": "code",
   "execution_count": 7,
   "metadata": {},
   "outputs": [
    {
     "ename": "AttributeError",
     "evalue": "'str' object has no attribute 'type'",
     "output_type": "error",
     "traceback": [
      "\u001b[1;31m---------------------------------------------------------------------------\u001b[0m",
      "\u001b[1;31mAttributeError\u001b[0m                            Traceback (most recent call last)",
      "\u001b[1;32m<ipython-input-7-9816807217b9>\u001b[0m in \u001b[0;36m<module>\u001b[1;34m\u001b[0m\n\u001b[1;32m----> 1\u001b[1;33m \u001b[0mname\u001b[0m\u001b[1;33m.\u001b[0m\u001b[0mtype\u001b[0m\u001b[1;33m(\u001b[0m\u001b[1;33m)\u001b[0m\u001b[1;33m\u001b[0m\u001b[1;33m\u001b[0m\u001b[0m\n\u001b[0m",
      "\u001b[1;31mAttributeError\u001b[0m: 'str' object has no attribute 'type'"
     ]
    }
   ],
   "source": [
    "name.type()  ## Incorrect usage of the function"
   ]
  },
  {
   "cell_type": "code",
   "execution_count": 8,
   "metadata": {},
   "outputs": [
    {
     "data": {
      "text/plain": [
       "int"
      ]
     },
     "execution_count": 8,
     "metadata": {},
     "output_type": "execute_result"
    }
   ],
   "source": [
    "type(23)"
   ]
  },
  {
   "cell_type": "code",
   "execution_count": 11,
   "metadata": {
    "scrolled": true
   },
   "outputs": [
    {
     "data": {
      "text/plain": [
       "float"
      ]
     },
     "execution_count": 11,
     "metadata": {},
     "output_type": "execute_result"
    }
   ],
   "source": [
    "type(12.4)"
   ]
  },
  {
   "cell_type": "code",
   "execution_count": 13,
   "metadata": {
    "scrolled": true
   },
   "outputs": [
    {
     "data": {
      "text/plain": [
       "bool"
      ]
     },
     "execution_count": 13,
     "metadata": {},
     "output_type": "execute_result"
    }
   ],
   "source": [
    "type(True)"
   ]
  },
  {
   "cell_type": "code",
   "execution_count": 10,
   "metadata": {},
   "outputs": [
    {
     "data": {
      "text/plain": [
       "bool"
      ]
     },
     "execution_count": 10,
     "metadata": {},
     "output_type": "execute_result"
    }
   ],
   "source": [
    "type(12.4)\n",
    "type(True)"
   ]
  },
  {
   "cell_type": "code",
   "execution_count": 9,
   "metadata": {},
   "outputs": [
    {
     "data": {
      "text/plain": [
       "str"
      ]
     },
     "execution_count": 9,
     "metadata": {},
     "output_type": "execute_result"
    }
   ],
   "source": [
    "type(12.4)\n",
    "type(True)\n",
    "type(\"Hello\")"
   ]
  },
  {
   "cell_type": "code",
   "execution_count": 14,
   "metadata": {},
   "outputs": [],
   "source": [
    "## Accept the name and the year you are born, calculate the age (2021 - year of birth) and\n",
    "## print a personalized message with name and age\n",
    "\n"
   ]
  },
  {
   "cell_type": "code",
   "execution_count": null,
   "metadata": {},
   "outputs": [],
   "source": [
    "## What did you learn"
   ]
  },
  {
   "cell_type": "code",
   "execution_count": 20,
   "metadata": {},
   "outputs": [
    {
     "ename": "NameError",
     "evalue": "name 'sin' is not defined",
     "output_type": "error",
     "traceback": [
      "\u001b[1;31m---------------------------------------------------------------------------\u001b[0m",
      "\u001b[1;31mNameError\u001b[0m                                 Traceback (most recent call last)",
      "\u001b[1;32m<ipython-input-20-bc799740f408>\u001b[0m in \u001b[0;36m<module>\u001b[1;34m\u001b[0m\n\u001b[0;32m      1\u001b[0m \u001b[1;32mimport\u001b[0m \u001b[0mmath\u001b[0m\u001b[1;33m\u001b[0m\u001b[1;33m\u001b[0m\u001b[0m\n\u001b[0;32m      2\u001b[0m \u001b[0mpow\u001b[0m\u001b[1;33m(\u001b[0m\u001b[1;36m5\u001b[0m\u001b[1;33m,\u001b[0m \u001b[1;36m2\u001b[0m\u001b[1;33m)\u001b[0m\u001b[1;33m\u001b[0m\u001b[1;33m\u001b[0m\u001b[0m\n\u001b[1;32m----> 3\u001b[1;33m \u001b[0mprint\u001b[0m\u001b[1;33m(\u001b[0m\u001b[0msin\u001b[0m\u001b[1;33m(\u001b[0m\u001b[0mradians\u001b[0m\u001b[1;33m(\u001b[0m\u001b[1;36m90\u001b[0m\u001b[1;33m)\u001b[0m\u001b[1;33m)\u001b[0m\u001b[1;33m)\u001b[0m\u001b[1;33m\u001b[0m\u001b[1;33m\u001b[0m\u001b[0m\n\u001b[0m",
      "\u001b[1;31mNameError\u001b[0m: name 'sin' is not defined"
     ]
    }
   ],
   "source": [
    "import math\n",
    "pow(5, 2)\n",
    "print(sin(radians(90)))"
   ]
  },
  {
   "cell_type": "code",
   "execution_count": null,
   "metadata": {},
   "outputs": [],
   "source": []
  },
  {
   "cell_type": "code",
   "execution_count": null,
   "metadata": {},
   "outputs": [],
   "source": []
  },
  {
   "cell_type": "code",
   "execution_count": null,
   "metadata": {},
   "outputs": [],
   "source": []
  }
 ],
 "metadata": {
  "kernelspec": {
   "display_name": "Python 3",
   "language": "python",
   "name": "python3"
  },
  "language_info": {
   "codemirror_mode": {
    "name": "ipython",
    "version": 3
   },
   "file_extension": ".py",
   "mimetype": "text/x-python",
   "name": "python",
   "nbconvert_exporter": "python",
   "pygments_lexer": "ipython3",
   "version": "3.8.5"
  }
 },
 "nbformat": 4,
 "nbformat_minor": 4
}
