{
 "cells": [
  {
   "cell_type": "markdown",
   "metadata": {},
   "source": [
    "# <center> Session 3: Python Fundamentals 2 </center>\n",
    "###  <center> Author, Mentor, Trainer:  Sudhindra Goutam Vedanthi </center>\n",
    "###  <center> C3 Mentroring </center>\n",
    "**<center> Class Notebook for 03/16/2021 <center>**\n",
    "#### Output formatting\n",
    "`print()` function formatting for better output\n",
    "* Using escape sequences in the string for output.\n",
    "* Using `repr()` for retaining escape characters in the output. repr stands for printable representational strings\n",
    "* Using `R` or `r`to achieve the same effect as above with the `print()` function for strings."
   ]
  },
  {
   "cell_type": "code",
   "execution_count": 42,
   "metadata": {},
   "outputs": [
    {
     "name": "stdout",
     "output_type": "stream",
     "text": [
      "Hi\n",
      "How are you?\n",
      "Hi\\nHow are you?\\nFine.\n",
      "Hi\r",
      "How are you \b?\t\t\t Very well\n",
      "'Hi\\rHow are you \\x08?\\t\\t\\t Very well'\n",
      "Hi, I am your friend \r",
      "How are you?\n",
      "Hi I'm Goutam Vedanthi\n",
      "Hi I'm Goutam Vedanthi\n"
     ]
    }
   ],
   "source": [
    "# print() formatting for better output\n",
    "\n",
    "## new line\n",
    "new_line_string = \"Hi\\nHow are you?\"\n",
    "\n",
    "## it will print 'Hi' in first line and 'How are you?' in next line\n",
    "print(new_line_string)\n",
    "\n",
    "\n",
    "## string trigger `R or r`\n",
    "string = R\"Hi\\nHow are you?\\nFine.\"\n",
    "string2 = \"Hi\\rHow are you \\b?\\t\\t\\t Very well\"\n",
    "string3 = \"Hi, I am your friend \\rHow are you?\"\n",
    "\n",
    "## exact string will be printed\n",
    "print(string)\n",
    "print(string2)\n",
    "print(repr(string2))\n",
    "print(string3)\n",
    "\n",
    "print('Hi I\\'m Goutam Vedanthi')  # All single quotes embedded single quote with escape \"\\\"\n",
    "print(\"Hi I'm Goutam Vedanthi\")   # Single quotes embedded in double quotes"
   ]
  },
  {
   "cell_type": "code",
   "execution_count": 43,
   "metadata": {},
   "outputs": [
    {
     "name": "stdout",
     "output_type": "stream",
     "text": [
      "The values of tokens are, 2 4 7 .The values of tokens are,:2:4:7:.\n"
     ]
    }
   ],
   "source": [
    "a = 2\n",
    "b = 4\n",
    "c = 7\n",
    "\n",
    "print (\"The values of tokens are,\", a, b, c, \".\", end ='')\n",
    "print (\"The values of tokens are,\", a, b, c, \".\", sep =\":\")"
   ]
  },
  {
   "cell_type": "markdown",
   "metadata": {},
   "source": [
    "###  Output and String formatting in Python\n",
    "\n",
    "A String is usually a bit of text that you want to display or to send it to a program and to infuse things in it dynamically and present it, is known as String formatting.\n",
    "\n",
    "There are three different ways to perform string formatting:-\n",
    "\n",
    "* Formatting with placeholders.\n",
    "* Formatting with.format() string method.\n",
    "* Formatting with string literals, called f-strings.\n",
    "\n",
    "So we will see the entirety of the previously mentioned ways, and we will also focus on which string formatting strategy is the best.\n",
    "\n",
    "#### Formatting with Placeholders\n",
    "    It is the oldest method of string formatting. Here we use the modulo % operator. The modulo % is also known as “string-formatting operator”.\n",
    "\n",
    "#### Float precision with the placeholder method\n",
    "\n",
    "    Floating-point numbers use the format %a.bf. Here, a would be the minimum number of digits to be present in the string; these might be padded with white space if the whole number doesn’t have this many digits. Close to this,.bf represents how many digits are to be displayed after the decimal point.\n",
    "    \n",
    "#### Formatting with the.format() string method\n",
    "\n",
    "    This method was introduced in Python 3 was later also introduced to Python 2.7. Formatting is now done by calling.format() method.\n",
    "\n",
    "    Syntax: ‘String here {} then also {}’.format(‘something1′,’something2’)\n",
    "    \n",
    "    The.format() method has many advantages over the placeholder method:\n",
    "\n",
    "    * We can insert object by using index-based position\n",
    "    * We can insert object by using assigned keywords\n",
    "    * We can reuse the inserted objects to avoid duplication\n",
    "    \n",
    "    Float precision with the.format() method:\n",
    "\n",
    "    Syntax: {[index]:[width][.precision][type]}\n",
    "\n",
    "    The type can be used with format codes:\n",
    "\n",
    "        ‘d’ for integers\n",
    "        ‘f’ for floating-point numbers\n",
    "        ‘b’ for binary numbers\n",
    "        ‘o’ for octal numbers\n",
    "        ‘x’ for octal hexadecimal numbers\n",
    "        ‘s’ for string\n",
    "        ‘e’ for floating-point in an exponent format\n",
    "        \n",
    "#### Formatted String Literals (f-strings)\n",
    "\n",
    "    This formatting style was presented in python 3.6. f-strings have some advantages over the.format method discussed above. Here we can use outside variables directly into the string instead of passing them as arguments."
   ]
  },
  {
   "cell_type": "code",
   "execution_count": 44,
   "metadata": {},
   "outputs": [
    {
     "name": "stdout",
     "output_type": "stream",
     "text": [
      "The mangy, scrawny stray dog hurriedly gobbled down the grain-free, organic dog food.\n",
      "Misha walked and looked around\n",
      "The value of pi is: 3.1416\n",
      "Floating point numbers: 13\n",
      "We all are equal.\n",
      "Read the directions\n",
      "a: 1, b: Two, c: 12.3\n",
      "The first second was alright, but the second second was tough.\n",
      "The valueof pi is: 3.14159\n",
      "The valueof pi is: 3.14159\n",
      "My name is Ele.\n",
      "He said his age is 30.\n",
      "He said his age is 6\n",
      "The valueof pi is: 3.1416\n"
     ]
    }
   ],
   "source": [
    "## Using % Modulo substitution\n",
    "print(\"The mangy, scrawny stray dog %s gobbled down\" %\"hurriedly\" + \n",
    "      \" the grain-free, organic dog food.\")\n",
    "\n",
    "x = 'looked'\n",
    "print(\"Misha %s and %s around\"%('walked',x))\n",
    "\n",
    "\n",
    "## Float precision with the placeholder method\n",
    "\n",
    "print('The value of pi is: %5.4f' %(3.141592))\n",
    "print('Floating point numbers: %1.0f' %(13.144))\n",
    "\n",
    "\n",
    "\n",
    "## Using format function\n",
    "print('We all are {}.'.format('equal'))\n",
    "print('{2} {1} {0}'.format('directions','the', 'Read'))\n",
    "print('a: {a}, b: {b}, c: {c}'.format(a = 1, \n",
    "                                      b = 'Two', \n",
    "                                      c = 12.3))\n",
    "print('The first {p} was alright, but the {p} {p} was tough.'.format(p = 'second'))\n",
    "\n",
    "\n",
    "print('The valueof pi is: %1.5f' %3.141592) \n",
    "# vs. \n",
    "print('The valueof pi is: {0:1.5f}'.format(3.141592))\n",
    "\n",
    "\n",
    "\n",
    "## formatted string literals\n",
    "name = 'Ele'\n",
    "print(f\"My name is {name}.\") \n",
    "\n",
    "a = 5\n",
    "b = 10\n",
    "print(f\"He said his age is {2 * (a + b)}.\") \n",
    "\n",
    "## In lambda functions\n",
    "print(f\"He said his age is {(lambda x: x*2)(3)}\")\n",
    "\n",
    "num = 3.14159\n",
    "  \n",
    "print(f\"The valueof pi is: {num:{1}.{5}}\")"
   ]
  },
  {
   "cell_type": "code",
   "execution_count": 45,
   "metadata": {},
   "outputs": [
    {
     "name": "stdout",
     "output_type": "stream",
     "text": [
      "The price is 49 dollars\n"
     ]
    }
   ],
   "source": [
    "price = 49\n",
    "txt = \"The price is {} dollars\"\n",
    "print(txt.format(price))"
   ]
  },
  {
   "cell_type": "code",
   "execution_count": 46,
   "metadata": {},
   "outputs": [
    {
     "name": "stdout",
     "output_type": "stream",
     "text": [
      "The price is 49.00 dollars\n"
     ]
    }
   ],
   "source": [
    "price = 49\n",
    "txt = \"The price is {:.2f} dollars\"\n",
    "print(txt.format(price))"
   ]
  },
  {
   "cell_type": "code",
   "execution_count": 47,
   "metadata": {},
   "outputs": [
    {
     "name": "stdout",
     "output_type": "stream",
     "text": [
      "I want 3 pieces of item number 567 for 49.00 dollars.\n"
     ]
    }
   ],
   "source": [
    "quantity = 3\n",
    "itemno = 567\n",
    "price = 49\n",
    "myorder = \"I want {} pieces of item number {} for {:.2f} dollars.\"\n",
    "print(myorder.format(quantity, itemno, price))"
   ]
  },
  {
   "cell_type": "code",
   "execution_count": 48,
   "metadata": {},
   "outputs": [
    {
     "name": "stdout",
     "output_type": "stream",
     "text": [
      "I want 3 pieces of item number 567 for 49.00 dollars.\n"
     ]
    }
   ],
   "source": [
    "#Indexing the substitution variables\n",
    "quantity = 3\n",
    "itemno = 567\n",
    "price = 49\n",
    "myorder = \"I want {0} pieces of item number {1} for {2:.2f} dollars.\"\n",
    "print(myorder.format(quantity, itemno, price))"
   ]
  },
  {
   "cell_type": "code",
   "execution_count": 49,
   "metadata": {},
   "outputs": [
    {
     "name": "stdout",
     "output_type": "stream",
     "text": [
      "His name is John. John is 36 years old.\n"
     ]
    }
   ],
   "source": [
    "# Refer to the same value more than once\n",
    "age = 36\n",
    "name = \"John\"\n",
    "txt = \"His name is {1}. {1} is {0} years old.\"\n",
    "print(txt.format(age, name))"
   ]
  },
  {
   "cell_type": "code",
   "execution_count": 50,
   "metadata": {},
   "outputs": [
    {
     "name": "stdout",
     "output_type": "stream",
     "text": [
      "I have a Ford, it is a Mustang.\n"
     ]
    }
   ],
   "source": [
    "# Named Indexes\n",
    "myorder = \"I have a {carname}, it is a {model}.\"\n",
    "print(myorder.format(carname = \"Ford\", model = \"Mustang\"))"
   ]
  },
  {
   "cell_type": "code",
   "execution_count": 51,
   "metadata": {},
   "outputs": [
    {
     "name": "stdout",
     "output_type": "stream",
     "text": [
      "4 to the power of 3 is 64, the random number is 0.7202\n"
     ]
    }
   ],
   "source": [
    "import math\n",
    "import random\n",
    "x = 4\n",
    "y = 3\n",
    "print(\"%0.0f to the power of %0.0f is %.0f, the random number is %0.4f\" %(x, y, math.pow(x, y), random.random()))"
   ]
  },
  {
   "cell_type": "markdown",
   "metadata": {},
   "source": [
    "### Special Assignment Operations, Hacks and Semantic Errors\n",
    "\n",
    "The following are some examples of the simple assignment operator, hacks that can be used to make life simpler and semantic errors that can lead to erraneous data.\n"
   ]
  },
  {
   "cell_type": "code",
   "execution_count": 52,
   "metadata": {},
   "outputs": [
    {
     "name": "stdout",
     "output_type": "stream",
     "text": [
      "6 5\n"
     ]
    }
   ],
   "source": [
    "# Simple assignments\n",
    "\n",
    "a = 5\n",
    "b = a\n",
    "a = 6\n",
    "print(a, b)"
   ]
  },
  {
   "cell_type": "code",
   "execution_count": 53,
   "metadata": {},
   "outputs": [
    {
     "name": "stdout",
     "output_type": "stream",
     "text": [
      "6 7 8 9 4 3\n"
     ]
    }
   ],
   "source": [
    "# Multiple variable assignment with a single assignment operator\n",
    "x, y, z, p, q, r = 6, 7, 8, 9, 4, 3\n",
    "print(x, y, z, p, q, r)"
   ]
  },
  {
   "cell_type": "code",
   "execution_count": 54,
   "metadata": {},
   "outputs": [
    {
     "name": "stdout",
     "output_type": "stream",
     "text": [
      "1 4 6\n"
     ]
    }
   ],
   "source": [
    "# Multipe variable assignment using single sequence of numbers\n",
    "n = (1, 2, 3, 4, 5, 6, 7)\n",
    "sun, mon, tue, wed, thu, fri, sat = n\n",
    "print(sun, wed, fri)"
   ]
  },
  {
   "cell_type": "code",
   "execution_count": 55,
   "metadata": {},
   "outputs": [
    {
     "name": "stdout",
     "output_type": "stream",
     "text": [
      "3 3 3.0 True\n"
     ]
    },
    {
     "data": {
      "text/plain": [
       "'3'"
      ]
     },
     "execution_count": 55,
     "metadata": {},
     "output_type": "execute_result"
    }
   ],
   "source": [
    "# Assign a type and printing a different type\n",
    "x = 3\n",
    "y = 1\n",
    "print(str(x),int(x), float(x), bool(y))\n",
    "str(x)"
   ]
  },
  {
   "cell_type": "code",
   "execution_count": 56,
   "metadata": {},
   "outputs": [
    {
     "name": "stdout",
     "output_type": "stream",
     "text": [
      "x and y values before swap 9 10\n",
      "x and y values after swap 10 10\n"
     ]
    }
   ],
   "source": [
    "# what happens we do the following - draw memory diagrams to understand this\n",
    "x = 9\n",
    "y = 10\n",
    "print(\"x and y values before swap\", x, y)\n",
    "x = y\n",
    "y = x\n",
    "print(\"x and y values after swap\", x, y)"
   ]
  },
  {
   "cell_type": "code",
   "execution_count": 57,
   "metadata": {},
   "outputs": [
    {
     "name": "stdout",
     "output_type": "stream",
     "text": [
      "x and y values before swap 6 7\n",
      "x and y values after swap 7 6\n"
     ]
    }
   ],
   "source": [
    "# Traditional swap functionality - draw memory diagrams to understand this\n",
    "x = 6\n",
    "y = 7\n",
    "print(\"x and y values before swap\", x, y)\n",
    "temp = x\n",
    "x = y\n",
    "y = temp\n",
    "print(\"x and y values after swap\", x, y)\n"
   ]
  },
  {
   "cell_type": "code",
   "execution_count": 58,
   "metadata": {},
   "outputs": [
    {
     "name": "stdout",
     "output_type": "stream",
     "text": [
      "x and y values before swap 6 7\n",
      "x and y values after swap 7 6\n"
     ]
    }
   ],
   "source": [
    "# Python's elegent swaping of values -- draw memory diagrams to understand this\n",
    "x, y = 6, 7\n",
    "print(\"x and y values before swap\", x, y)\n",
    "\n",
    "x, y = y, x\n",
    "print(\"x and y values after swap\", x, y)"
   ]
  },
  {
   "cell_type": "code",
   "execution_count": 59,
   "metadata": {},
   "outputs": [],
   "source": [
    "# Semantic Errors\n",
    "x = 6\n",
    "\n",
    "# boolean conditions checking\n",
    "x >= 10, x < 10\n",
    "# what happens checking for equality\n",
    "x = 10 # What this does? checking equality?"
   ]
  },
  {
   "cell_type": "code",
   "execution_count": 60,
   "metadata": {},
   "outputs": [
    {
     "name": "stdout",
     "output_type": "stream",
     "text": [
      "(1, 0, 0)\n",
      "0\n"
     ]
    }
   ],
   "source": [
    "# Semantic Errors Continued\n",
    "\n",
    "x = 1,000,000 # Intent is to assign a million to x\n",
    "print(x)  #  What happened? Check it out\n",
    "print(x[1])"
   ]
  },
  {
   "cell_type": "code",
   "execution_count": 61,
   "metadata": {},
   "outputs": [
    {
     "data": {
      "text/plain": [
       "(1, 456, 789)"
      ]
     },
     "execution_count": 61,
     "metadata": {},
     "output_type": "execute_result"
    }
   ],
   "source": [
    "y = 1,456,789\n",
    "y"
   ]
  },
  {
   "cell_type": "code",
   "execution_count": 90,
   "metadata": {},
   "outputs": [
    {
     "name": "stdout",
     "output_type": "stream",
     "text": [
      "A random number between 1 and 10:  4\n"
     ]
    }
   ],
   "source": [
    "from random import randint\n",
    "x = randint(1,10)\n",
    "print('A random number between 1 and 10: ', x)"
   ]
  },
  {
   "cell_type": "markdown",
   "metadata": {},
   "source": [
    "Suppose you are trying to compute a signal-to-noise ratio in decibels. \n",
    "\n",
    "The formula is:\n",
    " > SNRdb = 10 log10(Psignal/Pnoise). \n",
    "\n",
    "In Python, you might write something like this:\n",
    "```Python\n",
    "import math\n",
    "signal_power = 9\n",
    "noise_power = 10\n",
    "ratio = signal_power // noise_power\n",
    "decibels = 10 * math.log10(ratio)\n",
    "print(decibels)\n",
    "```"
   ]
  },
  {
   "cell_type": "code",
   "execution_count": 93,
   "metadata": {},
   "outputs": [
    {
     "name": "stdout",
     "output_type": "stream",
     "text": [
      "-0.4575749056067512\n"
     ]
    }
   ],
   "source": [
    "import math\n",
    "signal_power = 9\n",
    "noise_power = 10\n",
    "ratio = signal_power / noise_power\n",
    "decibels = 10 * math.log10(ratio)\n",
    "print(decibels)\n"
   ]
  },
  {
   "cell_type": "markdown",
   "metadata": {},
   "source": [
    "### Built-in Data Types\n",
    "In programming, data type is an important concept.\n",
    "\n",
    "Variables can store data of different types, and different types can do different things.\n",
    "\n",
    "Python has the following data types built-in by default, in these categories:\n",
    "\n",
    "    Text Type:\t    str\n",
    "    Numeric Types:\tint, float, complex\n",
    "    Sequence Types:\tlist, tuple, range\n",
    "    Mapping Type:\tdict\n",
    "    Set Types:\t    set, frozenset\n",
    "    Boolean Type:\tbool\n",
    "    Binary Types:\tbytes, bytearray, memoryview"
   ]
  },
  {
   "cell_type": "markdown",
   "metadata": {},
   "source": [
    "##### String data type\n",
    "\n",
    "Though string type `str` is listed as Text type above, it is more like an array of characters. They are our first example of what in Python we call a sequence—a positionally ordered collection of\n",
    "other objects. Sequences maintain a left-to-right order among the items they contain:\n",
    "their items are stored and fetched by their relative positions. Strictly speaking, strings\n",
    "are sequences of one-character strings; other, more general sequence types include\n",
    "lists and tuples. Strings in python are **_immutable_**."
   ]
  },
  {
   "cell_type": "code",
   "execution_count": 63,
   "metadata": {},
   "outputs": [
    {
     "name": "stdout",
     "output_type": "stream",
     "text": [
      "S\n",
      "u\n",
      "h\n",
      "i\n",
      "h\n",
      "25\n",
      "i\n",
      "Sudh S u d h\n",
      "Sudhindra Goutam Vedanth\n",
      "Sudhindra Goutam Vedanthi\n",
      "dhindra Goutam Vedanthi Su\n",
      "Sudhindra Goutam Vedanthi\n",
      "Vedanth\n"
     ]
    }
   ],
   "source": [
    "# Let us see examples of strings, the kind of sequence operations that we can perform and how they\n",
    "# look like arrays etc.\n",
    "\n",
    "name = \"Sudhindra Goutam Vedanthi\"\n",
    "#In Python, indexes start from left to right starting from 0 onwards\n",
    "print(name[0])\n",
    "print(name[1])\n",
    "print(name[3])\n",
    "\n",
    "#In Python, we can also index backward, from the end—positive indexes count from\n",
    "# the left, and negative indexes count back from the right\n",
    "print(name[-1])\n",
    "print(name[-2])\n",
    "\n",
    "print(len(name))\n",
    "print(name[len(name)-1]) # is same as print(name[-1])\n",
    "\n",
    "# Starting from 0 (beginning of the string) upto index 4 not including 4\n",
    "print(name[0:4], name[0], name[1], name[2], name[3])\n",
    "\n",
    "print(name[:-1])\n",
    "print(name[0:])\n",
    "\n",
    "print(name[2:], name[:2])\n",
    "print(name[:2] + name[2:])\n",
    "print(name[-8:-1])\n"
   ]
  },
  {
   "cell_type": "code",
   "execution_count": 64,
   "metadata": {},
   "outputs": [
    {
     "data": {
      "text/plain": [
       "'Goutam'"
      ]
     },
     "execution_count": 64,
     "metadata": {},
     "output_type": "execute_result"
    }
   ],
   "source": [
    "name = \"Sudhindra Goutam Vedanthi\"\n",
    "nameSplitList = name.split(' ')\n",
    "nameSplitList[1]"
   ]
  },
  {
   "cell_type": "code",
   "execution_count": 65,
   "metadata": {},
   "outputs": [
    {
     "data": {
      "text/plain": [
       "list"
      ]
     },
     "execution_count": 65,
     "metadata": {},
     "output_type": "execute_result"
    }
   ],
   "source": [
    "type(nameSplitList)"
   ]
  },
  {
   "cell_type": "code",
   "execution_count": 66,
   "metadata": {},
   "outputs": [
    {
     "data": {
      "text/plain": [
       "str"
      ]
     },
     "execution_count": 66,
     "metadata": {},
     "output_type": "execute_result"
    }
   ],
   "source": [
    "type(nameSplitList[1])"
   ]
  },
  {
   "cell_type": "code",
   "execution_count": 67,
   "metadata": {},
   "outputs": [
    {
     "data": {
      "text/plain": [
       "'G'"
      ]
     },
     "execution_count": 67,
     "metadata": {},
     "output_type": "execute_result"
    }
   ],
   "source": [
    "nameSplitList[1][0]"
   ]
  },
  {
   "cell_type": "code",
   "execution_count": 68,
   "metadata": {},
   "outputs": [
    {
     "data": {
      "text/plain": [
       "2"
      ]
     },
     "execution_count": 68,
     "metadata": {},
     "output_type": "execute_result"
    }
   ],
   "source": [
    "nameSplitList[0].lower().count('d')"
   ]
  },
  {
   "cell_type": "code",
   "execution_count": 69,
   "metadata": {},
   "outputs": [
    {
     "data": {
      "text/plain": [
       "'Goutam'"
      ]
     },
     "execution_count": 69,
     "metadata": {},
     "output_type": "execute_result"
    }
   ],
   "source": [
    "nameSplitList[1]"
   ]
  },
  {
   "cell_type": "code",
   "execution_count": 70,
   "metadata": {},
   "outputs": [
    {
     "data": {
      "text/plain": [
       "'Goutam'"
      ]
     },
     "execution_count": 70,
     "metadata": {},
     "output_type": "execute_result"
    }
   ],
   "source": [
    "n1 = nameSplitList[1]\n",
    "n1"
   ]
  },
  {
   "cell_type": "code",
   "execution_count": 71,
   "metadata": {},
   "outputs": [
    {
     "data": {
      "text/plain": [
       "'Koutam'"
      ]
     },
     "execution_count": 71,
     "metadata": {},
     "output_type": "execute_result"
    }
   ],
   "source": [
    "n1.replace('G', 'K')"
   ]
  },
  {
   "cell_type": "code",
   "execution_count": 72,
   "metadata": {},
   "outputs": [
    {
     "data": {
      "text/plain": [
       "'Goutam'"
      ]
     },
     "execution_count": 72,
     "metadata": {},
     "output_type": "execute_result"
    }
   ],
   "source": [
    "nameSplitList[1]"
   ]
  },
  {
   "cell_type": "code",
   "execution_count": 73,
   "metadata": {},
   "outputs": [
    {
     "data": {
      "text/plain": [
       "['Sudhindra', 'Goutam', 'Vedanthi']"
      ]
     },
     "execution_count": 73,
     "metadata": {},
     "output_type": "execute_result"
    }
   ],
   "source": [
    "nameSplitList"
   ]
  },
  {
   "cell_type": "code",
   "execution_count": 74,
   "metadata": {},
   "outputs": [
    {
     "data": {
      "text/plain": [
       "False"
      ]
     },
     "execution_count": 74,
     "metadata": {},
     "output_type": "execute_result"
    }
   ],
   "source": [
    "name.isalnum()"
   ]
  },
  {
   "cell_type": "code",
   "execution_count": 75,
   "metadata": {},
   "outputs": [
    {
     "data": {
      "text/plain": [
       "False"
      ]
     },
     "execution_count": 75,
     "metadata": {},
     "output_type": "execute_result"
    }
   ],
   "source": [
    "name.isalpha()"
   ]
  },
  {
   "cell_type": "code",
   "execution_count": 76,
   "metadata": {},
   "outputs": [
    {
     "data": {
      "text/plain": [
       "True"
      ]
     },
     "execution_count": 76,
     "metadata": {},
     "output_type": "execute_result"
    }
   ],
   "source": [
    "nameSplitList[1].isalpha()"
   ]
  },
  {
   "cell_type": "code",
   "execution_count": 77,
   "metadata": {},
   "outputs": [
    {
     "data": {
      "text/plain": [
       "False"
      ]
     },
     "execution_count": 77,
     "metadata": {},
     "output_type": "execute_result"
    }
   ],
   "source": [
    "name.isdigit()"
   ]
  },
  {
   "cell_type": "code",
   "execution_count": 78,
   "metadata": {},
   "outputs": [
    {
     "data": {
      "text/plain": [
       "False"
      ]
     },
     "execution_count": 78,
     "metadata": {},
     "output_type": "execute_result"
    }
   ],
   "source": [
    "name.isspace()"
   ]
  },
  {
   "cell_type": "code",
   "execution_count": 79,
   "metadata": {},
   "outputs": [
    {
     "data": {
      "text/plain": [
       "True"
      ]
     },
     "execution_count": 79,
     "metadata": {},
     "output_type": "execute_result"
    }
   ],
   "source": [
    "myspace= \"       \"\n",
    "myspace.isspace()"
   ]
  },
  {
   "cell_type": "code",
   "execution_count": 80,
   "metadata": {},
   "outputs": [
    {
     "ename": "AttributeError",
     "evalue": "'int' object has no attribute 'isdigit'",
     "output_type": "error",
     "traceback": [
      "\u001b[1;31m---------------------------------------------------------------------------\u001b[0m",
      "\u001b[1;31mAttributeError\u001b[0m                            Traceback (most recent call last)",
      "\u001b[1;32m<ipython-input-80-13995f9da886>\u001b[0m in \u001b[0;36m<module>\u001b[1;34m\u001b[0m\n\u001b[0;32m      1\u001b[0m \u001b[0mmynum\u001b[0m \u001b[1;33m=\u001b[0m \u001b[1;36m12345\u001b[0m\u001b[1;33m\u001b[0m\u001b[1;33m\u001b[0m\u001b[0m\n\u001b[1;32m----> 2\u001b[1;33m \u001b[0mmynum\u001b[0m\u001b[1;33m.\u001b[0m\u001b[0misdigit\u001b[0m\u001b[1;33m(\u001b[0m\u001b[1;33m)\u001b[0m\u001b[1;33m\u001b[0m\u001b[1;33m\u001b[0m\u001b[0m\n\u001b[0m",
      "\u001b[1;31mAttributeError\u001b[0m: 'int' object has no attribute 'isdigit'"
     ]
    }
   ],
   "source": [
    "mynum = 12345\n",
    "mynum.isdigit()"
   ]
  },
  {
   "cell_type": "code",
   "execution_count": null,
   "metadata": {},
   "outputs": [],
   "source": [
    "mynum = '12345'\n",
    "mynum.isdigit()"
   ]
  },
  {
   "cell_type": "code",
   "execution_count": null,
   "metadata": {},
   "outputs": [],
   "source": [
    "# Well known string concatenation and lesser known string repitition \n",
    "name_title = \"Dr. \" + name\n",
    "print(name_title)\n",
    "\n",
    "name*3"
   ]
  },
  {
   "cell_type": "markdown",
   "metadata": {},
   "source": [
    "#### Immutable Strings"
   ]
  },
  {
   "cell_type": "code",
   "execution_count": null,
   "metadata": {},
   "outputs": [],
   "source": [
    "name[0] = 'B'"
   ]
  },
  {
   "cell_type": "markdown",
   "metadata": {},
   "source": [
    "#### Boundary Check"
   ]
  },
  {
   "cell_type": "code",
   "execution_count": null,
   "metadata": {},
   "outputs": [],
   "source": [
    "name[99]"
   ]
  },
  {
   "cell_type": "markdown",
   "metadata": {},
   "source": [
    "Strictly speaking, you can change text-based data in place if you either expand it into a\n",
    "list of individual characters and join it back together with nothing between, or use the\n",
    "newer bytearray type available in Pythons 2.6, 3.0, and later:\n",
    "```python\n",
    ">>> S = 'shrubbery'\n",
    ">>> L = list(S) # Expand to a list: [...]\n",
    ">>> L\n",
    "['s', 'h', 'r', 'u', 'b', 'b', 'e', 'r', 'y']\n",
    ">>> L[1] = 'c' # Change it in place\n",
    ">>> ''.join(L) # Join with empty delimiter\n",
    "'scrubbery'\n",
    ">>> B = bytearray(b'spam') # A bytes/list hybrid (ahead)\n",
    ">>> B.extend(b'cakes') # 'b' needed in 3.X, not 2.X\n",
    ">>> B # B[i] = ord(c) works here too\n",
    "bytearray(b'spamcakes')\n",
    ">>> B.decode() # Translate to normal string\n",
    "'spamcakes'\n",
    "```"
   ]
  },
  {
   "cell_type": "code",
   "execution_count": null,
   "metadata": {},
   "outputs": [],
   "source": [
    "S = 'Batman'\n",
    "print(S)\n",
    "L = list(S)\n",
    "print(L)\n",
    "L[0] = 'C'\n",
    "print(L)\n",
    "S2 = \"\".join(L)\n",
    "print(S2)\n"
   ]
  },
  {
   "cell_type": "code",
   "execution_count": 81,
   "metadata": {},
   "outputs": [
    {
     "name": "stdout",
     "output_type": "stream",
     "text": [
      "Batman\n",
      "3\n",
      "Batwoman\n",
      "Catman\n",
      "Catwoman\n",
      "Batman\n"
     ]
    }
   ],
   "source": [
    "S = \"Batman\"\n",
    "print(S)\n",
    "print(S.find(\"man\"))\n",
    "print(S.replace('man', 'woman'))\n",
    "print(S.replace('Bat', 'Cat'))\n",
    "print(S.replace('Bat', 'Cat').replace('man', 'woman'))\n",
    "print(S)"
   ]
  },
  {
   "cell_type": "code",
   "execution_count": 82,
   "metadata": {},
   "outputs": [
    {
     "name": "stdout",
     "output_type": "stream",
     "text": [
      "['__add__', '__class__', '__contains__', '__delattr__', '__dir__', '__doc__', '__eq__', '__format__', '__ge__', '__getattribute__', '__getitem__', '__getnewargs__', '__gt__', '__hash__', '__init__', '__init_subclass__', '__iter__', '__le__', '__len__', '__lt__', '__mod__', '__mul__', '__ne__', '__new__', '__reduce__', '__reduce_ex__', '__repr__', '__rmod__', '__rmul__', '__setattr__', '__sizeof__', '__str__', '__subclasshook__', 'capitalize', 'casefold', 'center', 'count', 'encode', 'endswith', 'expandtabs', 'find', 'format', 'format_map', 'index', 'isalnum', 'isalpha', 'isascii', 'isdecimal', 'isdigit', 'isidentifier', 'islower', 'isnumeric', 'isprintable', 'isspace', 'istitle', 'isupper', 'join', 'ljust', 'lower', 'lstrip', 'maketrans', 'partition', 'replace', 'rfind', 'rindex', 'rjust', 'rpartition', 'rsplit', 'rstrip', 'split', 'splitlines', 'startswith', 'strip', 'swapcase', 'title', 'translate', 'upper', 'zfill']\n"
     ]
    }
   ],
   "source": [
    "print(dir(S))"
   ]
  },
  {
   "cell_type": "code",
   "execution_count": 83,
   "metadata": {},
   "outputs": [
    {
     "data": {
      "text/plain": [
       "9"
      ]
     },
     "execution_count": 83,
     "metadata": {},
     "output_type": "execute_result"
    }
   ],
   "source": [
    "c = 3\n",
    "c*3"
   ]
  },
  {
   "cell_type": "code",
   "execution_count": 84,
   "metadata": {},
   "outputs": [
    {
     "data": {
      "text/plain": [
       "'333'"
      ]
     },
     "execution_count": 84,
     "metadata": {},
     "output_type": "execute_result"
    }
   ],
   "source": [
    "str(c)*3"
   ]
  },
  {
   "cell_type": "code",
   "execution_count": 85,
   "metadata": {},
   "outputs": [
    {
     "name": "stdout",
     "output_type": "stream",
     "text": [
      "333333333333333333333\n"
     ]
    }
   ],
   "source": [
    "print(str(c)*21)"
   ]
  },
  {
   "cell_type": "code",
   "execution_count": 86,
   "metadata": {},
   "outputs": [
    {
     "ename": "NameError",
     "evalue": "name 'Ord' is not defined",
     "output_type": "error",
     "traceback": [
      "\u001b[1;31m---------------------------------------------------------------------------\u001b[0m",
      "\u001b[1;31mNameError\u001b[0m                                 Traceback (most recent call last)",
      "\u001b[1;32m<ipython-input-86-07222dec3b47>\u001b[0m in \u001b[0;36m<module>\u001b[1;34m\u001b[0m\n\u001b[1;32m----> 1\u001b[1;33m \u001b[0mOrd\u001b[0m\u001b[1;33m(\u001b[0m\u001b[0mS\u001b[0m\u001b[1;33m[\u001b[0m\u001b[1;36m0\u001b[0m\u001b[1;33m]\u001b[0m\u001b[1;33m)\u001b[0m\u001b[1;33m\u001b[0m\u001b[1;33m\u001b[0m\u001b[0m\n\u001b[0m",
      "\u001b[1;31mNameError\u001b[0m: name 'Ord' is not defined"
     ]
    }
   ],
   "source": [
    "Ord(S[0])"
   ]
  },
  {
   "cell_type": "code",
   "execution_count": 89,
   "metadata": {},
   "outputs": [
    {
     "data": {
      "text/plain": [
       "66"
      ]
     },
     "execution_count": 89,
     "metadata": {},
     "output_type": "execute_result"
    }
   ],
   "source": [
    "ord(S[0])"
   ]
  },
  {
   "cell_type": "code",
   "execution_count": 88,
   "metadata": {},
   "outputs": [
    {
     "name": "stdout",
     "output_type": "stream",
     "text": [
      "Help on built-in function ord in module builtins:\n",
      "\n",
      "ord(c, /)\n",
      "    Return the Unicode code point for a one-character string.\n",
      "\n"
     ]
    }
   ],
   "source": [
    "help(ord)"
   ]
  },
  {
   "cell_type": "markdown",
   "metadata": {},
   "source": [
    "### Conditional Execution\n",
    "#### Boolean Expressions and Logical Operators\n",
    "\n",
    "##### Boolean Expressions\n",
    "1. Expressions with boolean operations\n",
    "2. boolean operators: <, <=, ==, >, >=, !=\n",
    "3. Examples: `x >= y`, `age == 8`, `limit < 100` etc.\n",
    "4. Each of the boolear expressions will result in a `True` or `False`\n",
    "\n",
    "##### Logical Operators\n",
    "1. Combining boolean expressions to make compound statements\n",
    "2. Logical Operators: and, or, not\n",
    "3. Examples: `(age > 12) and (age <= 19)`, `(number == 6) or (number == 0)`, `not(result)`\n",
    "4. Each of the boolean expressions must evaluate to either `True` or `False`\n",
    "\n",
    "##### Conditional Execution\n",
    "\n",
    "```python\n",
    "\n",
    "# Simple Condition Execution\n",
    "if x > 0:                  \n",
    " print('x is positive')\n",
    "\n",
    "# Handling Negative Values\n",
    "if x < 0:                  \n",
    " pass\n",
    "\n",
    "# Alternate Execution\n",
    "if x % 2 == 0:             \n",
    "   print('x is even')\n",
    "else:\n",
    "   print('x is odd')\n",
    "\n",
    "# Chained Conditionals\n",
    "if x < y:\n",
    "    print('x is less than y')\n",
    "elif x > y:\n",
    "    print('x is greater than y')\n",
    "else:\n",
    "    print('x and y are equal')\n",
    "    \n",
    "# Nested Conditionals\n",
    "if x == y:\n",
    "    print('x and y are equal')\n",
    "else:\n",
    "    if x < y:\n",
    "        print('x is less than y')\n",
    "        \n",
    "    else:\n",
    "        print('x is greater than y')\n",
    "```\n",
    "\n"
   ]
  },
  {
   "cell_type": "code",
   "execution_count": 94,
   "metadata": {},
   "outputs": [],
   "source": [
    "## Some problems with conditional execution"
   ]
  },
  {
   "cell_type": "code",
   "execution_count": null,
   "metadata": {},
   "outputs": [],
   "source": []
  },
  {
   "cell_type": "code",
   "execution_count": null,
   "metadata": {},
   "outputs": [],
   "source": []
  },
  {
   "cell_type": "code",
   "execution_count": null,
   "metadata": {},
   "outputs": [],
   "source": []
  },
  {
   "cell_type": "markdown",
   "metadata": {},
   "source": [
    "## Lists in Python\n",
    "\n",
    "Lists are one of Python’s most useful built-in types.\n",
    "\n",
    "Like a string, a list is a sequence of values. In a string, the values are characters; in a list,\n",
    "they can be any type. The values in a list are called **elements** or sometimes **items**.\n",
    "\n",
    "There are several ways to create a new list; the simplest is to enclose the elements in square\n",
    "brackets (`[]`):\n",
    "`\n",
    "[10, 20, 30, 40]\n",
    "\n",
    "['frog', 'ram', 'lark']\n",
    "`\n",
    "\n",
    "* The first example is a list of four integers. \n",
    "* The second is a list of three strings. \n",
    "* The elements of a list don’t have to be the same type. \n",
    "* The following list contains a string, a float, an integer, and (lo!) another list:\n",
    "`['spam', 2.0, 5, [10, 20]]`\n",
    "\n",
    "* A list within another list is nested.\n",
    "* A list that contains no elements is called an empty list; you can create one with empty brackets, `[]`.\n",
    "* As you might expect, you can assign list values to variables:\n",
    "\n",
    "```Python\n",
    "cheeses = ['Cheddar', 'Edam', 'Gouda']\n",
    "numbers = [42, 123]\n",
    "empty = []\n",
    "print(cheeses, numbers, empty)\n",
    "['Cheddar', 'Edam', 'Gouda'] [42, 123] []\n",
    "```\n",
    "\n",
    "* Lists are mutable. \n",
    "* You can overwrite specific elements. \n",
    "* add/update/append/delete specific elements\n"
   ]
  },
  {
   "cell_type": "code",
   "execution_count": 124,
   "metadata": {},
   "outputs": [],
   "source": [
    "fruits = ['banana', 'pineapple', 'apple', 'pears', 'kiwi', 'grapes', 'guava', 'persimmon']"
   ]
  },
  {
   "cell_type": "code",
   "execution_count": 96,
   "metadata": {},
   "outputs": [
    {
     "data": {
      "text/plain": [
       "['banana',\n",
       " 'pineapple',\n",
       " 'apple',\n",
       " 'pears',\n",
       " 'kiwi',\n",
       " 'grapes',\n",
       " 'guava',\n",
       " 'persimmon']"
      ]
     },
     "execution_count": 96,
     "metadata": {},
     "output_type": "execute_result"
    }
   ],
   "source": [
    "fruits"
   ]
  },
  {
   "cell_type": "code",
   "execution_count": 97,
   "metadata": {},
   "outputs": [
    {
     "data": {
      "text/plain": [
       "'banana'"
      ]
     },
     "execution_count": 97,
     "metadata": {},
     "output_type": "execute_result"
    }
   ],
   "source": [
    "fruits[0]"
   ]
  },
  {
   "cell_type": "code",
   "execution_count": 98,
   "metadata": {},
   "outputs": [
    {
     "data": {
      "text/plain": [
       "'persimmon'"
      ]
     },
     "execution_count": 98,
     "metadata": {},
     "output_type": "execute_result"
    }
   ],
   "source": [
    "fruits[7]"
   ]
  },
  {
   "cell_type": "code",
   "execution_count": 99,
   "metadata": {},
   "outputs": [
    {
     "ename": "IndexError",
     "evalue": "list index out of range",
     "output_type": "error",
     "traceback": [
      "\u001b[1;31m---------------------------------------------------------------------------\u001b[0m",
      "\u001b[1;31mIndexError\u001b[0m                                Traceback (most recent call last)",
      "\u001b[1;32m<ipython-input-99-67e6352bce9b>\u001b[0m in \u001b[0;36m<module>\u001b[1;34m\u001b[0m\n\u001b[1;32m----> 1\u001b[1;33m \u001b[0mfruits\u001b[0m\u001b[1;33m[\u001b[0m\u001b[1;36m99\u001b[0m\u001b[1;33m]\u001b[0m\u001b[1;33m\u001b[0m\u001b[1;33m\u001b[0m\u001b[0m\n\u001b[0m",
      "\u001b[1;31mIndexError\u001b[0m: list index out of range"
     ]
    }
   ],
   "source": [
    "fruits[99]"
   ]
  },
  {
   "cell_type": "code",
   "execution_count": 100,
   "metadata": {},
   "outputs": [],
   "source": [
    "fruits[0] = 'nanaba'"
   ]
  },
  {
   "cell_type": "code",
   "execution_count": 101,
   "metadata": {},
   "outputs": [
    {
     "data": {
      "text/plain": [
       "['nanaba',\n",
       " 'pineapple',\n",
       " 'apple',\n",
       " 'pears',\n",
       " 'kiwi',\n",
       " 'grapes',\n",
       " 'guava',\n",
       " 'persimmon']"
      ]
     },
     "execution_count": 101,
     "metadata": {},
     "output_type": "execute_result"
    }
   ],
   "source": [
    "fruits"
   ]
  },
  {
   "cell_type": "code",
   "execution_count": 112,
   "metadata": {},
   "outputs": [
    {
     "name": "stdout",
     "output_type": "stream",
     "text": [
      "Slicing Lists\n",
      "['banana', 'pineapple', 'apple']\n",
      "['pineapple', 'apple', 'pears', 'kiwi', 'grapes', 'guava']\n",
      "['kiwi', 'grapes', 'guava', 'persimmon']\n",
      "['pears', 'kiwi']\n",
      "Concatenate Lists and Repeat Lists\n",
      "['banana', 'pineapple', 'apple', 'pears', 'kiwi', 'grapes', 'guava', 'persimmon', 'mango', 'oranges']\n",
      "['banana', 'pineapple', 'apple', 'pears', 'kiwi', 'grapes', 'guava', 'persimmon']\n",
      "['banana', 'pineapple', 'apple', 'pears', 'kiwi', 'grapes', 'guava', 'persimmon', 'banana', 'pineapple', 'apple', 'pears', 'kiwi', 'grapes', 'guava', 'persimmon', 'banana', 'pineapple', 'apple', 'pears', 'kiwi', 'grapes', 'guava', 'persimmon']\n"
     ]
    }
   ],
   "source": [
    "## Slicing Lists\n",
    "print(\"Slicing Lists\")\n",
    "print(fruits[:3])\n",
    "print(fruits[1:-1])\n",
    "print(fruits[4:])\n",
    "print(fruits[-5:-3])\n",
    "\n",
    "print(\"Concatenate Lists and Repeat Lists\")\n",
    "print(fruits + ['mango', 'oranges'])\n",
    "print(fruits)\n",
    "fruits[0] = 'banana'\n",
    "print(fruits*3)\n"
   ]
  },
  {
   "cell_type": "code",
   "execution_count": 127,
   "metadata": {},
   "outputs": [
    {
     "name": "stdout",
     "output_type": "stream",
     "text": [
      "['apple', 'banana', 'grapes', 'guava', 'kiwi', 'pears', 'persimmon', 'pineapple']\n",
      "['apple', 'banana', 'grapes', 'guava', 'kiwi', 'pears', 'persimmon', 'pineapple', 'mango']\n",
      "['apple', 'banana', 'grapes', 'guava', 'kiwi', 'pears', 'persimmon', 'pineapple']\n",
      "['apple', 'banana', 'grapes', 'guava', 'kiwi', 'pears', 'persimmon', 'pineapple']\n",
      "['pineapple', 'persimmon', 'pears', 'kiwi', 'guava', 'grapes', 'banana', 'apple']\n"
     ]
    }
   ],
   "source": [
    "## Type Specific Operations on Lists\n",
    "## append(), pop(), sort(), reverse()\n",
    "\n",
    "og_fruits = fruits\n",
    "print(og_fruits)\n",
    "fruits.append('mango')\n",
    "print(fruits)\n",
    "fruits.pop(-1)\n",
    "print(fruits)\n",
    "fruits.sort()\n",
    "print(fruits)\n",
    "fruits.reverse()\n",
    "print(fruits)\n"
   ]
  },
  {
   "cell_type": "code",
   "execution_count": 128,
   "metadata": {},
   "outputs": [],
   "source": [
    "## Nested Lists\n",
    "\n",
    "M = [[1, 2, 3],             # A 3 × 3 matrix, as nested lists\n",
    "     [4, 5, 6],             # Code can span lines if bracketed\n",
    "     [7, 8, 9]]\n"
   ]
  },
  {
   "cell_type": "code",
   "execution_count": 129,
   "metadata": {},
   "outputs": [
    {
     "data": {
      "text/plain": [
       "[[1, 2, 3], [4, 5, 6], [7, 8, 9]]"
      ]
     },
     "execution_count": 129,
     "metadata": {},
     "output_type": "execute_result"
    }
   ],
   "source": [
    "M"
   ]
  },
  {
   "cell_type": "code",
   "execution_count": 130,
   "metadata": {},
   "outputs": [
    {
     "data": {
      "text/plain": [
       "[4, 5, 6]"
      ]
     },
     "execution_count": 130,
     "metadata": {},
     "output_type": "execute_result"
    }
   ],
   "source": [
    "M[1]"
   ]
  },
  {
   "cell_type": "code",
   "execution_count": 131,
   "metadata": {},
   "outputs": [
    {
     "data": {
      "text/plain": [
       "6"
      ]
     },
     "execution_count": 131,
     "metadata": {},
     "output_type": "execute_result"
    }
   ],
   "source": [
    "M[1][2]"
   ]
  },
  {
   "cell_type": "code",
   "execution_count": 133,
   "metadata": {},
   "outputs": [],
   "source": [
    "col2 = [row[1] for row in M]"
   ]
  },
  {
   "cell_type": "code",
   "execution_count": 134,
   "metadata": {},
   "outputs": [
    {
     "data": {
      "text/plain": [
       "[2, 5, 8]"
      ]
     },
     "execution_count": 134,
     "metadata": {},
     "output_type": "execute_result"
    }
   ],
   "source": [
    "col2"
   ]
  },
  {
   "cell_type": "code",
   "execution_count": 135,
   "metadata": {},
   "outputs": [],
   "source": [
    "col2new = [row[1] + 1 for row in M]"
   ]
  },
  {
   "cell_type": "code",
   "execution_count": 136,
   "metadata": {},
   "outputs": [
    {
     "data": {
      "text/plain": [
       "[3, 6, 9]"
      ]
     },
     "execution_count": 136,
     "metadata": {},
     "output_type": "execute_result"
    }
   ],
   "source": [
    "col2new"
   ]
  },
  {
   "cell_type": "code",
   "execution_count": 137,
   "metadata": {},
   "outputs": [],
   "source": [
    "filteredcol = [row[1] for row in M if row[1] % 2 == 0] # Filter out odd items"
   ]
  },
  {
   "cell_type": "code",
   "execution_count": 139,
   "metadata": {},
   "outputs": [
    {
     "data": {
      "text/plain": [
       "[2, 8]"
      ]
     },
     "execution_count": 139,
     "metadata": {},
     "output_type": "execute_result"
    }
   ],
   "source": [
    "filteredcol"
   ]
  },
  {
   "cell_type": "code",
   "execution_count": 143,
   "metadata": {},
   "outputs": [
    {
     "name": "stdout",
     "output_type": "stream",
     "text": [
      "['ss', 'pp', 'aa', 'mm']\n"
     ]
    }
   ],
   "source": [
    "doubles = [c * 2 for c in 'spam']\n",
    "print(doubles)"
   ]
  },
  {
   "cell_type": "code",
   "execution_count": 142,
   "metadata": {},
   "outputs": [
    {
     "name": "stdout",
     "output_type": "stream",
     "text": [
      "[1, 5, 9]\n",
      "[[1, 2, 3], [4, 5, 6], [7, 8, 9]]\n"
     ]
    }
   ],
   "source": [
    "diag = [M[i][i] for i in [0, 1, 2]] # Non-mutating action\n",
    "print(diag)\n",
    "print(M)"
   ]
  },
  {
   "cell_type": "code",
   "execution_count": 144,
   "metadata": {},
   "outputs": [
    {
     "data": {
      "text/plain": [
       "[0, 1, 2, 3, 4, 5, 6, 7, 8, 9, 10]"
      ]
     },
     "execution_count": 144,
     "metadata": {},
     "output_type": "execute_result"
    }
   ],
   "source": [
    "listFromRange1 = list(range(11))\n",
    "listFromRange1"
   ]
  },
  {
   "cell_type": "code",
   "execution_count": 146,
   "metadata": {},
   "outputs": [
    {
     "data": {
      "text/plain": [
       "[5, 6, 7, 8, 9, 10, 11, 12, 13, 14, 15, 16, 17, 18, 19, 20, 21, 22, 23, 24, 25]"
      ]
     },
     "execution_count": 146,
     "metadata": {},
     "output_type": "execute_result"
    }
   ],
   "source": [
    "list_from_range2 = list(range(5, 26))\n",
    "list_from_range2"
   ]
  },
  {
   "cell_type": "code",
   "execution_count": 148,
   "metadata": {},
   "outputs": [
    {
     "data": {
      "text/plain": [
       "[-10, -8, -6, -4, -2, 0, 2, 4, 6, 8, 10]"
      ]
     },
     "execution_count": 148,
     "metadata": {},
     "output_type": "execute_result"
    }
   ],
   "source": [
    "list_from_range3 = list(range(-10, 11, 2))\n",
    "list_from_range3"
   ]
  },
  {
   "cell_type": "code",
   "execution_count": 149,
   "metadata": {},
   "outputs": [
    {
     "data": {
      "text/plain": [
       "range(0, 10)"
      ]
     },
     "execution_count": 149,
     "metadata": {},
     "output_type": "execute_result"
    }
   ],
   "source": [
    "range(10)"
   ]
  },
  {
   "cell_type": "code",
   "execution_count": 150,
   "metadata": {},
   "outputs": [
    {
     "name": "stdout",
     "output_type": "stream",
     "text": [
      "range(0, 10)\n"
     ]
    }
   ],
   "source": [
    "print(range(10))"
   ]
  },
  {
   "cell_type": "code",
   "execution_count": 151,
   "metadata": {},
   "outputs": [
    {
     "name": "stdout",
     "output_type": "stream",
     "text": [
      "range(5, 26)\n"
     ]
    }
   ],
   "source": [
    "print(range(5, 26))"
   ]
  },
  {
   "cell_type": "code",
   "execution_count": 158,
   "metadata": {},
   "outputs": [
    {
     "name": "stdout",
     "output_type": "stream",
     "text": [
      "range(-100, 101, 10)\n"
     ]
    }
   ],
   "source": [
    "print(range(-100, 101, 10))"
   ]
  },
  {
   "cell_type": "code",
   "execution_count": 159,
   "metadata": {},
   "outputs": [
    {
     "data": {
      "text/plain": [
       "[[0, 0], [1, 1], [4, 8], [9, 27]]"
      ]
     },
     "execution_count": 159,
     "metadata": {},
     "output_type": "execute_result"
    }
   ],
   "source": [
    "[[x ** 2, x ** 3] for x in range(4)]"
   ]
  },
  {
   "cell_type": "code",
   "execution_count": 160,
   "metadata": {},
   "outputs": [
    {
     "data": {
      "text/plain": [
       "[[0, 0], [1, 1], [4, 8], [9, 27]]"
      ]
     },
     "execution_count": 160,
     "metadata": {},
     "output_type": "execute_result"
    }
   ],
   "source": [
    "_   # last output in the buffer, works with only the expressions that generate an output."
   ]
  },
  {
   "cell_type": "code",
   "execution_count": 162,
   "metadata": {},
   "outputs": [],
   "source": [
    "my_special_list = [[x, x / 2, x * 2] for x in range(-6, 7, 2) if x > 0]"
   ]
  },
  {
   "cell_type": "code",
   "execution_count": 163,
   "metadata": {},
   "outputs": [
    {
     "data": {
      "text/plain": [
       "[[0, 0], [1, 1], [4, 8], [9, 27]]"
      ]
     },
     "execution_count": 163,
     "metadata": {},
     "output_type": "execute_result"
    }
   ],
   "source": [
    "_  # Assignment operator does not produce any output to buffer. \n",
    "   # So the previous output in the buffer will be printed.\n"
   ]
  },
  {
   "cell_type": "code",
   "execution_count": 169,
   "metadata": {},
   "outputs": [],
   "source": [
    "## M = [[1, 2, 3],             # A 3 × 3 matrix, as nested lists\n",
    "##     [4, 5, 6],             # Code can span lines if bracketed\n",
    "##     [7, 8, 9]]\n",
    "\n",
    "G = (sum(row) for row in M) # Iteration that creates sums of the rows - Generator Object"
   ]
  },
  {
   "cell_type": "code",
   "execution_count": 170,
   "metadata": {},
   "outputs": [
    {
     "data": {
      "text/plain": [
       "6"
      ]
     },
     "execution_count": 170,
     "metadata": {},
     "output_type": "execute_result"
    }
   ],
   "source": [
    "next(G)"
   ]
  },
  {
   "cell_type": "code",
   "execution_count": 171,
   "metadata": {},
   "outputs": [
    {
     "data": {
      "text/plain": [
       "15"
      ]
     },
     "execution_count": 171,
     "metadata": {},
     "output_type": "execute_result"
    }
   ],
   "source": [
    "next(G)"
   ]
  },
  {
   "cell_type": "code",
   "execution_count": 172,
   "metadata": {},
   "outputs": [
    {
     "data": {
      "text/plain": [
       "24"
      ]
     },
     "execution_count": 172,
     "metadata": {},
     "output_type": "execute_result"
    }
   ],
   "source": [
    "next(G)"
   ]
  },
  {
   "cell_type": "code",
   "execution_count": 174,
   "metadata": {},
   "outputs": [
    {
     "ename": "StopIteration",
     "evalue": "",
     "output_type": "error",
     "traceback": [
      "\u001b[1;31m---------------------------------------------------------------------------\u001b[0m",
      "\u001b[1;31mStopIteration\u001b[0m                             Traceback (most recent call last)",
      "\u001b[1;32m<ipython-input-174-b4d1fcb0baf1>\u001b[0m in \u001b[0;36m<module>\u001b[1;34m\u001b[0m\n\u001b[1;32m----> 1\u001b[1;33m \u001b[0mnext\u001b[0m\u001b[1;33m(\u001b[0m\u001b[0mG\u001b[0m\u001b[1;33m)\u001b[0m\u001b[1;33m\u001b[0m\u001b[1;33m\u001b[0m\u001b[0m\n\u001b[0m",
      "\u001b[1;31mStopIteration\u001b[0m: "
     ]
    }
   ],
   "source": [
    "next(G)"
   ]
  },
  {
   "cell_type": "code",
   "execution_count": 175,
   "metadata": {},
   "outputs": [
    {
     "data": {
      "text/plain": [
       "<generator object <genexpr> at 0x0000012BAA34D190>"
      ]
     },
     "execution_count": 175,
     "metadata": {},
     "output_type": "execute_result"
    }
   ],
   "source": [
    "G"
   ]
  },
  {
   "cell_type": "code",
   "execution_count": 177,
   "metadata": {},
   "outputs": [
    {
     "name": "stdout",
     "output_type": "stream",
     "text": [
      "<generator object <genexpr> at 0x0000012BAA34D190>\n"
     ]
    }
   ],
   "source": [
    "print(G)"
   ]
  },
  {
   "cell_type": "code",
   "execution_count": 178,
   "metadata": {},
   "outputs": [
    {
     "data": {
      "text/plain": [
       "[6, 15, 24]"
      ]
     },
     "execution_count": 178,
     "metadata": {},
     "output_type": "execute_result"
    }
   ],
   "source": [
    "list(map(sum, M))"
   ]
  },
  {
   "cell_type": "code",
   "execution_count": 180,
   "metadata": {},
   "outputs": [
    {
     "data": {
      "text/plain": [
       "{6, 15, 24}"
      ]
     },
     "execution_count": 180,
     "metadata": {},
     "output_type": "execute_result"
    }
   ],
   "source": [
    "{sum(row) for row in M}"
   ]
  },
  {
   "cell_type": "code",
   "execution_count": 181,
   "metadata": {},
   "outputs": [
    {
     "data": {
      "text/plain": [
       "{0: 6, 1: 15, 2: 24}"
      ]
     },
     "execution_count": 181,
     "metadata": {},
     "output_type": "execute_result"
    }
   ],
   "source": [
    "{i : sum(M[i]) for i in range(3)}     # Creates key/value table of row sums"
   ]
  },
  {
   "attachments": {
    "image-2.png": {
     "image/png": "[encoded data removed]"
    },
    "image.png": {
     "image/png": "[encoded data removed]"
    }
   },
   "cell_type": "markdown",
   "metadata": {},
   "source": [
    "### Last Notes on List\n",
    "Before we move on to the next topic, let us see the referencing and mutability characteristic of the Lists.\n",
    "\n",
    "##### References in Python\n",
    "```python\n",
    "a = 3\n",
    "b = a\n",
    "```\n",
    "\n",
    "![image.png](attachment:image.png)\n",
    "\n",
    "\n",
    "```python\n",
    "a = 3\n",
    "b = a\n",
    "a = 'spam'\n",
    "```\n",
    "![image-2.png](attachment:image-2.png)"
   ]
  },
  {
   "cell_type": "code",
   "execution_count": 203,
   "metadata": {},
   "outputs": [
    {
     "name": "stdout",
     "output_type": "stream",
     "text": [
      "3 3\n",
      "spam 3\n"
     ]
    }
   ],
   "source": [
    "a = 3\n",
    "b = a\n",
    "print (a, b)\n",
    "a = 'spam'\n",
    "print(a, b)"
   ]
  },
  {
   "attachments": {
    "image-2.png": {
     "image/png": "[encoded data removed]"
    },
    "image.png": {
     "image/png": "[encoded data removed]"
    }
   },
   "cell_type": "markdown",
   "metadata": {},
   "source": [
    "![image.png](attachment:image.png)\n",
    "\n",
    "![image-2.png](attachment:image-2.png)"
   ]
  },
  {
   "cell_type": "code",
   "execution_count": 204,
   "metadata": {},
   "outputs": [
    {
     "name": "stdout",
     "output_type": "stream",
     "text": [
      "[1, 2, 3, 4, 5] [1, 2, 3, 4, 5]\n",
      "[1, 2, 3, 4] [1, 2, 3, 4]\n"
     ]
    }
   ],
   "source": [
    "a = [1, 2, 3, 4, 5]\n",
    "b = a                    # Referencing, works as an alias\n",
    "print(a, b)\n",
    "b.pop()                  # Removes elements in both a and b, because both are pointing to the same location\n",
    "print(a, b)"
   ]
  },
  {
   "cell_type": "markdown",
   "metadata": {},
   "source": [
    "\n",
    "### Common list literals and operations\n",
    "**Operation**                         |         **Interpretation**    |\n",
    "\n",
    "\n",
    "```python\n",
    "L = []                                    # An empty list\n",
    "L = [123, 'abc', 1.23, {}]                # Four items: indexes 0..3\n",
    "L = ['Bob', 40.0, ['dev', 'mgr']]         # Nested sublists\n",
    "L = list('spam')                          # List of an iterable’s items,\n",
    "L = list(range(-4, 4))                     list of successive integers\n",
    "L[i]                                       Accessing List Items, Index\n",
    "L[i][j]                                    Index of Index\n",
    "L[i:j]                                     Slice\n",
    "len(L)                                     Length\n",
    "L1 + L2                                    Concatenate, repeat\n",
    "L * 3                                      Repeat\n",
    "for x in L: print(x)                       Iteration\n",
    "3 in L                                     Membership\n",
    "L.append(4)                                Method: growing : Append\n",
    "L.extend([5,6,7])                          Method: growing : Extend\n",
    "L.insert(i, X)                             Method: growing : Insert\n",
    "L.index(X)                                 Method: searching\n",
    "L.count(X)                                 Method: searching\n",
    "L.sort()                                   Method: sorting\n",
    "L.reverse()                                Method: reversing\n",
    "L.copy()                                   Method: copying (3.3+)\n",
    "L.clear()                                  Method: clearing (3.3+)\n",
    "L.pop(i)                                   Method: shrinking\n",
    "L.remove(X)                                Method: shrinking\n",
    "del L[i]                                   Statements: Shrinking\n",
    "del L[i:j]                                 Statements: Shrinking                  \n",
    "L[i:j] = []                                Index assignment - Empty List Assignment                   \n",
    "L[i] = 3                                   Index assignment, \n",
    "L[i:j] = [4,5,6]                           Slice assignment\n",
    "L = [x**2 for x in range(5)]               List Creation from iteration\n",
    "list(map(ord, 'spam'))                     \n",
    "```"
   ]
  },
  {
   "cell_type": "code",
   "execution_count": 205,
   "metadata": {},
   "outputs": [
    {
     "data": {
      "text/plain": [
       "[115, 112, 97, 109]"
      ]
     },
     "execution_count": 205,
     "metadata": {},
     "output_type": "execute_result"
    }
   ],
   "source": [
    "list(map(ord, 'spam')) "
   ]
  },
  {
   "cell_type": "markdown",
   "metadata": {},
   "source": [
    "### `for` loop in python\n",
    "\n",
    "A `for` loop is used for iterating over a sequence (that is either a list, a tuple, a dictionary, a set, or a string).\n",
    "\n",
    "This is less like the for keyword in other programming languages, and works more like an iterator method as found in other object-orientated programming languages.\n",
    "\n",
    "With the for loop we can execute a set of statements, once for each item in a list, tuple, set etc.\n",
    "\n",
    "```Python\n",
    "for i in range(10):\n",
    "    print(i)\n",
    "```"
   ]
  },
  {
   "cell_type": "code",
   "execution_count": 156,
   "metadata": {
    "collapsed": true
   },
   "outputs": [
    {
     "name": "stdout",
     "output_type": "stream",
     "text": [
      "0\n",
      "1\n",
      "2\n",
      "3\n",
      "4\n",
      "5\n",
      "6\n",
      "7\n",
      "8\n",
      "9\n",
      "0 1 2 3 4 5 6 7 8 9 "
     ]
    }
   ],
   "source": [
    "for i in range(10):\n",
    "    print(i)\n",
    "for i in range(10):\n",
    "    print(i, end = ' ')"
   ]
  },
  {
   "cell_type": "code",
   "execution_count": 182,
   "metadata": {},
   "outputs": [
    {
     "name": "stdout",
     "output_type": "stream",
     "text": [
      "My favorite fruit is pineapple\n",
      "My favorite fruit is persimmon\n",
      "My favorite fruit is pears\n",
      "My favorite fruit is kiwi\n",
      "My favorite fruit is guava\n",
      "My favorite fruit is grapes\n",
      "My favorite fruit is banana\n",
      "My favorite fruit is apple\n"
     ]
    }
   ],
   "source": [
    "for i in fruits:\n",
    "    print(\"My favorite fruit is\", i)  ## Try with title() function"
   ]
  },
  {
   "cell_type": "code",
   "execution_count": 206,
   "metadata": {},
   "outputs": [
    {
     "name": "stdout",
     "output_type": "stream",
     "text": [
      "My favorite fruit is pineapple\n",
      "My favorite fruit is persimmon\n",
      "My favorite fruit is pears\n",
      "My favorite fruit is kiwi\n",
      "My favorite fruit is guava\n",
      "My favorite fruit is grapes\n",
      "My favorite fruit is banana\n",
      "My favorite fruit is apple\n",
      "Apple\n"
     ]
    }
   ],
   "source": [
    "for fruit in fruits:\n",
    "    print(\"My favorite fruit is\", fruit)\n",
    "\n",
    "print(fruit.title())"
   ]
  },
  {
   "cell_type": "code",
   "execution_count": 185,
   "metadata": {},
   "outputs": [
    {
     "name": "stdout",
     "output_type": "stream",
     "text": [
      "We're on time 0\n",
      "We're on time 1\n",
      "We're on time 2\n"
     ]
    }
   ],
   "source": [
    "for x in range(0, 3):\n",
    "    print(\"We're on time %d\" % (x))"
   ]
  },
  {
   "cell_type": "code",
   "execution_count": 191,
   "metadata": {},
   "outputs": [
    {
     "name": "stdout",
     "output_type": "stream",
     "text": [
      "[1, 27, 125, 343, 729]\n",
      "The cube of 1 is 1\n",
      "The cube of 3 is 27\n",
      "The cube of 5 is 125\n",
      "The cube of 7 is 343\n",
      "The cube of 9 is 729\n"
     ]
    }
   ],
   "source": [
    "my_cubes = [pow(x, 3) for x in [1, 3, 5, 7, 9]]\n",
    "print(my_cubes)\n",
    "\n",
    "i = 1\n",
    "for cube in my_cubes:\n",
    "    print(f\"The cube of {i} is {cube}\")\n",
    "    i += 2"
   ]
  },
  {
   "cell_type": "code",
   "execution_count": 192,
   "metadata": {},
   "outputs": [
    {
     "name": "stdout",
     "output_type": "stream",
     "text": [
      "1\n"
     ]
    }
   ],
   "source": [
    "for x in range(3):\n",
    "    if x == 1:\n",
    "        print(x)\n",
    "        break"
   ]
  },
  {
   "cell_type": "code",
   "execution_count": 194,
   "metadata": {},
   "outputs": [
    {
     "name": "stdout",
     "output_type": "stream",
     "text": [
      "0\n",
      "1\n",
      "2\n",
      "Final x = 2\n"
     ]
    }
   ],
   "source": [
    "for x in range(3):\n",
    "    print(x)\n",
    "else:\n",
    "    print('Final x = %d' % (x))"
   ]
  },
  {
   "cell_type": "code",
   "execution_count": 195,
   "metadata": {},
   "outputs": [
    {
     "name": "stdout",
     "output_type": "stream",
     "text": [
      "b\n",
      "a\n",
      "n\n",
      "a\n",
      "n\n",
      "a\n"
     ]
    }
   ],
   "source": [
    "my_fav_fruit = 'banana'\n",
    "for letter in my_fav_fruit:\n",
    "    print(letter)"
   ]
  },
  {
   "cell_type": "code",
   "execution_count": 196,
   "metadata": {},
   "outputs": [
    {
     "name": "stdout",
     "output_type": "stream",
     "text": [
      "H:e:l:l:o: :W:o:r:l:d:"
     ]
    }
   ],
   "source": [
    "string = \"Hello World\"\n",
    "for x in string:\n",
    "    print(x, end=\":\")    # Change the character in end to single space, ;,: etc and check the result"
   ]
  },
  {
   "cell_type": "code",
   "execution_count": null,
   "metadata": {},
   "outputs": [],
   "source": [
    "# Multiplication tables 1 through 10\n",
    "for x in range(1, 11):\n",
    "    for y in range(1, 11):\n",
    "        print('%d * %d = %d' % (x, y, x*y))"
   ]
  },
  {
   "cell_type": "code",
   "execution_count": 197,
   "metadata": {},
   "outputs": [
    {
     "name": "stdout",
     "output_type": "stream",
     "text": [
      "0*0 = 0\n",
      "1*1 = 1\n",
      "2*2 = 4\n",
      "3*3 = 9\n",
      "4*4 = 16\n",
      "5*5 = 25\n",
      "6*6 = 36\n",
      "7*7 = 49\n",
      "8*8 = 64\n",
      "9*9 = 81\n",
      "10*10 = 100\n"
     ]
    }
   ],
   "source": [
    "for n in range(11):\n",
    "    print(f\"{n}*{n} = {n*n}\")"
   ]
  },
  {
   "cell_type": "code",
   "execution_count": 198,
   "metadata": {},
   "outputs": [
    {
     "name": "stdout",
     "output_type": "stream",
     "text": [
      "S\n",
      "u\n",
      "d\n",
      "h\n",
      "i\n",
      "n\n",
      "d\n",
      "r\n",
      "a\n",
      " \n",
      "G\n",
      "o\n",
      "u\n",
      "t\n",
      "a\n",
      "m\n",
      " \n",
      "V\n",
      "e\n",
      "d\n",
      "a\n",
      "n\n",
      "t\n",
      "h\n",
      "i\n",
      "Done.\n"
     ]
    }
   ],
   "source": [
    "name = \"Sudhindra Goutam Vedanthi\"\n",
    "for i in name:\n",
    "        if i == 'x':\n",
    "            break\n",
    "        print(i)\n",
    "else:\n",
    "        print('Done.')  # Will it execute ??"
   ]
  },
  {
   "cell_type": "code",
   "execution_count": 210,
   "metadata": {},
   "outputs": [
    {
     "name": "stdout",
     "output_type": "stream",
     "text": [
      "apple\n"
     ]
    }
   ],
   "source": [
    "fruits2 = [\"apple\", \"banana\", \"cherry\"]\n",
    "for x in fruits2:\n",
    "  if x == \"banana\":\n",
    "    break\n",
    "  print(x)"
   ]
  },
  {
   "cell_type": "code",
   "execution_count": 211,
   "metadata": {},
   "outputs": [
    {
     "name": "stdout",
     "output_type": "stream",
     "text": [
      "apple\n",
      "cherry\n"
     ]
    }
   ],
   "source": [
    "fruits3 = [\"apple\", \"banana\", \"cherry\"]\n",
    "for x in fruits3:\n",
    "  if x == \"banana\":\n",
    "    continue\n",
    "  print(x)"
   ]
  },
  {
   "cell_type": "code",
   "execution_count": 207,
   "metadata": {},
   "outputs": [],
   "source": [
    "res = [c * 4 for c in 'SPAM']"
   ]
  },
  {
   "cell_type": "code",
   "execution_count": 208,
   "metadata": {},
   "outputs": [
    {
     "data": {
      "text/plain": [
       "['SSSS', 'PPPP', 'AAAA', 'MMMM']"
      ]
     },
     "execution_count": 208,
     "metadata": {},
     "output_type": "execute_result"
    }
   ],
   "source": [
    "res"
   ]
  },
  {
   "cell_type": "code",
   "execution_count": 209,
   "metadata": {},
   "outputs": [
    {
     "name": "stdout",
     "output_type": "stream",
     "text": [
      "['SSSS', 'PPPP', 'AAAA', 'MMMM']\n"
     ]
    }
   ],
   "source": [
    "res2 = []\n",
    "for letter in 'SPAM':\n",
    "    res2.append(letter*4)\n",
    "print(res2)"
   ]
  },
  {
   "cell_type": "code",
   "execution_count": null,
   "metadata": {},
   "outputs": [],
   "source": []
  }
 ],
 "metadata": {
  "kernelspec": {
   "display_name": "Python 3",
   "language": "python",
   "name": "python3"
  },
  "language_info": {
   "codemirror_mode": {
    "name": "ipython",
    "version": 3
   },
   "file_extension": ".py",
   "mimetype": "text/x-python",
   "name": "python",
   "nbconvert_exporter": "python",
   "pygments_lexer": "ipython3",
   "version": "3.8.5"
  }
 },
 "nbformat": 4,
 "nbformat_minor": 4
}
